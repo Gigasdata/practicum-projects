{
 "cells": [
  {
   "cell_type": "markdown",
   "metadata": {},
   "source": [
    "## Изучение данных"
   ]
  },
  {
   "cell_type": "code",
   "execution_count": 1,
   "metadata": {},
   "outputs": [],
   "source": [
    "import warnings\n",
    "warnings.simplefilter(action='ignore', category=FutureWarning)"
   ]
  },
  {
   "cell_type": "code",
   "execution_count": 2,
   "metadata": {},
   "outputs": [],
   "source": [
    "import pandas as pd\n",
    "import numpy as np\n",
    "import matplotlib.pyplot as plt\n",
    "from scipy import stats as st\n",
    "import seaborn as sns\n",
    "import plotly.express as px"
   ]
  },
  {
   "cell_type": "code",
   "execution_count": 3,
   "metadata": {},
   "outputs": [],
   "source": [
    "sns.set(color_codes=True)"
   ]
  },
  {
   "cell_type": "code",
   "execution_count": 4,
   "metadata": {},
   "outputs": [],
   "source": [
    "df = pd.read_csv('games.csv')"
   ]
  },
  {
   "cell_type": "markdown",
   "metadata": {},
   "source": [
    "Выведем на экран первые десять строк таблицы:"
   ]
  },
  {
   "cell_type": "code",
   "execution_count": 5,
   "metadata": {},
   "outputs": [
    {
     "data": {
      "text/html": [
       "<div>\n",
       "<style scoped>\n",
       "    .dataframe tbody tr th:only-of-type {\n",
       "        vertical-align: middle;\n",
       "    }\n",
       "\n",
       "    .dataframe tbody tr th {\n",
       "        vertical-align: top;\n",
       "    }\n",
       "\n",
       "    .dataframe thead th {\n",
       "        text-align: right;\n",
       "    }\n",
       "</style>\n",
       "<table border=\"1\" class=\"dataframe\">\n",
       "  <thead>\n",
       "    <tr style=\"text-align: right;\">\n",
       "      <th></th>\n",
       "      <th>Name</th>\n",
       "      <th>Platform</th>\n",
       "      <th>Year_of_Release</th>\n",
       "      <th>Genre</th>\n",
       "      <th>NA_sales</th>\n",
       "      <th>EU_sales</th>\n",
       "      <th>JP_sales</th>\n",
       "      <th>Other_sales</th>\n",
       "      <th>Critic_Score</th>\n",
       "      <th>User_Score</th>\n",
       "      <th>Rating</th>\n",
       "    </tr>\n",
       "  </thead>\n",
       "  <tbody>\n",
       "    <tr>\n",
       "      <th>0</th>\n",
       "      <td>Wii Sports</td>\n",
       "      <td>Wii</td>\n",
       "      <td>2006.0</td>\n",
       "      <td>Sports</td>\n",
       "      <td>41.36</td>\n",
       "      <td>28.96</td>\n",
       "      <td>3.77</td>\n",
       "      <td>8.45</td>\n",
       "      <td>76.0</td>\n",
       "      <td>8</td>\n",
       "      <td>E</td>\n",
       "    </tr>\n",
       "    <tr>\n",
       "      <th>1</th>\n",
       "      <td>Super Mario Bros.</td>\n",
       "      <td>NES</td>\n",
       "      <td>1985.0</td>\n",
       "      <td>Platform</td>\n",
       "      <td>29.08</td>\n",
       "      <td>3.58</td>\n",
       "      <td>6.81</td>\n",
       "      <td>0.77</td>\n",
       "      <td>NaN</td>\n",
       "      <td>NaN</td>\n",
       "      <td>NaN</td>\n",
       "    </tr>\n",
       "    <tr>\n",
       "      <th>2</th>\n",
       "      <td>Mario Kart Wii</td>\n",
       "      <td>Wii</td>\n",
       "      <td>2008.0</td>\n",
       "      <td>Racing</td>\n",
       "      <td>15.68</td>\n",
       "      <td>12.76</td>\n",
       "      <td>3.79</td>\n",
       "      <td>3.29</td>\n",
       "      <td>82.0</td>\n",
       "      <td>8.3</td>\n",
       "      <td>E</td>\n",
       "    </tr>\n",
       "    <tr>\n",
       "      <th>3</th>\n",
       "      <td>Wii Sports Resort</td>\n",
       "      <td>Wii</td>\n",
       "      <td>2009.0</td>\n",
       "      <td>Sports</td>\n",
       "      <td>15.61</td>\n",
       "      <td>10.93</td>\n",
       "      <td>3.28</td>\n",
       "      <td>2.95</td>\n",
       "      <td>80.0</td>\n",
       "      <td>8</td>\n",
       "      <td>E</td>\n",
       "    </tr>\n",
       "    <tr>\n",
       "      <th>4</th>\n",
       "      <td>Pokemon Red/Pokemon Blue</td>\n",
       "      <td>GB</td>\n",
       "      <td>1996.0</td>\n",
       "      <td>Role-Playing</td>\n",
       "      <td>11.27</td>\n",
       "      <td>8.89</td>\n",
       "      <td>10.22</td>\n",
       "      <td>1.00</td>\n",
       "      <td>NaN</td>\n",
       "      <td>NaN</td>\n",
       "      <td>NaN</td>\n",
       "    </tr>\n",
       "    <tr>\n",
       "      <th>5</th>\n",
       "      <td>Tetris</td>\n",
       "      <td>GB</td>\n",
       "      <td>1989.0</td>\n",
       "      <td>Puzzle</td>\n",
       "      <td>23.20</td>\n",
       "      <td>2.26</td>\n",
       "      <td>4.22</td>\n",
       "      <td>0.58</td>\n",
       "      <td>NaN</td>\n",
       "      <td>NaN</td>\n",
       "      <td>NaN</td>\n",
       "    </tr>\n",
       "    <tr>\n",
       "      <th>6</th>\n",
       "      <td>New Super Mario Bros.</td>\n",
       "      <td>DS</td>\n",
       "      <td>2006.0</td>\n",
       "      <td>Platform</td>\n",
       "      <td>11.28</td>\n",
       "      <td>9.14</td>\n",
       "      <td>6.50</td>\n",
       "      <td>2.88</td>\n",
       "      <td>89.0</td>\n",
       "      <td>8.5</td>\n",
       "      <td>E</td>\n",
       "    </tr>\n",
       "    <tr>\n",
       "      <th>7</th>\n",
       "      <td>Wii Play</td>\n",
       "      <td>Wii</td>\n",
       "      <td>2006.0</td>\n",
       "      <td>Misc</td>\n",
       "      <td>13.96</td>\n",
       "      <td>9.18</td>\n",
       "      <td>2.93</td>\n",
       "      <td>2.84</td>\n",
       "      <td>58.0</td>\n",
       "      <td>6.6</td>\n",
       "      <td>E</td>\n",
       "    </tr>\n",
       "    <tr>\n",
       "      <th>8</th>\n",
       "      <td>New Super Mario Bros. Wii</td>\n",
       "      <td>Wii</td>\n",
       "      <td>2009.0</td>\n",
       "      <td>Platform</td>\n",
       "      <td>14.44</td>\n",
       "      <td>6.94</td>\n",
       "      <td>4.70</td>\n",
       "      <td>2.24</td>\n",
       "      <td>87.0</td>\n",
       "      <td>8.4</td>\n",
       "      <td>E</td>\n",
       "    </tr>\n",
       "    <tr>\n",
       "      <th>9</th>\n",
       "      <td>Duck Hunt</td>\n",
       "      <td>NES</td>\n",
       "      <td>1984.0</td>\n",
       "      <td>Shooter</td>\n",
       "      <td>26.93</td>\n",
       "      <td>0.63</td>\n",
       "      <td>0.28</td>\n",
       "      <td>0.47</td>\n",
       "      <td>NaN</td>\n",
       "      <td>NaN</td>\n",
       "      <td>NaN</td>\n",
       "    </tr>\n",
       "  </tbody>\n",
       "</table>\n",
       "</div>"
      ],
      "text/plain": [
       "                        Name Platform  Year_of_Release         Genre  \\\n",
       "0                 Wii Sports      Wii           2006.0        Sports   \n",
       "1          Super Mario Bros.      NES           1985.0      Platform   \n",
       "2             Mario Kart Wii      Wii           2008.0        Racing   \n",
       "3          Wii Sports Resort      Wii           2009.0        Sports   \n",
       "4   Pokemon Red/Pokemon Blue       GB           1996.0  Role-Playing   \n",
       "5                     Tetris       GB           1989.0        Puzzle   \n",
       "6      New Super Mario Bros.       DS           2006.0      Platform   \n",
       "7                   Wii Play      Wii           2006.0          Misc   \n",
       "8  New Super Mario Bros. Wii      Wii           2009.0      Platform   \n",
       "9                  Duck Hunt      NES           1984.0       Shooter   \n",
       "\n",
       "   NA_sales  EU_sales  JP_sales  Other_sales  Critic_Score User_Score Rating  \n",
       "0     41.36     28.96      3.77         8.45          76.0          8      E  \n",
       "1     29.08      3.58      6.81         0.77           NaN        NaN    NaN  \n",
       "2     15.68     12.76      3.79         3.29          82.0        8.3      E  \n",
       "3     15.61     10.93      3.28         2.95          80.0          8      E  \n",
       "4     11.27      8.89     10.22         1.00           NaN        NaN    NaN  \n",
       "5     23.20      2.26      4.22         0.58           NaN        NaN    NaN  \n",
       "6     11.28      9.14      6.50         2.88          89.0        8.5      E  \n",
       "7     13.96      9.18      2.93         2.84          58.0        6.6      E  \n",
       "8     14.44      6.94      4.70         2.24          87.0        8.4      E  \n",
       "9     26.93      0.63      0.28         0.47           NaN        NaN    NaN  "
      ]
     },
     "execution_count": 5,
     "metadata": {},
     "output_type": "execute_result"
    }
   ],
   "source": [
    "df.head(10)"
   ]
  },
  {
   "cell_type": "markdown",
   "metadata": {},
   "source": [
    "Получим общую информацию о таблице:"
   ]
  },
  {
   "cell_type": "code",
   "execution_count": 6,
   "metadata": {},
   "outputs": [
    {
     "name": "stdout",
     "output_type": "stream",
     "text": [
      "<class 'pandas.core.frame.DataFrame'>\n",
      "RangeIndex: 16715 entries, 0 to 16714\n",
      "Data columns (total 11 columns):\n",
      " #   Column           Non-Null Count  Dtype  \n",
      "---  ------           --------------  -----  \n",
      " 0   Name             16713 non-null  object \n",
      " 1   Platform         16715 non-null  object \n",
      " 2   Year_of_Release  16446 non-null  float64\n",
      " 3   Genre            16713 non-null  object \n",
      " 4   NA_sales         16715 non-null  float64\n",
      " 5   EU_sales         16715 non-null  float64\n",
      " 6   JP_sales         16715 non-null  float64\n",
      " 7   Other_sales      16715 non-null  float64\n",
      " 8   Critic_Score     8137 non-null   float64\n",
      " 9   User_Score       10014 non-null  object \n",
      " 10  Rating           9949 non-null   object \n",
      "dtypes: float64(6), object(5)\n",
      "memory usage: 1.4+ MB\n"
     ]
    }
   ],
   "source": [
    "df.info()"
   ]
  },
  {
   "cell_type": "markdown",
   "metadata": {},
   "source": [
    "В таблице одиннадцать столбцов.\n",
    "\n",
    "- `Name` — название игры\n",
    "- `Platform` — платформа\n",
    "- `Year_of_Release` — год выпуска\n",
    "- `Genre` — жанр игры\n",
    "- `NA_sales` — продажи в Северной Америке (миллионы проданных копий)\n",
    "- `EU_sales` — продажи в Европе (миллионы проданных копий)\n",
    "- `JP_sales` — продажи в Японии (миллионы проданных копий)\n",
    "- `Other_sales` — продажи в других странах (миллионы проданных копий)\n",
    "- `Critic_Score` — оценка критиков (максимум 100)\n",
    "- `User_Score` — оценка пользователей (максимум 10)\n",
    "- `Rating` — рейтинг от организации ESRB (англ. Entertainment Software Rating Board). Эта ассоциация определяет рейтинг компьютерных игр и присваивает им подходящую возрастную категорию.\n",
    "\n",
    "Количество значений в столбцах различается. Значит, в данных есть пропущенные значения."
   ]
  },
  {
   "cell_type": "markdown",
   "metadata": {},
   "source": [
    "### Вывод"
   ]
  },
  {
   "cell_type": "markdown",
   "metadata": {},
   "source": [
    "В каждой строке таблицы — данные о компьютерных играх. Предварительно можно утверждать, что данных достаточно для проведения исследования. Но в данных встречаются пропуски, а также заметны проблемы с типами данных. При этом в названиях колонок присутствуют расхождения с хорошим стилем. Чтобы двигаться дальше, нужно устранить проблемы в данных."
   ]
  },
  {
   "cell_type": "markdown",
   "metadata": {},
   "source": [
    "## Подготовка данных"
   ]
  },
  {
   "cell_type": "markdown",
   "metadata": {},
   "source": [
    "### Замена названий столбцов"
   ]
  },
  {
   "cell_type": "code",
   "execution_count": 7,
   "metadata": {},
   "outputs": [],
   "source": [
    "df.columns = df.columns.str.lower() # приведем к нижнему регистру названия стобцов"
   ]
  },
  {
   "cell_type": "code",
   "execution_count": 8,
   "metadata": {},
   "outputs": [
    {
     "data": {
      "text/html": [
       "<div>\n",
       "<style scoped>\n",
       "    .dataframe tbody tr th:only-of-type {\n",
       "        vertical-align: middle;\n",
       "    }\n",
       "\n",
       "    .dataframe tbody tr th {\n",
       "        vertical-align: top;\n",
       "    }\n",
       "\n",
       "    .dataframe thead th {\n",
       "        text-align: right;\n",
       "    }\n",
       "</style>\n",
       "<table border=\"1\" class=\"dataframe\">\n",
       "  <thead>\n",
       "    <tr style=\"text-align: right;\">\n",
       "      <th></th>\n",
       "      <th>name</th>\n",
       "      <th>platform</th>\n",
       "      <th>year_of_release</th>\n",
       "      <th>genre</th>\n",
       "      <th>na_sales</th>\n",
       "      <th>eu_sales</th>\n",
       "      <th>jp_sales</th>\n",
       "      <th>other_sales</th>\n",
       "      <th>critic_score</th>\n",
       "      <th>user_score</th>\n",
       "      <th>rating</th>\n",
       "    </tr>\n",
       "  </thead>\n",
       "  <tbody>\n",
       "    <tr>\n",
       "      <th>0</th>\n",
       "      <td>Wii Sports</td>\n",
       "      <td>Wii</td>\n",
       "      <td>2006.0</td>\n",
       "      <td>Sports</td>\n",
       "      <td>41.36</td>\n",
       "      <td>28.96</td>\n",
       "      <td>3.77</td>\n",
       "      <td>8.45</td>\n",
       "      <td>76.0</td>\n",
       "      <td>8</td>\n",
       "      <td>E</td>\n",
       "    </tr>\n",
       "    <tr>\n",
       "      <th>1</th>\n",
       "      <td>Super Mario Bros.</td>\n",
       "      <td>NES</td>\n",
       "      <td>1985.0</td>\n",
       "      <td>Platform</td>\n",
       "      <td>29.08</td>\n",
       "      <td>3.58</td>\n",
       "      <td>6.81</td>\n",
       "      <td>0.77</td>\n",
       "      <td>NaN</td>\n",
       "      <td>NaN</td>\n",
       "      <td>NaN</td>\n",
       "    </tr>\n",
       "    <tr>\n",
       "      <th>2</th>\n",
       "      <td>Mario Kart Wii</td>\n",
       "      <td>Wii</td>\n",
       "      <td>2008.0</td>\n",
       "      <td>Racing</td>\n",
       "      <td>15.68</td>\n",
       "      <td>12.76</td>\n",
       "      <td>3.79</td>\n",
       "      <td>3.29</td>\n",
       "      <td>82.0</td>\n",
       "      <td>8.3</td>\n",
       "      <td>E</td>\n",
       "    </tr>\n",
       "    <tr>\n",
       "      <th>3</th>\n",
       "      <td>Wii Sports Resort</td>\n",
       "      <td>Wii</td>\n",
       "      <td>2009.0</td>\n",
       "      <td>Sports</td>\n",
       "      <td>15.61</td>\n",
       "      <td>10.93</td>\n",
       "      <td>3.28</td>\n",
       "      <td>2.95</td>\n",
       "      <td>80.0</td>\n",
       "      <td>8</td>\n",
       "      <td>E</td>\n",
       "    </tr>\n",
       "    <tr>\n",
       "      <th>4</th>\n",
       "      <td>Pokemon Red/Pokemon Blue</td>\n",
       "      <td>GB</td>\n",
       "      <td>1996.0</td>\n",
       "      <td>Role-Playing</td>\n",
       "      <td>11.27</td>\n",
       "      <td>8.89</td>\n",
       "      <td>10.22</td>\n",
       "      <td>1.00</td>\n",
       "      <td>NaN</td>\n",
       "      <td>NaN</td>\n",
       "      <td>NaN</td>\n",
       "    </tr>\n",
       "  </tbody>\n",
       "</table>\n",
       "</div>"
      ],
      "text/plain": [
       "                       name platform  year_of_release         genre  na_sales  \\\n",
       "0                Wii Sports      Wii           2006.0        Sports     41.36   \n",
       "1         Super Mario Bros.      NES           1985.0      Platform     29.08   \n",
       "2            Mario Kart Wii      Wii           2008.0        Racing     15.68   \n",
       "3         Wii Sports Resort      Wii           2009.0        Sports     15.61   \n",
       "4  Pokemon Red/Pokemon Blue       GB           1996.0  Role-Playing     11.27   \n",
       "\n",
       "   eu_sales  jp_sales  other_sales  critic_score user_score rating  \n",
       "0     28.96      3.77         8.45          76.0          8      E  \n",
       "1      3.58      6.81         0.77           NaN        NaN    NaN  \n",
       "2     12.76      3.79         3.29          82.0        8.3      E  \n",
       "3     10.93      3.28         2.95          80.0          8      E  \n",
       "4      8.89     10.22         1.00           NaN        NaN    NaN  "
      ]
     },
     "execution_count": 8,
     "metadata": {},
     "output_type": "execute_result"
    }
   ],
   "source": [
    "df.head()"
   ]
  },
  {
   "cell_type": "markdown",
   "metadata": {},
   "source": [
    "**Вывод**"
   ]
  },
  {
   "cell_type": "markdown",
   "metadata": {},
   "source": [
    "Названия столбцов были приведены к нижнему регистру методом `str.lower()`."
   ]
  },
  {
   "cell_type": "markdown",
   "metadata": {},
   "source": [
    "### Замена типа данных"
   ]
  },
  {
   "cell_type": "code",
   "execution_count": 9,
   "metadata": {},
   "outputs": [],
   "source": [
    "df['year_of_release'] = df['year_of_release'].astype('Int64') # изменение типа данных в столбце year_of_release"
   ]
  },
  {
   "cell_type": "code",
   "execution_count": 10,
   "metadata": {},
   "outputs": [
    {
     "data": {
      "text/plain": [
       "tbd    2424\n",
       "7.8     324\n",
       "8       290\n",
       "8.2     282\n",
       "8.3     254\n",
       "       ... \n",
       "1.1       2\n",
       "1.9       2\n",
       "9.6       2\n",
       "0         1\n",
       "9.7       1\n",
       "Name: user_score, Length: 96, dtype: int64"
      ]
     },
     "execution_count": 10,
     "metadata": {},
     "output_type": "execute_result"
    }
   ],
   "source": [
    "df['user_score'].value_counts() # перед изменением типа данных в столбце user_score учтем, что в столбце есть значение 'tbd'"
   ]
  },
  {
   "cell_type": "code",
   "execution_count": 11,
   "metadata": {},
   "outputs": [],
   "source": [
    "df['user_score'] = pd.to_numeric(df['user_score'], errors='coerce') # изменение типа данных в столбце user_score"
   ]
  },
  {
   "cell_type": "code",
   "execution_count": 12,
   "metadata": {},
   "outputs": [
    {
     "name": "stdout",
     "output_type": "stream",
     "text": [
      "<class 'pandas.core.frame.DataFrame'>\n",
      "RangeIndex: 16715 entries, 0 to 16714\n",
      "Data columns (total 11 columns):\n",
      " #   Column           Non-Null Count  Dtype  \n",
      "---  ------           --------------  -----  \n",
      " 0   name             16713 non-null  object \n",
      " 1   platform         16715 non-null  object \n",
      " 2   year_of_release  16446 non-null  Int64  \n",
      " 3   genre            16713 non-null  object \n",
      " 4   na_sales         16715 non-null  float64\n",
      " 5   eu_sales         16715 non-null  float64\n",
      " 6   jp_sales         16715 non-null  float64\n",
      " 7   other_sales      16715 non-null  float64\n",
      " 8   critic_score     8137 non-null   float64\n",
      " 9   user_score       7590 non-null   float64\n",
      " 10  rating           9949 non-null   object \n",
      "dtypes: Int64(1), float64(6), object(4)\n",
      "memory usage: 1.4+ MB\n"
     ]
    }
   ],
   "source": [
    "df.info()"
   ]
  },
  {
   "cell_type": "markdown",
   "metadata": {},
   "source": [
    "**Вывод**"
   ]
  },
  {
   "cell_type": "markdown",
   "metadata": {},
   "source": [
    "Для дальнейшего использования в исследовании и удобства тип данных в столбце `year_of_release` был изменен на целочисленный  методом astype() (был выбран именно тип 'Int64', так как он умеет хранить пропуски). В столбце `user_score` тип данных был переведен из строкового типа str в вещественный тип float методом pd.to_numeric(), но при этом был задан параметр errors 'coerce', чтобы некорректные значения принудительно заменились на NaN, в том числе значение 'tbd'. Аббревиатура TBD используется в том числе и сфере компьютерных игр, расшифровываясь как 'будет определено', то есть в нашем случае это означает, что оценка пользователей не сформирована."
   ]
  },
  {
   "cell_type": "markdown",
   "metadata": {},
   "source": [
    "### Обработка пропусков"
   ]
  },
  {
   "cell_type": "code",
   "execution_count": 13,
   "metadata": {},
   "outputs": [
    {
     "data": {
      "text/plain": [
       "name               0.000120\n",
       "platform           0.000000\n",
       "year_of_release    0.016093\n",
       "genre              0.000120\n",
       "na_sales           0.000000\n",
       "eu_sales           0.000000\n",
       "jp_sales           0.000000\n",
       "other_sales        0.000000\n",
       "critic_score       0.513192\n",
       "user_score         0.545917\n",
       "rating             0.404786\n",
       "dtype: float64"
      ]
     },
     "execution_count": 13,
     "metadata": {},
     "output_type": "execute_result"
    }
   ],
   "source": [
    "df.isna().mean() # оценим долевое соотношение пропусков"
   ]
  },
  {
   "cell_type": "code",
   "execution_count": 14,
   "metadata": {},
   "outputs": [],
   "source": [
    "df['rating'] = df['rating'].fillna('undefined') # заполним пропуски в столбце rating на 'undefined'"
   ]
  },
  {
   "cell_type": "code",
   "execution_count": 15,
   "metadata": {},
   "outputs": [
    {
     "data": {
      "text/plain": [
       "name               0.000120\n",
       "platform           0.000000\n",
       "year_of_release    0.016093\n",
       "genre              0.000120\n",
       "na_sales           0.000000\n",
       "eu_sales           0.000000\n",
       "jp_sales           0.000000\n",
       "other_sales        0.000000\n",
       "critic_score       0.513192\n",
       "user_score         0.545917\n",
       "rating             0.000000\n",
       "dtype: float64"
      ]
     },
     "execution_count": 15,
     "metadata": {},
     "output_type": "execute_result"
    }
   ],
   "source": [
    "df.isna().mean()"
   ]
  },
  {
   "cell_type": "markdown",
   "metadata": {},
   "source": [
    "**Вывод**"
   ]
  },
  {
   "cell_type": "markdown",
   "metadata": {},
   "source": [
    "В столбцах `name`, `year_of_release`, `genre` пропущено  менее 1% значений, поэтому ими можно пренебречь. В столбце `user_score` значение 'tbd' были заменены на NaN, поэтому пропущенных значений стало больше. На мой взгляд, пропущенные значения в столбцах `critic_score`, `user_score` лучше оставить как есть, так как точно заменить данные пропуски нет возможности. Если их заполнить медианными значениями или средними, то в дальнейшем в результате анализа и проверки гипотез можно прийти к неправильным выводам. Вариант с удалением данных с пропусками тоже не рассматривается, потому что убирая данные с пропусками, удаляются и значения из других столбцов, что приводит к потере части информации. Опять же, если в столбцах `critic_score`, `user_score` заменить пропуски 'заглушкой', то она испортит исходное распределение. \n",
    "\n",
    "Пропущенные значения в столбце `rating` были заменены на значение 'undefined'.\n",
    "\n",
    "Возможной причиной пропусков в столбцах `critic_score`, `user_score`, `rating` является то, что источник, откуда были получены данные, не содержал всю информацию, соответственно неизвестно по каким параметрам подгружались данные."
   ]
  },
  {
   "cell_type": "markdown",
   "metadata": {},
   "source": [
    "### Расчёты"
   ]
  },
  {
   "cell_type": "code",
   "execution_count": 16,
   "metadata": {},
   "outputs": [],
   "source": [
    "# посчитаем суммарные продажи во всех регионах\n",
    "df['total_sales'] = (df['na_sales'] + df['eu_sales'] + df['jp_sales'] + df['other_sales'])"
   ]
  },
  {
   "cell_type": "code",
   "execution_count": 17,
   "metadata": {},
   "outputs": [
    {
     "data": {
      "text/html": [
       "<div>\n",
       "<style scoped>\n",
       "    .dataframe tbody tr th:only-of-type {\n",
       "        vertical-align: middle;\n",
       "    }\n",
       "\n",
       "    .dataframe tbody tr th {\n",
       "        vertical-align: top;\n",
       "    }\n",
       "\n",
       "    .dataframe thead th {\n",
       "        text-align: right;\n",
       "    }\n",
       "</style>\n",
       "<table border=\"1\" class=\"dataframe\">\n",
       "  <thead>\n",
       "    <tr style=\"text-align: right;\">\n",
       "      <th></th>\n",
       "      <th>name</th>\n",
       "      <th>platform</th>\n",
       "      <th>year_of_release</th>\n",
       "      <th>genre</th>\n",
       "      <th>na_sales</th>\n",
       "      <th>eu_sales</th>\n",
       "      <th>jp_sales</th>\n",
       "      <th>other_sales</th>\n",
       "      <th>critic_score</th>\n",
       "      <th>user_score</th>\n",
       "      <th>rating</th>\n",
       "      <th>total_sales</th>\n",
       "    </tr>\n",
       "  </thead>\n",
       "  <tbody>\n",
       "    <tr>\n",
       "      <th>0</th>\n",
       "      <td>Wii Sports</td>\n",
       "      <td>Wii</td>\n",
       "      <td>2006</td>\n",
       "      <td>Sports</td>\n",
       "      <td>41.36</td>\n",
       "      <td>28.96</td>\n",
       "      <td>3.77</td>\n",
       "      <td>8.45</td>\n",
       "      <td>76.0</td>\n",
       "      <td>8.0</td>\n",
       "      <td>E</td>\n",
       "      <td>82.54</td>\n",
       "    </tr>\n",
       "    <tr>\n",
       "      <th>1</th>\n",
       "      <td>Super Mario Bros.</td>\n",
       "      <td>NES</td>\n",
       "      <td>1985</td>\n",
       "      <td>Platform</td>\n",
       "      <td>29.08</td>\n",
       "      <td>3.58</td>\n",
       "      <td>6.81</td>\n",
       "      <td>0.77</td>\n",
       "      <td>NaN</td>\n",
       "      <td>NaN</td>\n",
       "      <td>undefined</td>\n",
       "      <td>40.24</td>\n",
       "    </tr>\n",
       "    <tr>\n",
       "      <th>2</th>\n",
       "      <td>Mario Kart Wii</td>\n",
       "      <td>Wii</td>\n",
       "      <td>2008</td>\n",
       "      <td>Racing</td>\n",
       "      <td>15.68</td>\n",
       "      <td>12.76</td>\n",
       "      <td>3.79</td>\n",
       "      <td>3.29</td>\n",
       "      <td>82.0</td>\n",
       "      <td>8.3</td>\n",
       "      <td>E</td>\n",
       "      <td>35.52</td>\n",
       "    </tr>\n",
       "    <tr>\n",
       "      <th>3</th>\n",
       "      <td>Wii Sports Resort</td>\n",
       "      <td>Wii</td>\n",
       "      <td>2009</td>\n",
       "      <td>Sports</td>\n",
       "      <td>15.61</td>\n",
       "      <td>10.93</td>\n",
       "      <td>3.28</td>\n",
       "      <td>2.95</td>\n",
       "      <td>80.0</td>\n",
       "      <td>8.0</td>\n",
       "      <td>E</td>\n",
       "      <td>32.77</td>\n",
       "    </tr>\n",
       "    <tr>\n",
       "      <th>4</th>\n",
       "      <td>Pokemon Red/Pokemon Blue</td>\n",
       "      <td>GB</td>\n",
       "      <td>1996</td>\n",
       "      <td>Role-Playing</td>\n",
       "      <td>11.27</td>\n",
       "      <td>8.89</td>\n",
       "      <td>10.22</td>\n",
       "      <td>1.00</td>\n",
       "      <td>NaN</td>\n",
       "      <td>NaN</td>\n",
       "      <td>undefined</td>\n",
       "      <td>31.38</td>\n",
       "    </tr>\n",
       "  </tbody>\n",
       "</table>\n",
       "</div>"
      ],
      "text/plain": [
       "                       name platform  year_of_release         genre  na_sales  \\\n",
       "0                Wii Sports      Wii             2006        Sports     41.36   \n",
       "1         Super Mario Bros.      NES             1985      Platform     29.08   \n",
       "2            Mario Kart Wii      Wii             2008        Racing     15.68   \n",
       "3         Wii Sports Resort      Wii             2009        Sports     15.61   \n",
       "4  Pokemon Red/Pokemon Blue       GB             1996  Role-Playing     11.27   \n",
       "\n",
       "   eu_sales  jp_sales  other_sales  critic_score  user_score     rating  \\\n",
       "0     28.96      3.77         8.45          76.0         8.0          E   \n",
       "1      3.58      6.81         0.77           NaN         NaN  undefined   \n",
       "2     12.76      3.79         3.29          82.0         8.3          E   \n",
       "3     10.93      3.28         2.95          80.0         8.0          E   \n",
       "4      8.89     10.22         1.00           NaN         NaN  undefined   \n",
       "\n",
       "   total_sales  \n",
       "0        82.54  \n",
       "1        40.24  \n",
       "2        35.52  \n",
       "3        32.77  \n",
       "4        31.38  "
      ]
     },
     "execution_count": 17,
     "metadata": {},
     "output_type": "execute_result"
    }
   ],
   "source": [
    "df.head()"
   ]
  },
  {
   "cell_type": "markdown",
   "metadata": {},
   "source": [
    "**Вывод**"
   ]
  },
  {
   "cell_type": "markdown",
   "metadata": {},
   "source": [
    "В отдельный столбец `total sales` таблицы были добавлены суммарные продажи во всех регионах."
   ]
  },
  {
   "cell_type": "markdown",
   "metadata": {},
   "source": [
    "## Исследовательский анализ данных"
   ]
  },
  {
   "cell_type": "markdown",
   "metadata": {},
   "source": [
    "### Проверим, сколько игр выпускалось в разные годы."
   ]
  },
  {
   "cell_type": "code",
   "execution_count": 18,
   "metadata": {},
   "outputs": [
    {
     "data": {
      "image/png": "[encoded data removed]",
      "text/plain": [
       "<Figure size 432x288 with 1 Axes>"
      ]
     },
     "metadata": {},
     "output_type": "display_data"
    }
   ],
   "source": [
    "df.groupby('year_of_release')['name'].count().plot(grid = True) # сгруппируем данные и построим график\n",
    "plt.title('Количество выпущенных игр в разные годы')\n",
    "plt.xlabel('Год выпуска')\n",
    "plt.ylabel('Количество выпущенных игр')\n",
    "plt.show()"
   ]
  },
  {
   "cell_type": "markdown",
   "metadata": {},
   "source": [
    "**Вывод**"
   ]
  },
  {
   "cell_type": "markdown",
   "metadata": {},
   "source": [
    "Судя по графику, для анализа важны данные после начала 2000-х годов, когда количество игр начало быстро расти."
   ]
  },
  {
   "cell_type": "markdown",
   "metadata": {},
   "source": [
    "### Проанализируем, как менялись продажи по платформам."
   ]
  },
  {
   "cell_type": "code",
   "execution_count": 19,
   "metadata": {
    "scrolled": false
   },
   "outputs": [
    {
     "data": {
      "text/plain": [
       "platform\n",
       "PS2     1255.77\n",
       "X360     971.42\n",
       "PS3      939.65\n",
       "Wii      907.51\n",
       "DS       806.12\n",
       "PS       730.86\n",
       "GBA      317.85\n",
       "PS4      314.14\n",
       "PSP      294.05\n",
       "PC       259.52\n",
       "Name: total_sales, dtype: float64"
      ]
     },
     "execution_count": 19,
     "metadata": {},
     "output_type": "execute_result"
    }
   ],
   "source": [
    "# сгруппируем данные, чтобы определить платформы с наибольшими суммарными продажами\n",
    "df.groupby('platform')['total_sales'].sum().sort_values(ascending=False).head(10) "
   ]
  },
  {
   "cell_type": "code",
   "execution_count": 20,
   "metadata": {
    "scrolled": false
   },
   "outputs": [],
   "source": [
    "df_top_platforms = df[df['platform'].isin(('PS2', 'X360', 'PS3', 'Wii', 'DS', 'PS', 'GBA', 'PS4', 'PSP', 'PC'))].pivot_table(index='year_of_release', columns='platform', values='total_sales', aggfunc='sum')"
   ]
  },
  {
   "cell_type": "code",
   "execution_count": 21,
   "metadata": {},
   "outputs": [
    {
     "data": {
      "image/png": "[encoded data removed]",
      "text/plain": [
       "<Figure size 1080x720 with 1 Axes>"
      ]
     },
     "metadata": {},
     "output_type": "display_data"
    }
   ],
   "source": [
    "df_top_platforms.plot(kind='line', grid = True, legend=True, figsize=(15,10)) # построим график\n",
    "plt.title('График суммарных продаж по годам для различных платформ')\n",
    "plt.xlabel('Год выпуска')\n",
    "plt.ylabel('Суммарные продажи')\n",
    "plt.show()"
   ]
  },
  {
   "cell_type": "markdown",
   "metadata": {},
   "source": [
    "**Вывод**"
   ]
  },
  {
   "cell_type": "markdown",
   "metadata": {},
   "source": [
    "Если не учитывать платформу PC (на данную платформу регулярно выходят игры, поэтому и график суммарных продаж не прерывается) и платформу PS4, которая возникла относительно недавно (в рамках данных проекта), характерным сроком появления новых и исчезновения старых платформ является срок около 10 лет. Отметим, что происходит смена поколений, и лидеры по сумме уже не являются перспективными платформами на 2016 год."
   ]
  },
  {
   "cell_type": "markdown",
   "metadata": {},
   "source": [
    "### Определим актуальный период для построения прогноза на 2017 год."
   ]
  },
  {
   "cell_type": "code",
   "execution_count": 22,
   "metadata": {},
   "outputs": [],
   "source": [
    "df_actual = df[df['year_of_release'] >= 2012].reset_index(drop=True) # выделим актуальный период"
   ]
  },
  {
   "cell_type": "markdown",
   "metadata": {},
   "source": [
    "**Вывод**"
   ]
  },
  {
   "cell_type": "markdown",
   "metadata": {},
   "source": [
    "Так как характерный срок жизни платформы составляет около 10 лет, то можно предположить, что в период до 5 лет платформы показывают наибольшие суммарные продажи. Поэтому, в результате исследования предыдущих вопросов, определим **актуальный период с 2012 по 2016**."
   ]
  },
  {
   "cell_type": "markdown",
   "metadata": {},
   "source": [
    "### Выделим платформы, которые лидируют по продажам, растут или падают."
   ]
  },
  {
   "cell_type": "code",
   "execution_count": 23,
   "metadata": {},
   "outputs": [
    {
     "data": {
      "text/plain": [
       "platform\n",
       "PS4     314.14\n",
       "PS3     288.79\n",
       "X360    236.54\n",
       "3DS     194.61\n",
       "XOne    159.32\n",
       "WiiU     82.19\n",
       "PC       62.65\n",
       "PSV      49.18\n",
       "Wii      35.37\n",
       "DS       12.55\n",
       "Name: total_sales, dtype: float64"
      ]
     },
     "execution_count": 23,
     "metadata": {},
     "output_type": "execute_result"
    }
   ],
   "source": [
    "# сгруппируем данные, чтобы определить платформы с наибольшими суммарными продажами для актуального периода\n",
    "df_actual.groupby('platform')['total_sales'].sum().sort_values(ascending=False).head(10)"
   ]
  },
  {
   "cell_type": "code",
   "execution_count": 24,
   "metadata": {},
   "outputs": [
    {
     "data": {
      "image/png": "[encoded data removed]",
      "text/plain": [
       "<Figure size 720x576 with 1 Axes>"
      ]
     },
     "metadata": {},
     "output_type": "display_data"
    }
   ],
   "source": [
    "df_actual[df_actual['platform'].isin(('PS4', 'PS3', 'X360', '3DS', 'XOne', 'WiiU', 'PC'))].pivot_table(index='year_of_release', columns='platform', values='total_sales', aggfunc='sum').plot(kind='line', grid = True, legend=True, figsize=(10, 8))\n",
    "plt.title('График суммарных продаж по годам для различных платформ')\n",
    "plt.xlabel('Год выпуска')\n",
    "plt.ylabel('Суммарные продажи')\n",
    "plt.show()"
   ]
  },
  {
   "cell_type": "markdown",
   "metadata": {},
   "source": [
    "**Вывод**"
   ]
  },
  {
   "cell_type": "markdown",
   "metadata": {},
   "source": [
    "В актуальный период (с 2012 по 2016) платформы PS4, PS3 и X360 лидируют по продажам. При этом, если рассматривать тренд, то суммарные продажи в разбивке по платформам падают. Однако, до 2015 года лидеры по продажам PS4 и XOne показывали рост, поэтому их можно отнести к потенциально прибыльным платформам. В этот же список внесем платформу 3DS (суммарные продажи в последние годы больше, чем у остальных платформ, за исключением PS4 и XOne) и PC (опять же, на данную платформу стабильно выходят игры, и в перспективе суммарные продажи данной платформы выше, чем у WiiU, PS3, X360)."
   ]
  },
  {
   "cell_type": "markdown",
   "metadata": {},
   "source": [
    "### Построение графика «ящик с усами» по глобальным продажам игр в разбивке по платформам."
   ]
  },
  {
   "cell_type": "markdown",
   "metadata": {},
   "source": [
    "Построим график «ящик с усами» по глобальным продажам игр в разбивке по выбранным потенциально прибыльным платформам."
   ]
  },
  {
   "cell_type": "code",
   "execution_count": 25,
   "metadata": {},
   "outputs": [],
   "source": [
    "# выделим потенциально прибыльные платформы по предыдущему пункту\n",
    "df_actual_potential_profitable = df_actual[df_actual['platform'].isin(('PS4', 'XOne', '3DS', 'PC'))]"
   ]
  },
  {
   "cell_type": "code",
   "execution_count": 26,
   "metadata": {
    "scrolled": true
   },
   "outputs": [
    {
     "data": {
      "text/plain": [
       "count    1285.000000\n",
       "mean        0.568654\n",
       "std         1.293477\n",
       "min         0.010000\n",
       "25%         0.040000\n",
       "50%         0.140000\n",
       "75%         0.470000\n",
       "max        14.630000\n",
       "Name: total_sales, dtype: float64"
      ]
     },
     "execution_count": 26,
     "metadata": {},
     "output_type": "execute_result"
    }
   ],
   "source": [
    "df_actual_potential_profitable['total_sales'].describe()"
   ]
  },
  {
   "cell_type": "code",
   "execution_count": 27,
   "metadata": {},
   "outputs": [
    {
     "data": {
      "text/plain": [
       "(0, 2)"
      ]
     },
     "execution_count": 27,
     "metadata": {},
     "output_type": "execute_result"
    },
    {
     "data": {
      "image/png": "[encoded data removed]",
      "text/plain": [
       "<Figure size 720x360 with 1 Axes>"
      ]
     },
     "metadata": {},
     "output_type": "display_data"
    }
   ],
   "source": [
    "plt.figure(figsize = (10, 5)) \n",
    "sns.boxplot(data = df_actual_potential_profitable, x = 'platform', y = 'total_sales')\n",
    "plt.title('График «ящик с усами» по глобальным продажам игр в разбивке по платформам')\n",
    "plt.xlabel('Платформа')\n",
    "plt.ylabel('Глобальные продажи')\n",
    "plt.ylim(0, 2)"
   ]
  },
  {
   "cell_type": "markdown",
   "metadata": {},
   "source": [
    "**Вывод**"
   ]
  },
  {
   "cell_type": "markdown",
   "metadata": {},
   "source": [
    "График «ящик с усами» показал, что медиана суммарных продаж для всех рассматриваемых платформ разная. При этом, отметим, что для каждой платформы в среднем характерно до 250 тыс. проданных копий. Также видно, что в рамках платформ много выбросов, но это, судя по всему, игры бестселлеры."
   ]
  },
  {
   "cell_type": "markdown",
   "metadata": {},
   "source": [
    "### Проверим, как влияют на продажи внутри одной популярной платформы отзывы пользователей и критиков."
   ]
  },
  {
   "cell_type": "markdown",
   "metadata": {},
   "source": [
    "Влияние отзывов пользователей и критиков на продажи рассмотрим на примере платформы PS4."
   ]
  },
  {
   "cell_type": "code",
   "execution_count": 28,
   "metadata": {},
   "outputs": [],
   "source": [
    "# выделим платформу PS4\n",
    "df_actual_potential_profitable_PS4 = df_actual_potential_profitable.query('platform == \"PS4\"')"
   ]
  },
  {
   "cell_type": "code",
   "execution_count": 29,
   "metadata": {},
   "outputs": [
    {
     "data": {
      "text/plain": [
       "-0.031957110204556424"
      ]
     },
     "execution_count": 29,
     "metadata": {},
     "output_type": "execute_result"
    }
   ],
   "source": [
    "# посчитаем коэффициент корреляции продажами и отзывами пользователей\n",
    "df_actual_potential_profitable_PS4['total_sales'].corr(df_actual_potential_profitable_PS4['user_score'])"
   ]
  },
  {
   "cell_type": "code",
   "execution_count": 30,
   "metadata": {},
   "outputs": [
    {
     "data": {
      "text/plain": [
       "0.406567902061781"
      ]
     },
     "execution_count": 30,
     "metadata": {},
     "output_type": "execute_result"
    }
   ],
   "source": [
    "# посчитаем коэффициент корреляции продажами и отзывами критиков\n",
    "df_actual_potential_profitable_PS4['total_sales'].corr(df_actual_potential_profitable_PS4['critic_score'])"
   ]
  },
  {
   "cell_type": "code",
   "execution_count": 31,
   "metadata": {},
   "outputs": [
    {
     "name": "stderr",
     "output_type": "stream",
     "text": [
      "'c' argument looks like a single numeric RGB or RGBA sequence, which should be avoided as value-mapping will have precedence in case its length matches with 'x' & 'y'.  Please use a 2-D array with a single row if you really want to specify the same RGB or RGBA value for all points.\n"
     ]
    },
    {
     "data": {
      "image/png": "[encoded data removed]",
      "text/plain": [
       "<Figure size 432x288 with 1 Axes>"
      ]
     },
     "metadata": {},
     "output_type": "display_data"
    }
   ],
   "source": [
    "df_actual_potential_profitable_PS4.plot(x='user_score', y='total_sales', kind='scatter') # построим диаграмму рассеяния\n",
    "plt.title('Диаграмма рассеяния для оценок пользователей')\n",
    "plt.xlabel('Оценки пользователей')\n",
    "plt.ylabel('Суммарные продажи')\n",
    "plt.show()"
   ]
  },
  {
   "cell_type": "code",
   "execution_count": 32,
   "metadata": {},
   "outputs": [
    {
     "name": "stderr",
     "output_type": "stream",
     "text": [
      "'c' argument looks like a single numeric RGB or RGBA sequence, which should be avoided as value-mapping will have precedence in case its length matches with 'x' & 'y'.  Please use a 2-D array with a single row if you really want to specify the same RGB or RGBA value for all points.\n"
     ]
    },
    {
     "data": {
      "image/png": "[encoded data removed]",
      "text/plain": [
       "<Figure size 432x288 with 1 Axes>"
      ]
     },
     "metadata": {},
     "output_type": "display_data"
    }
   ],
   "source": [
    "df_actual_potential_profitable_PS4.plot(x='critic_score', y='total_sales', kind='scatter') # построим диаграмму рассеяния\n",
    "plt.title('Диаграмма рассеяния для оценок критиков')\n",
    "plt.xlabel('Оценки критиков')\n",
    "plt.ylabel('Суммарные продажи')\n",
    "plt.show()"
   ]
  },
  {
   "cell_type": "markdown",
   "metadata": {},
   "source": [
    "**Вывод**"
   ]
  },
  {
   "cell_type": "markdown",
   "metadata": {},
   "source": [
    "Изучив данные, можно прийти к выводу, что между продажами и оценками критиков наблюдается умеренная положительная корреляция (0.40), то есть отзывы критиков влияют на продажи. При этом между продажами и оценками пользователей нет взаимосвязи, судя по коэффициенту корреляции (-0.03)."
   ]
  },
  {
   "cell_type": "markdown",
   "metadata": {},
   "source": [
    "### Соотнесем выводы с продажами игр на других платформах."
   ]
  },
  {
   "cell_type": "markdown",
   "metadata": {},
   "source": [
    "Соотнесем выводы предыдущего пункта с продажами игр на платформах XOne, 3DS, PC."
   ]
  },
  {
   "cell_type": "code",
   "execution_count": 33,
   "metadata": {},
   "outputs": [
    {
     "data": {
      "text/html": [
       "<div>\n",
       "<style scoped>\n",
       "    .dataframe tbody tr th:only-of-type {\n",
       "        vertical-align: middle;\n",
       "    }\n",
       "\n",
       "    .dataframe tbody tr th {\n",
       "        vertical-align: top;\n",
       "    }\n",
       "\n",
       "    .dataframe thead th {\n",
       "        text-align: right;\n",
       "    }\n",
       "</style>\n",
       "<table border=\"1\" class=\"dataframe\">\n",
       "  <thead>\n",
       "    <tr style=\"text-align: right;\">\n",
       "      <th></th>\n",
       "      <th></th>\n",
       "      <th>total_sales</th>\n",
       "    </tr>\n",
       "    <tr>\n",
       "      <th>platform</th>\n",
       "      <th></th>\n",
       "      <th></th>\n",
       "    </tr>\n",
       "  </thead>\n",
       "  <tbody>\n",
       "    <tr>\n",
       "      <th rowspan=\"3\" valign=\"top\">3DS</th>\n",
       "      <th>critic_score</th>\n",
       "      <td>0.320803</td>\n",
       "    </tr>\n",
       "    <tr>\n",
       "      <th>user_score</th>\n",
       "      <td>0.197583</td>\n",
       "    </tr>\n",
       "    <tr>\n",
       "      <th>total_sales</th>\n",
       "      <td>1.000000</td>\n",
       "    </tr>\n",
       "    <tr>\n",
       "      <th rowspan=\"3\" valign=\"top\">PC</th>\n",
       "      <th>critic_score</th>\n",
       "      <td>0.237243</td>\n",
       "    </tr>\n",
       "    <tr>\n",
       "      <th>user_score</th>\n",
       "      <td>-0.121867</td>\n",
       "    </tr>\n",
       "    <tr>\n",
       "      <th>total_sales</th>\n",
       "      <td>1.000000</td>\n",
       "    </tr>\n",
       "    <tr>\n",
       "      <th rowspan=\"3\" valign=\"top\">PS4</th>\n",
       "      <th>critic_score</th>\n",
       "      <td>0.406568</td>\n",
       "    </tr>\n",
       "    <tr>\n",
       "      <th>user_score</th>\n",
       "      <td>-0.031957</td>\n",
       "    </tr>\n",
       "    <tr>\n",
       "      <th>total_sales</th>\n",
       "      <td>1.000000</td>\n",
       "    </tr>\n",
       "    <tr>\n",
       "      <th rowspan=\"3\" valign=\"top\">XOne</th>\n",
       "      <th>critic_score</th>\n",
       "      <td>0.416998</td>\n",
       "    </tr>\n",
       "    <tr>\n",
       "      <th>user_score</th>\n",
       "      <td>-0.068925</td>\n",
       "    </tr>\n",
       "    <tr>\n",
       "      <th>total_sales</th>\n",
       "      <td>1.000000</td>\n",
       "    </tr>\n",
       "  </tbody>\n",
       "</table>\n",
       "</div>"
      ],
      "text/plain": [
       "                       total_sales\n",
       "platform                          \n",
       "3DS      critic_score     0.320803\n",
       "         user_score       0.197583\n",
       "         total_sales      1.000000\n",
       "PC       critic_score     0.237243\n",
       "         user_score      -0.121867\n",
       "         total_sales      1.000000\n",
       "PS4      critic_score     0.406568\n",
       "         user_score      -0.031957\n",
       "         total_sales      1.000000\n",
       "XOne     critic_score     0.416998\n",
       "         user_score      -0.068925\n",
       "         total_sales      1.000000"
      ]
     },
     "metadata": {},
     "output_type": "display_data"
    }
   ],
   "source": [
    "# посмотрим коэффициенты корреляции для перспективных платформ\n",
    "display(df_actual_potential_profitable.pivot_table(index = 'platform', values = ['critic_score', 'user_score', 'total_sales'], \\\n",
    "                                                  aggfunc = 'corr')[['total_sales']])"
   ]
  },
  {
   "cell_type": "code",
   "execution_count": 34,
   "metadata": {},
   "outputs": [
    {
     "data": {
      "text/html": [
       "        <script type=\"text/javascript\">\n",
       "        window.PlotlyConfig = {MathJaxConfig: 'local'};\n",
       "        if (window.MathJax) {MathJax.Hub.Config({SVG: {font: \"STIX-Web\"}});}\n",
       "        if (typeof require !== 'undefined') {\n",
       "        require.undef(\"plotly\");\n",
       "        requirejs.config({\n",
       "            paths: {\n",
       "                'plotly': ['https://cdn.plot.ly/plotly-latest.min']\n",
       "            }\n",
       "        });\n",
       "        require(['plotly'], function(Plotly) {\n",
       "            window._Plotly = Plotly;\n",
       "        });\n",
       "        }\n",
       "        </script>\n",
       "        "
      ]
     },
     "metadata": {},
     "output_type": "display_data"
    },
    {
     "data": {
      "text/html": [
       "<div>\n",
       "        \n",
       "        \n",
       "            <div id=\"f9b4629f-4bcc-48ac-b8de-8f7d1dc49aff\" class=\"plotly-graph-div\" style=\"height:600px; width:100%;\"></div>\n",
       "            <script type=\"text/javascript\">\n",
       "                require([\"plotly\"], function(Plotly) {\n",
       "                    window.PLOTLYENV=window.PLOTLYENV || {};\n",
       "                    \n",
       "                if (document.getElementById(\"f9b4629f-4bcc-48ac-b8de-8f7d1dc49aff\")) {\n",
       "                    Plotly.newPlot(\n",
       "                        'f9b4629f-4bcc-48ac-b8de-8f7d1dc49aff',\n",
       "                        [{\"hoverlabel\": {\"namelength\": 0}, \"hovertemplate\": \"platform=PS4<br>critic_score=%{x}<br>total_sales=%{y}\", \"legendgroup\": \"platform=PS4\", \"marker\": {\"color\": \"#636efa\", \"symbol\": \"circle\"}, \"mode\": \"markers\", \"name\": \"platform=PS4\", \"showlegend\": true, \"type\": \"scatter\", \"x\": [97.0, 82.0, 83.0, 85.0, 87.0, 82.0, 76.0, 93.0, 86.0, 77.0, 88.0, 80.0, 85.0, 92.0, 70.0, 87.0, 87.0, 78.0, 80.0, 85.0, 93.0, 76.0, 83.0, 87.0, 84.0, 83.0, 80.0, 83.0, 73.0, 92.0, 83.0, 76.0, 73.0, 81.0, 90.0, 73.0, 74.0, 71.0, 89.0, 80.0, 86.0, 79.0, 88.0, 73.0, 68.0, 75.0, 82.0, 63.0, 54.0, 61.0, 71.0, 79.0, 89.0, 83.0, 79.0, 85.0, 75.0, 73.0, 62.0, 79.0, 83.0, 79.0, 69.0, 83.0, 70.0, 90.0, 76.0, 79.0, 73.0, 80.0, 77.0, 70.0, 74.0, 82.0, 80.0, 87.0, 89.0, 82.0, 71.0, 80.0, 83.0, 73.0, 78.0, 67.0, 71.0, 65.0, 88.0, 78.0, 75.0, 72.0, 69.0, 60.0, 75.0, 61.0, 68.0, 81.0, 74.0, 85.0, 78.0, 76.0, 79.0, 75.0, 69.0, 72.0, 85.0, 72.0, 79.0, 72.0, 78.0, 84.0, 84.0, 85.0, 85.0, 73.0, 48.0, 66.0, 69.0, 81.0, 77.0, 78.0, 59.0, 76.0, 81.0, 75.0, 60.0, 72.0, 80.0, 73.0, 81.0, 68.0, 59.0, 63.0, 57.0, 76.0, 43.0, 59.0, 77.0, 66.0, 47.0, 83.0, 32.0, 72.0, 62.0, 87.0, 53.0, 63.0, 47.0, 69.0, 59.0, 73.0, 67.0, 59.0, 74.0, 58.0, 38.0, 79.0, 73.0, 80.0, 80.0, 88.0, 45.0, 63.0, 81.0, 80.0, 86.0, 76.0, 75.0, 65.0, 73.0, 19.0, 75.0, 79.0, 69.0, 71.0, 73.0, 73.0, 53.0, 71.0, 44.0, 67.0, 69.0, 74.0, 85.0, 66.0, 70.0, 90.0, 77.0, 60.0, 69.0, 75.0, 64.0, 62.0, 71.0, 78.0, 72.0, 63.0, 83.0, 72.0, 73.0, 67.0, 64.0, 60.0, 42.0, 25.0, 52.0, 43.0, 76.0, 81.0, 78.0, 64.0, 66.0, 82.0, 71.0, 71.0, 66.0, 80.0, 70.0, 64.0, 72.0, 78.0, 69.0, 69.0, 73.0, 53.0, 77.0, 61.0, 80.0, 78.0, 88.0, 82.0, 59.0, 57.0, 67.0, 62.0, 58.0, 62.0, 52.0, 31.0, 55.0, 79.0, 48.0, 49.0, 72.0, 66.0, 42.0, 70.0, 69.0, 61.0, 51.0], \"xaxis\": \"x\", \"y\": [12.620000000000001, 8.58, 7.66, 7.6000000000000005, 7.17, 6.08, 5.640000000000001, 5.39, 4.62, 4.470000000000001, 4.07, 4.05, 4.04, 3.9699999999999998, 3.96, 3.96, 3.87, 3.8299999999999996, 3.8, 3.58, 3.4200000000000004, 3.3899999999999997, 3.2399999999999998, 3.01, 2.96, 2.86, 2.7899999999999996, 2.78, 2.6900000000000004, 2.48, 2.4499999999999997, 2.2600000000000002, 2.21, 2.19, 2.14, 2.11, 2.09, 2.07, 2.01, 1.98, 1.9200000000000002, 1.9100000000000001, 1.8800000000000001, 1.85, 1.81, 1.7900000000000003, 1.74, 1.7200000000000002, 1.73, 1.7200000000000002, 1.6900000000000002, 1.6600000000000001, 1.6600000000000001, 1.62, 1.54, 1.44, 1.2699999999999998, 1.21, 1.15, 1.14, 1.13, 1.1199999999999999, 1.1, 1.0799999999999998, 1.05, 1.02, 0.9700000000000001, 0.93, 0.92, 0.93, 0.9, 0.9, 0.91, 0.88, 0.86, 0.78, 0.7600000000000001, 0.75, 0.73, 0.73, 0.72, 0.7, 0.71, 0.6900000000000001, 0.67, 0.67, 0.64, 0.63, 0.61, 0.6, 0.6, 0.6, 0.54, 0.51, 0.52, 0.49000000000000005, 0.47000000000000003, 0.45, 0.44, 0.43, 0.43, 0.42, 0.42, 0.4, 0.38999999999999996, 0.39999999999999997, 0.38, 0.39, 0.38, 0.38, 0.37000000000000005, 0.36000000000000004, 0.36, 0.36000000000000004, 0.35000000000000003, 0.36, 0.34, 0.34, 0.34, 0.33, 0.32, 0.32, 0.3, 0.31, 0.3, 0.3, 0.29, 0.27, 0.26, 0.26, 0.26, 0.25, 0.25, 0.24000000000000002, 0.24000000000000002, 0.24000000000000002, 0.23, 0.23, 0.22, 0.21000000000000002, 0.19999999999999998, 0.2, 0.19999999999999998, 0.2, 0.19999999999999998, 0.19, 0.19, 0.19999999999999998, 0.18, 0.18, 0.18, 0.17, 0.16, 0.16999999999999998, 0.16, 0.15, 0.13999999999999999, 0.14, 0.13999999999999999, 0.13999999999999999, 0.13999999999999999, 0.13, 0.13, 0.12000000000000001, 0.13, 0.12, 0.12, 0.11, 0.12, 0.12000000000000001, 0.12000000000000001, 0.11, 0.09999999999999999, 0.09, 0.1, 0.09, 0.1, 0.09999999999999999, 0.09000000000000001, 0.09, 0.09, 0.08, 0.08, 0.08, 0.08, 0.06999999999999999, 0.09000000000000001, 0.06999999999999999, 0.06999999999999999, 0.07, 0.08, 0.06999999999999999, 0.07, 0.06999999999999999, 0.07, 0.06999999999999999, 0.07, 0.06999999999999999, 0.060000000000000005, 0.060000000000000005, 0.060000000000000005, 0.06999999999999999, 0.060000000000000005, 0.060000000000000005, 0.05, 0.05, 0.05, 0.05, 0.04, 0.05, 0.05, 0.05, 0.05, 0.05, 0.05, 0.04, 0.03, 0.05, 0.04, 0.04, 0.04, 0.04, 0.03, 0.03, 0.04, 0.03, 0.03, 0.03, 0.02, 0.02, 0.02, 0.02, 0.02, 0.02, 0.02, 0.02, 0.02, 0.02, 0.02, 0.02, 0.01, 0.01, 0.02, 0.01, 0.01, 0.01, 0.01, 0.01, 0.01], \"yaxis\": \"y\"}, {\"hoverlabel\": {\"namelength\": 0}, \"hovertemplate\": \"platform=3DS<br>critic_score=%{x}<br>total_sales=%{y}\", \"legendgroup\": \"platform=3DS\", \"marker\": {\"color\": \"#EF553B\", \"symbol\": \"circle\"}, \"mode\": \"markers\", \"name\": \"platform=3DS\", \"showlegend\": true, \"type\": \"scatter\", \"x\": [78.0, 88.0, 86.0, 86.0, 91.0, 66.0, 89.0, 75.0, 92.0, 57.0, 80.0, 75.0, 64.0, 83.0, 59.0, 69.0, 73.0, 73.0, 69.0, 81.0, 71.0, 74.0, 61.0, 82.0, 79.0, 81.0, 72.0, 76.0, 83.0, 62.0, 73.0, 83.0, 78.0, 69.0, 78.0, 59.0, 76.0, 81.0, 78.0, 81.0, 47.0, 76.0, 46.0, 61.0, 70.0, 75.0, 78.0, 83.0, 57.0, 61.0, 80.0, 65.0, 68.0, 68.0, 47.0, 68.0, 69.0, 80.0, 67.0, 79.0, 68.0, 77.0, 54.0, 58.0, 69.0, 68.0, 69.0, 77.0, 67.0, 64.0, 60.0, 77.0, 72.0, 71.0, 71.0, 59.0, 90.0, 71.0, 62.0, 72.0, 68.0, 71.0, 58.0, 71.0, 65.0, 63.0, 81.0, 70.0, 68.0, 64.0, 82.0, 43.0, 46.0, 45.0, 49.0, 74.0, 88.0, 81.0, 26.0, 77.0], \"xaxis\": \"x\", \"y\": [9.900000000000002, 9.17, 4.59, 3.89, 3.1, 3.05, 2.34, 2.31, 2.02, 1.9200000000000002, 1.83, 1.5800000000000003, 1.3800000000000001, 1.26, 1.27, 1.25, 1.13, 1.11, 0.9400000000000002, 0.93, 0.93, 0.9299999999999999, 0.8900000000000001, 0.8700000000000001, 0.8, 0.76, 0.75, 0.72, 0.7200000000000001, 0.6300000000000001, 0.6200000000000001, 0.5800000000000001, 0.56, 0.53, 0.49000000000000005, 0.48, 0.49, 0.48, 0.4800000000000001, 0.47000000000000003, 0.42999999999999994, 0.42000000000000004, 0.42, 0.39, 0.39, 0.38, 0.38, 0.38, 0.36, 0.33, 0.32000000000000006, 0.31000000000000005, 0.31000000000000005, 0.29000000000000004, 0.29000000000000004, 0.27, 0.26, 0.26, 0.25, 0.24000000000000002, 0.24, 0.24, 0.22, 0.21000000000000002, 0.22, 0.21, 0.22, 0.21, 0.2, 0.19, 0.18000000000000002, 0.16, 0.16000000000000003, 0.15000000000000002, 0.15000000000000002, 0.14, 0.15, 0.12000000000000001, 0.13, 0.11, 0.09999999999999999, 0.09999999999999999, 0.09, 0.09, 0.07, 0.08, 0.08, 0.06, 0.06, 0.04, 0.04, 0.04, 0.03, 0.03, 0.03, 0.03, 0.03, 0.02, 0.02, 0.01], \"yaxis\": \"y\"}, {\"hoverlabel\": {\"namelength\": 0}, \"hovertemplate\": \"platform=XOne<br>critic_score=%{x}<br>total_sales=%{y}\", \"legendgroup\": \"platform=XOne\", \"marker\": {\"color\": \"#00cc96\", \"symbol\": \"circle\"}, \"mode\": \"markers\", \"name\": \"platform=XOne\", \"showlegend\": true, \"type\": \"scatter\", \"x\": [97.0, 81.0, 84.0, 88.0, 72.0, 75.0, 82.0, 84.0, 85.0, 86.0, 78.0, 84.0, 78.0, 84.0, 86.0, 87.0, 79.0, 82.0, 80.0, 81.0, 87.0, 82.0, 82.0, 78.0, 78.0, 80.0, 85.0, 86.0, 60.0, 86.0, 86.0, 87.0, 84.0, 74.0, 91.0, 78.0, 74.0, 77.0, 83.0, 71.0, 89.0, 88.0, 81.0, 91.0, 91.0, 90.0, 85.0, 86.0, 71.0, 77.0, 73.0, 84.0, 95.0, 76.0, 75.0, 79.0, 79.0, 70.0, 64.0, 74.0, 67.0, 60.0, 72.0, 87.0, 56.0, 77.0, 81.0, 70.0, 69.0, 78.0, 80.0, 80.0, 79.0, 70.0, 71.0, 80.0, 74.0, 76.0, 80.0, 59.0, 87.0, 83.0, 71.0, 63.0, 91.0, 66.0, 67.0, 81.0, 76.0, 76.0, 60.0, 69.0, 68.0, 81.0, 64.0, 80.0, 76.0, 77.0, 73.0, 87.0, 88.0, 71.0, 53.0, 36.0, 73.0, 23.0, 74.0, 58.0, 73.0, 83.0, 72.0, 51.0, 53.0, 84.0, 77.0, 75.0, 71.0, 63.0, 79.0, 49.0, 75.0, 85.0, 86.0, 39.0, 77.0, 60.0, 62.0, 85.0, 54.0, 75.0, 78.0, 20.0, 74.0, 58.0, 60.0, 76.0, 66.0, 60.0, 35.0, 67.0, 48.0, 77.0, 87.0, 87.0, 63.0, 55.0, 81.0, 84.0, 75.0, 64.0, 74.0, 68.0, 52.0, 55.0, 65.0, 77.0, 63.0, 80.0, 75.0, 56.0, 66.0, 53.0, 65.0, 63.0, 74.0], \"xaxis\": \"x\", \"y\": [5.47, 5.26, 4.49, 4.22, 3.5, 3.37, 3.28, 3.25, 3.23, 2.95, 2.92, 2.65, 2.4200000000000004, 2.42, 2.34, 2.25, 2.1999999999999997, 2.18, 2.1700000000000004, 2.02, 1.7999999999999998, 1.73, 1.6400000000000001, 1.57, 1.5700000000000003, 1.56, 1.4900000000000002, 1.4000000000000001, 1.3900000000000001, 1.38, 1.3800000000000001, 1.3599999999999999, 1.3399999999999999, 1.3399999999999999, 1.3, 1.2900000000000003, 1.29, 1.2800000000000002, 1.23, 1.21, 1.2000000000000002, 1.1600000000000001, 1.1300000000000001, 1.08, 1.06, 1.03, 0.93, 0.8999999999999999, 0.91, 0.88, 0.8, 0.79, 0.75, 0.6799999999999999, 0.7, 0.6800000000000002, 0.6599999999999999, 0.6599999999999999, 0.6400000000000001, 0.6300000000000001, 0.6200000000000001, 0.6000000000000001, 0.5900000000000001, 0.5700000000000001, 0.5700000000000001, 0.56, 0.55, 0.53, 0.53, 0.49999999999999994, 0.4799999999999999, 0.48, 0.47, 0.45999999999999996, 0.44999999999999996, 0.43, 0.44, 0.42, 0.41, 0.41, 0.38999999999999996, 0.36, 0.33999999999999997, 0.33999999999999997, 0.33999999999999997, 0.31999999999999995, 0.31999999999999995, 0.31000000000000005, 0.29000000000000004, 0.28, 0.27, 0.27, 0.26, 0.26, 0.24999999999999997, 0.24, 0.24000000000000002, 0.24000000000000002, 0.24000000000000002, 0.24000000000000002, 0.22, 0.22, 0.21, 0.19999999999999998, 0.19999999999999998, 0.19999999999999998, 0.18, 0.18, 0.18, 0.16, 0.16, 0.16000000000000003, 0.16999999999999998, 0.15000000000000002, 0.15000000000000002, 0.15000000000000002, 0.15000000000000002, 0.14, 0.14, 0.14, 0.14, 0.13, 0.13, 0.12, 0.11, 0.10999999999999999, 0.11, 0.11, 0.09999999999999999, 0.1, 0.09999999999999999, 0.09, 0.08, 0.06999999999999999, 0.060000000000000005, 0.06, 0.060000000000000005, 0.060000000000000005, 0.05, 0.05, 0.05, 0.060000000000000005, 0.04, 0.04, 0.04, 0.04, 0.04, 0.04, 0.03, 0.03, 0.03, 0.02, 0.02, 0.02, 0.02, 0.02, 0.01, 0.01, 0.01, 0.01, 0.01, 0.01, 0.01, 0.01, 0.01], \"yaxis\": \"y\"}, {\"hoverlabel\": {\"namelength\": 0}, \"hovertemplate\": \"platform=PC<br>critic_score=%{x}<br>total_sales=%{y}\", \"legendgroup\": \"platform=PC\", \"marker\": {\"color\": \"#ab63fa\", \"symbol\": \"circle\"}, \"mode\": \"markers\", \"name\": \"platform=PC\", \"showlegend\": true, \"type\": \"scatter\", \"x\": [88.0, 70.0, 90.0, 82.0, 86.0, 74.0, 64.0, 81.0, 84.0, 96.0, 86.0, 89.0, 88.0, 65.0, 80.0, 89.0, 71.0, 85.0, 76.0, 93.0, 89.0, 94.0, 64.0, 84.0, 85.0, 80.0, 76.0, 86.0, 70.0, 91.0, 88.0, 87.0, 80.0, 81.0, 77.0, 87.0, 79.0, 78.0, 87.0, 86.0, 88.0, 81.0, 84.0, 81.0, 80.0, 55.0, 88.0, 74.0, 81.0, 75.0, 82.0, 68.0, 72.0, 76.0, 88.0, 79.0, 80.0, 88.0, 79.0, 76.0, 69.0, 72.0, 80.0, 74.0, 64.0, 81.0, 75.0, 63.0, 85.0, 82.0, 77.0, 82.0, 86.0, 45.0, 91.0, 74.0, 71.0, 78.0, 74.0, 71.0, 73.0, 82.0, 81.0, 74.0, 80.0, 81.0, 74.0, 85.0, 77.0, 71.0, 73.0, 79.0, 86.0, 70.0, 83.0, 81.0, 86.0, 86.0, 75.0, 84.0, 76.0, 74.0, 81.0, 74.0, 77.0, 61.0, 81.0, 76.0, 65.0, 80.0, 69.0, 85.0, 52.0, 58.0, 74.0, 33.0, 91.0, 82.0, 86.0, 89.0, 73.0, 80.0, 83.0, 80.0, 74.0, 82.0, 68.0, 74.0, 65.0, 86.0, 83.0, 76.0, 59.0, 61.0, 76.0, 66.0, 79.0, 63.0, 82.0, 83.0, 76.0, 69.0, 78.0, 77.0, 48.0, 72.0, 61.0, 58.0, 70.0, 54.0, 64.0, 75.0, 83.0, 73.0, 84.0, 86.0, 80.0, 74.0, 72.0, 59.0, 73.0, 90.0, 68.0, 46.0, 82.0, 54.0, 78.0, 86.0, 78.0, 79.0, 78.0, 62.0, 57.0, 69.0, 43.0, 67.0, 66.0, 73.0, 72.0, 74.0, 89.0, 87.0, 66.0, 66.0, 62.0, 72.0, 90.0, 65.0, 56.0, 65.0, 71.0, 72.0, 71.0, 79.0, 78.0, 78.0, 80.0], \"xaxis\": \"x\", \"y\": [5.14, 3.0500000000000003, 2.3000000000000003, 1.82, 1.67, 1.52, 1.42, 1.36, 1.2800000000000002, 1.1700000000000002, 1.16, 0.9600000000000001, 0.96, 0.9600000000000001, 0.93, 0.9299999999999999, 0.9000000000000001, 0.73, 0.72, 0.7200000000000001, 0.71, 0.6599999999999999, 0.65, 0.65, 0.63, 0.63, 0.6300000000000001, 0.56, 0.55, 0.53, 0.52, 0.47, 0.47, 0.44999999999999996, 0.44000000000000006, 0.43, 0.41, 0.41000000000000003, 0.4, 0.4, 0.38, 0.36, 0.35, 0.35000000000000003, 0.35, 0.33, 0.32000000000000006, 0.31000000000000005, 0.30000000000000004, 0.28, 0.29000000000000004, 0.28, 0.26, 0.25, 0.24, 0.24000000000000002, 0.24, 0.22999999999999998, 0.23, 0.22, 0.22, 0.22, 0.23, 0.22, 0.2, 0.2, 0.19999999999999998, 0.19999999999999998, 0.18000000000000002, 0.18999999999999997, 0.19999999999999998, 0.18000000000000002, 0.18999999999999997, 0.18, 0.17, 0.17, 0.17, 0.17, 0.16, 0.16, 0.15, 0.16000000000000003, 0.15, 0.15, 0.13999999999999999, 0.15000000000000002, 0.15000000000000002, 0.14, 0.14, 0.14, 0.13, 0.13999999999999999, 0.13, 0.13, 0.13, 0.12, 0.12, 0.12000000000000001, 0.12, 0.12, 0.11, 0.11, 0.09999999999999999, 0.11, 0.11, 0.09999999999999999, 0.09999999999999999, 0.08, 0.08, 0.08, 0.09, 0.08, 0.08, 0.08, 0.08, 0.08, 0.07, 0.08, 0.06999999999999999, 0.07, 0.06999999999999999, 0.06, 0.06999999999999999, 0.06999999999999999, 0.060000000000000005, 0.06, 0.06, 0.05, 0.05, 0.05, 0.05, 0.060000000000000005, 0.05, 0.05, 0.05, 0.05, 0.05, 0.05, 0.04, 0.05, 0.04, 0.04, 0.04, 0.04, 0.04, 0.04, 0.04, 0.04, 0.03, 0.03, 0.03, 0.03, 0.03, 0.03, 0.03, 0.03, 0.03, 0.03, 0.03, 0.02, 0.03, 0.02, 0.03, 0.03, 0.02, 0.02, 0.02, 0.02, 0.02, 0.02, 0.02, 0.02, 0.02, 0.02, 0.02, 0.02, 0.02, 0.02, 0.02, 0.02, 0.02, 0.02, 0.01, 0.01, 0.01, 0.01, 0.01, 0.01, 0.01, 0.01, 0.01, 0.01, 0.01, 0.01, 0.01, 0.01, 0.01], \"yaxis\": \"y\"}],\n",
       "                        {\"height\": 600, \"legend\": {\"tracegroupgap\": 0}, \"template\": {\"data\": {\"bar\": [{\"error_x\": {\"color\": \"#2a3f5f\"}, \"error_y\": {\"color\": \"#2a3f5f\"}, \"marker\": {\"line\": {\"color\": \"#E5ECF6\", \"width\": 0.5}}, \"type\": \"bar\"}], \"barpolar\": [{\"marker\": {\"line\": {\"color\": \"#E5ECF6\", \"width\": 0.5}}, \"type\": \"barpolar\"}], \"carpet\": [{\"aaxis\": {\"endlinecolor\": \"#2a3f5f\", \"gridcolor\": \"white\", \"linecolor\": \"white\", \"minorgridcolor\": \"white\", \"startlinecolor\": \"#2a3f5f\"}, \"baxis\": {\"endlinecolor\": \"#2a3f5f\", \"gridcolor\": \"white\", \"linecolor\": \"white\", \"minorgridcolor\": \"white\", \"startlinecolor\": \"#2a3f5f\"}, \"type\": \"carpet\"}], \"choropleth\": [{\"colorbar\": {\"outlinewidth\": 0, \"ticks\": \"\"}, \"type\": \"choropleth\"}], \"contour\": [{\"colorbar\": {\"outlinewidth\": 0, \"ticks\": \"\"}, \"colorscale\": [[0.0, \"#0d0887\"], [0.1111111111111111, \"#46039f\"], [0.2222222222222222, \"#7201a8\"], [0.3333333333333333, \"#9c179e\"], [0.4444444444444444, \"#bd3786\"], [0.5555555555555556, \"#d8576b\"], [0.6666666666666666, \"#ed7953\"], [0.7777777777777778, \"#fb9f3a\"], [0.8888888888888888, \"#fdca26\"], [1.0, \"#f0f921\"]], \"type\": \"contour\"}], \"contourcarpet\": [{\"colorbar\": {\"outlinewidth\": 0, \"ticks\": \"\"}, \"type\": \"contourcarpet\"}], \"heatmap\": [{\"colorbar\": {\"outlinewidth\": 0, \"ticks\": \"\"}, \"colorscale\": [[0.0, \"#0d0887\"], [0.1111111111111111, \"#46039f\"], [0.2222222222222222, \"#7201a8\"], [0.3333333333333333, \"#9c179e\"], [0.4444444444444444, \"#bd3786\"], [0.5555555555555556, \"#d8576b\"], [0.6666666666666666, \"#ed7953\"], [0.7777777777777778, \"#fb9f3a\"], [0.8888888888888888, \"#fdca26\"], [1.0, \"#f0f921\"]], \"type\": \"heatmap\"}], \"heatmapgl\": [{\"colorbar\": {\"outlinewidth\": 0, \"ticks\": \"\"}, \"colorscale\": [[0.0, \"#0d0887\"], [0.1111111111111111, \"#46039f\"], [0.2222222222222222, \"#7201a8\"], [0.3333333333333333, \"#9c179e\"], [0.4444444444444444, \"#bd3786\"], [0.5555555555555556, \"#d8576b\"], [0.6666666666666666, \"#ed7953\"], [0.7777777777777778, \"#fb9f3a\"], [0.8888888888888888, \"#fdca26\"], [1.0, \"#f0f921\"]], \"type\": \"heatmapgl\"}], \"histogram\": [{\"marker\": {\"colorbar\": {\"outlinewidth\": 0, \"ticks\": \"\"}}, \"type\": \"histogram\"}], \"histogram2d\": [{\"colorbar\": {\"outlinewidth\": 0, \"ticks\": \"\"}, \"colorscale\": [[0.0, \"#0d0887\"], [0.1111111111111111, \"#46039f\"], [0.2222222222222222, \"#7201a8\"], [0.3333333333333333, \"#9c179e\"], [0.4444444444444444, \"#bd3786\"], [0.5555555555555556, \"#d8576b\"], [0.6666666666666666, \"#ed7953\"], [0.7777777777777778, \"#fb9f3a\"], [0.8888888888888888, \"#fdca26\"], [1.0, \"#f0f921\"]], \"type\": \"histogram2d\"}], \"histogram2dcontour\": [{\"colorbar\": {\"outlinewidth\": 0, \"ticks\": \"\"}, \"colorscale\": [[0.0, \"#0d0887\"], [0.1111111111111111, \"#46039f\"], [0.2222222222222222, \"#7201a8\"], [0.3333333333333333, \"#9c179e\"], [0.4444444444444444, \"#bd3786\"], [0.5555555555555556, \"#d8576b\"], [0.6666666666666666, \"#ed7953\"], [0.7777777777777778, \"#fb9f3a\"], [0.8888888888888888, \"#fdca26\"], [1.0, \"#f0f921\"]], \"type\": \"histogram2dcontour\"}], \"mesh3d\": [{\"colorbar\": {\"outlinewidth\": 0, \"ticks\": \"\"}, \"type\": \"mesh3d\"}], \"parcoords\": [{\"line\": {\"colorbar\": {\"outlinewidth\": 0, \"ticks\": \"\"}}, \"type\": \"parcoords\"}], \"scatter\": [{\"marker\": {\"colorbar\": {\"outlinewidth\": 0, \"ticks\": \"\"}}, \"type\": \"scatter\"}], \"scatter3d\": [{\"line\": {\"colorbar\": {\"outlinewidth\": 0, \"ticks\": \"\"}}, \"marker\": {\"colorbar\": {\"outlinewidth\": 0, \"ticks\": \"\"}}, \"type\": \"scatter3d\"}], \"scattercarpet\": [{\"marker\": {\"colorbar\": {\"outlinewidth\": 0, \"ticks\": \"\"}}, \"type\": \"scattercarpet\"}], \"scattergeo\": [{\"marker\": {\"colorbar\": {\"outlinewidth\": 0, \"ticks\": \"\"}}, \"type\": \"scattergeo\"}], \"scattergl\": [{\"marker\": {\"colorbar\": {\"outlinewidth\": 0, \"ticks\": \"\"}}, \"type\": \"scattergl\"}], \"scattermapbox\": [{\"marker\": {\"colorbar\": {\"outlinewidth\": 0, \"ticks\": \"\"}}, \"type\": \"scattermapbox\"}], \"scatterpolar\": [{\"marker\": {\"colorbar\": {\"outlinewidth\": 0, \"ticks\": \"\"}}, \"type\": \"scatterpolar\"}], \"scatterpolargl\": [{\"marker\": {\"colorbar\": {\"outlinewidth\": 0, \"ticks\": \"\"}}, \"type\": \"scatterpolargl\"}], \"scatterternary\": [{\"marker\": {\"colorbar\": {\"outlinewidth\": 0, \"ticks\": \"\"}}, \"type\": \"scatterternary\"}], \"surface\": [{\"colorbar\": {\"outlinewidth\": 0, \"ticks\": \"\"}, \"colorscale\": [[0.0, \"#0d0887\"], [0.1111111111111111, \"#46039f\"], [0.2222222222222222, \"#7201a8\"], [0.3333333333333333, \"#9c179e\"], [0.4444444444444444, \"#bd3786\"], [0.5555555555555556, \"#d8576b\"], [0.6666666666666666, \"#ed7953\"], [0.7777777777777778, \"#fb9f3a\"], [0.8888888888888888, \"#fdca26\"], [1.0, \"#f0f921\"]], \"type\": \"surface\"}], \"table\": [{\"cells\": {\"fill\": {\"color\": \"#EBF0F8\"}, \"line\": {\"color\": \"white\"}}, \"header\": {\"fill\": {\"color\": \"#C8D4E3\"}, \"line\": {\"color\": \"white\"}}, \"type\": \"table\"}]}, \"layout\": {\"annotationdefaults\": {\"arrowcolor\": \"#2a3f5f\", \"arrowhead\": 0, \"arrowwidth\": 1}, \"colorscale\": {\"diverging\": [[0, \"#8e0152\"], [0.1, \"#c51b7d\"], [0.2, \"#de77ae\"], [0.3, \"#f1b6da\"], [0.4, \"#fde0ef\"], [0.5, \"#f7f7f7\"], [0.6, \"#e6f5d0\"], [0.7, \"#b8e186\"], [0.8, \"#7fbc41\"], [0.9, \"#4d9221\"], [1, \"#276419\"]], \"sequential\": [[0.0, \"#0d0887\"], [0.1111111111111111, \"#46039f\"], [0.2222222222222222, \"#7201a8\"], [0.3333333333333333, \"#9c179e\"], [0.4444444444444444, \"#bd3786\"], [0.5555555555555556, \"#d8576b\"], [0.6666666666666666, \"#ed7953\"], [0.7777777777777778, \"#fb9f3a\"], [0.8888888888888888, \"#fdca26\"], [1.0, \"#f0f921\"]], \"sequentialminus\": [[0.0, \"#0d0887\"], [0.1111111111111111, \"#46039f\"], [0.2222222222222222, \"#7201a8\"], [0.3333333333333333, \"#9c179e\"], [0.4444444444444444, \"#bd3786\"], [0.5555555555555556, \"#d8576b\"], [0.6666666666666666, \"#ed7953\"], [0.7777777777777778, \"#fb9f3a\"], [0.8888888888888888, \"#fdca26\"], [1.0, \"#f0f921\"]]}, \"colorway\": [\"#636efa\", \"#EF553B\", \"#00cc96\", \"#ab63fa\", \"#FFA15A\", \"#19d3f3\", \"#FF6692\", \"#B6E880\", \"#FF97FF\", \"#FECB52\"], \"font\": {\"color\": \"#2a3f5f\"}, \"geo\": {\"bgcolor\": \"white\", \"lakecolor\": \"white\", \"landcolor\": \"#E5ECF6\", \"showlakes\": true, \"showland\": true, \"subunitcolor\": \"white\"}, \"hoverlabel\": {\"align\": \"left\"}, \"hovermode\": \"closest\", \"mapbox\": {\"style\": \"light\"}, \"paper_bgcolor\": \"white\", \"plot_bgcolor\": \"#E5ECF6\", \"polar\": {\"angularaxis\": {\"gridcolor\": \"white\", \"linecolor\": \"white\", \"ticks\": \"\"}, \"bgcolor\": \"#E5ECF6\", \"radialaxis\": {\"gridcolor\": \"white\", \"linecolor\": \"white\", \"ticks\": \"\"}}, \"scene\": {\"xaxis\": {\"backgroundcolor\": \"#E5ECF6\", \"gridcolor\": \"white\", \"gridwidth\": 2, \"linecolor\": \"white\", \"showbackground\": true, \"ticks\": \"\", \"zerolinecolor\": \"white\"}, \"yaxis\": {\"backgroundcolor\": \"#E5ECF6\", \"gridcolor\": \"white\", \"gridwidth\": 2, \"linecolor\": \"white\", \"showbackground\": true, \"ticks\": \"\", \"zerolinecolor\": \"white\"}, \"zaxis\": {\"backgroundcolor\": \"#E5ECF6\", \"gridcolor\": \"white\", \"gridwidth\": 2, \"linecolor\": \"white\", \"showbackground\": true, \"ticks\": \"\", \"zerolinecolor\": \"white\"}}, \"shapedefaults\": {\"line\": {\"color\": \"#2a3f5f\"}}, \"ternary\": {\"aaxis\": {\"gridcolor\": \"white\", \"linecolor\": \"white\", \"ticks\": \"\"}, \"baxis\": {\"gridcolor\": \"white\", \"linecolor\": \"white\", \"ticks\": \"\"}, \"bgcolor\": \"#E5ECF6\", \"caxis\": {\"gridcolor\": \"white\", \"linecolor\": \"white\", \"ticks\": \"\"}}, \"title\": {\"x\": 0.05}, \"xaxis\": {\"automargin\": true, \"gridcolor\": \"white\", \"linecolor\": \"white\", \"ticks\": \"\", \"zerolinecolor\": \"white\", \"zerolinewidth\": 2}, \"yaxis\": {\"automargin\": true, \"gridcolor\": \"white\", \"linecolor\": \"white\", \"ticks\": \"\", \"zerolinecolor\": \"white\", \"zerolinewidth\": 2}}}, \"title\": {\"text\": \"\\u041a\\u043e\\u0440\\u0440\\u0435\\u043b\\u044f\\u0446\\u0438\\u044f \\u043f\\u0440\\u043e\\u0434\\u0430\\u0436 \\u0438 critic_score\"}, \"xaxis\": {\"anchor\": \"y\", \"domain\": [0.0, 0.98], \"title\": {\"text\": \"critic_score\"}}, \"yaxis\": {\"anchor\": \"x\", \"domain\": [0.0, 1.0], \"title\": {\"text\": \"total_sales\"}}},\n",
       "                        {\"responsive\": true}\n",
       "                    ).then(function(){\n",
       "                            \n",
       "var gd = document.getElementById('f9b4629f-4bcc-48ac-b8de-8f7d1dc49aff');\n",
       "var x = new MutationObserver(function (mutations, observer) {{\n",
       "        var display = window.getComputedStyle(gd).display;\n",
       "        if (!display || display === 'none') {{\n",
       "            console.log([gd, 'removed!']);\n",
       "            Plotly.purge(gd);\n",
       "            observer.disconnect();\n",
       "        }}\n",
       "}});\n",
       "\n",
       "// Listen for the removal of the full notebook cells\n",
       "var notebookContainer = gd.closest('#notebook-container');\n",
       "if (notebookContainer) {{\n",
       "    x.observe(notebookContainer, {childList: true});\n",
       "}}\n",
       "\n",
       "// Listen for the clearing of the current output cell\n",
       "var outputEl = gd.closest('.output');\n",
       "if (outputEl) {{\n",
       "    x.observe(outputEl, {childList: true});\n",
       "}}\n",
       "\n",
       "                        })\n",
       "                };\n",
       "                });\n",
       "            </script>\n",
       "        </div>"
      ]
     },
     "metadata": {},
     "output_type": "display_data"
    },
    {
     "data": {
      "text/html": [
       "        <script type=\"text/javascript\">\n",
       "        window.PlotlyConfig = {MathJaxConfig: 'local'};\n",
       "        if (window.MathJax) {MathJax.Hub.Config({SVG: {font: \"STIX-Web\"}});}\n",
       "        if (typeof require !== 'undefined') {\n",
       "        require.undef(\"plotly\");\n",
       "        requirejs.config({\n",
       "            paths: {\n",
       "                'plotly': ['https://cdn.plot.ly/plotly-latest.min']\n",
       "            }\n",
       "        });\n",
       "        require(['plotly'], function(Plotly) {\n",
       "            window._Plotly = Plotly;\n",
       "        });\n",
       "        }\n",
       "        </script>\n",
       "        "
      ]
     },
     "metadata": {},
     "output_type": "display_data"
    },
    {
     "data": {
      "text/html": [
       "<div>\n",
       "        \n",
       "        \n",
       "            <div id=\"2dc4b5f5-e048-4a68-ac99-12463b6e8ffe\" class=\"plotly-graph-div\" style=\"height:600px; width:100%;\"></div>\n",
       "            <script type=\"text/javascript\">\n",
       "                require([\"plotly\"], function(Plotly) {\n",
       "                    window.PLOTLYENV=window.PLOTLYENV || {};\n",
       "                    \n",
       "                if (document.getElementById(\"2dc4b5f5-e048-4a68-ac99-12463b6e8ffe\")) {\n",
       "                    Plotly.newPlot(\n",
       "                        '2dc4b5f5-e048-4a68-ac99-12463b6e8ffe',\n",
       "                        [{\"hoverlabel\": {\"namelength\": 0}, \"hovertemplate\": \"platform=PS4<br>user_score=%{x}<br>total_sales=%{y}\", \"legendgroup\": \"platform=PS4\", \"marker\": {\"color\": \"#636efa\", \"symbol\": \"circle\"}, \"mode\": \"markers\", \"name\": \"platform=PS4\", \"showlegend\": true, \"type\": \"scatter\", \"x\": [8.3, 4.3, 5.7, 5.0, 6.5, 5.7, 6.1, 7.9, 8.1, 3.4, 8.4, 6.3, 7.7, 9.2, 4.9, 7.6, 6.7, 3.7, 7.0, 6.9, 8.2, 6.8, 5.9, 6.3, 8.1, 7.8, 7.9, 7.7, 6.8, 8.6, 7.0, 6.3, 7.3, 6.1, 6.1, 5.0, 7.9, 6.1, 7.4, 6.2, 6.0, 7.1, 6.7, 6.5, 5.1, 7.3, 4.9, 6.6, 6.5, 5.4, 4.5, 8.2, 8.8, 7.7, 8.1, 6.5, 6.2, 7.4, 5.1, 8.2, 7.8, 8.1, 7.7, 6.6, 6.1, 8.5, 4.3, 6.2, 7.1, 7.8, 3.4, 7.0, 5.2, 7.8, 6.2, 7.1, 8.4, 7.2, 7.0, 7.1, 7.7, 7.8, 7.5, 7.1, 7.1, 6.3, 7.7, 5.5, 7.6, 6.6, 6.9, 3.6, 7.7, 3.7, 6.6, 7.7, 7.4, 7.6, 5.6, 8.0, 7.2, 5.5, 8.7, 6.8, 8.6, 8.0, 5.2, 5.8, 6.3, 7.6, 8.5, 8.7, 8.1, 6.8, 3.8, 7.8, 4.7, 7.9, 8.3, 5.8, 6.9, 7.1, 3.3, 7.3, 5.7, 6.6, 8.1, 8.5, 8.1, 6.8, 7.1, 6.3, 6.5, 8.1, 2.7, 5.6, 7.5, 7.0, 2.0, 8.4, 1.5, 7.4, 6.8, 8.2, 5.9, 7.5, 4.1, 7.7, 7.8, 6.4, 8.0, 6.1, 7.6, 6.5, 2.9, 8.7, 8.1, 7.7, 5.5, 8.0, 5.9, 6.4, 8.6, 8.2, 7.6, 7.4, 8.1, 6.9, 7.3, 3.4, 8.5, 7.9, 8.0, 5.9, 6.3, 6.8, 6.0, 6.5, 5.5, 7.4, 6.6, 6.7, 7.6, 6.3, 7.8, 7.6, 6.1, 6.7, 7.3, 8.0, 7.1, 7.7, 6.2, 8.1, 7.8, 8.6, 7.9, 7.2, 6.2, 7.6, 7.9, 6.7, 4.1, 1.9, 3.5, 7.8, 8.0, 8.3, 7.4, 5.7, 3.8, 8.0, 8.0, 8.1, 7.0, 8.1, 6.9, 6.8, 8.3, 6.6, 7.9, 6.4, 7.5, 5.1, 6.9, 7.4, 8.0, 7.6, 8.4, 6.6, 6.6, 7.8, 6.2, 6.4, 7.1, 6.5, 7.9, 4.5, 4.7, 8.5, 2.0, 6.0, 5.8, 6.2, 2.3, 6.8, 7.5, 7.9, 5.5], \"xaxis\": \"x\", \"y\": [12.620000000000001, 8.58, 7.66, 7.6000000000000005, 7.17, 6.08, 5.640000000000001, 5.39, 4.62, 4.470000000000001, 4.07, 4.05, 4.04, 3.9699999999999998, 3.96, 3.96, 3.87, 3.8299999999999996, 3.8, 3.58, 3.4200000000000004, 3.3899999999999997, 3.2399999999999998, 3.01, 2.96, 2.86, 2.7899999999999996, 2.78, 2.6900000000000004, 2.48, 2.4499999999999997, 2.2600000000000002, 2.21, 2.19, 2.14, 2.11, 2.09, 2.07, 2.01, 1.98, 1.9200000000000002, 1.9100000000000001, 1.8800000000000001, 1.85, 1.81, 1.7900000000000003, 1.74, 1.7200000000000002, 1.73, 1.7200000000000002, 1.6900000000000002, 1.6600000000000001, 1.6600000000000001, 1.62, 1.54, 1.44, 1.2699999999999998, 1.21, 1.15, 1.14, 1.13, 1.1199999999999999, 1.1, 1.0799999999999998, 1.05, 1.02, 0.9700000000000001, 0.93, 0.92, 0.93, 0.9, 0.9, 0.91, 0.88, 0.86, 0.78, 0.7600000000000001, 0.75, 0.73, 0.73, 0.72, 0.7, 0.71, 0.6900000000000001, 0.67, 0.67, 0.64, 0.63, 0.61, 0.6, 0.6, 0.6, 0.54, 0.51, 0.52, 0.49000000000000005, 0.47000000000000003, 0.45, 0.44, 0.43, 0.43, 0.42, 0.42, 0.4, 0.38999999999999996, 0.39999999999999997, 0.38, 0.39, 0.38, 0.38, 0.37000000000000005, 0.36000000000000004, 0.36, 0.36000000000000004, 0.35000000000000003, 0.36, 0.34, 0.34, 0.34, 0.33, 0.32, 0.32, 0.3, 0.31, 0.3, 0.3, 0.29, 0.27, 0.26, 0.26, 0.26, 0.25, 0.25, 0.24000000000000002, 0.24000000000000002, 0.24000000000000002, 0.23, 0.23, 0.22, 0.21000000000000002, 0.19999999999999998, 0.2, 0.19999999999999998, 0.2, 0.19999999999999998, 0.19, 0.19, 0.19999999999999998, 0.18, 0.18, 0.18, 0.17, 0.16, 0.16999999999999998, 0.16, 0.15, 0.13999999999999999, 0.14, 0.13999999999999999, 0.13999999999999999, 0.13999999999999999, 0.13, 0.13, 0.12000000000000001, 0.13, 0.12, 0.12, 0.11, 0.12, 0.12000000000000001, 0.12000000000000001, 0.11, 0.09999999999999999, 0.09, 0.1, 0.09, 0.1, 0.09999999999999999, 0.09000000000000001, 0.09, 0.09, 0.08, 0.08, 0.08, 0.08, 0.06999999999999999, 0.09000000000000001, 0.06999999999999999, 0.06999999999999999, 0.07, 0.08, 0.06999999999999999, 0.07, 0.06999999999999999, 0.07, 0.06999999999999999, 0.07, 0.06999999999999999, 0.060000000000000005, 0.060000000000000005, 0.060000000000000005, 0.06999999999999999, 0.060000000000000005, 0.060000000000000005, 0.05, 0.05, 0.05, 0.05, 0.04, 0.05, 0.05, 0.05, 0.05, 0.05, 0.05, 0.04, 0.03, 0.05, 0.04, 0.04, 0.04, 0.04, 0.03, 0.03, 0.04, 0.03, 0.03, 0.03, 0.02, 0.02, 0.02, 0.02, 0.02, 0.02, 0.02, 0.02, 0.02, 0.02, 0.02, 0.02, 0.01, 0.01, 0.02, 0.01, 0.01, 0.01, 0.01, 0.01, 0.01], \"yaxis\": \"y\"}, {\"hoverlabel\": {\"namelength\": 0}, \"hovertemplate\": \"platform=3DS<br>user_score=%{x}<br>total_sales=%{y}\", \"legendgroup\": \"platform=3DS\", \"marker\": {\"color\": \"#EF553B\", \"symbol\": \"circle\"}, \"mode\": \"markers\", \"name\": \"platform=3DS\", \"showlegend\": true, \"type\": \"scatter\", \"x\": [7.2, 8.7, 8.4, 8.7, 8.9, 6.9, 9.0, 5.6, 9.1, 6.3, 8.8, 8.2, 6.1, 8.7, 6.3, 8.8, 8.6, 7.6, 6.9, 8.7, 7.5, 8.2, 5.2, 8.5, 8.5, 7.9, 5.2, 8.0, 8.1, 4.6, 7.4, 8.3, 8.1, 7.0, 7.8, 6.5, 7.7, 7.4, 8.2, 7.6, 6.0, 8.2, 4.5, 7.6, 7.3, 7.6, 7.8, 8.2, 4.8, 6.6, 8.5, 3.6, 6.8, 3.7, 6.3, 6.8, 7.6, 8.2, 7.1, 8.7, 6.4, 7.9, 6.1, 6.8, 7.7, 7.6, 7.4, 7.1, 7.6, 5.9, 7.1, 8.2, 6.8, 5.4, 6.3, 5.0, 8.2, 7.4, 7.7, 6.8, 6.2, 7.9, 6.4, 7.1, 5.6, 6.1, 8.5, 7.5, 7.8, 5.1, 8.5, 8.3, 5.8, 5.6, 6.3, 7.7, 8.8, 9.0, 2.4, 8.4], \"xaxis\": \"x\", \"y\": [9.900000000000002, 9.17, 4.59, 3.89, 3.1, 3.05, 2.34, 2.31, 2.02, 1.9200000000000002, 1.83, 1.5800000000000003, 1.3800000000000001, 1.26, 1.27, 1.25, 1.13, 1.11, 0.9400000000000002, 0.93, 0.93, 0.9299999999999999, 0.8900000000000001, 0.8700000000000001, 0.8, 0.76, 0.75, 0.72, 0.7200000000000001, 0.6300000000000001, 0.6200000000000001, 0.5800000000000001, 0.56, 0.53, 0.49000000000000005, 0.48, 0.49, 0.48, 0.4800000000000001, 0.47000000000000003, 0.42999999999999994, 0.42000000000000004, 0.42, 0.39, 0.39, 0.38, 0.38, 0.38, 0.36, 0.33, 0.32000000000000006, 0.31000000000000005, 0.31000000000000005, 0.29000000000000004, 0.29000000000000004, 0.27, 0.26, 0.26, 0.25, 0.24000000000000002, 0.24, 0.24, 0.22, 0.21000000000000002, 0.22, 0.21, 0.22, 0.21, 0.2, 0.19, 0.18000000000000002, 0.16, 0.16000000000000003, 0.15000000000000002, 0.15000000000000002, 0.14, 0.15, 0.12000000000000001, 0.13, 0.11, 0.09999999999999999, 0.09999999999999999, 0.09, 0.09, 0.07, 0.08, 0.08, 0.06, 0.06, 0.04, 0.04, 0.04, 0.03, 0.03, 0.03, 0.03, 0.03, 0.02, 0.02, 0.01], \"yaxis\": \"y\"}, {\"hoverlabel\": {\"namelength\": 0}, \"hovertemplate\": \"platform=XOne<br>user_score=%{x}<br>total_sales=%{y}\", \"legendgroup\": \"platform=XOne\", \"marker\": {\"color\": \"#00cc96\", \"symbol\": \"circle\"}, \"mode\": \"markers\", \"name\": \"platform=XOne\", \"showlegend\": true, \"type\": \"scatter\", \"x\": [7.9, 5.4, 6.4, 6.2, 4.1, 5.5, 7.5, 4.4, 7.2, 6.4, 4.3, 5.5, 3.1, 6.1, 6.2, 8.2, 5.9, 5.4, 6.9, 6.6, 7.9, 6.3, 7.5, 6.8, 5.8, 6.4, 6.6, 8.2, 6.1, 7.3, 8.0, 8.0, 6.2, 6.9, 9.2, 6.1, 7.8, 8.4, 5.9, 5.1, 5.2, 5.8, 7.7, 7.4, 5.6, 6.2, 6.9, 5.7, 7.0, 6.4, 5.9, 7.7, 7.3, 7.4, 5.8, 7.8, 7.3, 6.7, 5.9, 5.1, 4.6, 5.1, 5.7, 8.0, 5.7, 6.8, 5.1, 7.5, 6.9, 7.8, 8.1, 6.0, 6.4, 6.3, 7.0, 7.8, 7.1, 6.0, 6.9, 3.2, 8.6, 7.7, 5.1, 6.6, 7.9, 6.1, 7.2, 8.5, 7.0, 5.4, 4.3, 6.8, 5.5, 5.8, 5.3, 7.1, 5.5, 4.0, 6.2, 8.3, 6.8, 6.7, 6.8, 3.1, 7.3, 3.0, 7.0, 8.3, 7.0, 7.2, 4.4, 7.0, 6.9, 8.3, 7.5, 8.0, 7.2, 6.6, 7.3, 4.1, 7.9, 8.7, 8.0, 2.1, 8.2, 5.6, 7.2, 6.2, 5.3, 7.5, 6.0, 3.1, 7.6, 6.8, 5.8, 7.7, 6.9, 8.4, 5.2, 4.9, 7.1, 7.1, 6.1, 8.1, 6.3, 6.0, 8.9, 7.7, 8.0, 5.4, 8.1, 7.4, 7.1, 4.2, 6.6, 7.2, 6.7, 7.9, 8.1, 3.1, 7.5, 6.3, 6.0, 8.2, 6.7], \"xaxis\": \"x\", \"y\": [5.47, 5.26, 4.49, 4.22, 3.5, 3.37, 3.28, 3.25, 3.23, 2.95, 2.92, 2.65, 2.4200000000000004, 2.42, 2.34, 2.25, 2.1999999999999997, 2.18, 2.1700000000000004, 2.02, 1.7999999999999998, 1.73, 1.6400000000000001, 1.57, 1.5700000000000003, 1.56, 1.4900000000000002, 1.4000000000000001, 1.3900000000000001, 1.38, 1.3800000000000001, 1.3599999999999999, 1.3399999999999999, 1.3399999999999999, 1.3, 1.2900000000000003, 1.29, 1.2800000000000002, 1.23, 1.21, 1.2000000000000002, 1.1600000000000001, 1.1300000000000001, 1.08, 1.06, 1.03, 0.93, 0.8999999999999999, 0.91, 0.88, 0.8, 0.79, 0.75, 0.6799999999999999, 0.7, 0.6800000000000002, 0.6599999999999999, 0.6599999999999999, 0.6400000000000001, 0.6300000000000001, 0.6200000000000001, 0.6000000000000001, 0.5900000000000001, 0.5700000000000001, 0.5700000000000001, 0.56, 0.55, 0.53, 0.53, 0.49999999999999994, 0.4799999999999999, 0.48, 0.47, 0.45999999999999996, 0.44999999999999996, 0.43, 0.44, 0.42, 0.41, 0.41, 0.38999999999999996, 0.36, 0.33999999999999997, 0.33999999999999997, 0.33999999999999997, 0.31999999999999995, 0.31999999999999995, 0.31000000000000005, 0.29000000000000004, 0.28, 0.27, 0.27, 0.26, 0.26, 0.24999999999999997, 0.24, 0.24000000000000002, 0.24000000000000002, 0.24000000000000002, 0.24000000000000002, 0.22, 0.22, 0.21, 0.19999999999999998, 0.19999999999999998, 0.19999999999999998, 0.18, 0.18, 0.18, 0.16, 0.16, 0.16000000000000003, 0.16999999999999998, 0.15000000000000002, 0.15000000000000002, 0.15000000000000002, 0.15000000000000002, 0.14, 0.14, 0.14, 0.14, 0.13, 0.13, 0.12, 0.11, 0.10999999999999999, 0.11, 0.11, 0.09999999999999999, 0.1, 0.09999999999999999, 0.09, 0.08, 0.06999999999999999, 0.060000000000000005, 0.06, 0.060000000000000005, 0.060000000000000005, 0.05, 0.05, 0.05, 0.060000000000000005, 0.04, 0.04, 0.04, 0.04, 0.04, 0.04, 0.03, 0.03, 0.03, 0.02, 0.02, 0.02, 0.02, 0.02, 0.01, 0.01, 0.01, 0.01, 0.01, 0.01, 0.01, 0.01, 0.01], \"yaxis\": \"y\"}, {\"hoverlabel\": {\"namelength\": 0}, \"hovertemplate\": \"platform=PC<br>user_score=%{x}<br>total_sales=%{y}\", \"legendgroup\": \"platform=PC\", \"marker\": {\"color\": \"#ab63fa\", \"symbol\": \"circle\"}, \"mode\": \"markers\", \"name\": \"platform=PC\", \"showlegend\": true, \"type\": \"scatter\", \"x\": [4.0, 3.9, 7.9, 4.8, 7.9, 4.2, 2.2, 6.0, 5.4, 7.9, 6.7, 5.5, 8.2, 7.5, 6.2, 8.2, 5.7, 5.9, 4.2, 9.3, 8.2, 8.5, 8.0, 7.7, 5.5, 6.7, 6.5, 6.2, 3.0, 6.8, 8.3, 5.9, 6.0, 8.2, 4.7, 7.6, 5.8, 4.5, 4.6, 6.6, 7.6, 5.5, 8.0, 6.9, 2.1, 5.4, 7.5, 7.5, 6.6, 6.2, 4.2, 5.9, 5.9, 3.3, 7.3, 7.0, 7.3, 7.1, 6.9, 8.2, 5.6, 7.3, 8.2, 5.9, 6.5, 4.4, 7.9, 3.2, 8.6, 8.6, 4.3, 7.4, 7.4, 3.5, 7.1, 8.2, 4.9, 8.1, 4.8, 6.4, 7.5, 7.4, 7.8, 8.2, 6.9, 8.4, 5.3, 8.9, 7.6, 3.8, 3.0, 8.7, 7.3, 2.5, 7.1, 8.2, 7.9, 6.0, 7.0, 4.2, 6.4, 7.4, 7.3, 4.4, 5.7, 4.8, 4.3, 7.6, 5.7, 6.9, 6.9, 8.0, 5.8, 6.5, 7.5, 3.3, 7.7, 8.5, 8.4, 8.6, 8.0, 7.9, 8.0, 5.7, 4.4, 5.8, 6.8, 2.9, 7.4, 8.2, 6.9, 6.7, 7.4, 3.6, 5.1, 6.5, 3.4, 5.4, 7.5, 8.6, 4.3, 5.9, 8.0, 7.0, 3.8, 7.1, 6.2, 7.7, 7.0, 3.5, 4.8, 7.5, 6.1, 6.3, 8.3, 8.7, 6.8, 7.6, 8.1, 5.3, 6.9, 6.8, 4.8, 6.1, 8.3, 6.2, 6.2, 7.7, 8.0, 6.4, 7.8, 5.4, 1.4, 3.7, 2.4, 6.5, 8.5, 5.4, 6.0, 7.4, 8.3, 8.7, 4.3, 7.6, 7.7, 6.2, 6.3, 7.7, 6.8, 7.3, 7.1, 7.1, 7.1, 6.8, 7.9, 7.9, 7.6], \"xaxis\": \"x\", \"y\": [5.14, 3.0500000000000003, 2.3000000000000003, 1.82, 1.67, 1.52, 1.42, 1.36, 1.2800000000000002, 1.1700000000000002, 1.16, 0.9600000000000001, 0.96, 0.9600000000000001, 0.93, 0.9299999999999999, 0.9000000000000001, 0.73, 0.72, 0.7200000000000001, 0.71, 0.6599999999999999, 0.65, 0.65, 0.63, 0.63, 0.6300000000000001, 0.56, 0.55, 0.53, 0.52, 0.47, 0.47, 0.44999999999999996, 0.44000000000000006, 0.43, 0.41, 0.41000000000000003, 0.4, 0.4, 0.38, 0.36, 0.35, 0.35000000000000003, 0.35, 0.33, 0.32000000000000006, 0.31000000000000005, 0.30000000000000004, 0.28, 0.29000000000000004, 0.28, 0.26, 0.25, 0.24, 0.24000000000000002, 0.24, 0.22999999999999998, 0.23, 0.22, 0.22, 0.22, 0.23, 0.22, 0.2, 0.2, 0.19999999999999998, 0.19999999999999998, 0.18000000000000002, 0.18999999999999997, 0.19999999999999998, 0.18000000000000002, 0.18999999999999997, 0.18, 0.17, 0.17, 0.17, 0.17, 0.16, 0.16, 0.15, 0.16000000000000003, 0.15, 0.15, 0.13999999999999999, 0.15000000000000002, 0.15000000000000002, 0.14, 0.14, 0.14, 0.13, 0.13999999999999999, 0.13, 0.13, 0.13, 0.12, 0.12, 0.12000000000000001, 0.12, 0.12, 0.11, 0.11, 0.09999999999999999, 0.11, 0.11, 0.09999999999999999, 0.09999999999999999, 0.08, 0.08, 0.08, 0.09, 0.08, 0.08, 0.08, 0.08, 0.08, 0.07, 0.08, 0.06999999999999999, 0.07, 0.06999999999999999, 0.06, 0.06999999999999999, 0.06999999999999999, 0.060000000000000005, 0.06, 0.06, 0.05, 0.05, 0.05, 0.05, 0.060000000000000005, 0.05, 0.05, 0.05, 0.05, 0.05, 0.05, 0.04, 0.05, 0.04, 0.04, 0.04, 0.04, 0.04, 0.04, 0.04, 0.04, 0.03, 0.03, 0.03, 0.03, 0.03, 0.03, 0.03, 0.03, 0.03, 0.03, 0.03, 0.02, 0.03, 0.02, 0.03, 0.03, 0.02, 0.02, 0.02, 0.02, 0.02, 0.02, 0.02, 0.02, 0.02, 0.02, 0.02, 0.02, 0.02, 0.02, 0.02, 0.02, 0.02, 0.02, 0.01, 0.01, 0.01, 0.01, 0.01, 0.01, 0.01, 0.01, 0.01, 0.01, 0.01, 0.01, 0.01, 0.01, 0.01], \"yaxis\": \"y\"}],\n",
       "                        {\"height\": 600, \"legend\": {\"tracegroupgap\": 0}, \"template\": {\"data\": {\"bar\": [{\"error_x\": {\"color\": \"#2a3f5f\"}, \"error_y\": {\"color\": \"#2a3f5f\"}, \"marker\": {\"line\": {\"color\": \"#E5ECF6\", \"width\": 0.5}}, \"type\": \"bar\"}], \"barpolar\": [{\"marker\": {\"line\": {\"color\": \"#E5ECF6\", \"width\": 0.5}}, \"type\": \"barpolar\"}], \"carpet\": [{\"aaxis\": {\"endlinecolor\": \"#2a3f5f\", \"gridcolor\": \"white\", \"linecolor\": \"white\", \"minorgridcolor\": \"white\", \"startlinecolor\": \"#2a3f5f\"}, \"baxis\": {\"endlinecolor\": \"#2a3f5f\", \"gridcolor\": \"white\", \"linecolor\": \"white\", \"minorgridcolor\": \"white\", \"startlinecolor\": \"#2a3f5f\"}, \"type\": \"carpet\"}], \"choropleth\": [{\"colorbar\": {\"outlinewidth\": 0, \"ticks\": \"\"}, \"type\": \"choropleth\"}], \"contour\": [{\"colorbar\": {\"outlinewidth\": 0, \"ticks\": \"\"}, \"colorscale\": [[0.0, \"#0d0887\"], [0.1111111111111111, \"#46039f\"], [0.2222222222222222, \"#7201a8\"], [0.3333333333333333, \"#9c179e\"], [0.4444444444444444, \"#bd3786\"], [0.5555555555555556, \"#d8576b\"], [0.6666666666666666, \"#ed7953\"], [0.7777777777777778, \"#fb9f3a\"], [0.8888888888888888, \"#fdca26\"], [1.0, \"#f0f921\"]], \"type\": \"contour\"}], \"contourcarpet\": [{\"colorbar\": {\"outlinewidth\": 0, \"ticks\": \"\"}, \"type\": \"contourcarpet\"}], \"heatmap\": [{\"colorbar\": {\"outlinewidth\": 0, \"ticks\": \"\"}, \"colorscale\": [[0.0, \"#0d0887\"], [0.1111111111111111, \"#46039f\"], [0.2222222222222222, \"#7201a8\"], [0.3333333333333333, \"#9c179e\"], [0.4444444444444444, \"#bd3786\"], [0.5555555555555556, \"#d8576b\"], [0.6666666666666666, \"#ed7953\"], [0.7777777777777778, \"#fb9f3a\"], [0.8888888888888888, \"#fdca26\"], [1.0, \"#f0f921\"]], \"type\": \"heatmap\"}], \"heatmapgl\": [{\"colorbar\": {\"outlinewidth\": 0, \"ticks\": \"\"}, \"colorscale\": [[0.0, \"#0d0887\"], [0.1111111111111111, \"#46039f\"], [0.2222222222222222, \"#7201a8\"], [0.3333333333333333, \"#9c179e\"], [0.4444444444444444, \"#bd3786\"], [0.5555555555555556, \"#d8576b\"], [0.6666666666666666, \"#ed7953\"], [0.7777777777777778, \"#fb9f3a\"], [0.8888888888888888, \"#fdca26\"], [1.0, \"#f0f921\"]], \"type\": \"heatmapgl\"}], \"histogram\": [{\"marker\": {\"colorbar\": {\"outlinewidth\": 0, \"ticks\": \"\"}}, \"type\": \"histogram\"}], \"histogram2d\": [{\"colorbar\": {\"outlinewidth\": 0, \"ticks\": \"\"}, \"colorscale\": [[0.0, \"#0d0887\"], [0.1111111111111111, \"#46039f\"], [0.2222222222222222, \"#7201a8\"], [0.3333333333333333, \"#9c179e\"], [0.4444444444444444, \"#bd3786\"], [0.5555555555555556, \"#d8576b\"], [0.6666666666666666, \"#ed7953\"], [0.7777777777777778, \"#fb9f3a\"], [0.8888888888888888, \"#fdca26\"], [1.0, \"#f0f921\"]], \"type\": \"histogram2d\"}], \"histogram2dcontour\": [{\"colorbar\": {\"outlinewidth\": 0, \"ticks\": \"\"}, \"colorscale\": [[0.0, \"#0d0887\"], [0.1111111111111111, \"#46039f\"], [0.2222222222222222, \"#7201a8\"], [0.3333333333333333, \"#9c179e\"], [0.4444444444444444, \"#bd3786\"], [0.5555555555555556, \"#d8576b\"], [0.6666666666666666, \"#ed7953\"], [0.7777777777777778, \"#fb9f3a\"], [0.8888888888888888, \"#fdca26\"], [1.0, \"#f0f921\"]], \"type\": \"histogram2dcontour\"}], \"mesh3d\": [{\"colorbar\": {\"outlinewidth\": 0, \"ticks\": \"\"}, \"type\": \"mesh3d\"}], \"parcoords\": [{\"line\": {\"colorbar\": {\"outlinewidth\": 0, \"ticks\": \"\"}}, \"type\": \"parcoords\"}], \"scatter\": [{\"marker\": {\"colorbar\": {\"outlinewidth\": 0, \"ticks\": \"\"}}, \"type\": \"scatter\"}], \"scatter3d\": [{\"line\": {\"colorbar\": {\"outlinewidth\": 0, \"ticks\": \"\"}}, \"marker\": {\"colorbar\": {\"outlinewidth\": 0, \"ticks\": \"\"}}, \"type\": \"scatter3d\"}], \"scattercarpet\": [{\"marker\": {\"colorbar\": {\"outlinewidth\": 0, \"ticks\": \"\"}}, \"type\": \"scattercarpet\"}], \"scattergeo\": [{\"marker\": {\"colorbar\": {\"outlinewidth\": 0, \"ticks\": \"\"}}, \"type\": \"scattergeo\"}], \"scattergl\": [{\"marker\": {\"colorbar\": {\"outlinewidth\": 0, \"ticks\": \"\"}}, \"type\": \"scattergl\"}], \"scattermapbox\": [{\"marker\": {\"colorbar\": {\"outlinewidth\": 0, \"ticks\": \"\"}}, \"type\": \"scattermapbox\"}], \"scatterpolar\": [{\"marker\": {\"colorbar\": {\"outlinewidth\": 0, \"ticks\": \"\"}}, \"type\": \"scatterpolar\"}], \"scatterpolargl\": [{\"marker\": {\"colorbar\": {\"outlinewidth\": 0, \"ticks\": \"\"}}, \"type\": \"scatterpolargl\"}], \"scatterternary\": [{\"marker\": {\"colorbar\": {\"outlinewidth\": 0, \"ticks\": \"\"}}, \"type\": \"scatterternary\"}], \"surface\": [{\"colorbar\": {\"outlinewidth\": 0, \"ticks\": \"\"}, \"colorscale\": [[0.0, \"#0d0887\"], [0.1111111111111111, \"#46039f\"], [0.2222222222222222, \"#7201a8\"], [0.3333333333333333, \"#9c179e\"], [0.4444444444444444, \"#bd3786\"], [0.5555555555555556, \"#d8576b\"], [0.6666666666666666, \"#ed7953\"], [0.7777777777777778, \"#fb9f3a\"], [0.8888888888888888, \"#fdca26\"], [1.0, \"#f0f921\"]], \"type\": \"surface\"}], \"table\": [{\"cells\": {\"fill\": {\"color\": \"#EBF0F8\"}, \"line\": {\"color\": \"white\"}}, \"header\": {\"fill\": {\"color\": \"#C8D4E3\"}, \"line\": {\"color\": \"white\"}}, \"type\": \"table\"}]}, \"layout\": {\"annotationdefaults\": {\"arrowcolor\": \"#2a3f5f\", \"arrowhead\": 0, \"arrowwidth\": 1}, \"colorscale\": {\"diverging\": [[0, \"#8e0152\"], [0.1, \"#c51b7d\"], [0.2, \"#de77ae\"], [0.3, \"#f1b6da\"], [0.4, \"#fde0ef\"], [0.5, \"#f7f7f7\"], [0.6, \"#e6f5d0\"], [0.7, \"#b8e186\"], [0.8, \"#7fbc41\"], [0.9, \"#4d9221\"], [1, \"#276419\"]], \"sequential\": [[0.0, \"#0d0887\"], [0.1111111111111111, \"#46039f\"], [0.2222222222222222, \"#7201a8\"], [0.3333333333333333, \"#9c179e\"], [0.4444444444444444, \"#bd3786\"], [0.5555555555555556, \"#d8576b\"], [0.6666666666666666, \"#ed7953\"], [0.7777777777777778, \"#fb9f3a\"], [0.8888888888888888, \"#fdca26\"], [1.0, \"#f0f921\"]], \"sequentialminus\": [[0.0, \"#0d0887\"], [0.1111111111111111, \"#46039f\"], [0.2222222222222222, \"#7201a8\"], [0.3333333333333333, \"#9c179e\"], [0.4444444444444444, \"#bd3786\"], [0.5555555555555556, \"#d8576b\"], [0.6666666666666666, \"#ed7953\"], [0.7777777777777778, \"#fb9f3a\"], [0.8888888888888888, \"#fdca26\"], [1.0, \"#f0f921\"]]}, \"colorway\": [\"#636efa\", \"#EF553B\", \"#00cc96\", \"#ab63fa\", \"#FFA15A\", \"#19d3f3\", \"#FF6692\", \"#B6E880\", \"#FF97FF\", \"#FECB52\"], \"font\": {\"color\": \"#2a3f5f\"}, \"geo\": {\"bgcolor\": \"white\", \"lakecolor\": \"white\", \"landcolor\": \"#E5ECF6\", \"showlakes\": true, \"showland\": true, \"subunitcolor\": \"white\"}, \"hoverlabel\": {\"align\": \"left\"}, \"hovermode\": \"closest\", \"mapbox\": {\"style\": \"light\"}, \"paper_bgcolor\": \"white\", \"plot_bgcolor\": \"#E5ECF6\", \"polar\": {\"angularaxis\": {\"gridcolor\": \"white\", \"linecolor\": \"white\", \"ticks\": \"\"}, \"bgcolor\": \"#E5ECF6\", \"radialaxis\": {\"gridcolor\": \"white\", \"linecolor\": \"white\", \"ticks\": \"\"}}, \"scene\": {\"xaxis\": {\"backgroundcolor\": \"#E5ECF6\", \"gridcolor\": \"white\", \"gridwidth\": 2, \"linecolor\": \"white\", \"showbackground\": true, \"ticks\": \"\", \"zerolinecolor\": \"white\"}, \"yaxis\": {\"backgroundcolor\": \"#E5ECF6\", \"gridcolor\": \"white\", \"gridwidth\": 2, \"linecolor\": \"white\", \"showbackground\": true, \"ticks\": \"\", \"zerolinecolor\": \"white\"}, \"zaxis\": {\"backgroundcolor\": \"#E5ECF6\", \"gridcolor\": \"white\", \"gridwidth\": 2, \"linecolor\": \"white\", \"showbackground\": true, \"ticks\": \"\", \"zerolinecolor\": \"white\"}}, \"shapedefaults\": {\"line\": {\"color\": \"#2a3f5f\"}}, \"ternary\": {\"aaxis\": {\"gridcolor\": \"white\", \"linecolor\": \"white\", \"ticks\": \"\"}, \"baxis\": {\"gridcolor\": \"white\", \"linecolor\": \"white\", \"ticks\": \"\"}, \"bgcolor\": \"#E5ECF6\", \"caxis\": {\"gridcolor\": \"white\", \"linecolor\": \"white\", \"ticks\": \"\"}}, \"title\": {\"x\": 0.05}, \"xaxis\": {\"automargin\": true, \"gridcolor\": \"white\", \"linecolor\": \"white\", \"ticks\": \"\", \"zerolinecolor\": \"white\", \"zerolinewidth\": 2}, \"yaxis\": {\"automargin\": true, \"gridcolor\": \"white\", \"linecolor\": \"white\", \"ticks\": \"\", \"zerolinecolor\": \"white\", \"zerolinewidth\": 2}}}, \"title\": {\"text\": \"\\u041a\\u043e\\u0440\\u0440\\u0435\\u043b\\u044f\\u0446\\u0438\\u044f \\u043f\\u0440\\u043e\\u0434\\u0430\\u0436 \\u0438 user_score\"}, \"xaxis\": {\"anchor\": \"y\", \"domain\": [0.0, 0.98], \"title\": {\"text\": \"user_score\"}}, \"yaxis\": {\"anchor\": \"x\", \"domain\": [0.0, 1.0], \"title\": {\"text\": \"total_sales\"}}},\n",
       "                        {\"responsive\": true}\n",
       "                    ).then(function(){\n",
       "                            \n",
       "var gd = document.getElementById('2dc4b5f5-e048-4a68-ac99-12463b6e8ffe');\n",
       "var x = new MutationObserver(function (mutations, observer) {{\n",
       "        var display = window.getComputedStyle(gd).display;\n",
       "        if (!display || display === 'none') {{\n",
       "            console.log([gd, 'removed!']);\n",
       "            Plotly.purge(gd);\n",
       "            observer.disconnect();\n",
       "        }}\n",
       "}});\n",
       "\n",
       "// Listen for the removal of the full notebook cells\n",
       "var notebookContainer = gd.closest('#notebook-container');\n",
       "if (notebookContainer) {{\n",
       "    x.observe(notebookContainer, {childList: true});\n",
       "}}\n",
       "\n",
       "// Listen for the clearing of the current output cell\n",
       "var outputEl = gd.closest('.output');\n",
       "if (outputEl) {{\n",
       "    x.observe(outputEl, {childList: true});\n",
       "}}\n",
       "\n",
       "                        })\n",
       "                };\n",
       "                });\n",
       "            </script>\n",
       "        </div>"
      ]
     },
     "metadata": {},
     "output_type": "display_data"
    }
   ],
   "source": [
    "# отобразим на графике\n",
    "scores = ['critic_score', 'user_score']\n",
    "\n",
    "for score in scores:\n",
    "    \n",
    "    fig = px.scatter(df_actual_potential_profitable.dropna(), x = score, y = 'total_sales', color = 'platform', title = 'Корреляция продаж и ' + score)\n",
    "    fig.show(\"notebook_connected\")"
   ]
  },
  {
   "cell_type": "markdown",
   "metadata": {},
   "source": [
    "**Вывод**"
   ]
  },
  {
   "cell_type": "markdown",
   "metadata": {},
   "source": [
    "Для платформ XOne, 3DS, PC аналогичен вывод о том, что отзывы критиков положительно влияют на продажи. Однако, есть некоторые различия. В случае платформы 3DS присутствует слабая корреляция между продажами и отзывами пользователей (0.19), а платформа PC выделяется тем, что между продажами и оценками пользователей есть слабая отрицательная корреляция (-0.12). Таким образом, в большинстве случаев оценки критиков в лучшей степени коррелируют с продажами, нежели оценки пользователей."
   ]
  },
  {
   "cell_type": "markdown",
   "metadata": {},
   "source": [
    "### Общее распределение игр по жанрам."
   ]
  },
  {
   "cell_type": "markdown",
   "metadata": {},
   "source": [
    "Изучим распределение игр по жанрам в акутальный период по выбранным потенциально прибыльным платформам."
   ]
  },
  {
   "cell_type": "code",
   "execution_count": 35,
   "metadata": {},
   "outputs": [
    {
     "data": {
      "text/html": [
       "<div>\n",
       "<style scoped>\n",
       "    .dataframe tbody tr th:only-of-type {\n",
       "        vertical-align: middle;\n",
       "    }\n",
       "\n",
       "    .dataframe tbody tr th {\n",
       "        vertical-align: top;\n",
       "    }\n",
       "\n",
       "    .dataframe thead th {\n",
       "        text-align: right;\n",
       "    }\n",
       "</style>\n",
       "<table border=\"1\" class=\"dataframe\">\n",
       "  <thead>\n",
       "    <tr style=\"text-align: right;\">\n",
       "      <th></th>\n",
       "      <th>count</th>\n",
       "      <th>sum</th>\n",
       "    </tr>\n",
       "    <tr>\n",
       "      <th>genre</th>\n",
       "      <th></th>\n",
       "      <th></th>\n",
       "    </tr>\n",
       "  </thead>\n",
       "  <tbody>\n",
       "    <tr>\n",
       "      <th>Action</th>\n",
       "      <td>451</td>\n",
       "      <td>192.04</td>\n",
       "    </tr>\n",
       "    <tr>\n",
       "      <th>Shooter</th>\n",
       "      <td>122</td>\n",
       "      <td>163.29</td>\n",
       "    </tr>\n",
       "    <tr>\n",
       "      <th>Role-Playing</th>\n",
       "      <td>171</td>\n",
       "      <td>132.49</td>\n",
       "    </tr>\n",
       "    <tr>\n",
       "      <th>Sports</th>\n",
       "      <td>113</td>\n",
       "      <td>89.84</td>\n",
       "    </tr>\n",
       "    <tr>\n",
       "      <th>Simulation</th>\n",
       "      <td>53</td>\n",
       "      <td>31.07</td>\n",
       "    </tr>\n",
       "    <tr>\n",
       "      <th>Platform</th>\n",
       "      <td>39</td>\n",
       "      <td>27.87</td>\n",
       "    </tr>\n",
       "    <tr>\n",
       "      <th>Misc</th>\n",
       "      <td>85</td>\n",
       "      <td>25.80</td>\n",
       "    </tr>\n",
       "    <tr>\n",
       "      <th>Racing</th>\n",
       "      <td>60</td>\n",
       "      <td>23.44</td>\n",
       "    </tr>\n",
       "    <tr>\n",
       "      <th>Fighting</th>\n",
       "      <td>37</td>\n",
       "      <td>19.68</td>\n",
       "    </tr>\n",
       "    <tr>\n",
       "      <th>Adventure</th>\n",
       "      <td>92</td>\n",
       "      <td>14.19</td>\n",
       "    </tr>\n",
       "    <tr>\n",
       "      <th>Strategy</th>\n",
       "      <td>46</td>\n",
       "      <td>8.30</td>\n",
       "    </tr>\n",
       "    <tr>\n",
       "      <th>Puzzle</th>\n",
       "      <td>16</td>\n",
       "      <td>2.71</td>\n",
       "    </tr>\n",
       "  </tbody>\n",
       "</table>\n",
       "</div>"
      ],
      "text/plain": [
       "              count     sum\n",
       "genre                      \n",
       "Action          451  192.04\n",
       "Shooter         122  163.29\n",
       "Role-Playing    171  132.49\n",
       "Sports          113   89.84\n",
       "Simulation       53   31.07\n",
       "Platform         39   27.87\n",
       "Misc             85   25.80\n",
       "Racing           60   23.44\n",
       "Fighting         37   19.68\n",
       "Adventure        92   14.19\n",
       "Strategy         46    8.30\n",
       "Puzzle           16    2.71"
      ]
     },
     "execution_count": 35,
     "metadata": {},
     "output_type": "execute_result"
    }
   ],
   "source": [
    "# сгруппируем данные по жанрам\n",
    "df_actual_potential_profitable.groupby('genre')['total_sales'].agg(['count', 'sum']).sort_values('sum',ascending=False)"
   ]
  },
  {
   "cell_type": "code",
   "execution_count": 36,
   "metadata": {},
   "outputs": [
    {
     "data": {
      "image/png": "[encoded data removed]",
      "text/plain": [
       "<Figure size 432x288 with 1 Axes>"
      ]
     },
     "metadata": {},
     "output_type": "display_data"
    }
   ],
   "source": [
    "df_actual_potential_profitable.groupby('genre')['total_sales'].agg(['count', 'sum']).sort_values('sum',ascending=False).plot(kind='bar', y = 'sum', grid = True)\n",
    "plt.title('Распределение суммарных продаж игр по жанрам')\n",
    "plt.xlabel('Жанр игры')\n",
    "plt.ylabel('Суммарные продажи')\n",
    "plt.show()"
   ]
  },
  {
   "cell_type": "markdown",
   "metadata": {},
   "source": [
    "**Вывод**"
   ]
  },
  {
   "cell_type": "markdown",
   "metadata": {},
   "source": [
    "В рамках выборки самыми прибыльными жанрами являются Action, Shooter и Role-Playing, а самые низкие продажи среди игр с жанрами Strategy и Puzzle."
   ]
  },
  {
   "cell_type": "markdown",
   "metadata": {},
   "source": [
    "## Составление портрета пользователя каждого региона"
   ]
  },
  {
   "cell_type": "markdown",
   "metadata": {},
   "source": [
    "### Cамые популярные платформы (топ-5)."
   ]
  },
  {
   "cell_type": "markdown",
   "metadata": {},
   "source": [
    "Определим для пользователя каждого региона (NA, EU, JP) самые популярные платформы (топ-5)."
   ]
  },
  {
   "cell_type": "code",
   "execution_count": 37,
   "metadata": {},
   "outputs": [
    {
     "data": {
      "text/html": [
       "<div>\n",
       "<style scoped>\n",
       "    .dataframe tbody tr th:only-of-type {\n",
       "        vertical-align: middle;\n",
       "    }\n",
       "\n",
       "    .dataframe tbody tr th {\n",
       "        vertical-align: top;\n",
       "    }\n",
       "\n",
       "    .dataframe thead th {\n",
       "        text-align: right;\n",
       "    }\n",
       "</style>\n",
       "<table border=\"1\" class=\"dataframe\">\n",
       "  <thead>\n",
       "    <tr style=\"text-align: right;\">\n",
       "      <th></th>\n",
       "      <th>na_sales</th>\n",
       "      <th>percentage</th>\n",
       "    </tr>\n",
       "    <tr>\n",
       "      <th>platform</th>\n",
       "      <th></th>\n",
       "      <th></th>\n",
       "    </tr>\n",
       "  </thead>\n",
       "  <tbody>\n",
       "    <tr>\n",
       "      <th>X360</th>\n",
       "      <td>140.05</td>\n",
       "      <td>0.28</td>\n",
       "    </tr>\n",
       "    <tr>\n",
       "      <th>PS4</th>\n",
       "      <td>108.74</td>\n",
       "      <td>0.22</td>\n",
       "    </tr>\n",
       "    <tr>\n",
       "      <th>PS3</th>\n",
       "      <td>103.38</td>\n",
       "      <td>0.21</td>\n",
       "    </tr>\n",
       "    <tr>\n",
       "      <th>XOne</th>\n",
       "      <td>93.12</td>\n",
       "      <td>0.19</td>\n",
       "    </tr>\n",
       "    <tr>\n",
       "      <th>3DS</th>\n",
       "      <td>55.31</td>\n",
       "      <td>0.11</td>\n",
       "    </tr>\n",
       "  </tbody>\n",
       "</table>\n",
       "</div>"
      ],
      "text/plain": [
       "          na_sales  percentage\n",
       "platform                      \n",
       "X360        140.05        0.28\n",
       "PS4         108.74        0.22\n",
       "PS3         103.38        0.21\n",
       "XOne         93.12        0.19\n",
       "3DS          55.31        0.11"
      ]
     },
     "metadata": {},
     "output_type": "display_data"
    }
   ],
   "source": [
    "# определим самые популярные платформы в регионе NA\n",
    "df_actual_na = df_actual.pivot_table(index='platform', values='na_sales', aggfunc='sum').sort_values('na_sales', ascending=False).head(5)\n",
    "df_actual_na['percentage'] = round(df_actual_na['na_sales'] / df_actual_na['na_sales'].sum(), 2)\n",
    "display(df_actual_na)"
   ]
  },
  {
   "cell_type": "code",
   "execution_count": 38,
   "metadata": {},
   "outputs": [
    {
     "data": {
      "text/html": [
       "<div>\n",
       "<style scoped>\n",
       "    .dataframe tbody tr th:only-of-type {\n",
       "        vertical-align: middle;\n",
       "    }\n",
       "\n",
       "    .dataframe tbody tr th {\n",
       "        vertical-align: top;\n",
       "    }\n",
       "\n",
       "    .dataframe thead th {\n",
       "        text-align: right;\n",
       "    }\n",
       "</style>\n",
       "<table border=\"1\" class=\"dataframe\">\n",
       "  <thead>\n",
       "    <tr style=\"text-align: right;\">\n",
       "      <th></th>\n",
       "      <th>eu_sales</th>\n",
       "      <th>percentage</th>\n",
       "    </tr>\n",
       "    <tr>\n",
       "      <th>platform</th>\n",
       "      <th></th>\n",
       "      <th></th>\n",
       "    </tr>\n",
       "  </thead>\n",
       "  <tbody>\n",
       "    <tr>\n",
       "      <th>PS4</th>\n",
       "      <td>141.09</td>\n",
       "      <td>0.34</td>\n",
       "    </tr>\n",
       "    <tr>\n",
       "      <th>PS3</th>\n",
       "      <td>106.86</td>\n",
       "      <td>0.26</td>\n",
       "    </tr>\n",
       "    <tr>\n",
       "      <th>X360</th>\n",
       "      <td>74.52</td>\n",
       "      <td>0.18</td>\n",
       "    </tr>\n",
       "    <tr>\n",
       "      <th>XOne</th>\n",
       "      <td>51.59</td>\n",
       "      <td>0.12</td>\n",
       "    </tr>\n",
       "    <tr>\n",
       "      <th>3DS</th>\n",
       "      <td>42.64</td>\n",
       "      <td>0.10</td>\n",
       "    </tr>\n",
       "  </tbody>\n",
       "</table>\n",
       "</div>"
      ],
      "text/plain": [
       "          eu_sales  percentage\n",
       "platform                      \n",
       "PS4         141.09        0.34\n",
       "PS3         106.86        0.26\n",
       "X360         74.52        0.18\n",
       "XOne         51.59        0.12\n",
       "3DS          42.64        0.10"
      ]
     },
     "metadata": {},
     "output_type": "display_data"
    }
   ],
   "source": [
    "# определим самые популярные платформы в регионе EU\n",
    "df_actual_eu = df_actual.pivot_table(index='platform', values='eu_sales', aggfunc='sum').sort_values('eu_sales', ascending=False).head(5)\n",
    "df_actual_eu['percentage'] = round(df_actual_eu['eu_sales'] / df_actual_eu['eu_sales'].sum(), 2)\n",
    "display(df_actual_eu)"
   ]
  },
  {
   "cell_type": "code",
   "execution_count": 39,
   "metadata": {
    "scrolled": true
   },
   "outputs": [
    {
     "data": {
      "text/html": [
       "<div>\n",
       "<style scoped>\n",
       "    .dataframe tbody tr th:only-of-type {\n",
       "        vertical-align: middle;\n",
       "    }\n",
       "\n",
       "    .dataframe tbody tr th {\n",
       "        vertical-align: top;\n",
       "    }\n",
       "\n",
       "    .dataframe thead th {\n",
       "        text-align: right;\n",
       "    }\n",
       "</style>\n",
       "<table border=\"1\" class=\"dataframe\">\n",
       "  <thead>\n",
       "    <tr style=\"text-align: right;\">\n",
       "      <th></th>\n",
       "      <th>jp_sales</th>\n",
       "      <th>percentage</th>\n",
       "    </tr>\n",
       "    <tr>\n",
       "      <th>platform</th>\n",
       "      <th></th>\n",
       "      <th></th>\n",
       "    </tr>\n",
       "  </thead>\n",
       "  <tbody>\n",
       "    <tr>\n",
       "      <th>3DS</th>\n",
       "      <td>87.79</td>\n",
       "      <td>0.51</td>\n",
       "    </tr>\n",
       "    <tr>\n",
       "      <th>PS3</th>\n",
       "      <td>35.29</td>\n",
       "      <td>0.20</td>\n",
       "    </tr>\n",
       "    <tr>\n",
       "      <th>PSV</th>\n",
       "      <td>21.04</td>\n",
       "      <td>0.12</td>\n",
       "    </tr>\n",
       "    <tr>\n",
       "      <th>PS4</th>\n",
       "      <td>15.96</td>\n",
       "      <td>0.09</td>\n",
       "    </tr>\n",
       "    <tr>\n",
       "      <th>WiiU</th>\n",
       "      <td>13.01</td>\n",
       "      <td>0.08</td>\n",
       "    </tr>\n",
       "  </tbody>\n",
       "</table>\n",
       "</div>"
      ],
      "text/plain": [
       "          jp_sales  percentage\n",
       "platform                      \n",
       "3DS          87.79        0.51\n",
       "PS3          35.29        0.20\n",
       "PSV          21.04        0.12\n",
       "PS4          15.96        0.09\n",
       "WiiU         13.01        0.08"
      ]
     },
     "metadata": {},
     "output_type": "display_data"
    }
   ],
   "source": [
    "# определим самые популярные платформы в регионе JP\n",
    "df_actual_jp = df_actual.pivot_table(index='platform', values='jp_sales', aggfunc='sum').sort_values('jp_sales', ascending=False).head(5)\n",
    "df_actual_jp['percentage'] = round(df_actual_jp['jp_sales'] / df_actual_jp['jp_sales'].sum(), 2)\n",
    "display(df_actual_jp)"
   ]
  },
  {
   "cell_type": "markdown",
   "metadata": {},
   "source": [
    "### Самые популярные жанры (топ-5)."
   ]
  },
  {
   "cell_type": "markdown",
   "metadata": {},
   "source": [
    "Определим для пользователя каждого региона (NA, EU, JP) cамые популярные жанры (топ-5)."
   ]
  },
  {
   "cell_type": "code",
   "execution_count": 40,
   "metadata": {},
   "outputs": [
    {
     "data": {
      "text/html": [
       "<div>\n",
       "<style scoped>\n",
       "    .dataframe tbody tr th:only-of-type {\n",
       "        vertical-align: middle;\n",
       "    }\n",
       "\n",
       "    .dataframe tbody tr th {\n",
       "        vertical-align: top;\n",
       "    }\n",
       "\n",
       "    .dataframe thead th {\n",
       "        text-align: right;\n",
       "    }\n",
       "</style>\n",
       "<table border=\"1\" class=\"dataframe\">\n",
       "  <thead>\n",
       "    <tr style=\"text-align: right;\">\n",
       "      <th></th>\n",
       "      <th>na_sales</th>\n",
       "    </tr>\n",
       "    <tr>\n",
       "      <th>genre</th>\n",
       "      <th></th>\n",
       "    </tr>\n",
       "  </thead>\n",
       "  <tbody>\n",
       "    <tr>\n",
       "      <th>Action</th>\n",
       "      <td>177.84</td>\n",
       "    </tr>\n",
       "    <tr>\n",
       "      <th>Shooter</th>\n",
       "      <td>144.77</td>\n",
       "    </tr>\n",
       "    <tr>\n",
       "      <th>Sports</th>\n",
       "      <td>81.53</td>\n",
       "    </tr>\n",
       "    <tr>\n",
       "      <th>Role-Playing</th>\n",
       "      <td>64.00</td>\n",
       "    </tr>\n",
       "    <tr>\n",
       "      <th>Misc</th>\n",
       "      <td>38.19</td>\n",
       "    </tr>\n",
       "  </tbody>\n",
       "</table>\n",
       "</div>"
      ],
      "text/plain": [
       "              na_sales\n",
       "genre                 \n",
       "Action          177.84\n",
       "Shooter         144.77\n",
       "Sports           81.53\n",
       "Role-Playing     64.00\n",
       "Misc             38.19"
      ]
     },
     "execution_count": 40,
     "metadata": {},
     "output_type": "execute_result"
    }
   ],
   "source": [
    "# определим самые популярные жанры в регионе NA\n",
    "df_actual.pivot_table(index='genre', values='na_sales', aggfunc='sum').sort_values('na_sales', ascending=False).head(5)"
   ]
  },
  {
   "cell_type": "code",
   "execution_count": 41,
   "metadata": {},
   "outputs": [
    {
     "data": {
      "text/html": [
       "<div>\n",
       "<style scoped>\n",
       "    .dataframe tbody tr th:only-of-type {\n",
       "        vertical-align: middle;\n",
       "    }\n",
       "\n",
       "    .dataframe tbody tr th {\n",
       "        vertical-align: top;\n",
       "    }\n",
       "\n",
       "    .dataframe thead th {\n",
       "        text-align: right;\n",
       "    }\n",
       "</style>\n",
       "<table border=\"1\" class=\"dataframe\">\n",
       "  <thead>\n",
       "    <tr style=\"text-align: right;\">\n",
       "      <th></th>\n",
       "      <th>eu_sales</th>\n",
       "    </tr>\n",
       "    <tr>\n",
       "      <th>genre</th>\n",
       "      <th></th>\n",
       "    </tr>\n",
       "  </thead>\n",
       "  <tbody>\n",
       "    <tr>\n",
       "      <th>Action</th>\n",
       "      <td>159.34</td>\n",
       "    </tr>\n",
       "    <tr>\n",
       "      <th>Shooter</th>\n",
       "      <td>113.47</td>\n",
       "    </tr>\n",
       "    <tr>\n",
       "      <th>Sports</th>\n",
       "      <td>69.09</td>\n",
       "    </tr>\n",
       "    <tr>\n",
       "      <th>Role-Playing</th>\n",
       "      <td>48.53</td>\n",
       "    </tr>\n",
       "    <tr>\n",
       "      <th>Racing</th>\n",
       "      <td>27.29</td>\n",
       "    </tr>\n",
       "  </tbody>\n",
       "</table>\n",
       "</div>"
      ],
      "text/plain": [
       "              eu_sales\n",
       "genre                 \n",
       "Action          159.34\n",
       "Shooter         113.47\n",
       "Sports           69.09\n",
       "Role-Playing     48.53\n",
       "Racing           27.29"
      ]
     },
     "execution_count": 41,
     "metadata": {},
     "output_type": "execute_result"
    }
   ],
   "source": [
    "# определим самые популярные жанры в регионе EU\n",
    "df_actual.pivot_table(index='genre', values='eu_sales', aggfunc='sum').sort_values('eu_sales', ascending=False).head(5)"
   ]
  },
  {
   "cell_type": "code",
   "execution_count": 42,
   "metadata": {
    "scrolled": true
   },
   "outputs": [
    {
     "data": {
      "text/html": [
       "<div>\n",
       "<style scoped>\n",
       "    .dataframe tbody tr th:only-of-type {\n",
       "        vertical-align: middle;\n",
       "    }\n",
       "\n",
       "    .dataframe tbody tr th {\n",
       "        vertical-align: top;\n",
       "    }\n",
       "\n",
       "    .dataframe thead th {\n",
       "        text-align: right;\n",
       "    }\n",
       "</style>\n",
       "<table border=\"1\" class=\"dataframe\">\n",
       "  <thead>\n",
       "    <tr style=\"text-align: right;\">\n",
       "      <th></th>\n",
       "      <th>jp_sales</th>\n",
       "    </tr>\n",
       "    <tr>\n",
       "      <th>genre</th>\n",
       "      <th></th>\n",
       "    </tr>\n",
       "  </thead>\n",
       "  <tbody>\n",
       "    <tr>\n",
       "      <th>Role-Playing</th>\n",
       "      <td>65.44</td>\n",
       "    </tr>\n",
       "    <tr>\n",
       "      <th>Action</th>\n",
       "      <td>52.80</td>\n",
       "    </tr>\n",
       "    <tr>\n",
       "      <th>Misc</th>\n",
       "      <td>12.86</td>\n",
       "    </tr>\n",
       "    <tr>\n",
       "      <th>Simulation</th>\n",
       "      <td>10.41</td>\n",
       "    </tr>\n",
       "    <tr>\n",
       "      <th>Fighting</th>\n",
       "      <td>9.44</td>\n",
       "    </tr>\n",
       "  </tbody>\n",
       "</table>\n",
       "</div>"
      ],
      "text/plain": [
       "              jp_sales\n",
       "genre                 \n",
       "Role-Playing     65.44\n",
       "Action           52.80\n",
       "Misc             12.86\n",
       "Simulation       10.41\n",
       "Fighting          9.44"
      ]
     },
     "execution_count": 42,
     "metadata": {},
     "output_type": "execute_result"
    }
   ],
   "source": [
    "# определим самые популярные жанры в регионе JP\n",
    "df_actual.pivot_table(index='genre', values='jp_sales', aggfunc='sum').sort_values('jp_sales', ascending=False).head(5)"
   ]
  },
  {
   "cell_type": "markdown",
   "metadata": {},
   "source": [
    "### Влияние рейтинга ESRB на продажи."
   ]
  },
  {
   "cell_type": "markdown",
   "metadata": {},
   "source": [
    "Определим влияние рейтинга ESRB на продажи в каждом регионе (NA, EU, JP)."
   ]
  },
  {
   "cell_type": "code",
   "execution_count": 43,
   "metadata": {},
   "outputs": [
    {
     "data": {
      "text/html": [
       "<div>\n",
       "<style scoped>\n",
       "    .dataframe tbody tr th:only-of-type {\n",
       "        vertical-align: middle;\n",
       "    }\n",
       "\n",
       "    .dataframe tbody tr th {\n",
       "        vertical-align: top;\n",
       "    }\n",
       "\n",
       "    .dataframe thead th {\n",
       "        text-align: right;\n",
       "    }\n",
       "</style>\n",
       "<table border=\"1\" class=\"dataframe\">\n",
       "  <thead>\n",
       "    <tr style=\"text-align: right;\">\n",
       "      <th></th>\n",
       "      <th>na_sales</th>\n",
       "    </tr>\n",
       "    <tr>\n",
       "      <th>rating</th>\n",
       "      <th></th>\n",
       "    </tr>\n",
       "  </thead>\n",
       "  <tbody>\n",
       "    <tr>\n",
       "      <th>M</th>\n",
       "      <td>231.57</td>\n",
       "    </tr>\n",
       "    <tr>\n",
       "      <th>E</th>\n",
       "      <td>114.37</td>\n",
       "    </tr>\n",
       "    <tr>\n",
       "      <th>undefined</th>\n",
       "      <td>103.31</td>\n",
       "    </tr>\n",
       "    <tr>\n",
       "      <th>E10+</th>\n",
       "      <td>75.70</td>\n",
       "    </tr>\n",
       "    <tr>\n",
       "      <th>T</th>\n",
       "      <td>66.02</td>\n",
       "    </tr>\n",
       "  </tbody>\n",
       "</table>\n",
       "</div>"
      ],
      "text/plain": [
       "           na_sales\n",
       "rating             \n",
       "M            231.57\n",
       "E            114.37\n",
       "undefined    103.31\n",
       "E10+          75.70\n",
       "T             66.02"
      ]
     },
     "execution_count": 43,
     "metadata": {},
     "output_type": "execute_result"
    }
   ],
   "source": [
    "# определим влияние рейтинга ESRB в регионе NA\n",
    "df_actual.pivot_table(index='rating', values='na_sales', aggfunc='sum').sort_values('na_sales', ascending=False)"
   ]
  },
  {
   "cell_type": "code",
   "execution_count": 44,
   "metadata": {},
   "outputs": [
    {
     "data": {
      "text/html": [
       "<div>\n",
       "<style scoped>\n",
       "    .dataframe tbody tr th:only-of-type {\n",
       "        vertical-align: middle;\n",
       "    }\n",
       "\n",
       "    .dataframe tbody tr th {\n",
       "        vertical-align: top;\n",
       "    }\n",
       "\n",
       "    .dataframe thead th {\n",
       "        text-align: right;\n",
       "    }\n",
       "</style>\n",
       "<table border=\"1\" class=\"dataframe\">\n",
       "  <thead>\n",
       "    <tr style=\"text-align: right;\">\n",
       "      <th></th>\n",
       "      <th>eu_sales</th>\n",
       "    </tr>\n",
       "    <tr>\n",
       "      <th>rating</th>\n",
       "      <th></th>\n",
       "    </tr>\n",
       "  </thead>\n",
       "  <tbody>\n",
       "    <tr>\n",
       "      <th>M</th>\n",
       "      <td>193.96</td>\n",
       "    </tr>\n",
       "    <tr>\n",
       "      <th>E</th>\n",
       "      <td>113.03</td>\n",
       "    </tr>\n",
       "    <tr>\n",
       "      <th>undefined</th>\n",
       "      <td>91.50</td>\n",
       "    </tr>\n",
       "    <tr>\n",
       "      <th>E10+</th>\n",
       "      <td>55.37</td>\n",
       "    </tr>\n",
       "    <tr>\n",
       "      <th>T</th>\n",
       "      <td>52.96</td>\n",
       "    </tr>\n",
       "  </tbody>\n",
       "</table>\n",
       "</div>"
      ],
      "text/plain": [
       "           eu_sales\n",
       "rating             \n",
       "M            193.96\n",
       "E            113.03\n",
       "undefined     91.50\n",
       "E10+          55.37\n",
       "T             52.96"
      ]
     },
     "execution_count": 44,
     "metadata": {},
     "output_type": "execute_result"
    }
   ],
   "source": [
    "# определим влияние рейтинга ESRB в регионе EU\n",
    "df_actual.pivot_table(index='rating', values='eu_sales', aggfunc='sum').sort_values('eu_sales', ascending=False)"
   ]
  },
  {
   "cell_type": "code",
   "execution_count": 45,
   "metadata": {},
   "outputs": [
    {
     "data": {
      "text/html": [
       "<div>\n",
       "<style scoped>\n",
       "    .dataframe tbody tr th:only-of-type {\n",
       "        vertical-align: middle;\n",
       "    }\n",
       "\n",
       "    .dataframe tbody tr th {\n",
       "        vertical-align: top;\n",
       "    }\n",
       "\n",
       "    .dataframe thead th {\n",
       "        text-align: right;\n",
       "    }\n",
       "</style>\n",
       "<table border=\"1\" class=\"dataframe\">\n",
       "  <thead>\n",
       "    <tr style=\"text-align: right;\">\n",
       "      <th></th>\n",
       "      <th>jp_sales</th>\n",
       "    </tr>\n",
       "    <tr>\n",
       "      <th>rating</th>\n",
       "      <th></th>\n",
       "    </tr>\n",
       "  </thead>\n",
       "  <tbody>\n",
       "    <tr>\n",
       "      <th>undefined</th>\n",
       "      <td>108.84</td>\n",
       "    </tr>\n",
       "    <tr>\n",
       "      <th>E</th>\n",
       "      <td>28.33</td>\n",
       "    </tr>\n",
       "    <tr>\n",
       "      <th>T</th>\n",
       "      <td>26.02</td>\n",
       "    </tr>\n",
       "    <tr>\n",
       "      <th>M</th>\n",
       "      <td>21.20</td>\n",
       "    </tr>\n",
       "    <tr>\n",
       "      <th>E10+</th>\n",
       "      <td>8.19</td>\n",
       "    </tr>\n",
       "  </tbody>\n",
       "</table>\n",
       "</div>"
      ],
      "text/plain": [
       "           jp_sales\n",
       "rating             \n",
       "undefined    108.84\n",
       "E             28.33\n",
       "T             26.02\n",
       "M             21.20\n",
       "E10+           8.19"
      ]
     },
     "execution_count": 45,
     "metadata": {},
     "output_type": "execute_result"
    }
   ],
   "source": [
    "# определим влияние рейтинга ESRB в регионе JP\n",
    "df_actual.pivot_table(index='rating', values='jp_sales', aggfunc='sum').sort_values('jp_sales', ascending=False)"
   ]
  },
  {
   "cell_type": "markdown",
   "metadata": {},
   "source": [
    "**Вывод**"
   ]
  },
  {
   "cell_type": "markdown",
   "metadata": {},
   "source": [
    "Согласно изученным данным можно прийти к следующим вывода:\n",
    "- В Северной Америке и в Европе наиболее популярные платформы одинаковые: X360, PS4, PS3, XOne, 3DS. При этом в Северной Америке платформа X360 занимает большую долю, чем в Европе, и находится на первом месте. В Японии ситуация сильно различается: наибольшую долю занимает платформа 3DS, PS4 лишь только на четвертой строчке, а в список топ-5 входят также платформы PSV и WiiU.\n",
    "\n",
    "- В Северной Америке и в Европе наиболее популярными жанрами являются (топ-4): Action, Shooter, Sports и Role-Playing. Пятое место В Северной Америке занимает жанр Misc, а в Европе - Racing. Опять же, в Японии список наиболее популярных жанров отличается. В большей степени это обусловлено различиями в сформировавшейся культуре. В Японии наиболее популярным жанром является не Action, а Role-Playing, а замыкают топ-5 жанры Simulation\tи Fighting.\n",
    "\n",
    "- Что касается влияния рейтинга ESRB на продажи, то в Северной Америке и Европе оно не различается. Самыми популярными являются игры с рейтингом M, то есть для возрастной категории старше 17 лет. Отдельно отметим, что игры со значением 'undefined' (без рейтинга) занимают в Северной Америке и Европе третью строчку в продаже игр, а в Японии и вовсе первую (со значительным отрывом). Для Японии характерно, что для игр, у которых есть рейтинг ESRB, продажи игр с рейтингами E, T и M находятся примерно на одинаковом уровне."
   ]
  },
  {
   "cell_type": "markdown",
   "metadata": {},
   "source": [
    "## Проверка гипотез"
   ]
  },
  {
   "cell_type": "markdown",
   "metadata": {},
   "source": [
    "### Средние пользовательские рейтинги платформ Xbox One и PC одинаковые."
   ]
  },
  {
   "cell_type": "markdown",
   "metadata": {},
   "source": [
    "Сформулируем нулевую гипотезу H₀ и альтернативную гипотезу H₁:\n",
    "\n",
    "- нулевая гипотеза H₀ - средние пользовательские рейтинги платформ Xbox One и PC равны;\n",
    "- альтернативная гипотеза H₁ - средние пользовательские рейтинги платформ Xbox One и PC различаются.\n",
    "\n",
    "Зададим пороговое значение alpha = 0.05"
   ]
  },
  {
   "cell_type": "code",
   "execution_count": 46,
   "metadata": {},
   "outputs": [],
   "source": [
    "df_actual_xone = df_actual.query('platform == \"XOne\"') # выделим платформу Xbox One"
   ]
  },
  {
   "cell_type": "code",
   "execution_count": 47,
   "metadata": {},
   "outputs": [],
   "source": [
    "df_actual_pc = df_actual.query('platform == \"PC\"') # выделим платформу Xbox PC"
   ]
  },
  {
   "cell_type": "code",
   "execution_count": 48,
   "metadata": {},
   "outputs": [
    {
     "name": "stdout",
     "output_type": "stream",
     "text": [
      "p-значение: 0.5489537965134426\n",
      "Не получилось отвергнуть нулевую гипотезу\n"
     ]
    }
   ],
   "source": [
    "alpha = 0.05\n",
    "\n",
    "# проверим гипотезу о равенстве средних двух совокупностей\n",
    "\n",
    "results_1 = st.ttest_ind(df_actual_xone['user_score'], df_actual_pc['user_score'], equal_var = False, nan_policy = 'omit')\n",
    "\n",
    "print('p-значение:', results_1.pvalue)\n",
    "\n",
    "# сравним получившееся p-значение с заданным уровнем статистической значимости\n",
    "\n",
    "if results_1.pvalue < alpha: \n",
    "    print(\"Отвергаем нулевую гипотезу\")\n",
    "else:\n",
    "    print(\"Не получилось отвергнуть нулевую гипотезу\")"
   ]
  },
  {
   "cell_type": "markdown",
   "metadata": {},
   "source": [
    "**Вывод**"
   ]
  },
  {
   "cell_type": "markdown",
   "metadata": {},
   "source": [
    "Для проверки гипотез был использован двусторонний критерий, так как в данном случае гипотеза предполагает возможность отклонения наблюдаемого значения (пользовательского рейтинга) от предполагаемого в обе стороны.\n",
    "\n",
    "Так как p-value больше заданного уровня статистической значимости, то нулевая гипотеза H₀ (средние пользовательские рейтинги платформ Xbox One и PC равны) **не отвергается**. Таким образом, по всей видимости, средние пользовательские рейтинги платформ Xbox One и PC не отличаются."
   ]
  },
  {
   "cell_type": "markdown",
   "metadata": {},
   "source": [
    "### Средние пользовательские рейтинги жанров Action и Sports разные."
   ]
  },
  {
   "cell_type": "markdown",
   "metadata": {},
   "source": [
    "Сформулируем нулевую гипотезу H₀ и альтернативную гипотезу H₁:\n",
    "\n",
    "- нулевая гипотеза H₀ - средние пользовательские рейтинги жанров Action (англ. «действие», экшен-игры) и Sports (англ. «спортивные соревнования») равны;\n",
    "- альтернативная гипотеза H₁ - средние пользовательские рейтинги жанров Action (англ. «действие», экшен-игры) и Sports (англ. «спортивные соревнования») различаются.\n",
    "\n",
    "Зададим пороговое значение alpha = 0.05"
   ]
  },
  {
   "cell_type": "code",
   "execution_count": 49,
   "metadata": {},
   "outputs": [],
   "source": [
    "df_actual_action = df_actual.query('genre == \"Action\"') # выделим жанр Action"
   ]
  },
  {
   "cell_type": "code",
   "execution_count": 50,
   "metadata": {},
   "outputs": [],
   "source": [
    "df_actual_sports = df_actual.query('genre == \"Sports\"') # выделим жанр Sports"
   ]
  },
  {
   "cell_type": "code",
   "execution_count": 51,
   "metadata": {},
   "outputs": [
    {
     "name": "stdout",
     "output_type": "stream",
     "text": [
      "p-значение: 4.2430777657264175e-20\n",
      "Отвергаем нулевую гипотезу\n"
     ]
    }
   ],
   "source": [
    "alpha = 0.05 \n",
    "\n",
    "# проверим гипотезу о равенстве средних двух совокупностей\n",
    "\n",
    "results_2 = st.ttest_ind(df_actual_action['user_score'], df_actual_sports['user_score'], equal_var = False, nan_policy = 'omit') \n",
    "\n",
    "print('p-значение:', results_2.pvalue)\n",
    "\n",
    "# сравним получившееся p-значение с заданным уровнем статистической значимости\n",
    "\n",
    "if results_2.pvalue < alpha: \n",
    "    print(\"Отвергаем нулевую гипотезу\")\n",
    "else:\n",
    "    print(\"Не получилось отвергнуть нулевую гипотезу\")"
   ]
  },
  {
   "cell_type": "markdown",
   "metadata": {},
   "source": [
    "**Вывод**"
   ]
  },
  {
   "cell_type": "markdown",
   "metadata": {},
   "source": [
    "Для проверки гипотез был использован двусторонний критерий, так как в данном случае гипотеза предполагает возможность отклонения наблюдаемого значения (пользовательского рейтинга) от предполагаемого в обе стороны.\n",
    "\n",
    "Так как p-value меньше заданного уровня статистической значимости, то нулевая гипотеза H₀(средние пользовательские рейтинги жанров Action (англ. «действие», экшен-игры) и Sports (англ. «спортивные соревнования») равны) **отвергается**. Следовательно, по всей видимости, средние пользовательские рейтинги жанров Action (англ. «действие», экшен-игры) и Sports (англ. «спортивные соревнования») различаются."
   ]
  },
  {
   "cell_type": "markdown",
   "metadata": {},
   "source": [
    "## Общий вывод"
   ]
  },
  {
   "cell_type": "markdown",
   "metadata": {},
   "source": [
    "Для ответа на вопросы исследования была изучена таблица с данными, проведена подготовка данных, а также посчитаны суммарные продажи во всех регионах.\n",
    "\n",
    "**В результате анализа было установлено:**\n",
    "\n",
    "1. В соответствии с выбранным актуальным периодом (с 2012 по 2016) и составлении прогноза на 2017 год к наиболее потенциально прибыльным платформам относятся PS4, XOne, 3DS и PC. Если ориентироваться на Северную Америку и Евпропу, то следует отдать предпочтение играм на платформах PS4 и XOne. В случае с Японией наиболее популярной платформой для игр выступает 3DS.\n",
    "\n",
    "\n",
    "2. В целом для платформ PS4, XOne, 3DS, PC наибольшее умеренное влияние на продажи оказывают оценки критиков, а не отзывы пользователей.\n",
    "\n",
    "\n",
    "3. В Северной Америке и в Европе наиболее популярные жанры это - Action, Shooter, Sports и Role-Playing. В Японии таким жанром является Role-Playing, а в топ-5 также входят Misc, Simulation и Fighting.\n",
    "\n",
    "\n",
    "4. Рейтинг ESRB по-своему влияет на продажи: в Северной Америке и Европе cамыми популярными являются игры с рейтингом M, а в Японии продажи игр без рейтинга занимают первую строчку, в то время, как продажи игр с рейтингами E, T, M в данном регионе находятся гораздо ниже и занимают примерно одинаковой уровень.\n",
    "\n",
    "\n",
    "5. Проверка гипотез предположительно показала, что, во-первых, средние пользовательские рейтинги платформ Xbox One и PC не отличаются, а, во-вторых, средние пользовательские рейтинги жанров Action (англ. «действие», экшен-игры) и Sports (англ. «спортивные соревнования») различаются.\n",
    "\n",
    "\n",
    "**Данные результаты исследования, которые выявили закономерности определяющие успешность игр, могут быть учтены интернет-магазином «Стримчик» для выбора потенциально популярных продуктов и планировании рекламных кампаний.**"
   ]
  }
 ],
 "metadata": {
  "ExecuteTimeLog": [
   {
    "duration": 800,
    "start_time": "2021-12-15T19:06:32.971Z"
   },
   {
    "duration": 4,
    "start_time": "2021-12-15T19:06:33.774Z"
   },
   {
    "duration": 142,
    "start_time": "2021-12-15T19:06:33.783Z"
   },
   {
    "duration": 556,
    "start_time": "2021-12-15T19:06:33.927Z"
   },
   {
    "duration": 46,
    "start_time": "2021-12-15T19:06:36.357Z"
   },
   {
    "duration": 26,
    "start_time": "2021-12-15T19:07:18.969Z"
   },
   {
    "duration": 18,
    "start_time": "2021-12-15T19:08:24.045Z"
   },
   {
    "duration": 807,
    "start_time": "2021-12-16T17:08:19.172Z"
   },
   {
    "duration": 4,
    "start_time": "2021-12-16T17:08:19.982Z"
   },
   {
    "duration": 190,
    "start_time": "2021-12-16T17:08:19.990Z"
   },
   {
    "duration": 536,
    "start_time": "2021-12-16T17:08:20.184Z"
   },
   {
    "duration": 52,
    "start_time": "2021-12-16T17:08:20.722Z"
   },
   {
    "duration": 28,
    "start_time": "2021-12-16T17:08:20.777Z"
   },
   {
    "duration": 19,
    "start_time": "2021-12-16T17:08:20.808Z"
   },
   {
    "duration": 6,
    "start_time": "2021-12-16T17:09:05.734Z"
   },
   {
    "duration": 19,
    "start_time": "2021-12-16T17:09:26.766Z"
   },
   {
    "duration": 1108,
    "start_time": "2021-12-16T17:10:16.819Z"
   },
   {
    "duration": 3,
    "start_time": "2021-12-16T17:10:17.930Z"
   },
   {
    "duration": 134,
    "start_time": "2021-12-16T17:10:17.939Z"
   },
   {
    "duration": 526,
    "start_time": "2021-12-16T17:10:18.075Z"
   },
   {
    "duration": 50,
    "start_time": "2021-12-16T17:10:18.603Z"
   },
   {
    "duration": 25,
    "start_time": "2021-12-16T17:10:18.656Z"
   },
   {
    "duration": 15,
    "start_time": "2021-12-16T17:10:18.684Z"
   },
   {
    "duration": 4,
    "start_time": "2021-12-16T17:10:24.617Z"
   },
   {
    "duration": 20,
    "start_time": "2021-12-16T17:10:27.144Z"
   },
   {
    "duration": 26,
    "start_time": "2021-12-16T17:31:36.039Z"
   },
   {
    "duration": 30,
    "start_time": "2021-12-16T17:31:49.759Z"
   },
   {
    "duration": 37,
    "start_time": "2021-12-16T17:31:57.240Z"
   },
   {
    "duration": 42,
    "start_time": "2021-12-16T17:32:09.640Z"
   },
   {
    "duration": 31,
    "start_time": "2021-12-16T17:32:17.697Z"
   },
   {
    "duration": 19,
    "start_time": "2021-12-16T17:32:26.259Z"
   },
   {
    "duration": 510,
    "start_time": "2021-12-16T17:33:27.217Z"
   },
   {
    "duration": 6,
    "start_time": "2021-12-16T17:34:30.705Z"
   },
   {
    "duration": 15,
    "start_time": "2021-12-16T17:34:47.556Z"
   },
   {
    "duration": 880,
    "start_time": "2021-12-16T17:35:14.428Z"
   },
   {
    "duration": 21,
    "start_time": "2021-12-16T17:35:21.303Z"
   },
   {
    "duration": 799,
    "start_time": "2021-12-16T17:45:12.942Z"
   },
   {
    "duration": 4,
    "start_time": "2021-12-16T17:45:13.743Z"
   },
   {
    "duration": 125,
    "start_time": "2021-12-16T17:45:13.749Z"
   },
   {
    "duration": 466,
    "start_time": "2021-12-16T17:45:13.877Z"
   },
   {
    "duration": 51,
    "start_time": "2021-12-16T17:45:14.345Z"
   },
   {
    "duration": 26,
    "start_time": "2021-12-16T17:45:14.398Z"
   },
   {
    "duration": 33,
    "start_time": "2021-12-16T17:45:14.426Z"
   },
   {
    "duration": 5,
    "start_time": "2021-12-16T17:45:14.463Z"
   },
   {
    "duration": 19,
    "start_time": "2021-12-16T17:45:16.158Z"
   },
   {
    "duration": 14,
    "start_time": "2021-12-16T17:45:37.926Z"
   },
   {
    "duration": 18,
    "start_time": "2021-12-16T17:45:50.658Z"
   },
   {
    "duration": 21,
    "start_time": "2021-12-16T17:45:54.562Z"
   },
   {
    "duration": 13,
    "start_time": "2021-12-16T17:47:14.536Z"
   },
   {
    "duration": 23,
    "start_time": "2021-12-16T17:47:16.256Z"
   },
   {
    "duration": 14,
    "start_time": "2021-12-16T17:47:20.524Z"
   },
   {
    "duration": 12,
    "start_time": "2021-12-16T17:47:59.719Z"
   },
   {
    "duration": 19,
    "start_time": "2021-12-16T17:48:01.652Z"
   },
   {
    "duration": 15,
    "start_time": "2021-12-16T17:48:03.607Z"
   },
   {
    "duration": 865,
    "start_time": "2021-12-16T17:48:37.436Z"
   },
   {
    "duration": 4,
    "start_time": "2021-12-16T17:48:38.304Z"
   },
   {
    "duration": 136,
    "start_time": "2021-12-16T17:48:38.311Z"
   },
   {
    "duration": 505,
    "start_time": "2021-12-16T17:48:38.449Z"
   },
   {
    "duration": 54,
    "start_time": "2021-12-16T17:48:38.958Z"
   },
   {
    "duration": 29,
    "start_time": "2021-12-16T17:48:39.014Z"
   },
   {
    "duration": 25,
    "start_time": "2021-12-16T17:48:39.046Z"
   },
   {
    "duration": 5,
    "start_time": "2021-12-16T17:48:39.075Z"
   },
   {
    "duration": 19,
    "start_time": "2021-12-16T17:48:40.968Z"
   },
   {
    "duration": 6,
    "start_time": "2021-12-16T17:50:41.205Z"
   },
   {
    "duration": 21,
    "start_time": "2021-12-16T17:50:43.292Z"
   },
   {
    "duration": 14,
    "start_time": "2021-12-16T17:50:47.652Z"
   },
   {
    "duration": 6,
    "start_time": "2021-12-16T17:54:31.410Z"
   },
   {
    "duration": 20,
    "start_time": "2021-12-16T17:54:36.641Z"
   },
   {
    "duration": 16,
    "start_time": "2021-12-16T17:54:41.960Z"
   },
   {
    "duration": 12,
    "start_time": "2021-12-16T17:55:09.148Z"
   },
   {
    "duration": 20,
    "start_time": "2021-12-16T17:55:13.025Z"
   },
   {
    "duration": 21,
    "start_time": "2021-12-16T17:55:24.421Z"
   },
   {
    "duration": 805,
    "start_time": "2021-12-16T17:56:46.329Z"
   },
   {
    "duration": 3,
    "start_time": "2021-12-16T17:56:47.137Z"
   },
   {
    "duration": 124,
    "start_time": "2021-12-16T17:56:47.143Z"
   },
   {
    "duration": 455,
    "start_time": "2021-12-16T17:56:47.270Z"
   },
   {
    "duration": 551,
    "start_time": "2021-12-16T17:56:47.727Z"
   },
   {
    "duration": 26,
    "start_time": "2021-12-16T17:56:48.280Z"
   },
   {
    "duration": 18,
    "start_time": "2021-12-16T17:56:48.309Z"
   },
   {
    "duration": 28,
    "start_time": "2021-12-16T17:56:48.331Z"
   },
   {
    "duration": 19,
    "start_time": "2021-12-16T17:56:48.362Z"
   },
   {
    "duration": 7,
    "start_time": "2021-12-16T17:56:53.838Z"
   },
   {
    "duration": 7,
    "start_time": "2021-12-16T17:57:10.426Z"
   },
   {
    "duration": 20,
    "start_time": "2021-12-16T17:57:13.946Z"
   },
   {
    "duration": 19,
    "start_time": "2021-12-16T17:57:16.234Z"
   },
   {
    "duration": 665,
    "start_time": "2021-12-16T17:58:10.016Z"
   },
   {
    "duration": 12,
    "start_time": "2021-12-16T17:59:24.683Z"
   },
   {
    "duration": 33,
    "start_time": "2021-12-16T18:00:12.050Z"
   },
   {
    "duration": 20,
    "start_time": "2021-12-16T18:00:17.103Z"
   },
   {
    "duration": 16,
    "start_time": "2021-12-16T18:00:19.246Z"
   },
   {
    "duration": 11,
    "start_time": "2021-12-16T18:00:25.235Z"
   },
   {
    "duration": 788,
    "start_time": "2021-12-16T18:26:40.213Z"
   },
   {
    "duration": 4,
    "start_time": "2021-12-16T18:26:41.004Z"
   },
   {
    "duration": 136,
    "start_time": "2021-12-16T18:26:41.011Z"
   },
   {
    "duration": 495,
    "start_time": "2021-12-16T18:26:41.150Z"
   },
   {
    "duration": 49,
    "start_time": "2021-12-16T18:26:41.648Z"
   },
   {
    "duration": 25,
    "start_time": "2021-12-16T18:26:41.700Z"
   },
   {
    "duration": 34,
    "start_time": "2021-12-16T18:26:41.727Z"
   },
   {
    "duration": 3,
    "start_time": "2021-12-16T18:26:41.765Z"
   },
   {
    "duration": 21,
    "start_time": "2021-12-16T18:26:41.771Z"
   },
   {
    "duration": 6,
    "start_time": "2021-12-16T18:26:45.670Z"
   },
   {
    "duration": 21,
    "start_time": "2021-12-16T18:27:25.925Z"
   },
   {
    "duration": -1032,
    "start_time": "2021-12-16T18:28:27.623Z"
   },
   {
    "duration": 31,
    "start_time": "2021-12-16T18:28:28.548Z"
   },
   {
    "duration": 31,
    "start_time": "2021-12-16T18:30:59.714Z"
   },
   {
    "duration": 28,
    "start_time": "2021-12-16T18:38:23.371Z"
   },
   {
    "duration": 11285,
    "start_time": "2021-12-16T18:38:48.383Z"
   },
   {
    "duration": 33,
    "start_time": "2021-12-16T18:39:02.102Z"
   },
   {
    "duration": 1004,
    "start_time": "2021-12-16T18:46:35.270Z"
   },
   {
    "duration": 5,
    "start_time": "2021-12-16T18:46:36.277Z"
   },
   {
    "duration": 129,
    "start_time": "2021-12-16T18:46:36.285Z"
   },
   {
    "duration": 513,
    "start_time": "2021-12-16T18:46:36.417Z"
   },
   {
    "duration": 50,
    "start_time": "2021-12-16T18:46:36.932Z"
   },
   {
    "duration": 33,
    "start_time": "2021-12-16T18:46:36.985Z"
   },
   {
    "duration": 17,
    "start_time": "2021-12-16T18:46:37.022Z"
   },
   {
    "duration": 5,
    "start_time": "2021-12-16T18:46:37.060Z"
   },
   {
    "duration": 34,
    "start_time": "2021-12-16T18:46:37.067Z"
   },
   {
    "duration": 7,
    "start_time": "2021-12-16T18:46:59.225Z"
   },
   {
    "duration": 11,
    "start_time": "2021-12-16T18:47:01.733Z"
   },
   {
    "duration": 13,
    "start_time": "2021-12-16T18:49:56.861Z"
   },
   {
    "duration": 15,
    "start_time": "2021-12-16T18:50:06.661Z"
   },
   {
    "duration": 962,
    "start_time": "2021-12-16T19:06:39.065Z"
   },
   {
    "duration": 4,
    "start_time": "2021-12-16T19:06:40.030Z"
   },
   {
    "duration": 185,
    "start_time": "2021-12-16T19:06:40.038Z"
   },
   {
    "duration": 498,
    "start_time": "2021-12-16T19:06:40.226Z"
   },
   {
    "duration": 50,
    "start_time": "2021-12-16T19:06:40.726Z"
   },
   {
    "duration": 26,
    "start_time": "2021-12-16T19:06:40.779Z"
   },
   {
    "duration": 15,
    "start_time": "2021-12-16T19:06:40.808Z"
   },
   {
    "duration": 4,
    "start_time": "2021-12-16T19:06:40.827Z"
   },
   {
    "duration": 45,
    "start_time": "2021-12-16T19:06:40.834Z"
   },
   {
    "duration": 9,
    "start_time": "2021-12-16T19:06:40.881Z"
   },
   {
    "duration": 11,
    "start_time": "2021-12-16T19:06:43.505Z"
   },
   {
    "duration": 12444,
    "start_time": "2021-12-16T19:07:19.889Z"
   },
   {
    "duration": 129,
    "start_time": "2021-12-16T19:07:40.460Z"
   },
   {
    "duration": 137,
    "start_time": "2021-12-16T19:08:13.920Z"
   },
   {
    "duration": 230,
    "start_time": "2021-12-16T19:08:27.352Z"
   },
   {
    "duration": 197,
    "start_time": "2021-12-16T19:09:47.171Z"
   },
   {
    "duration": 490,
    "start_time": "2021-12-16T19:10:09.614Z"
   },
   {
    "duration": 551,
    "start_time": "2021-12-16T19:10:55.998Z"
   },
   {
    "duration": 745,
    "start_time": "2021-12-16T19:11:08.847Z"
   },
   {
    "duration": 699,
    "start_time": "2021-12-16T19:11:35.291Z"
   },
   {
    "duration": 518,
    "start_time": "2021-12-16T19:12:09.701Z"
   },
   {
    "duration": 608,
    "start_time": "2021-12-16T19:12:25.146Z"
   },
   {
    "duration": 43,
    "start_time": "2021-12-16T19:12:32.768Z"
   },
   {
    "duration": 44,
    "start_time": "2021-12-16T19:12:50.964Z"
   },
   {
    "duration": 816,
    "start_time": "2021-12-16T19:13:14.678Z"
   },
   {
    "duration": 3,
    "start_time": "2021-12-16T19:13:15.497Z"
   },
   {
    "duration": 126,
    "start_time": "2021-12-16T19:13:15.503Z"
   },
   {
    "duration": 528,
    "start_time": "2021-12-16T19:13:15.631Z"
   },
   {
    "duration": 51,
    "start_time": "2021-12-16T19:13:16.161Z"
   },
   {
    "duration": 43,
    "start_time": "2021-12-16T19:13:16.216Z"
   },
   {
    "duration": 24,
    "start_time": "2021-12-16T19:13:16.263Z"
   },
   {
    "duration": 5,
    "start_time": "2021-12-16T19:13:16.292Z"
   },
   {
    "duration": 23,
    "start_time": "2021-12-16T19:13:16.299Z"
   },
   {
    "duration": 38,
    "start_time": "2021-12-16T19:13:16.325Z"
   },
   {
    "duration": 14,
    "start_time": "2021-12-16T19:13:16.367Z"
   },
   {
    "duration": 15,
    "start_time": "2021-12-16T19:13:16.384Z"
   },
   {
    "duration": 15,
    "start_time": "2021-12-16T19:13:16.401Z"
   },
   {
    "duration": 21,
    "start_time": "2021-12-16T19:16:08.758Z"
   },
   {
    "duration": 11,
    "start_time": "2021-12-16T19:19:34.837Z"
   },
   {
    "duration": 731,
    "start_time": "2021-12-16T19:21:04.208Z"
   },
   {
    "duration": 4,
    "start_time": "2021-12-16T19:21:04.942Z"
   },
   {
    "duration": 137,
    "start_time": "2021-12-16T19:21:04.960Z"
   },
   {
    "duration": 615,
    "start_time": "2021-12-16T19:21:05.100Z"
   },
   {
    "duration": 51,
    "start_time": "2021-12-16T19:21:05.718Z"
   },
   {
    "duration": 26,
    "start_time": "2021-12-16T19:21:05.772Z"
   },
   {
    "duration": 15,
    "start_time": "2021-12-16T19:21:05.800Z"
   },
   {
    "duration": 7,
    "start_time": "2021-12-16T19:21:05.817Z"
   },
   {
    "duration": 48,
    "start_time": "2021-12-16T19:21:05.828Z"
   },
   {
    "duration": 8,
    "start_time": "2021-12-16T19:21:05.879Z"
   },
   {
    "duration": 13,
    "start_time": "2021-12-16T19:21:05.889Z"
   },
   {
    "duration": 14,
    "start_time": "2021-12-16T19:21:05.904Z"
   },
   {
    "duration": 46,
    "start_time": "2021-12-16T19:21:05.921Z"
   },
   {
    "duration": 12,
    "start_time": "2021-12-16T19:21:10.824Z"
   },
   {
    "duration": 12,
    "start_time": "2021-12-16T19:44:10.911Z"
   },
   {
    "duration": 21,
    "start_time": "2021-12-16T19:44:31.644Z"
   },
   {
    "duration": 153,
    "start_time": "2021-12-16T21:05:34.974Z"
   },
   {
    "duration": 129,
    "start_time": "2021-12-16T21:05:42.236Z"
   },
   {
    "duration": 10166,
    "start_time": "2021-12-16T21:05:47.172Z"
   },
   {
    "duration": 454,
    "start_time": "2021-12-16T21:06:24.794Z"
   },
   {
    "duration": 324,
    "start_time": "2021-12-16T21:08:07.291Z"
   },
   {
    "duration": 329,
    "start_time": "2021-12-16T21:12:21.780Z"
   },
   {
    "duration": 13,
    "start_time": "2021-12-16T21:12:43.247Z"
   },
   {
    "duration": 1080,
    "start_time": "2021-12-16T21:41:20.851Z"
   },
   {
    "duration": 4,
    "start_time": "2021-12-16T21:41:21.934Z"
   },
   {
    "duration": 188,
    "start_time": "2021-12-16T21:41:21.942Z"
   },
   {
    "duration": 523,
    "start_time": "2021-12-16T21:41:22.133Z"
   },
   {
    "duration": 52,
    "start_time": "2021-12-16T21:41:22.660Z"
   },
   {
    "duration": 26,
    "start_time": "2021-12-16T21:41:22.714Z"
   },
   {
    "duration": 24,
    "start_time": "2021-12-16T21:41:22.742Z"
   },
   {
    "duration": 4,
    "start_time": "2021-12-16T21:41:22.769Z"
   },
   {
    "duration": 27,
    "start_time": "2021-12-16T21:41:22.779Z"
   },
   {
    "duration": 7,
    "start_time": "2021-12-16T21:41:22.810Z"
   },
   {
    "duration": 49,
    "start_time": "2021-12-16T21:41:22.820Z"
   },
   {
    "duration": 16,
    "start_time": "2021-12-16T21:41:22.871Z"
   },
   {
    "duration": 18,
    "start_time": "2021-12-16T21:41:22.889Z"
   },
   {
    "duration": 12,
    "start_time": "2021-12-16T21:41:22.909Z"
   },
   {
    "duration": 45,
    "start_time": "2021-12-16T21:41:22.924Z"
   },
   {
    "duration": 20,
    "start_time": "2021-12-16T21:41:22.972Z"
   },
   {
    "duration": 336,
    "start_time": "2021-12-16T21:41:22.995Z"
   },
   {
    "duration": 795,
    "start_time": "2021-12-16T21:41:58.247Z"
   },
   {
    "duration": 3,
    "start_time": "2021-12-16T21:41:59.045Z"
   },
   {
    "duration": 130,
    "start_time": "2021-12-16T21:41:59.051Z"
   },
   {
    "duration": 536,
    "start_time": "2021-12-16T21:41:59.185Z"
   },
   {
    "duration": 53,
    "start_time": "2021-12-16T21:41:59.724Z"
   },
   {
    "duration": 28,
    "start_time": "2021-12-16T21:41:59.779Z"
   },
   {
    "duration": 15,
    "start_time": "2021-12-16T21:41:59.810Z"
   },
   {
    "duration": 6,
    "start_time": "2021-12-16T21:41:59.861Z"
   },
   {
    "duration": 22,
    "start_time": "2021-12-16T21:41:59.870Z"
   },
   {
    "duration": 7,
    "start_time": "2021-12-16T21:41:59.895Z"
   },
   {
    "duration": 10,
    "start_time": "2021-12-16T21:41:59.904Z"
   },
   {
    "duration": 60,
    "start_time": "2021-12-16T21:41:59.917Z"
   },
   {
    "duration": 17,
    "start_time": "2021-12-16T21:41:59.980Z"
   },
   {
    "duration": 14,
    "start_time": "2021-12-16T21:42:00.000Z"
   },
   {
    "duration": 43,
    "start_time": "2021-12-16T21:42:00.017Z"
   },
   {
    "duration": 24,
    "start_time": "2021-12-16T21:42:00.063Z"
   },
   {
    "duration": 358,
    "start_time": "2021-12-16T21:42:00.090Z"
   },
   {
    "duration": 11,
    "start_time": "2021-12-16T21:42:20.085Z"
   },
   {
    "duration": 12,
    "start_time": "2021-12-16T21:42:33.758Z"
   },
   {
    "duration": 67,
    "start_time": "2021-12-16T21:44:38.357Z"
   },
   {
    "duration": 9,
    "start_time": "2021-12-16T21:45:16.679Z"
   },
   {
    "duration": 498,
    "start_time": "2021-12-16T21:45:37.340Z"
   },
   {
    "duration": 8,
    "start_time": "2021-12-16T21:45:48.206Z"
   },
   {
    "duration": 10,
    "start_time": "2021-12-16T21:53:52.243Z"
   },
   {
    "duration": 11,
    "start_time": "2021-12-16T21:54:20.351Z"
   },
   {
    "duration": 10,
    "start_time": "2021-12-16T21:57:54.643Z"
   },
   {
    "duration": 386,
    "start_time": "2021-12-16T22:00:13.441Z"
   },
   {
    "duration": 23,
    "start_time": "2021-12-16T22:00:44.253Z"
   },
   {
    "duration": 8,
    "start_time": "2021-12-16T22:09:28.829Z"
   },
   {
    "duration": 12,
    "start_time": "2021-12-16T22:09:40.883Z"
   },
   {
    "duration": 634,
    "start_time": "2021-12-16T22:10:14.037Z"
   },
   {
    "duration": 374,
    "start_time": "2021-12-16T22:20:52.673Z"
   },
   {
    "duration": 10,
    "start_time": "2021-12-16T22:21:00.508Z"
   },
   {
    "duration": 7,
    "start_time": "2021-12-16T22:21:26.783Z"
   },
   {
    "duration": 11971,
    "start_time": "2021-12-16T22:23:00.290Z"
   },
   {
    "duration": 18,
    "start_time": "2021-12-16T22:23:28.889Z"
   },
   {
    "duration": 13185,
    "start_time": "2021-12-16T22:23:39.383Z"
   },
   {
    "duration": 10966,
    "start_time": "2021-12-16T22:24:25.170Z"
   },
   {
    "duration": 70,
    "start_time": "2021-12-16T22:25:30.196Z"
   },
   {
    "duration": 11,
    "start_time": "2021-12-16T23:03:26.801Z"
   },
   {
    "duration": 46,
    "start_time": "2021-12-16T23:08:54.274Z"
   },
   {
    "duration": 852,
    "start_time": "2021-12-16T23:11:06.099Z"
   },
   {
    "duration": 4,
    "start_time": "2021-12-16T23:11:06.958Z"
   },
   {
    "duration": 130,
    "start_time": "2021-12-16T23:11:06.965Z"
   },
   {
    "duration": 642,
    "start_time": "2021-12-16T23:11:07.099Z"
   },
   {
    "duration": 69,
    "start_time": "2021-12-16T23:11:07.744Z"
   },
   {
    "duration": 45,
    "start_time": "2021-12-16T23:11:07.816Z"
   },
   {
    "duration": 14,
    "start_time": "2021-12-16T23:11:07.863Z"
   },
   {
    "duration": 4,
    "start_time": "2021-12-16T23:11:07.880Z"
   },
   {
    "duration": 19,
    "start_time": "2021-12-16T23:11:07.887Z"
   },
   {
    "duration": 6,
    "start_time": "2021-12-16T23:11:07.908Z"
   },
   {
    "duration": 53,
    "start_time": "2021-12-16T23:11:07.916Z"
   },
   {
    "duration": 13,
    "start_time": "2021-12-16T23:11:07.972Z"
   },
   {
    "duration": 21,
    "start_time": "2021-12-16T23:11:07.987Z"
   },
   {
    "duration": 11,
    "start_time": "2021-12-16T23:11:08.010Z"
   },
   {
    "duration": 8,
    "start_time": "2021-12-16T23:11:08.060Z"
   },
   {
    "duration": 22,
    "start_time": "2021-12-16T23:11:08.071Z"
   },
   {
    "duration": 350,
    "start_time": "2021-12-16T23:11:08.096Z"
   },
   {
    "duration": 20,
    "start_time": "2021-12-16T23:11:08.448Z"
   },
   {
    "duration": 28,
    "start_time": "2021-12-16T23:11:15.114Z"
   },
   {
    "duration": 159,
    "start_time": "2021-12-16T23:14:06.877Z"
   },
   {
    "duration": 121,
    "start_time": "2021-12-16T23:14:34.131Z"
   },
   {
    "duration": 1531,
    "start_time": "2021-12-16T23:15:14.480Z"
   },
   {
    "duration": 537,
    "start_time": "2021-12-16T23:21:10.624Z"
   },
   {
    "duration": 574,
    "start_time": "2021-12-16T23:22:26.794Z"
   },
   {
    "duration": 736,
    "start_time": "2021-12-16T23:23:02.958Z"
   },
   {
    "duration": 608,
    "start_time": "2021-12-16T23:24:11.576Z"
   },
   {
    "duration": 688,
    "start_time": "2021-12-16T23:28:33.564Z"
   },
   {
    "duration": 27,
    "start_time": "2021-12-16T23:29:23.196Z"
   },
   {
    "duration": 596,
    "start_time": "2021-12-16T23:29:33.979Z"
   },
   {
    "duration": 10857,
    "start_time": "2021-12-16T23:29:58.182Z"
   },
   {
    "duration": 10932,
    "start_time": "2021-12-16T23:30:27.890Z"
   },
   {
    "duration": 908,
    "start_time": "2021-12-16T23:31:55.341Z"
   },
   {
    "duration": 374,
    "start_time": "2021-12-16T23:33:44.569Z"
   },
   {
    "duration": 52,
    "start_time": "2021-12-16T23:34:01.580Z"
   },
   {
    "duration": 25,
    "start_time": "2021-12-16T23:34:30.070Z"
   },
   {
    "duration": 26,
    "start_time": "2021-12-16T23:35:04.267Z"
   },
   {
    "duration": 829,
    "start_time": "2021-12-16T23:35:32.997Z"
   },
   {
    "duration": 49,
    "start_time": "2021-12-16T23:35:46.418Z"
   },
   {
    "duration": 9756,
    "start_time": "2021-12-16T23:38:04.791Z"
   },
   {
    "duration": 673,
    "start_time": "2021-12-16T23:39:31.657Z"
   },
   {
    "duration": 1977,
    "start_time": "2021-12-16T23:40:11.896Z"
   },
   {
    "duration": 898,
    "start_time": "2021-12-16T23:40:37.248Z"
   },
   {
    "duration": 786,
    "start_time": "2021-12-16T23:40:57.635Z"
   },
   {
    "duration": 376,
    "start_time": "2021-12-16T23:42:08.546Z"
   },
   {
    "duration": 391,
    "start_time": "2021-12-16T23:42:21.798Z"
   },
   {
    "duration": 398,
    "start_time": "2021-12-16T23:42:34.742Z"
   },
   {
    "duration": 706,
    "start_time": "2021-12-16T23:43:03.538Z"
   },
   {
    "duration": 608,
    "start_time": "2021-12-16T23:58:52.969Z"
   },
   {
    "duration": 753,
    "start_time": "2021-12-17T00:46:57.670Z"
   },
   {
    "duration": 3,
    "start_time": "2021-12-17T00:46:58.426Z"
   },
   {
    "duration": 127,
    "start_time": "2021-12-17T00:46:58.433Z"
   },
   {
    "duration": 463,
    "start_time": "2021-12-17T00:46:58.563Z"
   },
   {
    "duration": 50,
    "start_time": "2021-12-17T00:46:59.029Z"
   },
   {
    "duration": 26,
    "start_time": "2021-12-17T00:46:59.082Z"
   },
   {
    "duration": 18,
    "start_time": "2021-12-17T00:46:59.111Z"
   },
   {
    "duration": 4,
    "start_time": "2021-12-17T00:46:59.133Z"
   },
   {
    "duration": 19,
    "start_time": "2021-12-17T00:46:59.161Z"
   },
   {
    "duration": 6,
    "start_time": "2021-12-17T00:46:59.182Z"
   },
   {
    "duration": 12,
    "start_time": "2021-12-17T00:46:59.190Z"
   },
   {
    "duration": 12,
    "start_time": "2021-12-17T00:46:59.204Z"
   },
   {
    "duration": 53,
    "start_time": "2021-12-17T00:46:59.218Z"
   },
   {
    "duration": 11,
    "start_time": "2021-12-17T00:46:59.274Z"
   },
   {
    "duration": 6,
    "start_time": "2021-12-17T00:46:59.288Z"
   },
   {
    "duration": 20,
    "start_time": "2021-12-17T00:46:59.296Z"
   },
   {
    "duration": 361,
    "start_time": "2021-12-17T00:46:59.318Z"
   },
   {
    "duration": 13,
    "start_time": "2021-12-17T00:46:59.682Z"
   },
   {
    "duration": 29,
    "start_time": "2021-12-17T00:46:59.698Z"
   },
   {
    "duration": 677,
    "start_time": "2021-12-17T00:46:59.729Z"
   },
   {
    "duration": 8,
    "start_time": "2021-12-17T00:47:21.051Z"
   },
   {
    "duration": 11,
    "start_time": "2021-12-17T00:48:08.905Z"
   },
   {
    "duration": 616,
    "start_time": "2021-12-17T00:59:20.510Z"
   },
   {
    "duration": 503,
    "start_time": "2021-12-17T01:00:06.814Z"
   },
   {
    "duration": 659,
    "start_time": "2021-12-17T13:28:31.260Z"
   },
   {
    "duration": 3,
    "start_time": "2021-12-17T13:28:31.921Z"
   },
   {
    "duration": 88,
    "start_time": "2021-12-17T13:28:31.927Z"
   },
   {
    "duration": 446,
    "start_time": "2021-12-17T13:28:32.017Z"
   },
   {
    "duration": 40,
    "start_time": "2021-12-17T13:28:32.465Z"
   },
   {
    "duration": 21,
    "start_time": "2021-12-17T13:28:32.507Z"
   },
   {
    "duration": 15,
    "start_time": "2021-12-17T13:28:32.530Z"
   },
   {
    "duration": 18,
    "start_time": "2021-12-17T13:28:32.548Z"
   },
   {
    "duration": 17,
    "start_time": "2021-12-17T13:28:32.569Z"
   },
   {
    "duration": 13,
    "start_time": "2021-12-17T13:28:32.588Z"
   },
   {
    "duration": 10,
    "start_time": "2021-12-17T13:28:32.603Z"
   },
   {
    "duration": 12,
    "start_time": "2021-12-17T13:28:32.615Z"
   },
   {
    "duration": 15,
    "start_time": "2021-12-17T13:28:32.629Z"
   },
   {
    "duration": 22,
    "start_time": "2021-12-17T13:28:32.645Z"
   },
   {
    "duration": 8,
    "start_time": "2021-12-17T13:28:32.669Z"
   },
   {
    "duration": 14,
    "start_time": "2021-12-17T13:28:32.679Z"
   },
   {
    "duration": 217,
    "start_time": "2021-12-17T13:28:32.694Z"
   },
   {
    "duration": 9,
    "start_time": "2021-12-17T13:28:32.913Z"
   },
   {
    "duration": 20,
    "start_time": "2021-12-17T13:28:32.923Z"
   },
   {
    "duration": 414,
    "start_time": "2021-12-17T13:28:32.945Z"
   },
   {
    "duration": 9,
    "start_time": "2021-12-17T13:28:33.361Z"
   },
   {
    "duration": 8,
    "start_time": "2021-12-17T13:28:33.372Z"
   },
   {
    "duration": 361,
    "start_time": "2021-12-17T13:28:33.383Z"
   },
   {
    "duration": 153,
    "start_time": "2021-12-17T13:30:16.560Z"
   },
   {
    "duration": 395,
    "start_time": "2021-12-17T13:30:39.300Z"
   },
   {
    "duration": 363,
    "start_time": "2021-12-17T13:31:12.513Z"
   },
   {
    "duration": 120,
    "start_time": "2021-12-17T13:32:17.092Z"
   },
   {
    "duration": 6,
    "start_time": "2021-12-17T13:41:45.385Z"
   },
   {
    "duration": 267,
    "start_time": "2021-12-17T13:43:45.928Z"
   },
   {
    "duration": 197,
    "start_time": "2021-12-17T13:43:59.013Z"
   },
   {
    "duration": 20,
    "start_time": "2021-12-17T13:44:12.732Z"
   },
   {
    "duration": 145,
    "start_time": "2021-12-17T13:45:33.562Z"
   },
   {
    "duration": 466,
    "start_time": "2021-12-17T13:47:12.521Z"
   },
   {
    "duration": 400,
    "start_time": "2021-12-17T13:47:29.113Z"
   },
   {
    "duration": 390,
    "start_time": "2021-12-17T13:47:37.454Z"
   },
   {
    "duration": 408,
    "start_time": "2021-12-17T13:47:49.069Z"
   },
   {
    "duration": 258,
    "start_time": "2021-12-17T13:47:58.941Z"
   },
   {
    "duration": 121,
    "start_time": "2021-12-17T13:48:55.296Z"
   },
   {
    "duration": 252,
    "start_time": "2021-12-17T13:49:18.975Z"
   },
   {
    "duration": 324,
    "start_time": "2021-12-17T13:50:10.926Z"
   },
   {
    "duration": 293,
    "start_time": "2021-12-17T13:50:32.922Z"
   },
   {
    "duration": 200,
    "start_time": "2021-12-17T13:51:02.442Z"
   },
   {
    "duration": 193,
    "start_time": "2021-12-17T13:51:11.140Z"
   },
   {
    "duration": 272,
    "start_time": "2021-12-17T13:52:08.532Z"
   },
   {
    "duration": 391,
    "start_time": "2021-12-17T13:53:09.419Z"
   },
   {
    "duration": 12,
    "start_time": "2021-12-17T13:54:28.514Z"
   },
   {
    "duration": 15,
    "start_time": "2021-12-17T13:55:13.768Z"
   },
   {
    "duration": 165,
    "start_time": "2021-12-17T13:55:35.524Z"
   },
   {
    "duration": 264,
    "start_time": "2021-12-17T13:55:47.276Z"
   },
   {
    "duration": 176,
    "start_time": "2021-12-17T13:55:53.860Z"
   },
   {
    "duration": 19,
    "start_time": "2021-12-17T13:57:10.375Z"
   },
   {
    "duration": 89,
    "start_time": "2021-12-17T13:57:23.184Z"
   },
   {
    "duration": 284,
    "start_time": "2021-12-17T13:57:30.471Z"
   },
   {
    "duration": 267,
    "start_time": "2021-12-17T13:59:23.085Z"
   },
   {
    "duration": 85,
    "start_time": "2021-12-17T13:59:44.201Z"
   },
   {
    "duration": 192,
    "start_time": "2021-12-17T13:59:51.400Z"
   },
   {
    "duration": 198,
    "start_time": "2021-12-17T14:01:11.932Z"
   },
   {
    "duration": 321,
    "start_time": "2021-12-17T14:01:19.107Z"
   },
   {
    "duration": 209,
    "start_time": "2021-12-17T14:01:28.059Z"
   },
   {
    "duration": 186,
    "start_time": "2021-12-17T14:01:41.519Z"
   },
   {
    "duration": 433,
    "start_time": "2021-12-17T14:02:12.754Z"
   },
   {
    "duration": 372,
    "start_time": "2021-12-17T14:02:43.970Z"
   },
   {
    "duration": 4,
    "start_time": "2021-12-17T14:03:13.945Z"
   },
   {
    "duration": 346,
    "start_time": "2021-12-17T14:03:20.889Z"
   },
   {
    "duration": 345,
    "start_time": "2021-12-17T14:03:32.958Z"
   },
   {
    "duration": 218,
    "start_time": "2021-12-17T14:04:52.819Z"
   },
   {
    "duration": 225,
    "start_time": "2021-12-17T14:05:11.168Z"
   },
   {
    "duration": 23,
    "start_time": "2021-12-17T14:06:32.421Z"
   },
   {
    "duration": 489,
    "start_time": "2021-12-17T14:09:16.547Z"
   },
   {
    "duration": 241,
    "start_time": "2021-12-17T14:09:36.055Z"
   },
   {
    "duration": 257,
    "start_time": "2021-12-17T14:09:50.647Z"
   },
   {
    "duration": 481,
    "start_time": "2021-12-17T14:14:30.639Z"
   },
   {
    "duration": 238,
    "start_time": "2021-12-17T14:15:26.669Z"
   },
   {
    "duration": 9,
    "start_time": "2021-12-17T14:16:42.815Z"
   },
   {
    "duration": 27,
    "start_time": "2021-12-17T14:17:45.038Z"
   },
   {
    "duration": 257,
    "start_time": "2021-12-17T14:20:23.736Z"
   },
   {
    "duration": 266,
    "start_time": "2021-12-17T14:20:29.840Z"
   },
   {
    "duration": 259,
    "start_time": "2021-12-17T14:20:41.459Z"
   },
   {
    "duration": 5,
    "start_time": "2021-12-17T14:29:38.375Z"
   },
   {
    "duration": 593,
    "start_time": "2021-12-17T15:11:46.577Z"
   },
   {
    "duration": 3,
    "start_time": "2021-12-17T15:11:47.172Z"
   },
   {
    "duration": 75,
    "start_time": "2021-12-17T15:11:47.177Z"
   },
   {
    "duration": 389,
    "start_time": "2021-12-17T15:11:47.264Z"
   },
   {
    "duration": 83,
    "start_time": "2021-12-17T15:11:47.655Z"
   },
   {
    "duration": 5,
    "start_time": "2021-12-17T15:11:47.740Z"
   },
   {
    "duration": 45,
    "start_time": "2021-12-17T15:11:47.747Z"
   },
   {
    "duration": 17,
    "start_time": "2021-12-17T15:11:47.795Z"
   },
   {
    "duration": 11,
    "start_time": "2021-12-17T15:11:47.815Z"
   },
   {
    "duration": 5,
    "start_time": "2021-12-17T15:11:47.828Z"
   },
   {
    "duration": 33,
    "start_time": "2021-12-17T15:11:47.835Z"
   },
   {
    "duration": 8,
    "start_time": "2021-12-17T15:11:47.870Z"
   },
   {
    "duration": 9,
    "start_time": "2021-12-17T15:11:47.880Z"
   },
   {
    "duration": 12,
    "start_time": "2021-12-17T15:11:47.891Z"
   },
   {
    "duration": 13,
    "start_time": "2021-12-17T15:11:47.904Z"
   },
   {
    "duration": 10,
    "start_time": "2021-12-17T15:11:47.918Z"
   },
   {
    "duration": 34,
    "start_time": "2021-12-17T15:11:47.929Z"
   },
   {
    "duration": 17,
    "start_time": "2021-12-17T15:11:47.965Z"
   },
   {
    "duration": 275,
    "start_time": "2021-12-17T15:11:47.984Z"
   },
   {
    "duration": 7,
    "start_time": "2021-12-17T15:11:48.261Z"
   },
   {
    "duration": 26,
    "start_time": "2021-12-17T15:11:48.270Z"
   },
   {
    "duration": 467,
    "start_time": "2021-12-17T15:11:48.298Z"
   },
   {
    "duration": 6,
    "start_time": "2021-12-17T15:11:48.768Z"
   },
   {
    "duration": 30,
    "start_time": "2021-12-17T15:11:48.775Z"
   },
   {
    "duration": 412,
    "start_time": "2021-12-17T15:11:48.806Z"
   },
   {
    "duration": 5,
    "start_time": "2021-12-17T15:11:49.219Z"
   },
   {
    "duration": 39,
    "start_time": "2021-12-17T15:11:49.225Z"
   },
   {
    "duration": 249,
    "start_time": "2021-12-17T15:11:49.266Z"
   },
   {
    "duration": 86,
    "start_time": "2021-12-17T15:15:10.369Z"
   },
   {
    "duration": 6,
    "start_time": "2021-12-17T15:15:29.717Z"
   },
   {
    "duration": 5,
    "start_time": "2021-12-17T15:18:19.154Z"
   },
   {
    "duration": 5,
    "start_time": "2021-12-17T15:19:15.861Z"
   },
   {
    "duration": 374,
    "start_time": "2021-12-17T15:21:17.676Z"
   },
   {
    "duration": 379,
    "start_time": "2021-12-17T15:23:02.066Z"
   },
   {
    "duration": 396,
    "start_time": "2021-12-17T15:25:14.235Z"
   },
   {
    "duration": 5,
    "start_time": "2021-12-17T15:44:06.106Z"
   },
   {
    "duration": 6,
    "start_time": "2021-12-17T15:44:08.317Z"
   },
   {
    "duration": 5,
    "start_time": "2021-12-17T15:44:10.265Z"
   },
   {
    "duration": 5,
    "start_time": "2021-12-17T15:45:13.196Z"
   },
   {
    "duration": 4,
    "start_time": "2021-12-17T15:45:15.300Z"
   },
   {
    "duration": 4,
    "start_time": "2021-12-17T15:45:17.725Z"
   },
   {
    "duration": 5,
    "start_time": "2021-12-17T15:46:20.731Z"
   },
   {
    "duration": 6,
    "start_time": "2021-12-17T15:46:23.599Z"
   },
   {
    "duration": 6,
    "start_time": "2021-12-17T15:46:25.635Z"
   },
   {
    "duration": 12,
    "start_time": "2021-12-17T16:03:41.198Z"
   },
   {
    "duration": 486,
    "start_time": "2021-12-17T16:05:26.267Z"
   },
   {
    "duration": 362,
    "start_time": "2021-12-17T16:05:49.488Z"
   },
   {
    "duration": 15,
    "start_time": "2021-12-17T16:06:33.480Z"
   },
   {
    "duration": 13,
    "start_time": "2021-12-17T16:07:43.353Z"
   },
   {
    "duration": 175,
    "start_time": "2021-12-17T16:08:40.481Z"
   },
   {
    "duration": 258,
    "start_time": "2021-12-17T16:09:02.637Z"
   },
   {
    "duration": 12,
    "start_time": "2021-12-17T16:10:08.500Z"
   },
   {
    "duration": 3,
    "start_time": "2021-12-17T16:11:06.934Z"
   },
   {
    "duration": 85,
    "start_time": "2021-12-17T16:11:16.747Z"
   },
   {
    "duration": 95,
    "start_time": "2021-12-17T16:11:26.110Z"
   },
   {
    "duration": 92,
    "start_time": "2021-12-17T16:11:47.206Z"
   },
   {
    "duration": 260,
    "start_time": "2021-12-17T16:15:27.151Z"
   },
   {
    "duration": 258,
    "start_time": "2021-12-17T16:16:12.769Z"
   },
   {
    "duration": 11,
    "start_time": "2021-12-17T17:03:05.763Z"
   },
   {
    "duration": 34,
    "start_time": "2021-12-17T17:12:31.798Z"
   },
   {
    "duration": 6,
    "start_time": "2021-12-17T17:13:53.155Z"
   },
   {
    "duration": 6,
    "start_time": "2021-12-17T17:14:55.646Z"
   },
   {
    "duration": 30,
    "start_time": "2021-12-17T17:15:19.802Z"
   },
   {
    "duration": 8,
    "start_time": "2021-12-17T17:15:25.514Z"
   },
   {
    "duration": 354,
    "start_time": "2021-12-17T17:15:41.543Z"
   },
   {
    "duration": 6,
    "start_time": "2021-12-17T17:15:47.686Z"
   },
   {
    "duration": 260,
    "start_time": "2021-12-17T17:16:45.157Z"
   },
   {
    "duration": 1389,
    "start_time": "2021-12-17T17:16:58.324Z"
   },
   {
    "duration": 12,
    "start_time": "2021-12-17T17:17:24.928Z"
   },
   {
    "duration": 6,
    "start_time": "2021-12-17T17:17:36.001Z"
   },
   {
    "duration": 9,
    "start_time": "2021-12-17T17:19:33.392Z"
   },
   {
    "duration": 276,
    "start_time": "2021-12-17T17:21:59.087Z"
   },
   {
    "duration": 269,
    "start_time": "2021-12-17T17:22:05.559Z"
   },
   {
    "duration": 4,
    "start_time": "2021-12-17T17:22:13.636Z"
   },
   {
    "duration": 11,
    "start_time": "2021-12-17T17:22:16.155Z"
   },
   {
    "duration": 275,
    "start_time": "2021-12-17T17:22:41.949Z"
   },
   {
    "duration": 286,
    "start_time": "2021-12-17T17:23:33.523Z"
   },
   {
    "duration": 81,
    "start_time": "2021-12-17T17:23:50.134Z"
   },
   {
    "duration": 264,
    "start_time": "2021-12-17T17:23:55.430Z"
   },
   {
    "duration": 330,
    "start_time": "2021-12-17T17:24:05.646Z"
   },
   {
    "duration": 11662,
    "start_time": "2021-12-17T17:24:32.931Z"
   },
   {
    "duration": 621,
    "start_time": "2021-12-17T17:25:47.431Z"
   },
   {
    "duration": 2,
    "start_time": "2021-12-17T17:25:48.055Z"
   },
   {
    "duration": 77,
    "start_time": "2021-12-17T17:25:48.059Z"
   },
   {
    "duration": 442,
    "start_time": "2021-12-17T17:25:48.137Z"
   },
   {
    "duration": 83,
    "start_time": "2021-12-17T17:25:48.581Z"
   },
   {
    "duration": 3,
    "start_time": "2021-12-17T17:25:48.666Z"
   },
   {
    "duration": 41,
    "start_time": "2021-12-17T17:25:48.671Z"
   },
   {
    "duration": 15,
    "start_time": "2021-12-17T17:25:48.714Z"
   },
   {
    "duration": 9,
    "start_time": "2021-12-17T17:25:48.732Z"
   },
   {
    "duration": 3,
    "start_time": "2021-12-17T17:25:48.743Z"
   },
   {
    "duration": 34,
    "start_time": "2021-12-17T17:25:48.747Z"
   },
   {
    "duration": 8,
    "start_time": "2021-12-17T17:25:48.783Z"
   },
   {
    "duration": 11,
    "start_time": "2021-12-17T17:25:48.793Z"
   },
   {
    "duration": 12,
    "start_time": "2021-12-17T17:25:48.805Z"
   },
   {
    "duration": 17,
    "start_time": "2021-12-17T17:25:48.819Z"
   },
   {
    "duration": 8,
    "start_time": "2021-12-17T17:25:48.838Z"
   },
   {
    "duration": 15,
    "start_time": "2021-12-17T17:25:48.848Z"
   },
   {
    "duration": 18,
    "start_time": "2021-12-17T17:25:48.865Z"
   },
   {
    "duration": 273,
    "start_time": "2021-12-17T17:25:48.885Z"
   },
   {
    "duration": 10,
    "start_time": "2021-12-17T17:25:49.160Z"
   },
   {
    "duration": 23,
    "start_time": "2021-12-17T17:25:49.172Z"
   },
   {
    "duration": 497,
    "start_time": "2021-12-17T17:25:49.197Z"
   },
   {
    "duration": 8,
    "start_time": "2021-12-17T17:25:49.698Z"
   },
   {
    "duration": 10,
    "start_time": "2021-12-17T17:25:49.708Z"
   },
   {
    "duration": 424,
    "start_time": "2021-12-17T17:25:49.720Z"
   },
   {
    "duration": 5,
    "start_time": "2021-12-17T17:25:50.146Z"
   },
   {
    "duration": 8,
    "start_time": "2021-12-17T17:25:50.163Z"
   },
   {
    "duration": 253,
    "start_time": "2021-12-17T17:25:50.173Z"
   },
   {
    "duration": 5,
    "start_time": "2021-12-17T17:25:50.428Z"
   },
   {
    "duration": 10,
    "start_time": "2021-12-17T17:25:50.435Z"
   },
   {
    "duration": 19,
    "start_time": "2021-12-17T17:25:50.446Z"
   },
   {
    "duration": 394,
    "start_time": "2021-12-17T17:25:50.467Z"
   },
   {
    "duration": 390,
    "start_time": "2021-12-17T17:25:50.863Z"
   },
   {
    "duration": 10,
    "start_time": "2021-12-17T17:25:51.255Z"
   },
   {
    "duration": 17,
    "start_time": "2021-12-17T17:25:51.266Z"
   },
   {
    "duration": 13,
    "start_time": "2021-12-17T17:25:51.285Z"
   },
   {
    "duration": 12,
    "start_time": "2021-12-17T17:25:51.300Z"
   },
   {
    "duration": 16,
    "start_time": "2021-12-17T17:25:51.314Z"
   },
   {
    "duration": 13,
    "start_time": "2021-12-17T17:25:51.333Z"
   },
   {
    "duration": 9,
    "start_time": "2021-12-17T17:25:51.348Z"
   },
   {
    "duration": 13,
    "start_time": "2021-12-17T17:25:51.359Z"
   },
   {
    "duration": 15,
    "start_time": "2021-12-17T17:25:51.374Z"
   },
   {
    "duration": 20,
    "start_time": "2021-12-17T17:25:51.392Z"
   },
   {
    "duration": 252,
    "start_time": "2021-12-17T17:25:51.414Z"
   },
   {
    "duration": 351,
    "start_time": "2021-12-17T17:27:33.116Z"
   },
   {
    "duration": 12,
    "start_time": "2021-12-17T17:27:44.468Z"
   },
   {
    "duration": 8,
    "start_time": "2021-12-17T17:27:49.487Z"
   },
   {
    "duration": 265,
    "start_time": "2021-12-17T17:29:49.259Z"
   },
   {
    "duration": 12,
    "start_time": "2021-12-17T17:29:56.804Z"
   },
   {
    "duration": 7,
    "start_time": "2021-12-17T17:29:58.515Z"
   },
   {
    "duration": 6,
    "start_time": "2021-12-17T17:34:03.071Z"
   },
   {
    "duration": 92,
    "start_time": "2021-12-17T17:35:39.826Z"
   },
   {
    "duration": 9,
    "start_time": "2021-12-17T17:35:41.995Z"
   },
   {
    "duration": 11,
    "start_time": "2021-12-17T17:41:49.355Z"
   },
   {
    "duration": 7,
    "start_time": "2021-12-17T17:41:51.640Z"
   },
   {
    "duration": 11,
    "start_time": "2021-12-17T17:42:21.899Z"
   },
   {
    "duration": 9,
    "start_time": "2021-12-17T17:42:23.419Z"
   },
   {
    "duration": 14,
    "start_time": "2021-12-17T17:42:49.243Z"
   },
   {
    "duration": 16,
    "start_time": "2021-12-17T17:42:58.755Z"
   },
   {
    "duration": 17,
    "start_time": "2021-12-17T17:46:55.754Z"
   },
   {
    "duration": 15,
    "start_time": "2021-12-17T17:47:48.905Z"
   },
   {
    "duration": 18,
    "start_time": "2021-12-17T17:48:05.041Z"
   },
   {
    "duration": 16,
    "start_time": "2021-12-17T17:49:49.787Z"
   },
   {
    "duration": 18,
    "start_time": "2021-12-17T17:53:09.732Z"
   },
   {
    "duration": 15,
    "start_time": "2021-12-17T17:54:55.442Z"
   },
   {
    "duration": 15,
    "start_time": "2021-12-17T17:55:16.345Z"
   },
   {
    "duration": 14,
    "start_time": "2021-12-17T17:55:27.221Z"
   },
   {
    "duration": 14,
    "start_time": "2021-12-17T18:00:28.729Z"
   },
   {
    "duration": 13,
    "start_time": "2021-12-17T18:01:07.009Z"
   },
   {
    "duration": 22,
    "start_time": "2021-12-17T18:01:40.289Z"
   },
   {
    "duration": 7,
    "start_time": "2021-12-17T19:05:32.148Z"
   },
   {
    "duration": 7,
    "start_time": "2021-12-17T19:05:33.885Z"
   },
   {
    "duration": 5,
    "start_time": "2021-12-17T19:06:52.653Z"
   },
   {
    "duration": 7,
    "start_time": "2021-12-17T19:08:13.367Z"
   },
   {
    "duration": 6,
    "start_time": "2021-12-17T19:16:46.045Z"
   },
   {
    "duration": 5,
    "start_time": "2021-12-17T19:16:47.810Z"
   },
   {
    "duration": 6,
    "start_time": "2021-12-17T19:18:15.954Z"
   },
   {
    "duration": 337,
    "start_time": "2021-12-17T19:18:30.168Z"
   },
   {
    "duration": 7,
    "start_time": "2021-12-17T19:18:35.789Z"
   },
   {
    "duration": 737,
    "start_time": "2021-12-17T19:55:13.786Z"
   },
   {
    "duration": 3,
    "start_time": "2021-12-17T19:55:14.525Z"
   },
   {
    "duration": 146,
    "start_time": "2021-12-17T19:55:14.530Z"
   },
   {
    "duration": 473,
    "start_time": "2021-12-17T19:55:14.682Z"
   },
   {
    "duration": 88,
    "start_time": "2021-12-17T19:55:15.157Z"
   },
   {
    "duration": 3,
    "start_time": "2021-12-17T19:55:15.247Z"
   },
   {
    "duration": 49,
    "start_time": "2021-12-17T19:55:15.252Z"
   },
   {
    "duration": 28,
    "start_time": "2021-12-17T19:55:15.304Z"
   },
   {
    "duration": 17,
    "start_time": "2021-12-17T19:55:15.335Z"
   },
   {
    "duration": 4,
    "start_time": "2021-12-17T19:55:15.354Z"
   },
   {
    "duration": 15,
    "start_time": "2021-12-17T19:55:15.360Z"
   },
   {
    "duration": 30,
    "start_time": "2021-12-17T19:55:15.377Z"
   },
   {
    "duration": 29,
    "start_time": "2021-12-17T19:55:15.409Z"
   },
   {
    "duration": 14,
    "start_time": "2021-12-17T19:55:15.440Z"
   },
   {
    "duration": 22,
    "start_time": "2021-12-17T19:55:15.456Z"
   },
   {
    "duration": 13,
    "start_time": "2021-12-17T19:55:15.480Z"
   },
   {
    "duration": 7,
    "start_time": "2021-12-17T19:55:15.494Z"
   },
   {
    "duration": 69,
    "start_time": "2021-12-17T19:55:15.503Z"
   },
   {
    "duration": 439,
    "start_time": "2021-12-17T19:55:15.574Z"
   },
   {
    "duration": 9,
    "start_time": "2021-12-17T19:55:16.014Z"
   },
   {
    "duration": 43,
    "start_time": "2021-12-17T19:55:16.025Z"
   },
   {
    "duration": 718,
    "start_time": "2021-12-17T19:55:16.070Z"
   },
   {
    "duration": 8,
    "start_time": "2021-12-17T19:55:16.792Z"
   },
   {
    "duration": 12,
    "start_time": "2021-12-17T19:55:16.803Z"
   },
   {
    "duration": 674,
    "start_time": "2021-12-17T19:55:16.817Z"
   },
   {
    "duration": 7,
    "start_time": "2021-12-17T19:55:17.494Z"
   },
   {
    "duration": 26,
    "start_time": "2021-12-17T19:55:17.504Z"
   },
   {
    "duration": 261,
    "start_time": "2021-12-17T19:55:17.533Z"
   },
   {
    "duration": 9,
    "start_time": "2021-12-17T19:55:17.797Z"
   },
   {
    "duration": 8,
    "start_time": "2021-12-17T19:55:17.808Z"
   },
   {
    "duration": 15,
    "start_time": "2021-12-17T19:55:17.817Z"
   },
   {
    "duration": 449,
    "start_time": "2021-12-17T19:55:17.834Z"
   },
   {
    "duration": 415,
    "start_time": "2021-12-17T19:55:18.285Z"
   },
   {
    "duration": 6,
    "start_time": "2021-12-17T19:55:18.702Z"
   },
   {
    "duration": 10,
    "start_time": "2021-12-17T19:55:18.710Z"
   },
   {
    "duration": 15,
    "start_time": "2021-12-17T19:55:18.722Z"
   },
   {
    "duration": 9,
    "start_time": "2021-12-17T19:55:18.739Z"
   },
   {
    "duration": 16,
    "start_time": "2021-12-17T19:55:18.750Z"
   },
   {
    "duration": 10,
    "start_time": "2021-12-17T19:55:18.768Z"
   },
   {
    "duration": 18,
    "start_time": "2021-12-17T19:55:18.780Z"
   },
   {
    "duration": 12,
    "start_time": "2021-12-17T19:55:18.800Z"
   },
   {
    "duration": 14,
    "start_time": "2021-12-17T19:55:18.814Z"
   },
   {
    "duration": 16,
    "start_time": "2021-12-17T19:55:18.830Z"
   },
   {
    "duration": 270,
    "start_time": "2021-12-17T19:55:18.848Z"
   },
   {
    "duration": 20,
    "start_time": "2021-12-17T19:55:19.121Z"
   },
   {
    "duration": 35,
    "start_time": "2021-12-17T19:55:19.143Z"
   },
   {
    "duration": 16,
    "start_time": "2021-12-17T19:55:19.180Z"
   },
   {
    "duration": 123,
    "start_time": "2021-12-17T19:55:19.199Z"
   },
   {
    "duration": 20,
    "start_time": "2021-12-17T19:55:19.324Z"
   },
   {
    "duration": 29,
    "start_time": "2021-12-17T19:55:19.347Z"
   },
   {
    "duration": 17,
    "start_time": "2021-12-17T19:55:19.378Z"
   },
   {
    "duration": 14,
    "start_time": "2021-12-17T19:55:19.397Z"
   },
   {
    "duration": 18,
    "start_time": "2021-12-17T19:55:19.413Z"
   },
   {
    "duration": 7,
    "start_time": "2021-12-17T19:55:19.463Z"
   },
   {
    "duration": 11,
    "start_time": "2021-12-17T19:55:19.471Z"
   },
   {
    "duration": 13,
    "start_time": "2021-12-17T19:55:19.484Z"
   },
   {
    "duration": 10,
    "start_time": "2021-12-17T19:55:19.500Z"
   },
   {
    "duration": 9,
    "start_time": "2021-12-17T19:55:19.513Z"
   },
   {
    "duration": 11,
    "start_time": "2021-12-17T19:55:19.524Z"
   },
   {
    "duration": 572,
    "start_time": "2021-12-18T15:18:14.308Z"
   },
   {
    "duration": 2,
    "start_time": "2021-12-18T15:18:14.883Z"
   },
   {
    "duration": 98,
    "start_time": "2021-12-18T15:18:14.887Z"
   },
   {
    "duration": 413,
    "start_time": "2021-12-18T15:18:14.988Z"
   },
   {
    "duration": 90,
    "start_time": "2021-12-18T15:18:15.403Z"
   },
   {
    "duration": 3,
    "start_time": "2021-12-18T15:18:15.495Z"
   },
   {
    "duration": 43,
    "start_time": "2021-12-18T15:18:15.500Z"
   },
   {
    "duration": 16,
    "start_time": "2021-12-18T15:18:15.546Z"
   },
   {
    "duration": 17,
    "start_time": "2021-12-18T15:18:15.564Z"
   },
   {
    "duration": 2,
    "start_time": "2021-12-18T15:18:15.583Z"
   },
   {
    "duration": 17,
    "start_time": "2021-12-18T15:18:15.587Z"
   },
   {
    "duration": 5,
    "start_time": "2021-12-18T15:18:15.606Z"
   },
   {
    "duration": 11,
    "start_time": "2021-12-18T15:18:15.613Z"
   },
   {
    "duration": 10,
    "start_time": "2021-12-18T15:18:15.626Z"
   },
   {
    "duration": 29,
    "start_time": "2021-12-18T15:18:15.638Z"
   },
   {
    "duration": 10,
    "start_time": "2021-12-18T15:18:15.669Z"
   },
   {
    "duration": 6,
    "start_time": "2021-12-18T15:18:15.681Z"
   },
   {
    "duration": 15,
    "start_time": "2021-12-18T15:18:15.689Z"
   },
   {
    "duration": 295,
    "start_time": "2021-12-18T15:18:15.706Z"
   },
   {
    "duration": 8,
    "start_time": "2021-12-18T15:18:16.003Z"
   },
   {
    "duration": 20,
    "start_time": "2021-12-18T15:18:16.013Z"
   },
   {
    "duration": 523,
    "start_time": "2021-12-18T15:18:16.035Z"
   },
   {
    "duration": 8,
    "start_time": "2021-12-18T15:18:16.566Z"
   },
   {
    "duration": 9,
    "start_time": "2021-12-18T15:18:16.576Z"
   },
   {
    "duration": 438,
    "start_time": "2021-12-18T15:18:16.587Z"
   },
   {
    "duration": 4,
    "start_time": "2021-12-18T15:18:17.027Z"
   },
   {
    "duration": 10,
    "start_time": "2021-12-18T15:18:17.033Z"
   },
   {
    "duration": 250,
    "start_time": "2021-12-18T15:18:17.044Z"
   },
   {
    "duration": 6,
    "start_time": "2021-12-18T15:18:17.296Z"
   },
   {
    "duration": 7,
    "start_time": "2021-12-18T15:18:17.303Z"
   },
   {
    "duration": 7,
    "start_time": "2021-12-18T15:18:17.312Z"
   },
   {
    "duration": 423,
    "start_time": "2021-12-18T15:18:17.321Z"
   },
   {
    "duration": 403,
    "start_time": "2021-12-18T15:18:17.745Z"
   },
   {
    "duration": 5,
    "start_time": "2021-12-18T15:18:18.150Z"
   },
   {
    "duration": 8,
    "start_time": "2021-12-18T15:18:18.156Z"
   },
   {
    "duration": 7,
    "start_time": "2021-12-18T15:18:18.165Z"
   },
   {
    "duration": 7,
    "start_time": "2021-12-18T15:18:18.174Z"
   },
   {
    "duration": 7,
    "start_time": "2021-12-18T15:18:18.182Z"
   },
   {
    "duration": 8,
    "start_time": "2021-12-18T15:18:18.190Z"
   },
   {
    "duration": 13,
    "start_time": "2021-12-18T15:18:18.200Z"
   },
   {
    "duration": 10,
    "start_time": "2021-12-18T15:18:18.215Z"
   },
   {
    "duration": 9,
    "start_time": "2021-12-18T15:18:18.226Z"
   },
   {
    "duration": 774,
    "start_time": "2021-12-18T15:18:39.089Z"
   },
   {
    "duration": 704,
    "start_time": "2021-12-18T15:18:50.696Z"
   },
   {
    "duration": 3,
    "start_time": "2021-12-18T15:19:01.007Z"
   },
   {
    "duration": 9,
    "start_time": "2021-12-18T15:19:01.012Z"
   },
   {
    "duration": 7,
    "start_time": "2021-12-18T15:19:01.023Z"
   },
   {
    "duration": 9,
    "start_time": "2021-12-18T15:19:01.032Z"
   },
   {
    "duration": 11,
    "start_time": "2021-12-18T15:19:01.043Z"
   },
   {
    "duration": 14,
    "start_time": "2021-12-18T15:19:01.056Z"
   },
   {
    "duration": 57,
    "start_time": "2021-12-18T15:19:01.071Z"
   },
   {
    "duration": 15,
    "start_time": "2021-12-18T15:19:01.130Z"
   },
   {
    "duration": 31,
    "start_time": "2021-12-18T15:19:01.147Z"
   },
   {
    "duration": 4,
    "start_time": "2021-12-18T15:19:01.181Z"
   },
   {
    "duration": 19,
    "start_time": "2021-12-18T15:19:01.187Z"
   },
   {
    "duration": 12,
    "start_time": "2021-12-18T15:19:01.209Z"
   },
   {
    "duration": 8,
    "start_time": "2021-12-18T15:19:01.223Z"
   },
   {
    "duration": 13,
    "start_time": "2021-12-18T15:19:01.232Z"
   },
   {
    "duration": 25,
    "start_time": "2021-12-18T15:19:01.246Z"
   },
   {
    "duration": 11,
    "start_time": "2021-12-18T15:19:01.273Z"
   },
   {
    "duration": 7,
    "start_time": "2021-12-18T15:19:01.287Z"
   },
   {
    "duration": 19,
    "start_time": "2021-12-18T15:19:01.298Z"
   },
   {
    "duration": 303,
    "start_time": "2021-12-18T15:19:01.319Z"
   },
   {
    "duration": 10,
    "start_time": "2021-12-18T15:19:01.624Z"
   },
   {
    "duration": 36,
    "start_time": "2021-12-18T15:19:01.636Z"
   },
   {
    "duration": 546,
    "start_time": "2021-12-18T15:19:01.674Z"
   },
   {
    "duration": 9,
    "start_time": "2021-12-18T15:19:02.222Z"
   },
   {
    "duration": 23,
    "start_time": "2021-12-18T15:19:02.233Z"
   },
   {
    "duration": 606,
    "start_time": "2021-12-18T15:19:02.257Z"
   },
   {
    "duration": 7,
    "start_time": "2021-12-18T15:19:02.866Z"
   },
   {
    "duration": 9,
    "start_time": "2021-12-18T15:19:02.878Z"
   },
   {
    "duration": 266,
    "start_time": "2021-12-18T15:19:02.889Z"
   },
   {
    "duration": 5,
    "start_time": "2021-12-18T15:19:03.163Z"
   },
   {
    "duration": 7,
    "start_time": "2021-12-18T15:19:03.171Z"
   },
   {
    "duration": 11,
    "start_time": "2021-12-18T15:19:03.180Z"
   },
   {
    "duration": 429,
    "start_time": "2021-12-18T15:19:03.194Z"
   },
   {
    "duration": 419,
    "start_time": "2021-12-18T15:19:03.626Z"
   },
   {
    "duration": 5,
    "start_time": "2021-12-18T15:19:04.047Z"
   },
   {
    "duration": 12,
    "start_time": "2021-12-18T15:19:04.054Z"
   },
   {
    "duration": 9,
    "start_time": "2021-12-18T15:19:04.069Z"
   },
   {
    "duration": 8,
    "start_time": "2021-12-18T15:19:04.080Z"
   },
   {
    "duration": 5,
    "start_time": "2021-12-18T15:19:04.090Z"
   },
   {
    "duration": 4,
    "start_time": "2021-12-18T15:19:04.097Z"
   },
   {
    "duration": 7,
    "start_time": "2021-12-18T15:19:04.103Z"
   },
   {
    "duration": 9,
    "start_time": "2021-12-18T15:19:04.112Z"
   },
   {
    "duration": 10,
    "start_time": "2021-12-18T15:19:04.122Z"
   },
   {
    "duration": 996,
    "start_time": "2021-12-18T15:19:04.133Z"
   },
   {
    "duration": 753,
    "start_time": "2021-12-18T15:19:32.172Z"
   },
   {
    "duration": 4,
    "start_time": "2021-12-18T15:19:32.928Z"
   },
   {
    "duration": 87,
    "start_time": "2021-12-18T15:19:32.937Z"
   },
   {
    "duration": 414,
    "start_time": "2021-12-18T15:19:33.026Z"
   },
   {
    "duration": 87,
    "start_time": "2021-12-18T15:19:33.442Z"
   },
   {
    "duration": 3,
    "start_time": "2021-12-18T15:19:33.531Z"
   },
   {
    "duration": 41,
    "start_time": "2021-12-18T15:19:33.537Z"
   },
   {
    "duration": 17,
    "start_time": "2021-12-18T15:19:33.580Z"
   },
   {
    "duration": 15,
    "start_time": "2021-12-18T15:19:33.600Z"
   },
   {
    "duration": 4,
    "start_time": "2021-12-18T15:19:33.617Z"
   },
   {
    "duration": 43,
    "start_time": "2021-12-18T15:19:33.623Z"
   },
   {
    "duration": 6,
    "start_time": "2021-12-18T15:19:33.669Z"
   },
   {
    "duration": 9,
    "start_time": "2021-12-18T15:19:33.677Z"
   },
   {
    "duration": 10,
    "start_time": "2021-12-18T15:19:33.688Z"
   },
   {
    "duration": 14,
    "start_time": "2021-12-18T15:19:33.700Z"
   },
   {
    "duration": 10,
    "start_time": "2021-12-18T15:19:33.717Z"
   },
   {
    "duration": 41,
    "start_time": "2021-12-18T15:19:33.730Z"
   },
   {
    "duration": 14,
    "start_time": "2021-12-18T15:19:33.773Z"
   },
   {
    "duration": 289,
    "start_time": "2021-12-18T15:19:33.789Z"
   },
   {
    "duration": 8,
    "start_time": "2021-12-18T15:19:34.080Z"
   },
   {
    "duration": 27,
    "start_time": "2021-12-18T15:19:34.090Z"
   },
   {
    "duration": 493,
    "start_time": "2021-12-18T15:19:34.119Z"
   },
   {
    "duration": 6,
    "start_time": "2021-12-18T15:19:34.614Z"
   },
   {
    "duration": 9,
    "start_time": "2021-12-18T15:19:34.622Z"
   },
   {
    "duration": 658,
    "start_time": "2021-12-18T15:19:34.635Z"
   },
   {
    "duration": 4,
    "start_time": "2021-12-18T15:19:35.295Z"
   },
   {
    "duration": 13,
    "start_time": "2021-12-18T15:19:35.301Z"
   },
   {
    "duration": 250,
    "start_time": "2021-12-18T15:19:35.316Z"
   },
   {
    "duration": 8,
    "start_time": "2021-12-18T15:19:35.567Z"
   },
   {
    "duration": 21,
    "start_time": "2021-12-18T15:19:35.576Z"
   },
   {
    "duration": 10,
    "start_time": "2021-12-18T15:19:35.599Z"
   },
   {
    "duration": 396,
    "start_time": "2021-12-18T15:19:35.611Z"
   },
   {
    "duration": 659,
    "start_time": "2021-12-18T15:19:36.010Z"
   },
   {
    "duration": 6,
    "start_time": "2021-12-18T15:19:36.671Z"
   },
   {
    "duration": 8,
    "start_time": "2021-12-18T15:19:36.678Z"
   },
   {
    "duration": 7,
    "start_time": "2021-12-18T15:19:36.688Z"
   },
   {
    "duration": 9,
    "start_time": "2021-12-18T15:19:36.697Z"
   },
   {
    "duration": 9,
    "start_time": "2021-12-18T15:19:36.707Z"
   },
   {
    "duration": 6,
    "start_time": "2021-12-18T15:19:36.718Z"
   },
   {
    "duration": 42,
    "start_time": "2021-12-18T15:19:36.726Z"
   },
   {
    "duration": 10,
    "start_time": "2021-12-18T15:19:36.770Z"
   },
   {
    "duration": 7,
    "start_time": "2021-12-18T15:19:36.781Z"
   },
   {
    "duration": 21451,
    "start_time": "2021-12-18T15:19:36.790Z"
   },
   {
    "duration": 822,
    "start_time": "2021-12-18T16:33:34.934Z"
   },
   {
    "duration": 9,
    "start_time": "2021-12-18T16:33:35.759Z"
   },
   {
    "duration": 168,
    "start_time": "2021-12-18T16:33:35.771Z"
   },
   {
    "duration": 501,
    "start_time": "2021-12-18T16:33:35.942Z"
   },
   {
    "duration": 139,
    "start_time": "2021-12-18T16:33:36.446Z"
   },
   {
    "duration": 4,
    "start_time": "2021-12-18T16:33:36.588Z"
   },
   {
    "duration": 52,
    "start_time": "2021-12-18T16:33:36.594Z"
   },
   {
    "duration": 37,
    "start_time": "2021-12-18T16:33:36.650Z"
   },
   {
    "duration": 14,
    "start_time": "2021-12-18T16:33:36.690Z"
   },
   {
    "duration": 4,
    "start_time": "2021-12-18T16:33:36.706Z"
   },
   {
    "duration": 21,
    "start_time": "2021-12-18T16:33:36.712Z"
   },
   {
    "duration": 13,
    "start_time": "2021-12-18T16:33:36.769Z"
   },
   {
    "duration": 10,
    "start_time": "2021-12-18T16:33:36.784Z"
   },
   {
    "duration": 13,
    "start_time": "2021-12-18T16:33:36.796Z"
   },
   {
    "duration": 17,
    "start_time": "2021-12-18T16:33:36.812Z"
   },
   {
    "duration": 51,
    "start_time": "2021-12-18T16:33:36.831Z"
   },
   {
    "duration": 6,
    "start_time": "2021-12-18T16:33:44.257Z"
   },
   {
    "duration": 18,
    "start_time": "2021-12-18T16:33:56.164Z"
   },
   {
    "duration": 21,
    "start_time": "2021-12-18T16:34:23.101Z"
   },
   {
    "duration": 771,
    "start_time": "2021-12-18T16:37:08.192Z"
   },
   {
    "duration": 3,
    "start_time": "2021-12-18T16:37:08.965Z"
   },
   {
    "duration": 144,
    "start_time": "2021-12-18T16:37:08.972Z"
   },
   {
    "duration": 516,
    "start_time": "2021-12-18T16:37:09.119Z"
   },
   {
    "duration": 133,
    "start_time": "2021-12-18T16:37:09.638Z"
   },
   {
    "duration": 5,
    "start_time": "2021-12-18T16:37:09.773Z"
   },
   {
    "duration": 56,
    "start_time": "2021-12-18T16:37:09.783Z"
   },
   {
    "duration": 44,
    "start_time": "2021-12-18T16:37:09.844Z"
   },
   {
    "duration": 18,
    "start_time": "2021-12-18T16:37:09.891Z"
   },
   {
    "duration": 4,
    "start_time": "2021-12-18T16:37:09.911Z"
   },
   {
    "duration": 30,
    "start_time": "2021-12-18T16:37:09.918Z"
   },
   {
    "duration": 6,
    "start_time": "2021-12-18T16:37:09.967Z"
   },
   {
    "duration": 27,
    "start_time": "2021-12-18T16:37:09.976Z"
   },
   {
    "duration": 17,
    "start_time": "2021-12-18T16:37:10.005Z"
   },
   {
    "duration": 18,
    "start_time": "2021-12-18T16:37:10.024Z"
   },
   {
    "duration": 39,
    "start_time": "2021-12-18T16:37:10.044Z"
   },
   {
    "duration": 7,
    "start_time": "2021-12-18T16:37:10.085Z"
   },
   {
    "duration": 13,
    "start_time": "2021-12-18T16:37:10.095Z"
   },
   {
    "duration": 57,
    "start_time": "2021-12-18T16:37:10.110Z"
   },
   {
    "duration": 519,
    "start_time": "2021-12-18T16:37:10.171Z"
   },
   {
    "duration": 10,
    "start_time": "2021-12-18T16:37:10.693Z"
   },
   {
    "duration": 27,
    "start_time": "2021-12-18T16:37:10.705Z"
   },
   {
    "duration": 882,
    "start_time": "2021-12-18T16:37:10.738Z"
   },
   {
    "duration": 10,
    "start_time": "2021-12-18T16:37:11.623Z"
   },
   {
    "duration": 13,
    "start_time": "2021-12-18T16:37:11.635Z"
   },
   {
    "duration": 836,
    "start_time": "2021-12-18T16:37:11.673Z"
   },
   {
    "duration": 6,
    "start_time": "2021-12-18T16:37:12.511Z"
   },
   {
    "duration": 28,
    "start_time": "2021-12-18T16:37:12.519Z"
   },
   {
    "duration": 469,
    "start_time": "2021-12-18T16:37:12.550Z"
   },
   {
    "duration": 8,
    "start_time": "2021-12-18T16:37:13.022Z"
   },
   {
    "duration": 10,
    "start_time": "2021-12-18T16:37:13.032Z"
   },
   {
    "duration": 14,
    "start_time": "2021-12-18T16:37:13.066Z"
   },
   {
    "duration": 600,
    "start_time": "2021-12-18T16:37:13.084Z"
   },
   {
    "duration": 608,
    "start_time": "2021-12-18T16:37:13.687Z"
   },
   {
    "duration": 7,
    "start_time": "2021-12-18T16:37:14.297Z"
   },
   {
    "duration": 9,
    "start_time": "2021-12-18T16:37:14.307Z"
   },
   {
    "duration": 7,
    "start_time": "2021-12-18T16:37:14.318Z"
   },
   {
    "duration": 42,
    "start_time": "2021-12-18T16:37:14.328Z"
   },
   {
    "duration": 11,
    "start_time": "2021-12-18T16:37:14.375Z"
   },
   {
    "duration": 6,
    "start_time": "2021-12-18T16:37:14.389Z"
   },
   {
    "duration": 6,
    "start_time": "2021-12-18T16:37:14.398Z"
   },
   {
    "duration": 8,
    "start_time": "2021-12-18T16:37:14.407Z"
   },
   {
    "duration": 7,
    "start_time": "2021-12-18T16:37:14.417Z"
   },
   {
    "duration": 2372,
    "start_time": "2021-12-18T16:37:14.468Z"
   },
   {
    "duration": 31,
    "start_time": "2021-12-18T16:37:16.843Z"
   },
   {
    "duration": 472,
    "start_time": "2021-12-18T16:37:16.877Z"
   },
   {
    "duration": 39,
    "start_time": "2021-12-18T16:37:17.352Z"
   },
   {
    "duration": 24,
    "start_time": "2021-12-18T16:37:17.394Z"
   },
   {
    "duration": 54,
    "start_time": "2021-12-18T16:37:17.420Z"
   },
   {
    "duration": 22,
    "start_time": "2021-12-18T16:37:17.478Z"
   },
   {
    "duration": 24,
    "start_time": "2021-12-18T16:37:17.503Z"
   },
   {
    "duration": 56,
    "start_time": "2021-12-18T16:37:17.529Z"
   },
   {
    "duration": 20,
    "start_time": "2021-12-18T16:37:17.588Z"
   },
   {
    "duration": 21,
    "start_time": "2021-12-18T16:37:17.610Z"
   },
   {
    "duration": 58,
    "start_time": "2021-12-18T16:37:17.634Z"
   },
   {
    "duration": 8,
    "start_time": "2021-12-18T16:37:17.695Z"
   },
   {
    "duration": 14,
    "start_time": "2021-12-18T16:37:17.706Z"
   },
   {
    "duration": 11,
    "start_time": "2021-12-18T16:37:17.723Z"
   },
   {
    "duration": 11,
    "start_time": "2021-12-18T16:37:17.768Z"
   },
   {
    "duration": 9,
    "start_time": "2021-12-18T16:37:17.781Z"
   },
   {
    "duration": 11,
    "start_time": "2021-12-18T16:37:17.793Z"
   },
   {
    "duration": 820,
    "start_time": "2021-12-18T17:04:41.767Z"
   },
   {
    "duration": 3,
    "start_time": "2021-12-18T17:04:42.590Z"
   },
   {
    "duration": 136,
    "start_time": "2021-12-18T17:04:42.596Z"
   },
   {
    "duration": 521,
    "start_time": "2021-12-18T17:04:42.735Z"
   },
   {
    "duration": 143,
    "start_time": "2021-12-18T17:04:43.258Z"
   },
   {
    "duration": 6,
    "start_time": "2021-12-18T17:04:43.403Z"
   },
   {
    "duration": 65,
    "start_time": "2021-12-18T17:04:43.412Z"
   },
   {
    "duration": 36,
    "start_time": "2021-12-18T17:04:43.483Z"
   },
   {
    "duration": 14,
    "start_time": "2021-12-18T17:04:43.522Z"
   },
   {
    "duration": 29,
    "start_time": "2021-12-18T17:04:43.539Z"
   },
   {
    "duration": 24,
    "start_time": "2021-12-18T17:04:43.572Z"
   },
   {
    "duration": 8,
    "start_time": "2021-12-18T17:04:43.599Z"
   },
   {
    "duration": 12,
    "start_time": "2021-12-18T17:04:43.609Z"
   },
   {
    "duration": 54,
    "start_time": "2021-12-18T17:04:43.623Z"
   },
   {
    "duration": 18,
    "start_time": "2021-12-18T17:04:43.681Z"
   },
   {
    "duration": 14,
    "start_time": "2021-12-18T17:04:43.702Z"
   },
   {
    "duration": 50,
    "start_time": "2021-12-18T17:04:43.719Z"
   },
   {
    "duration": 16,
    "start_time": "2021-12-18T17:04:43.774Z"
   },
   {
    "duration": 14,
    "start_time": "2021-12-18T17:04:43.793Z"
   },
   {
    "duration": 21,
    "start_time": "2021-12-18T17:04:43.809Z"
   },
   {
    "duration": 563,
    "start_time": "2021-12-18T17:04:43.832Z"
   },
   {
    "duration": 10,
    "start_time": "2021-12-18T17:04:44.398Z"
   },
   {
    "duration": 55,
    "start_time": "2021-12-18T17:04:44.414Z"
   },
   {
    "duration": 914,
    "start_time": "2021-12-18T17:04:44.473Z"
   },
   {
    "duration": 12,
    "start_time": "2021-12-18T17:04:45.390Z"
   },
   {
    "duration": 11,
    "start_time": "2021-12-18T17:04:45.405Z"
   },
   {
    "duration": 793,
    "start_time": "2021-12-18T17:04:45.420Z"
   },
   {
    "duration": 7,
    "start_time": "2021-12-18T17:04:46.215Z"
   },
   {
    "duration": 12,
    "start_time": "2021-12-18T17:04:46.224Z"
   },
   {
    "duration": 499,
    "start_time": "2021-12-18T17:04:46.238Z"
   },
   {
    "duration": 8,
    "start_time": "2021-12-18T17:04:46.740Z"
   },
   {
    "duration": 23,
    "start_time": "2021-12-18T17:04:46.751Z"
   },
   {
    "duration": 11,
    "start_time": "2021-12-18T17:04:46.777Z"
   },
   {
    "duration": 660,
    "start_time": "2021-12-18T17:04:46.791Z"
   },
   {
    "duration": 659,
    "start_time": "2021-12-18T17:04:47.454Z"
   },
   {
    "duration": 7,
    "start_time": "2021-12-18T17:04:48.116Z"
   },
   {
    "duration": 11,
    "start_time": "2021-12-18T17:04:48.125Z"
   },
   {
    "duration": 31,
    "start_time": "2021-12-18T17:04:48.138Z"
   },
   {
    "duration": 15,
    "start_time": "2021-12-18T17:04:48.173Z"
   },
   {
    "duration": 10,
    "start_time": "2021-12-18T17:04:48.190Z"
   },
   {
    "duration": 7,
    "start_time": "2021-12-18T17:04:48.202Z"
   },
   {
    "duration": 8,
    "start_time": "2021-12-18T17:04:48.211Z"
   },
   {
    "duration": 12,
    "start_time": "2021-12-18T17:04:48.221Z"
   },
   {
    "duration": 7,
    "start_time": "2021-12-18T17:04:48.268Z"
   },
   {
    "duration": 2569,
    "start_time": "2021-12-18T17:04:48.278Z"
   },
   {
    "duration": 29,
    "start_time": "2021-12-18T17:04:50.849Z"
   },
   {
    "duration": 518,
    "start_time": "2021-12-18T17:04:50.881Z"
   },
   {
    "duration": 27,
    "start_time": "2021-12-18T17:04:51.403Z"
   },
   {
    "duration": 60,
    "start_time": "2021-12-18T17:04:51.433Z"
   },
   {
    "duration": 26,
    "start_time": "2021-12-18T17:04:51.496Z"
   },
   {
    "duration": 54,
    "start_time": "2021-12-18T17:04:51.525Z"
   },
   {
    "duration": 23,
    "start_time": "2021-12-18T17:04:51.582Z"
   },
   {
    "duration": 28,
    "start_time": "2021-12-18T17:04:51.608Z"
   },
   {
    "duration": 47,
    "start_time": "2021-12-18T17:04:51.639Z"
   },
   {
    "duration": 22,
    "start_time": "2021-12-18T17:04:51.690Z"
   },
   {
    "duration": 63,
    "start_time": "2021-12-18T17:04:51.715Z"
   },
   {
    "duration": 9,
    "start_time": "2021-12-18T17:04:51.781Z"
   },
   {
    "duration": 12,
    "start_time": "2021-12-18T17:04:51.792Z"
   },
   {
    "duration": 13,
    "start_time": "2021-12-18T17:04:51.807Z"
   },
   {
    "duration": 17,
    "start_time": "2021-12-18T17:04:51.823Z"
   },
   {
    "duration": 34,
    "start_time": "2021-12-18T17:04:51.842Z"
   },
   {
    "duration": 22,
    "start_time": "2021-12-18T17:04:51.879Z"
   }
  ],
  "kernelspec": {
   "display_name": "Python 3 (ipykernel)",
   "language": "python",
   "name": "python3"
  },
  "language_info": {
   "codemirror_mode": {
    "name": "ipython",
    "version": 3
   },
   "file_extension": ".py",
   "mimetype": "text/x-python",
   "name": "python",
   "nbconvert_exporter": "python",
   "pygments_lexer": "ipython3",
   "version": "3.7.8"
  },
  "toc": {
   "base_numbering": 1,
   "nav_menu": {},
   "number_sections": true,
   "sideBar": true,
   "skip_h1_title": true,
   "title_cell": "Table of Contents",
   "title_sidebar": "Contents",
   "toc_cell": false,
   "toc_position": {
    "height": "calc(100% - 180px)",
    "left": "10px",
    "top": "150px",
    "width": "302.391px"
   },
   "toc_section_display": true,
   "toc_window_display": true
  }
 },
 "nbformat": 4,
 "nbformat_minor": 2
}
