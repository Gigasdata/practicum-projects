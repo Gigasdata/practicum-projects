{
 "cells": [
  {
   "cell_type": "markdown",
   "metadata": {},
   "source": [
    "## Подготовка данных"
   ]
  },
  {
   "cell_type": "code",
   "execution_count": 1,
   "metadata": {},
   "outputs": [],
   "source": [
    "import pandas as pd \n",
    "import numpy as np\n",
    "import matplotlib.pyplot as plt \n",
    "import seaborn as sns\n",
    "from sklearn.tree import DecisionTreeRegressor \n",
    "from sklearn.ensemble import RandomForestRegressor \n",
    "from sklearn.linear_model import LinearRegression \n",
    "from sklearn.model_selection import cross_val_score\n",
    "from sklearn.model_selection import train_test_split \n",
    "from sklearn.preprocessing import StandardScaler\n",
    "from sklearn.metrics import mean_absolute_error\n",
    "from sklearn.metrics import make_scorer"
   ]
  },
  {
   "cell_type": "markdown",
   "metadata": {},
   "source": [
    "### Изучение данных"
   ]
  },
  {
   "cell_type": "code",
   "execution_count": 2,
   "metadata": {},
   "outputs": [],
   "source": [
    "df_train = pd.read_csv('/datasets/gold_recovery_train_new.csv') "
   ]
  },
  {
   "cell_type": "code",
   "execution_count": 3,
   "metadata": {},
   "outputs": [],
   "source": [
    "df_test = pd.read_csv('/datasets/gold_recovery_test_new.csv')"
   ]
  },
  {
   "cell_type": "code",
   "execution_count": 4,
   "metadata": {},
   "outputs": [],
   "source": [
    "df_full = pd.read_csv('/datasets/gold_recovery_full_new.csv')"
   ]
  },
  {
   "cell_type": "markdown",
   "metadata": {},
   "source": [
    "Выведем на экран первые десять строк каждой таблицы:"
   ]
  },
  {
   "cell_type": "code",
   "execution_count": 5,
   "metadata": {},
   "outputs": [
    {
     "data": {
      "text/html": [
       "<div>\n",
       "<style scoped>\n",
       "    .dataframe tbody tr th:only-of-type {\n",
       "        vertical-align: middle;\n",
       "    }\n",
       "\n",
       "    .dataframe tbody tr th {\n",
       "        vertical-align: top;\n",
       "    }\n",
       "\n",
       "    .dataframe thead th {\n",
       "        text-align: right;\n",
       "    }\n",
       "</style>\n",
       "<table border=\"1\" class=\"dataframe\">\n",
       "  <thead>\n",
       "    <tr style=\"text-align: right;\">\n",
       "      <th></th>\n",
       "      <th>date</th>\n",
       "      <th>final.output.concentrate_ag</th>\n",
       "      <th>final.output.concentrate_pb</th>\n",
       "      <th>final.output.concentrate_sol</th>\n",
       "      <th>final.output.concentrate_au</th>\n",
       "      <th>final.output.recovery</th>\n",
       "      <th>final.output.tail_ag</th>\n",
       "      <th>final.output.tail_pb</th>\n",
       "      <th>final.output.tail_sol</th>\n",
       "      <th>final.output.tail_au</th>\n",
       "      <th>...</th>\n",
       "      <th>secondary_cleaner.state.floatbank4_a_air</th>\n",
       "      <th>secondary_cleaner.state.floatbank4_a_level</th>\n",
       "      <th>secondary_cleaner.state.floatbank4_b_air</th>\n",
       "      <th>secondary_cleaner.state.floatbank4_b_level</th>\n",
       "      <th>secondary_cleaner.state.floatbank5_a_air</th>\n",
       "      <th>secondary_cleaner.state.floatbank5_a_level</th>\n",
       "      <th>secondary_cleaner.state.floatbank5_b_air</th>\n",
       "      <th>secondary_cleaner.state.floatbank5_b_level</th>\n",
       "      <th>secondary_cleaner.state.floatbank6_a_air</th>\n",
       "      <th>secondary_cleaner.state.floatbank6_a_level</th>\n",
       "    </tr>\n",
       "  </thead>\n",
       "  <tbody>\n",
       "    <tr>\n",
       "      <td>0</td>\n",
       "      <td>2016-01-15 00:00:00</td>\n",
       "      <td>6.055403</td>\n",
       "      <td>9.889648</td>\n",
       "      <td>5.507324</td>\n",
       "      <td>42.192020</td>\n",
       "      <td>70.541216</td>\n",
       "      <td>10.411962</td>\n",
       "      <td>0.895447</td>\n",
       "      <td>16.904297</td>\n",
       "      <td>2.143149</td>\n",
       "      <td>...</td>\n",
       "      <td>14.016835</td>\n",
       "      <td>-502.488007</td>\n",
       "      <td>12.099931</td>\n",
       "      <td>-504.715942</td>\n",
       "      <td>9.925633</td>\n",
       "      <td>-498.310211</td>\n",
       "      <td>8.079666</td>\n",
       "      <td>-500.470978</td>\n",
       "      <td>14.151341</td>\n",
       "      <td>-605.841980</td>\n",
       "    </tr>\n",
       "    <tr>\n",
       "      <td>1</td>\n",
       "      <td>2016-01-15 01:00:00</td>\n",
       "      <td>6.029369</td>\n",
       "      <td>9.968944</td>\n",
       "      <td>5.257781</td>\n",
       "      <td>42.701629</td>\n",
       "      <td>69.266198</td>\n",
       "      <td>10.462676</td>\n",
       "      <td>0.927452</td>\n",
       "      <td>16.634514</td>\n",
       "      <td>2.224930</td>\n",
       "      <td>...</td>\n",
       "      <td>13.992281</td>\n",
       "      <td>-505.503262</td>\n",
       "      <td>11.950531</td>\n",
       "      <td>-501.331529</td>\n",
       "      <td>10.039245</td>\n",
       "      <td>-500.169983</td>\n",
       "      <td>7.984757</td>\n",
       "      <td>-500.582168</td>\n",
       "      <td>13.998353</td>\n",
       "      <td>-599.787184</td>\n",
       "    </tr>\n",
       "    <tr>\n",
       "      <td>2</td>\n",
       "      <td>2016-01-15 02:00:00</td>\n",
       "      <td>6.055926</td>\n",
       "      <td>10.213995</td>\n",
       "      <td>5.383759</td>\n",
       "      <td>42.657501</td>\n",
       "      <td>68.116445</td>\n",
       "      <td>10.507046</td>\n",
       "      <td>0.953716</td>\n",
       "      <td>16.208849</td>\n",
       "      <td>2.257889</td>\n",
       "      <td>...</td>\n",
       "      <td>14.015015</td>\n",
       "      <td>-502.520901</td>\n",
       "      <td>11.912783</td>\n",
       "      <td>-501.133383</td>\n",
       "      <td>10.070913</td>\n",
       "      <td>-500.129135</td>\n",
       "      <td>8.013877</td>\n",
       "      <td>-500.517572</td>\n",
       "      <td>14.028663</td>\n",
       "      <td>-601.427363</td>\n",
       "    </tr>\n",
       "    <tr>\n",
       "      <td>3</td>\n",
       "      <td>2016-01-15 03:00:00</td>\n",
       "      <td>6.047977</td>\n",
       "      <td>9.977019</td>\n",
       "      <td>4.858634</td>\n",
       "      <td>42.689819</td>\n",
       "      <td>68.347543</td>\n",
       "      <td>10.422762</td>\n",
       "      <td>0.883763</td>\n",
       "      <td>16.532835</td>\n",
       "      <td>2.146849</td>\n",
       "      <td>...</td>\n",
       "      <td>14.036510</td>\n",
       "      <td>-500.857308</td>\n",
       "      <td>11.999550</td>\n",
       "      <td>-501.193686</td>\n",
       "      <td>9.970366</td>\n",
       "      <td>-499.201640</td>\n",
       "      <td>7.977324</td>\n",
       "      <td>-500.255908</td>\n",
       "      <td>14.005551</td>\n",
       "      <td>-599.996129</td>\n",
       "    </tr>\n",
       "    <tr>\n",
       "      <td>4</td>\n",
       "      <td>2016-01-15 04:00:00</td>\n",
       "      <td>6.148599</td>\n",
       "      <td>10.142511</td>\n",
       "      <td>4.939416</td>\n",
       "      <td>42.774141</td>\n",
       "      <td>66.927016</td>\n",
       "      <td>10.360302</td>\n",
       "      <td>0.792826</td>\n",
       "      <td>16.525686</td>\n",
       "      <td>2.055292</td>\n",
       "      <td>...</td>\n",
       "      <td>14.027298</td>\n",
       "      <td>-499.838632</td>\n",
       "      <td>11.953070</td>\n",
       "      <td>-501.053894</td>\n",
       "      <td>9.925709</td>\n",
       "      <td>-501.686727</td>\n",
       "      <td>7.894242</td>\n",
       "      <td>-500.356035</td>\n",
       "      <td>13.996647</td>\n",
       "      <td>-601.496691</td>\n",
       "    </tr>\n",
       "    <tr>\n",
       "      <td>5</td>\n",
       "      <td>2016-01-15 05:00:00</td>\n",
       "      <td>6.482968</td>\n",
       "      <td>10.049416</td>\n",
       "      <td>5.480257</td>\n",
       "      <td>41.633678</td>\n",
       "      <td>69.465816</td>\n",
       "      <td>10.182708</td>\n",
       "      <td>0.664118</td>\n",
       "      <td>16.999638</td>\n",
       "      <td>1.918586</td>\n",
       "      <td>...</td>\n",
       "      <td>13.938497</td>\n",
       "      <td>-500.970168</td>\n",
       "      <td>11.883350</td>\n",
       "      <td>-500.395298</td>\n",
       "      <td>10.054147</td>\n",
       "      <td>-496.374715</td>\n",
       "      <td>7.965083</td>\n",
       "      <td>-499.364752</td>\n",
       "      <td>14.017067</td>\n",
       "      <td>-599.707915</td>\n",
       "    </tr>\n",
       "    <tr>\n",
       "      <td>6</td>\n",
       "      <td>2016-01-15 06:00:00</td>\n",
       "      <td>6.533849</td>\n",
       "      <td>10.058141</td>\n",
       "      <td>4.569100</td>\n",
       "      <td>41.995316</td>\n",
       "      <td>69.300835</td>\n",
       "      <td>10.304598</td>\n",
       "      <td>0.807342</td>\n",
       "      <td>16.723575</td>\n",
       "      <td>2.058913</td>\n",
       "      <td>...</td>\n",
       "      <td>14.046819</td>\n",
       "      <td>-500.971133</td>\n",
       "      <td>12.091543</td>\n",
       "      <td>-500.501426</td>\n",
       "      <td>10.003247</td>\n",
       "      <td>-497.083180</td>\n",
       "      <td>8.010890</td>\n",
       "      <td>-500.002423</td>\n",
       "      <td>14.029649</td>\n",
       "      <td>-600.905470</td>\n",
       "    </tr>\n",
       "    <tr>\n",
       "      <td>7</td>\n",
       "      <td>2016-01-15 07:00:00</td>\n",
       "      <td>6.130823</td>\n",
       "      <td>9.935481</td>\n",
       "      <td>4.389813</td>\n",
       "      <td>42.452727</td>\n",
       "      <td>70.230976</td>\n",
       "      <td>10.443288</td>\n",
       "      <td>0.949346</td>\n",
       "      <td>16.689959</td>\n",
       "      <td>2.143437</td>\n",
       "      <td>...</td>\n",
       "      <td>13.974691</td>\n",
       "      <td>-501.819696</td>\n",
       "      <td>12.101324</td>\n",
       "      <td>-500.583446</td>\n",
       "      <td>9.873169</td>\n",
       "      <td>-499.171928</td>\n",
       "      <td>7.993381</td>\n",
       "      <td>-499.794518</td>\n",
       "      <td>13.984498</td>\n",
       "      <td>-600.411070</td>\n",
       "    </tr>\n",
       "    <tr>\n",
       "      <td>8</td>\n",
       "      <td>2016-01-15 08:00:00</td>\n",
       "      <td>5.834140</td>\n",
       "      <td>10.071156</td>\n",
       "      <td>4.876389</td>\n",
       "      <td>43.404078</td>\n",
       "      <td>69.688595</td>\n",
       "      <td>10.420140</td>\n",
       "      <td>1.065453</td>\n",
       "      <td>17.201948</td>\n",
       "      <td>2.209881</td>\n",
       "      <td>...</td>\n",
       "      <td>13.964030</td>\n",
       "      <td>-504.252450</td>\n",
       "      <td>12.060738</td>\n",
       "      <td>-501.174549</td>\n",
       "      <td>10.033838</td>\n",
       "      <td>-501.178133</td>\n",
       "      <td>7.881604</td>\n",
       "      <td>-499.729434</td>\n",
       "      <td>13.967135</td>\n",
       "      <td>-599.061188</td>\n",
       "    </tr>\n",
       "    <tr>\n",
       "      <td>9</td>\n",
       "      <td>2016-01-15 09:00:00</td>\n",
       "      <td>5.687063</td>\n",
       "      <td>9.980404</td>\n",
       "      <td>5.282514</td>\n",
       "      <td>43.235220</td>\n",
       "      <td>70.279619</td>\n",
       "      <td>10.487013</td>\n",
       "      <td>1.159805</td>\n",
       "      <td>17.483979</td>\n",
       "      <td>2.209593</td>\n",
       "      <td>...</td>\n",
       "      <td>13.989632</td>\n",
       "      <td>-503.195299</td>\n",
       "      <td>12.052233</td>\n",
       "      <td>-500.928547</td>\n",
       "      <td>9.962574</td>\n",
       "      <td>-502.986357</td>\n",
       "      <td>7.979219</td>\n",
       "      <td>-500.146835</td>\n",
       "      <td>13.981614</td>\n",
       "      <td>-598.070855</td>\n",
       "    </tr>\n",
       "  </tbody>\n",
       "</table>\n",
       "<p>10 rows × 87 columns</p>\n",
       "</div>"
      ],
      "text/plain": [
       "                  date  final.output.concentrate_ag  \\\n",
       "0  2016-01-15 00:00:00                     6.055403   \n",
       "1  2016-01-15 01:00:00                     6.029369   \n",
       "2  2016-01-15 02:00:00                     6.055926   \n",
       "3  2016-01-15 03:00:00                     6.047977   \n",
       "4  2016-01-15 04:00:00                     6.148599   \n",
       "5  2016-01-15 05:00:00                     6.482968   \n",
       "6  2016-01-15 06:00:00                     6.533849   \n",
       "7  2016-01-15 07:00:00                     6.130823   \n",
       "8  2016-01-15 08:00:00                     5.834140   \n",
       "9  2016-01-15 09:00:00                     5.687063   \n",
       "\n",
       "   final.output.concentrate_pb  final.output.concentrate_sol  \\\n",
       "0                     9.889648                      5.507324   \n",
       "1                     9.968944                      5.257781   \n",
       "2                    10.213995                      5.383759   \n",
       "3                     9.977019                      4.858634   \n",
       "4                    10.142511                      4.939416   \n",
       "5                    10.049416                      5.480257   \n",
       "6                    10.058141                      4.569100   \n",
       "7                     9.935481                      4.389813   \n",
       "8                    10.071156                      4.876389   \n",
       "9                     9.980404                      5.282514   \n",
       "\n",
       "   final.output.concentrate_au  final.output.recovery  final.output.tail_ag  \\\n",
       "0                    42.192020              70.541216             10.411962   \n",
       "1                    42.701629              69.266198             10.462676   \n",
       "2                    42.657501              68.116445             10.507046   \n",
       "3                    42.689819              68.347543             10.422762   \n",
       "4                    42.774141              66.927016             10.360302   \n",
       "5                    41.633678              69.465816             10.182708   \n",
       "6                    41.995316              69.300835             10.304598   \n",
       "7                    42.452727              70.230976             10.443288   \n",
       "8                    43.404078              69.688595             10.420140   \n",
       "9                    43.235220              70.279619             10.487013   \n",
       "\n",
       "   final.output.tail_pb  final.output.tail_sol  final.output.tail_au  ...  \\\n",
       "0              0.895447              16.904297              2.143149  ...   \n",
       "1              0.927452              16.634514              2.224930  ...   \n",
       "2              0.953716              16.208849              2.257889  ...   \n",
       "3              0.883763              16.532835              2.146849  ...   \n",
       "4              0.792826              16.525686              2.055292  ...   \n",
       "5              0.664118              16.999638              1.918586  ...   \n",
       "6              0.807342              16.723575              2.058913  ...   \n",
       "7              0.949346              16.689959              2.143437  ...   \n",
       "8              1.065453              17.201948              2.209881  ...   \n",
       "9              1.159805              17.483979              2.209593  ...   \n",
       "\n",
       "   secondary_cleaner.state.floatbank4_a_air  \\\n",
       "0                                 14.016835   \n",
       "1                                 13.992281   \n",
       "2                                 14.015015   \n",
       "3                                 14.036510   \n",
       "4                                 14.027298   \n",
       "5                                 13.938497   \n",
       "6                                 14.046819   \n",
       "7                                 13.974691   \n",
       "8                                 13.964030   \n",
       "9                                 13.989632   \n",
       "\n",
       "   secondary_cleaner.state.floatbank4_a_level  \\\n",
       "0                                 -502.488007   \n",
       "1                                 -505.503262   \n",
       "2                                 -502.520901   \n",
       "3                                 -500.857308   \n",
       "4                                 -499.838632   \n",
       "5                                 -500.970168   \n",
       "6                                 -500.971133   \n",
       "7                                 -501.819696   \n",
       "8                                 -504.252450   \n",
       "9                                 -503.195299   \n",
       "\n",
       "   secondary_cleaner.state.floatbank4_b_air  \\\n",
       "0                                 12.099931   \n",
       "1                                 11.950531   \n",
       "2                                 11.912783   \n",
       "3                                 11.999550   \n",
       "4                                 11.953070   \n",
       "5                                 11.883350   \n",
       "6                                 12.091543   \n",
       "7                                 12.101324   \n",
       "8                                 12.060738   \n",
       "9                                 12.052233   \n",
       "\n",
       "   secondary_cleaner.state.floatbank4_b_level  \\\n",
       "0                                 -504.715942   \n",
       "1                                 -501.331529   \n",
       "2                                 -501.133383   \n",
       "3                                 -501.193686   \n",
       "4                                 -501.053894   \n",
       "5                                 -500.395298   \n",
       "6                                 -500.501426   \n",
       "7                                 -500.583446   \n",
       "8                                 -501.174549   \n",
       "9                                 -500.928547   \n",
       "\n",
       "   secondary_cleaner.state.floatbank5_a_air  \\\n",
       "0                                  9.925633   \n",
       "1                                 10.039245   \n",
       "2                                 10.070913   \n",
       "3                                  9.970366   \n",
       "4                                  9.925709   \n",
       "5                                 10.054147   \n",
       "6                                 10.003247   \n",
       "7                                  9.873169   \n",
       "8                                 10.033838   \n",
       "9                                  9.962574   \n",
       "\n",
       "   secondary_cleaner.state.floatbank5_a_level  \\\n",
       "0                                 -498.310211   \n",
       "1                                 -500.169983   \n",
       "2                                 -500.129135   \n",
       "3                                 -499.201640   \n",
       "4                                 -501.686727   \n",
       "5                                 -496.374715   \n",
       "6                                 -497.083180   \n",
       "7                                 -499.171928   \n",
       "8                                 -501.178133   \n",
       "9                                 -502.986357   \n",
       "\n",
       "   secondary_cleaner.state.floatbank5_b_air  \\\n",
       "0                                  8.079666   \n",
       "1                                  7.984757   \n",
       "2                                  8.013877   \n",
       "3                                  7.977324   \n",
       "4                                  7.894242   \n",
       "5                                  7.965083   \n",
       "6                                  8.010890   \n",
       "7                                  7.993381   \n",
       "8                                  7.881604   \n",
       "9                                  7.979219   \n",
       "\n",
       "   secondary_cleaner.state.floatbank5_b_level  \\\n",
       "0                                 -500.470978   \n",
       "1                                 -500.582168   \n",
       "2                                 -500.517572   \n",
       "3                                 -500.255908   \n",
       "4                                 -500.356035   \n",
       "5                                 -499.364752   \n",
       "6                                 -500.002423   \n",
       "7                                 -499.794518   \n",
       "8                                 -499.729434   \n",
       "9                                 -500.146835   \n",
       "\n",
       "   secondary_cleaner.state.floatbank6_a_air  \\\n",
       "0                                 14.151341   \n",
       "1                                 13.998353   \n",
       "2                                 14.028663   \n",
       "3                                 14.005551   \n",
       "4                                 13.996647   \n",
       "5                                 14.017067   \n",
       "6                                 14.029649   \n",
       "7                                 13.984498   \n",
       "8                                 13.967135   \n",
       "9                                 13.981614   \n",
       "\n",
       "   secondary_cleaner.state.floatbank6_a_level  \n",
       "0                                 -605.841980  \n",
       "1                                 -599.787184  \n",
       "2                                 -601.427363  \n",
       "3                                 -599.996129  \n",
       "4                                 -601.496691  \n",
       "5                                 -599.707915  \n",
       "6                                 -600.905470  \n",
       "7                                 -600.411070  \n",
       "8                                 -599.061188  \n",
       "9                                 -598.070855  \n",
       "\n",
       "[10 rows x 87 columns]"
      ]
     },
     "execution_count": 5,
     "metadata": {},
     "output_type": "execute_result"
    }
   ],
   "source": [
    "df_train.head(10)"
   ]
  },
  {
   "cell_type": "code",
   "execution_count": 6,
   "metadata": {},
   "outputs": [
    {
     "data": {
      "text/html": [
       "<div>\n",
       "<style scoped>\n",
       "    .dataframe tbody tr th:only-of-type {\n",
       "        vertical-align: middle;\n",
       "    }\n",
       "\n",
       "    .dataframe tbody tr th {\n",
       "        vertical-align: top;\n",
       "    }\n",
       "\n",
       "    .dataframe thead th {\n",
       "        text-align: right;\n",
       "    }\n",
       "</style>\n",
       "<table border=\"1\" class=\"dataframe\">\n",
       "  <thead>\n",
       "    <tr style=\"text-align: right;\">\n",
       "      <th></th>\n",
       "      <th>date</th>\n",
       "      <th>primary_cleaner.input.sulfate</th>\n",
       "      <th>primary_cleaner.input.depressant</th>\n",
       "      <th>primary_cleaner.input.feed_size</th>\n",
       "      <th>primary_cleaner.input.xanthate</th>\n",
       "      <th>primary_cleaner.state.floatbank8_a_air</th>\n",
       "      <th>primary_cleaner.state.floatbank8_a_level</th>\n",
       "      <th>primary_cleaner.state.floatbank8_b_air</th>\n",
       "      <th>primary_cleaner.state.floatbank8_b_level</th>\n",
       "      <th>primary_cleaner.state.floatbank8_c_air</th>\n",
       "      <th>...</th>\n",
       "      <th>secondary_cleaner.state.floatbank4_a_air</th>\n",
       "      <th>secondary_cleaner.state.floatbank4_a_level</th>\n",
       "      <th>secondary_cleaner.state.floatbank4_b_air</th>\n",
       "      <th>secondary_cleaner.state.floatbank4_b_level</th>\n",
       "      <th>secondary_cleaner.state.floatbank5_a_air</th>\n",
       "      <th>secondary_cleaner.state.floatbank5_a_level</th>\n",
       "      <th>secondary_cleaner.state.floatbank5_b_air</th>\n",
       "      <th>secondary_cleaner.state.floatbank5_b_level</th>\n",
       "      <th>secondary_cleaner.state.floatbank6_a_air</th>\n",
       "      <th>secondary_cleaner.state.floatbank6_a_level</th>\n",
       "    </tr>\n",
       "  </thead>\n",
       "  <tbody>\n",
       "    <tr>\n",
       "      <td>0</td>\n",
       "      <td>2016-09-01 00:59:59</td>\n",
       "      <td>210.800909</td>\n",
       "      <td>14.993118</td>\n",
       "      <td>8.080000</td>\n",
       "      <td>1.005021</td>\n",
       "      <td>1398.981301</td>\n",
       "      <td>-500.225577</td>\n",
       "      <td>1399.144926</td>\n",
       "      <td>-499.919735</td>\n",
       "      <td>1400.102998</td>\n",
       "      <td>...</td>\n",
       "      <td>12.023554</td>\n",
       "      <td>-497.795834</td>\n",
       "      <td>8.016656</td>\n",
       "      <td>-501.289139</td>\n",
       "      <td>7.946562</td>\n",
       "      <td>-432.317850</td>\n",
       "      <td>4.872511</td>\n",
       "      <td>-500.037437</td>\n",
       "      <td>26.705889</td>\n",
       "      <td>-499.709414</td>\n",
       "    </tr>\n",
       "    <tr>\n",
       "      <td>1</td>\n",
       "      <td>2016-09-01 01:59:59</td>\n",
       "      <td>215.392455</td>\n",
       "      <td>14.987471</td>\n",
       "      <td>8.080000</td>\n",
       "      <td>0.990469</td>\n",
       "      <td>1398.777912</td>\n",
       "      <td>-500.057435</td>\n",
       "      <td>1398.055362</td>\n",
       "      <td>-499.778182</td>\n",
       "      <td>1396.151033</td>\n",
       "      <td>...</td>\n",
       "      <td>12.058140</td>\n",
       "      <td>-498.695773</td>\n",
       "      <td>8.130979</td>\n",
       "      <td>-499.634209</td>\n",
       "      <td>7.958270</td>\n",
       "      <td>-525.839648</td>\n",
       "      <td>4.878850</td>\n",
       "      <td>-500.162375</td>\n",
       "      <td>25.019940</td>\n",
       "      <td>-499.819438</td>\n",
       "    </tr>\n",
       "    <tr>\n",
       "      <td>2</td>\n",
       "      <td>2016-09-01 02:59:59</td>\n",
       "      <td>215.259946</td>\n",
       "      <td>12.884934</td>\n",
       "      <td>7.786667</td>\n",
       "      <td>0.996043</td>\n",
       "      <td>1398.493666</td>\n",
       "      <td>-500.868360</td>\n",
       "      <td>1398.860436</td>\n",
       "      <td>-499.764529</td>\n",
       "      <td>1398.075709</td>\n",
       "      <td>...</td>\n",
       "      <td>11.962366</td>\n",
       "      <td>-498.767484</td>\n",
       "      <td>8.096893</td>\n",
       "      <td>-500.827423</td>\n",
       "      <td>8.071056</td>\n",
       "      <td>-500.801673</td>\n",
       "      <td>4.905125</td>\n",
       "      <td>-499.828510</td>\n",
       "      <td>24.994862</td>\n",
       "      <td>-500.622559</td>\n",
       "    </tr>\n",
       "    <tr>\n",
       "      <td>3</td>\n",
       "      <td>2016-09-01 03:59:59</td>\n",
       "      <td>215.336236</td>\n",
       "      <td>12.006805</td>\n",
       "      <td>7.640000</td>\n",
       "      <td>0.863514</td>\n",
       "      <td>1399.618111</td>\n",
       "      <td>-498.863574</td>\n",
       "      <td>1397.440120</td>\n",
       "      <td>-499.211024</td>\n",
       "      <td>1400.129303</td>\n",
       "      <td>...</td>\n",
       "      <td>12.033091</td>\n",
       "      <td>-498.350935</td>\n",
       "      <td>8.074946</td>\n",
       "      <td>-499.474407</td>\n",
       "      <td>7.897085</td>\n",
       "      <td>-500.868509</td>\n",
       "      <td>4.931400</td>\n",
       "      <td>-499.963623</td>\n",
       "      <td>24.948919</td>\n",
       "      <td>-498.709987</td>\n",
       "    </tr>\n",
       "    <tr>\n",
       "      <td>4</td>\n",
       "      <td>2016-09-01 04:59:59</td>\n",
       "      <td>199.099327</td>\n",
       "      <td>10.682530</td>\n",
       "      <td>7.530000</td>\n",
       "      <td>0.805575</td>\n",
       "      <td>1401.268123</td>\n",
       "      <td>-500.808305</td>\n",
       "      <td>1398.128818</td>\n",
       "      <td>-499.504543</td>\n",
       "      <td>1402.172226</td>\n",
       "      <td>...</td>\n",
       "      <td>12.025367</td>\n",
       "      <td>-500.786497</td>\n",
       "      <td>8.054678</td>\n",
       "      <td>-500.397500</td>\n",
       "      <td>8.107890</td>\n",
       "      <td>-509.526725</td>\n",
       "      <td>4.957674</td>\n",
       "      <td>-500.360026</td>\n",
       "      <td>25.003331</td>\n",
       "      <td>-500.856333</td>\n",
       "    </tr>\n",
       "    <tr>\n",
       "      <td>5</td>\n",
       "      <td>2016-09-01 05:59:59</td>\n",
       "      <td>168.485085</td>\n",
       "      <td>8.817007</td>\n",
       "      <td>7.420000</td>\n",
       "      <td>0.791191</td>\n",
       "      <td>1402.826803</td>\n",
       "      <td>-499.299521</td>\n",
       "      <td>1401.511119</td>\n",
       "      <td>-499.205357</td>\n",
       "      <td>1404.088107</td>\n",
       "      <td>...</td>\n",
       "      <td>12.029797</td>\n",
       "      <td>-499.814895</td>\n",
       "      <td>8.036586</td>\n",
       "      <td>-500.371492</td>\n",
       "      <td>8.041446</td>\n",
       "      <td>-510.037054</td>\n",
       "      <td>4.983949</td>\n",
       "      <td>-499.990990</td>\n",
       "      <td>24.978973</td>\n",
       "      <td>-500.475640</td>\n",
       "    </tr>\n",
       "    <tr>\n",
       "      <td>6</td>\n",
       "      <td>2016-09-01 06:59:59</td>\n",
       "      <td>144.133440</td>\n",
       "      <td>7.924610</td>\n",
       "      <td>7.420000</td>\n",
       "      <td>0.788838</td>\n",
       "      <td>1398.252401</td>\n",
       "      <td>-499.748672</td>\n",
       "      <td>1393.255503</td>\n",
       "      <td>-499.195380</td>\n",
       "      <td>1396.738566</td>\n",
       "      <td>...</td>\n",
       "      <td>12.026296</td>\n",
       "      <td>-499.473127</td>\n",
       "      <td>8.027984</td>\n",
       "      <td>-500.983079</td>\n",
       "      <td>7.907340</td>\n",
       "      <td>-507.964971</td>\n",
       "      <td>5.010224</td>\n",
       "      <td>-500.043697</td>\n",
       "      <td>25.040709</td>\n",
       "      <td>-499.501984</td>\n",
       "    </tr>\n",
       "    <tr>\n",
       "      <td>7</td>\n",
       "      <td>2016-09-01 07:59:59</td>\n",
       "      <td>133.513396</td>\n",
       "      <td>8.055252</td>\n",
       "      <td>6.988000</td>\n",
       "      <td>0.801871</td>\n",
       "      <td>1401.669677</td>\n",
       "      <td>-501.777839</td>\n",
       "      <td>1400.754446</td>\n",
       "      <td>-502.514024</td>\n",
       "      <td>1400.465244</td>\n",
       "      <td>...</td>\n",
       "      <td>12.040911</td>\n",
       "      <td>-501.293852</td>\n",
       "      <td>8.020490</td>\n",
       "      <td>-499.185229</td>\n",
       "      <td>8.116897</td>\n",
       "      <td>-511.927561</td>\n",
       "      <td>5.036498</td>\n",
       "      <td>-500.149615</td>\n",
       "      <td>25.032580</td>\n",
       "      <td>-503.970657</td>\n",
       "    </tr>\n",
       "    <tr>\n",
       "      <td>8</td>\n",
       "      <td>2016-09-01 08:59:59</td>\n",
       "      <td>133.735356</td>\n",
       "      <td>7.999618</td>\n",
       "      <td>6.935000</td>\n",
       "      <td>0.789329</td>\n",
       "      <td>1402.358981</td>\n",
       "      <td>-499.981597</td>\n",
       "      <td>1400.985954</td>\n",
       "      <td>-496.802968</td>\n",
       "      <td>1401.168584</td>\n",
       "      <td>...</td>\n",
       "      <td>11.998184</td>\n",
       "      <td>-499.481608</td>\n",
       "      <td>8.012610</td>\n",
       "      <td>-500.896783</td>\n",
       "      <td>7.974422</td>\n",
       "      <td>-521.199104</td>\n",
       "      <td>5.061599</td>\n",
       "      <td>-499.791519</td>\n",
       "      <td>25.005063</td>\n",
       "      <td>-497.613716</td>\n",
       "    </tr>\n",
       "    <tr>\n",
       "      <td>9</td>\n",
       "      <td>2016-09-01 09:59:59</td>\n",
       "      <td>126.961069</td>\n",
       "      <td>8.017856</td>\n",
       "      <td>7.030000</td>\n",
       "      <td>0.805298</td>\n",
       "      <td>1400.816120</td>\n",
       "      <td>-499.014158</td>\n",
       "      <td>1399.975401</td>\n",
       "      <td>-499.570552</td>\n",
       "      <td>1401.871924</td>\n",
       "      <td>...</td>\n",
       "      <td>12.040725</td>\n",
       "      <td>-499.987743</td>\n",
       "      <td>7.989503</td>\n",
       "      <td>-499.750625</td>\n",
       "      <td>7.989710</td>\n",
       "      <td>-509.946737</td>\n",
       "      <td>5.068811</td>\n",
       "      <td>-499.293900</td>\n",
       "      <td>24.992741</td>\n",
       "      <td>-499.272255</td>\n",
       "    </tr>\n",
       "  </tbody>\n",
       "</table>\n",
       "<p>10 rows × 53 columns</p>\n",
       "</div>"
      ],
      "text/plain": [
       "                  date  primary_cleaner.input.sulfate  \\\n",
       "0  2016-09-01 00:59:59                     210.800909   \n",
       "1  2016-09-01 01:59:59                     215.392455   \n",
       "2  2016-09-01 02:59:59                     215.259946   \n",
       "3  2016-09-01 03:59:59                     215.336236   \n",
       "4  2016-09-01 04:59:59                     199.099327   \n",
       "5  2016-09-01 05:59:59                     168.485085   \n",
       "6  2016-09-01 06:59:59                     144.133440   \n",
       "7  2016-09-01 07:59:59                     133.513396   \n",
       "8  2016-09-01 08:59:59                     133.735356   \n",
       "9  2016-09-01 09:59:59                     126.961069   \n",
       "\n",
       "   primary_cleaner.input.depressant  primary_cleaner.input.feed_size  \\\n",
       "0                         14.993118                         8.080000   \n",
       "1                         14.987471                         8.080000   \n",
       "2                         12.884934                         7.786667   \n",
       "3                         12.006805                         7.640000   \n",
       "4                         10.682530                         7.530000   \n",
       "5                          8.817007                         7.420000   \n",
       "6                          7.924610                         7.420000   \n",
       "7                          8.055252                         6.988000   \n",
       "8                          7.999618                         6.935000   \n",
       "9                          8.017856                         7.030000   \n",
       "\n",
       "   primary_cleaner.input.xanthate  primary_cleaner.state.floatbank8_a_air  \\\n",
       "0                        1.005021                             1398.981301   \n",
       "1                        0.990469                             1398.777912   \n",
       "2                        0.996043                             1398.493666   \n",
       "3                        0.863514                             1399.618111   \n",
       "4                        0.805575                             1401.268123   \n",
       "5                        0.791191                             1402.826803   \n",
       "6                        0.788838                             1398.252401   \n",
       "7                        0.801871                             1401.669677   \n",
       "8                        0.789329                             1402.358981   \n",
       "9                        0.805298                             1400.816120   \n",
       "\n",
       "   primary_cleaner.state.floatbank8_a_level  \\\n",
       "0                               -500.225577   \n",
       "1                               -500.057435   \n",
       "2                               -500.868360   \n",
       "3                               -498.863574   \n",
       "4                               -500.808305   \n",
       "5                               -499.299521   \n",
       "6                               -499.748672   \n",
       "7                               -501.777839   \n",
       "8                               -499.981597   \n",
       "9                               -499.014158   \n",
       "\n",
       "   primary_cleaner.state.floatbank8_b_air  \\\n",
       "0                             1399.144926   \n",
       "1                             1398.055362   \n",
       "2                             1398.860436   \n",
       "3                             1397.440120   \n",
       "4                             1398.128818   \n",
       "5                             1401.511119   \n",
       "6                             1393.255503   \n",
       "7                             1400.754446   \n",
       "8                             1400.985954   \n",
       "9                             1399.975401   \n",
       "\n",
       "   primary_cleaner.state.floatbank8_b_level  \\\n",
       "0                               -499.919735   \n",
       "1                               -499.778182   \n",
       "2                               -499.764529   \n",
       "3                               -499.211024   \n",
       "4                               -499.504543   \n",
       "5                               -499.205357   \n",
       "6                               -499.195380   \n",
       "7                               -502.514024   \n",
       "8                               -496.802968   \n",
       "9                               -499.570552   \n",
       "\n",
       "   primary_cleaner.state.floatbank8_c_air  ...  \\\n",
       "0                             1400.102998  ...   \n",
       "1                             1396.151033  ...   \n",
       "2                             1398.075709  ...   \n",
       "3                             1400.129303  ...   \n",
       "4                             1402.172226  ...   \n",
       "5                             1404.088107  ...   \n",
       "6                             1396.738566  ...   \n",
       "7                             1400.465244  ...   \n",
       "8                             1401.168584  ...   \n",
       "9                             1401.871924  ...   \n",
       "\n",
       "   secondary_cleaner.state.floatbank4_a_air  \\\n",
       "0                                 12.023554   \n",
       "1                                 12.058140   \n",
       "2                                 11.962366   \n",
       "3                                 12.033091   \n",
       "4                                 12.025367   \n",
       "5                                 12.029797   \n",
       "6                                 12.026296   \n",
       "7                                 12.040911   \n",
       "8                                 11.998184   \n",
       "9                                 12.040725   \n",
       "\n",
       "   secondary_cleaner.state.floatbank4_a_level  \\\n",
       "0                                 -497.795834   \n",
       "1                                 -498.695773   \n",
       "2                                 -498.767484   \n",
       "3                                 -498.350935   \n",
       "4                                 -500.786497   \n",
       "5                                 -499.814895   \n",
       "6                                 -499.473127   \n",
       "7                                 -501.293852   \n",
       "8                                 -499.481608   \n",
       "9                                 -499.987743   \n",
       "\n",
       "   secondary_cleaner.state.floatbank4_b_air  \\\n",
       "0                                  8.016656   \n",
       "1                                  8.130979   \n",
       "2                                  8.096893   \n",
       "3                                  8.074946   \n",
       "4                                  8.054678   \n",
       "5                                  8.036586   \n",
       "6                                  8.027984   \n",
       "7                                  8.020490   \n",
       "8                                  8.012610   \n",
       "9                                  7.989503   \n",
       "\n",
       "   secondary_cleaner.state.floatbank4_b_level  \\\n",
       "0                                 -501.289139   \n",
       "1                                 -499.634209   \n",
       "2                                 -500.827423   \n",
       "3                                 -499.474407   \n",
       "4                                 -500.397500   \n",
       "5                                 -500.371492   \n",
       "6                                 -500.983079   \n",
       "7                                 -499.185229   \n",
       "8                                 -500.896783   \n",
       "9                                 -499.750625   \n",
       "\n",
       "   secondary_cleaner.state.floatbank5_a_air  \\\n",
       "0                                  7.946562   \n",
       "1                                  7.958270   \n",
       "2                                  8.071056   \n",
       "3                                  7.897085   \n",
       "4                                  8.107890   \n",
       "5                                  8.041446   \n",
       "6                                  7.907340   \n",
       "7                                  8.116897   \n",
       "8                                  7.974422   \n",
       "9                                  7.989710   \n",
       "\n",
       "   secondary_cleaner.state.floatbank5_a_level  \\\n",
       "0                                 -432.317850   \n",
       "1                                 -525.839648   \n",
       "2                                 -500.801673   \n",
       "3                                 -500.868509   \n",
       "4                                 -509.526725   \n",
       "5                                 -510.037054   \n",
       "6                                 -507.964971   \n",
       "7                                 -511.927561   \n",
       "8                                 -521.199104   \n",
       "9                                 -509.946737   \n",
       "\n",
       "   secondary_cleaner.state.floatbank5_b_air  \\\n",
       "0                                  4.872511   \n",
       "1                                  4.878850   \n",
       "2                                  4.905125   \n",
       "3                                  4.931400   \n",
       "4                                  4.957674   \n",
       "5                                  4.983949   \n",
       "6                                  5.010224   \n",
       "7                                  5.036498   \n",
       "8                                  5.061599   \n",
       "9                                  5.068811   \n",
       "\n",
       "   secondary_cleaner.state.floatbank5_b_level  \\\n",
       "0                                 -500.037437   \n",
       "1                                 -500.162375   \n",
       "2                                 -499.828510   \n",
       "3                                 -499.963623   \n",
       "4                                 -500.360026   \n",
       "5                                 -499.990990   \n",
       "6                                 -500.043697   \n",
       "7                                 -500.149615   \n",
       "8                                 -499.791519   \n",
       "9                                 -499.293900   \n",
       "\n",
       "   secondary_cleaner.state.floatbank6_a_air  \\\n",
       "0                                 26.705889   \n",
       "1                                 25.019940   \n",
       "2                                 24.994862   \n",
       "3                                 24.948919   \n",
       "4                                 25.003331   \n",
       "5                                 24.978973   \n",
       "6                                 25.040709   \n",
       "7                                 25.032580   \n",
       "8                                 25.005063   \n",
       "9                                 24.992741   \n",
       "\n",
       "   secondary_cleaner.state.floatbank6_a_level  \n",
       "0                                 -499.709414  \n",
       "1                                 -499.819438  \n",
       "2                                 -500.622559  \n",
       "3                                 -498.709987  \n",
       "4                                 -500.856333  \n",
       "5                                 -500.475640  \n",
       "6                                 -499.501984  \n",
       "7                                 -503.970657  \n",
       "8                                 -497.613716  \n",
       "9                                 -499.272255  \n",
       "\n",
       "[10 rows x 53 columns]"
      ]
     },
     "execution_count": 6,
     "metadata": {},
     "output_type": "execute_result"
    }
   ],
   "source": [
    "df_test.head(10)"
   ]
  },
  {
   "cell_type": "code",
   "execution_count": 7,
   "metadata": {},
   "outputs": [
    {
     "data": {
      "text/html": [
       "<div>\n",
       "<style scoped>\n",
       "    .dataframe tbody tr th:only-of-type {\n",
       "        vertical-align: middle;\n",
       "    }\n",
       "\n",
       "    .dataframe tbody tr th {\n",
       "        vertical-align: top;\n",
       "    }\n",
       "\n",
       "    .dataframe thead th {\n",
       "        text-align: right;\n",
       "    }\n",
       "</style>\n",
       "<table border=\"1\" class=\"dataframe\">\n",
       "  <thead>\n",
       "    <tr style=\"text-align: right;\">\n",
       "      <th></th>\n",
       "      <th>date</th>\n",
       "      <th>final.output.concentrate_ag</th>\n",
       "      <th>final.output.concentrate_pb</th>\n",
       "      <th>final.output.concentrate_sol</th>\n",
       "      <th>final.output.concentrate_au</th>\n",
       "      <th>final.output.recovery</th>\n",
       "      <th>final.output.tail_ag</th>\n",
       "      <th>final.output.tail_pb</th>\n",
       "      <th>final.output.tail_sol</th>\n",
       "      <th>final.output.tail_au</th>\n",
       "      <th>...</th>\n",
       "      <th>secondary_cleaner.state.floatbank4_a_air</th>\n",
       "      <th>secondary_cleaner.state.floatbank4_a_level</th>\n",
       "      <th>secondary_cleaner.state.floatbank4_b_air</th>\n",
       "      <th>secondary_cleaner.state.floatbank4_b_level</th>\n",
       "      <th>secondary_cleaner.state.floatbank5_a_air</th>\n",
       "      <th>secondary_cleaner.state.floatbank5_a_level</th>\n",
       "      <th>secondary_cleaner.state.floatbank5_b_air</th>\n",
       "      <th>secondary_cleaner.state.floatbank5_b_level</th>\n",
       "      <th>secondary_cleaner.state.floatbank6_a_air</th>\n",
       "      <th>secondary_cleaner.state.floatbank6_a_level</th>\n",
       "    </tr>\n",
       "  </thead>\n",
       "  <tbody>\n",
       "    <tr>\n",
       "      <td>0</td>\n",
       "      <td>2016-01-15 00:00:00</td>\n",
       "      <td>6.055403</td>\n",
       "      <td>9.889648</td>\n",
       "      <td>5.507324</td>\n",
       "      <td>42.192020</td>\n",
       "      <td>70.541216</td>\n",
       "      <td>10.411962</td>\n",
       "      <td>0.895447</td>\n",
       "      <td>16.904297</td>\n",
       "      <td>2.143149</td>\n",
       "      <td>...</td>\n",
       "      <td>14.016835</td>\n",
       "      <td>-502.488007</td>\n",
       "      <td>12.099931</td>\n",
       "      <td>-504.715942</td>\n",
       "      <td>9.925633</td>\n",
       "      <td>-498.310211</td>\n",
       "      <td>8.079666</td>\n",
       "      <td>-500.470978</td>\n",
       "      <td>14.151341</td>\n",
       "      <td>-605.841980</td>\n",
       "    </tr>\n",
       "    <tr>\n",
       "      <td>1</td>\n",
       "      <td>2016-01-15 01:00:00</td>\n",
       "      <td>6.029369</td>\n",
       "      <td>9.968944</td>\n",
       "      <td>5.257781</td>\n",
       "      <td>42.701629</td>\n",
       "      <td>69.266198</td>\n",
       "      <td>10.462676</td>\n",
       "      <td>0.927452</td>\n",
       "      <td>16.634514</td>\n",
       "      <td>2.224930</td>\n",
       "      <td>...</td>\n",
       "      <td>13.992281</td>\n",
       "      <td>-505.503262</td>\n",
       "      <td>11.950531</td>\n",
       "      <td>-501.331529</td>\n",
       "      <td>10.039245</td>\n",
       "      <td>-500.169983</td>\n",
       "      <td>7.984757</td>\n",
       "      <td>-500.582168</td>\n",
       "      <td>13.998353</td>\n",
       "      <td>-599.787184</td>\n",
       "    </tr>\n",
       "    <tr>\n",
       "      <td>2</td>\n",
       "      <td>2016-01-15 02:00:00</td>\n",
       "      <td>6.055926</td>\n",
       "      <td>10.213995</td>\n",
       "      <td>5.383759</td>\n",
       "      <td>42.657501</td>\n",
       "      <td>68.116445</td>\n",
       "      <td>10.507046</td>\n",
       "      <td>0.953716</td>\n",
       "      <td>16.208849</td>\n",
       "      <td>2.257889</td>\n",
       "      <td>...</td>\n",
       "      <td>14.015015</td>\n",
       "      <td>-502.520901</td>\n",
       "      <td>11.912783</td>\n",
       "      <td>-501.133383</td>\n",
       "      <td>10.070913</td>\n",
       "      <td>-500.129135</td>\n",
       "      <td>8.013877</td>\n",
       "      <td>-500.517572</td>\n",
       "      <td>14.028663</td>\n",
       "      <td>-601.427363</td>\n",
       "    </tr>\n",
       "    <tr>\n",
       "      <td>3</td>\n",
       "      <td>2016-01-15 03:00:00</td>\n",
       "      <td>6.047977</td>\n",
       "      <td>9.977019</td>\n",
       "      <td>4.858634</td>\n",
       "      <td>42.689819</td>\n",
       "      <td>68.347543</td>\n",
       "      <td>10.422762</td>\n",
       "      <td>0.883763</td>\n",
       "      <td>16.532835</td>\n",
       "      <td>2.146849</td>\n",
       "      <td>...</td>\n",
       "      <td>14.036510</td>\n",
       "      <td>-500.857308</td>\n",
       "      <td>11.999550</td>\n",
       "      <td>-501.193686</td>\n",
       "      <td>9.970366</td>\n",
       "      <td>-499.201640</td>\n",
       "      <td>7.977324</td>\n",
       "      <td>-500.255908</td>\n",
       "      <td>14.005551</td>\n",
       "      <td>-599.996129</td>\n",
       "    </tr>\n",
       "    <tr>\n",
       "      <td>4</td>\n",
       "      <td>2016-01-15 04:00:00</td>\n",
       "      <td>6.148599</td>\n",
       "      <td>10.142511</td>\n",
       "      <td>4.939416</td>\n",
       "      <td>42.774141</td>\n",
       "      <td>66.927016</td>\n",
       "      <td>10.360302</td>\n",
       "      <td>0.792826</td>\n",
       "      <td>16.525686</td>\n",
       "      <td>2.055292</td>\n",
       "      <td>...</td>\n",
       "      <td>14.027298</td>\n",
       "      <td>-499.838632</td>\n",
       "      <td>11.953070</td>\n",
       "      <td>-501.053894</td>\n",
       "      <td>9.925709</td>\n",
       "      <td>-501.686727</td>\n",
       "      <td>7.894242</td>\n",
       "      <td>-500.356035</td>\n",
       "      <td>13.996647</td>\n",
       "      <td>-601.496691</td>\n",
       "    </tr>\n",
       "    <tr>\n",
       "      <td>5</td>\n",
       "      <td>2016-01-15 05:00:00</td>\n",
       "      <td>6.482968</td>\n",
       "      <td>10.049416</td>\n",
       "      <td>5.480257</td>\n",
       "      <td>41.633678</td>\n",
       "      <td>69.465816</td>\n",
       "      <td>10.182708</td>\n",
       "      <td>0.664118</td>\n",
       "      <td>16.999638</td>\n",
       "      <td>1.918586</td>\n",
       "      <td>...</td>\n",
       "      <td>13.938497</td>\n",
       "      <td>-500.970168</td>\n",
       "      <td>11.883350</td>\n",
       "      <td>-500.395298</td>\n",
       "      <td>10.054147</td>\n",
       "      <td>-496.374715</td>\n",
       "      <td>7.965083</td>\n",
       "      <td>-499.364752</td>\n",
       "      <td>14.017067</td>\n",
       "      <td>-599.707915</td>\n",
       "    </tr>\n",
       "    <tr>\n",
       "      <td>6</td>\n",
       "      <td>2016-01-15 06:00:00</td>\n",
       "      <td>6.533849</td>\n",
       "      <td>10.058141</td>\n",
       "      <td>4.569100</td>\n",
       "      <td>41.995316</td>\n",
       "      <td>69.300835</td>\n",
       "      <td>10.304598</td>\n",
       "      <td>0.807342</td>\n",
       "      <td>16.723575</td>\n",
       "      <td>2.058913</td>\n",
       "      <td>...</td>\n",
       "      <td>14.046819</td>\n",
       "      <td>-500.971133</td>\n",
       "      <td>12.091543</td>\n",
       "      <td>-500.501426</td>\n",
       "      <td>10.003247</td>\n",
       "      <td>-497.083180</td>\n",
       "      <td>8.010890</td>\n",
       "      <td>-500.002423</td>\n",
       "      <td>14.029649</td>\n",
       "      <td>-600.905470</td>\n",
       "    </tr>\n",
       "    <tr>\n",
       "      <td>7</td>\n",
       "      <td>2016-01-15 07:00:00</td>\n",
       "      <td>6.130823</td>\n",
       "      <td>9.935481</td>\n",
       "      <td>4.389813</td>\n",
       "      <td>42.452727</td>\n",
       "      <td>70.230976</td>\n",
       "      <td>10.443288</td>\n",
       "      <td>0.949346</td>\n",
       "      <td>16.689959</td>\n",
       "      <td>2.143437</td>\n",
       "      <td>...</td>\n",
       "      <td>13.974691</td>\n",
       "      <td>-501.819696</td>\n",
       "      <td>12.101324</td>\n",
       "      <td>-500.583446</td>\n",
       "      <td>9.873169</td>\n",
       "      <td>-499.171928</td>\n",
       "      <td>7.993381</td>\n",
       "      <td>-499.794518</td>\n",
       "      <td>13.984498</td>\n",
       "      <td>-600.411070</td>\n",
       "    </tr>\n",
       "    <tr>\n",
       "      <td>8</td>\n",
       "      <td>2016-01-15 08:00:00</td>\n",
       "      <td>5.834140</td>\n",
       "      <td>10.071156</td>\n",
       "      <td>4.876389</td>\n",
       "      <td>43.404078</td>\n",
       "      <td>69.688595</td>\n",
       "      <td>10.420140</td>\n",
       "      <td>1.065453</td>\n",
       "      <td>17.201948</td>\n",
       "      <td>2.209881</td>\n",
       "      <td>...</td>\n",
       "      <td>13.964030</td>\n",
       "      <td>-504.252450</td>\n",
       "      <td>12.060738</td>\n",
       "      <td>-501.174549</td>\n",
       "      <td>10.033838</td>\n",
       "      <td>-501.178133</td>\n",
       "      <td>7.881604</td>\n",
       "      <td>-499.729434</td>\n",
       "      <td>13.967135</td>\n",
       "      <td>-599.061188</td>\n",
       "    </tr>\n",
       "    <tr>\n",
       "      <td>9</td>\n",
       "      <td>2016-01-15 09:00:00</td>\n",
       "      <td>5.687063</td>\n",
       "      <td>9.980404</td>\n",
       "      <td>5.282514</td>\n",
       "      <td>43.235220</td>\n",
       "      <td>70.279619</td>\n",
       "      <td>10.487013</td>\n",
       "      <td>1.159805</td>\n",
       "      <td>17.483979</td>\n",
       "      <td>2.209593</td>\n",
       "      <td>...</td>\n",
       "      <td>13.989632</td>\n",
       "      <td>-503.195299</td>\n",
       "      <td>12.052233</td>\n",
       "      <td>-500.928547</td>\n",
       "      <td>9.962574</td>\n",
       "      <td>-502.986357</td>\n",
       "      <td>7.979219</td>\n",
       "      <td>-500.146835</td>\n",
       "      <td>13.981614</td>\n",
       "      <td>-598.070855</td>\n",
       "    </tr>\n",
       "  </tbody>\n",
       "</table>\n",
       "<p>10 rows × 87 columns</p>\n",
       "</div>"
      ],
      "text/plain": [
       "                  date  final.output.concentrate_ag  \\\n",
       "0  2016-01-15 00:00:00                     6.055403   \n",
       "1  2016-01-15 01:00:00                     6.029369   \n",
       "2  2016-01-15 02:00:00                     6.055926   \n",
       "3  2016-01-15 03:00:00                     6.047977   \n",
       "4  2016-01-15 04:00:00                     6.148599   \n",
       "5  2016-01-15 05:00:00                     6.482968   \n",
       "6  2016-01-15 06:00:00                     6.533849   \n",
       "7  2016-01-15 07:00:00                     6.130823   \n",
       "8  2016-01-15 08:00:00                     5.834140   \n",
       "9  2016-01-15 09:00:00                     5.687063   \n",
       "\n",
       "   final.output.concentrate_pb  final.output.concentrate_sol  \\\n",
       "0                     9.889648                      5.507324   \n",
       "1                     9.968944                      5.257781   \n",
       "2                    10.213995                      5.383759   \n",
       "3                     9.977019                      4.858634   \n",
       "4                    10.142511                      4.939416   \n",
       "5                    10.049416                      5.480257   \n",
       "6                    10.058141                      4.569100   \n",
       "7                     9.935481                      4.389813   \n",
       "8                    10.071156                      4.876389   \n",
       "9                     9.980404                      5.282514   \n",
       "\n",
       "   final.output.concentrate_au  final.output.recovery  final.output.tail_ag  \\\n",
       "0                    42.192020              70.541216             10.411962   \n",
       "1                    42.701629              69.266198             10.462676   \n",
       "2                    42.657501              68.116445             10.507046   \n",
       "3                    42.689819              68.347543             10.422762   \n",
       "4                    42.774141              66.927016             10.360302   \n",
       "5                    41.633678              69.465816             10.182708   \n",
       "6                    41.995316              69.300835             10.304598   \n",
       "7                    42.452727              70.230976             10.443288   \n",
       "8                    43.404078              69.688595             10.420140   \n",
       "9                    43.235220              70.279619             10.487013   \n",
       "\n",
       "   final.output.tail_pb  final.output.tail_sol  final.output.tail_au  ...  \\\n",
       "0              0.895447              16.904297              2.143149  ...   \n",
       "1              0.927452              16.634514              2.224930  ...   \n",
       "2              0.953716              16.208849              2.257889  ...   \n",
       "3              0.883763              16.532835              2.146849  ...   \n",
       "4              0.792826              16.525686              2.055292  ...   \n",
       "5              0.664118              16.999638              1.918586  ...   \n",
       "6              0.807342              16.723575              2.058913  ...   \n",
       "7              0.949346              16.689959              2.143437  ...   \n",
       "8              1.065453              17.201948              2.209881  ...   \n",
       "9              1.159805              17.483979              2.209593  ...   \n",
       "\n",
       "   secondary_cleaner.state.floatbank4_a_air  \\\n",
       "0                                 14.016835   \n",
       "1                                 13.992281   \n",
       "2                                 14.015015   \n",
       "3                                 14.036510   \n",
       "4                                 14.027298   \n",
       "5                                 13.938497   \n",
       "6                                 14.046819   \n",
       "7                                 13.974691   \n",
       "8                                 13.964030   \n",
       "9                                 13.989632   \n",
       "\n",
       "   secondary_cleaner.state.floatbank4_a_level  \\\n",
       "0                                 -502.488007   \n",
       "1                                 -505.503262   \n",
       "2                                 -502.520901   \n",
       "3                                 -500.857308   \n",
       "4                                 -499.838632   \n",
       "5                                 -500.970168   \n",
       "6                                 -500.971133   \n",
       "7                                 -501.819696   \n",
       "8                                 -504.252450   \n",
       "9                                 -503.195299   \n",
       "\n",
       "   secondary_cleaner.state.floatbank4_b_air  \\\n",
       "0                                 12.099931   \n",
       "1                                 11.950531   \n",
       "2                                 11.912783   \n",
       "3                                 11.999550   \n",
       "4                                 11.953070   \n",
       "5                                 11.883350   \n",
       "6                                 12.091543   \n",
       "7                                 12.101324   \n",
       "8                                 12.060738   \n",
       "9                                 12.052233   \n",
       "\n",
       "   secondary_cleaner.state.floatbank4_b_level  \\\n",
       "0                                 -504.715942   \n",
       "1                                 -501.331529   \n",
       "2                                 -501.133383   \n",
       "3                                 -501.193686   \n",
       "4                                 -501.053894   \n",
       "5                                 -500.395298   \n",
       "6                                 -500.501426   \n",
       "7                                 -500.583446   \n",
       "8                                 -501.174549   \n",
       "9                                 -500.928547   \n",
       "\n",
       "   secondary_cleaner.state.floatbank5_a_air  \\\n",
       "0                                  9.925633   \n",
       "1                                 10.039245   \n",
       "2                                 10.070913   \n",
       "3                                  9.970366   \n",
       "4                                  9.925709   \n",
       "5                                 10.054147   \n",
       "6                                 10.003247   \n",
       "7                                  9.873169   \n",
       "8                                 10.033838   \n",
       "9                                  9.962574   \n",
       "\n",
       "   secondary_cleaner.state.floatbank5_a_level  \\\n",
       "0                                 -498.310211   \n",
       "1                                 -500.169983   \n",
       "2                                 -500.129135   \n",
       "3                                 -499.201640   \n",
       "4                                 -501.686727   \n",
       "5                                 -496.374715   \n",
       "6                                 -497.083180   \n",
       "7                                 -499.171928   \n",
       "8                                 -501.178133   \n",
       "9                                 -502.986357   \n",
       "\n",
       "   secondary_cleaner.state.floatbank5_b_air  \\\n",
       "0                                  8.079666   \n",
       "1                                  7.984757   \n",
       "2                                  8.013877   \n",
       "3                                  7.977324   \n",
       "4                                  7.894242   \n",
       "5                                  7.965083   \n",
       "6                                  8.010890   \n",
       "7                                  7.993381   \n",
       "8                                  7.881604   \n",
       "9                                  7.979219   \n",
       "\n",
       "   secondary_cleaner.state.floatbank5_b_level  \\\n",
       "0                                 -500.470978   \n",
       "1                                 -500.582168   \n",
       "2                                 -500.517572   \n",
       "3                                 -500.255908   \n",
       "4                                 -500.356035   \n",
       "5                                 -499.364752   \n",
       "6                                 -500.002423   \n",
       "7                                 -499.794518   \n",
       "8                                 -499.729434   \n",
       "9                                 -500.146835   \n",
       "\n",
       "   secondary_cleaner.state.floatbank6_a_air  \\\n",
       "0                                 14.151341   \n",
       "1                                 13.998353   \n",
       "2                                 14.028663   \n",
       "3                                 14.005551   \n",
       "4                                 13.996647   \n",
       "5                                 14.017067   \n",
       "6                                 14.029649   \n",
       "7                                 13.984498   \n",
       "8                                 13.967135   \n",
       "9                                 13.981614   \n",
       "\n",
       "   secondary_cleaner.state.floatbank6_a_level  \n",
       "0                                 -605.841980  \n",
       "1                                 -599.787184  \n",
       "2                                 -601.427363  \n",
       "3                                 -599.996129  \n",
       "4                                 -601.496691  \n",
       "5                                 -599.707915  \n",
       "6                                 -600.905470  \n",
       "7                                 -600.411070  \n",
       "8                                 -599.061188  \n",
       "9                                 -598.070855  \n",
       "\n",
       "[10 rows x 87 columns]"
      ]
     },
     "execution_count": 7,
     "metadata": {},
     "output_type": "execute_result"
    }
   ],
   "source": [
    "df_full.head(10)"
   ]
  },
  {
   "cell_type": "markdown",
   "metadata": {},
   "source": [
    "Получим общую информацию о каждой таблице:"
   ]
  },
  {
   "cell_type": "code",
   "execution_count": 8,
   "metadata": {},
   "outputs": [
    {
     "name": "stdout",
     "output_type": "stream",
     "text": [
      "<class 'pandas.core.frame.DataFrame'>\n",
      "RangeIndex: 14149 entries, 0 to 14148\n",
      "Data columns (total 87 columns):\n",
      "date                                                  14149 non-null object\n",
      "final.output.concentrate_ag                           14148 non-null float64\n",
      "final.output.concentrate_pb                           14148 non-null float64\n",
      "final.output.concentrate_sol                          13938 non-null float64\n",
      "final.output.concentrate_au                           14149 non-null float64\n",
      "final.output.recovery                                 14149 non-null float64\n",
      "final.output.tail_ag                                  14149 non-null float64\n",
      "final.output.tail_pb                                  14049 non-null float64\n",
      "final.output.tail_sol                                 14144 non-null float64\n",
      "final.output.tail_au                                  14149 non-null float64\n",
      "primary_cleaner.input.sulfate                         14129 non-null float64\n",
      "primary_cleaner.input.depressant                      14117 non-null float64\n",
      "primary_cleaner.input.feed_size                       14149 non-null float64\n",
      "primary_cleaner.input.xanthate                        14049 non-null float64\n",
      "primary_cleaner.output.concentrate_ag                 14149 non-null float64\n",
      "primary_cleaner.output.concentrate_pb                 14063 non-null float64\n",
      "primary_cleaner.output.concentrate_sol                13863 non-null float64\n",
      "primary_cleaner.output.concentrate_au                 14149 non-null float64\n",
      "primary_cleaner.output.tail_ag                        14148 non-null float64\n",
      "primary_cleaner.output.tail_pb                        14134 non-null float64\n",
      "primary_cleaner.output.tail_sol                       14103 non-null float64\n",
      "primary_cleaner.output.tail_au                        14149 non-null float64\n",
      "primary_cleaner.state.floatbank8_a_air                14145 non-null float64\n",
      "primary_cleaner.state.floatbank8_a_level              14148 non-null float64\n",
      "primary_cleaner.state.floatbank8_b_air                14145 non-null float64\n",
      "primary_cleaner.state.floatbank8_b_level              14148 non-null float64\n",
      "primary_cleaner.state.floatbank8_c_air                14147 non-null float64\n",
      "primary_cleaner.state.floatbank8_c_level              14148 non-null float64\n",
      "primary_cleaner.state.floatbank8_d_air                14146 non-null float64\n",
      "primary_cleaner.state.floatbank8_d_level              14148 non-null float64\n",
      "rougher.calculation.sulfate_to_au_concentrate         14148 non-null float64\n",
      "rougher.calculation.floatbank10_sulfate_to_au_feed    14148 non-null float64\n",
      "rougher.calculation.floatbank11_sulfate_to_au_feed    14148 non-null float64\n",
      "rougher.calculation.au_pb_ratio                       14149 non-null float64\n",
      "rougher.input.feed_ag                                 14149 non-null float64\n",
      "rougher.input.feed_pb                                 14049 non-null float64\n",
      "rougher.input.feed_rate                               14141 non-null float64\n",
      "rougher.input.feed_size                               14005 non-null float64\n",
      "rougher.input.feed_sol                                14071 non-null float64\n",
      "rougher.input.feed_au                                 14149 non-null float64\n",
      "rougher.input.floatbank10_sulfate                     14120 non-null float64\n",
      "rougher.input.floatbank10_xanthate                    14141 non-null float64\n",
      "rougher.input.floatbank11_sulfate                     14113 non-null float64\n",
      "rougher.input.floatbank11_xanthate                    13721 non-null float64\n",
      "rougher.output.concentrate_ag                         14149 non-null float64\n",
      "rougher.output.concentrate_pb                         14149 non-null float64\n",
      "rougher.output.concentrate_sol                        14127 non-null float64\n",
      "rougher.output.concentrate_au                         14149 non-null float64\n",
      "rougher.output.recovery                               14149 non-null float64\n",
      "rougher.output.tail_ag                                14148 non-null float64\n",
      "rougher.output.tail_pb                                14149 non-null float64\n",
      "rougher.output.tail_sol                               14149 non-null float64\n",
      "rougher.output.tail_au                                14149 non-null float64\n",
      "rougher.state.floatbank10_a_air                       14148 non-null float64\n",
      "rougher.state.floatbank10_a_level                     14148 non-null float64\n",
      "rougher.state.floatbank10_b_air                       14148 non-null float64\n",
      "rougher.state.floatbank10_b_level                     14148 non-null float64\n",
      "rougher.state.floatbank10_c_air                       14148 non-null float64\n",
      "rougher.state.floatbank10_c_level                     14148 non-null float64\n",
      "rougher.state.floatbank10_d_air                       14149 non-null float64\n",
      "rougher.state.floatbank10_d_level                     14149 non-null float64\n",
      "rougher.state.floatbank10_e_air                       13713 non-null float64\n",
      "rougher.state.floatbank10_e_level                     14149 non-null float64\n",
      "rougher.state.floatbank10_f_air                       14149 non-null float64\n",
      "rougher.state.floatbank10_f_level                     14149 non-null float64\n",
      "secondary_cleaner.output.tail_ag                      14147 non-null float64\n",
      "secondary_cleaner.output.tail_pb                      14139 non-null float64\n",
      "secondary_cleaner.output.tail_sol                     12544 non-null float64\n",
      "secondary_cleaner.output.tail_au                      14149 non-null float64\n",
      "secondary_cleaner.state.floatbank2_a_air              13932 non-null float64\n",
      "secondary_cleaner.state.floatbank2_a_level            14148 non-null float64\n",
      "secondary_cleaner.state.floatbank2_b_air              14128 non-null float64\n",
      "secondary_cleaner.state.floatbank2_b_level            14148 non-null float64\n",
      "secondary_cleaner.state.floatbank3_a_air              14145 non-null float64\n",
      "secondary_cleaner.state.floatbank3_a_level            14148 non-null float64\n",
      "secondary_cleaner.state.floatbank3_b_air              14148 non-null float64\n",
      "secondary_cleaner.state.floatbank3_b_level            14148 non-null float64\n",
      "secondary_cleaner.state.floatbank4_a_air              14143 non-null float64\n",
      "secondary_cleaner.state.floatbank4_a_level            14148 non-null float64\n",
      "secondary_cleaner.state.floatbank4_b_air              14148 non-null float64\n",
      "secondary_cleaner.state.floatbank4_b_level            14148 non-null float64\n",
      "secondary_cleaner.state.floatbank5_a_air              14148 non-null float64\n",
      "secondary_cleaner.state.floatbank5_a_level            14148 non-null float64\n",
      "secondary_cleaner.state.floatbank5_b_air              14148 non-null float64\n",
      "secondary_cleaner.state.floatbank5_b_level            14148 non-null float64\n",
      "secondary_cleaner.state.floatbank6_a_air              14147 non-null float64\n",
      "secondary_cleaner.state.floatbank6_a_level            14148 non-null float64\n",
      "dtypes: float64(86), object(1)\n",
      "memory usage: 9.4+ MB\n"
     ]
    }
   ],
   "source": [
    "df_train.info()"
   ]
  },
  {
   "cell_type": "code",
   "execution_count": 9,
   "metadata": {},
   "outputs": [
    {
     "name": "stdout",
     "output_type": "stream",
     "text": [
      "<class 'pandas.core.frame.DataFrame'>\n",
      "RangeIndex: 5290 entries, 0 to 5289\n",
      "Data columns (total 53 columns):\n",
      "date                                          5290 non-null object\n",
      "primary_cleaner.input.sulfate                 5286 non-null float64\n",
      "primary_cleaner.input.depressant              5285 non-null float64\n",
      "primary_cleaner.input.feed_size               5290 non-null float64\n",
      "primary_cleaner.input.xanthate                5286 non-null float64\n",
      "primary_cleaner.state.floatbank8_a_air        5290 non-null float64\n",
      "primary_cleaner.state.floatbank8_a_level      5290 non-null float64\n",
      "primary_cleaner.state.floatbank8_b_air        5290 non-null float64\n",
      "primary_cleaner.state.floatbank8_b_level      5290 non-null float64\n",
      "primary_cleaner.state.floatbank8_c_air        5290 non-null float64\n",
      "primary_cleaner.state.floatbank8_c_level      5290 non-null float64\n",
      "primary_cleaner.state.floatbank8_d_air        5290 non-null float64\n",
      "primary_cleaner.state.floatbank8_d_level      5290 non-null float64\n",
      "rougher.input.feed_ag                         5290 non-null float64\n",
      "rougher.input.feed_pb                         5290 non-null float64\n",
      "rougher.input.feed_rate                       5287 non-null float64\n",
      "rougher.input.feed_size                       5289 non-null float64\n",
      "rougher.input.feed_sol                        5269 non-null float64\n",
      "rougher.input.feed_au                         5290 non-null float64\n",
      "rougher.input.floatbank10_sulfate             5285 non-null float64\n",
      "rougher.input.floatbank10_xanthate            5290 non-null float64\n",
      "rougher.input.floatbank11_sulfate             5282 non-null float64\n",
      "rougher.input.floatbank11_xanthate            5265 non-null float64\n",
      "rougher.state.floatbank10_a_air               5290 non-null float64\n",
      "rougher.state.floatbank10_a_level             5290 non-null float64\n",
      "rougher.state.floatbank10_b_air               5290 non-null float64\n",
      "rougher.state.floatbank10_b_level             5290 non-null float64\n",
      "rougher.state.floatbank10_c_air               5290 non-null float64\n",
      "rougher.state.floatbank10_c_level             5290 non-null float64\n",
      "rougher.state.floatbank10_d_air               5290 non-null float64\n",
      "rougher.state.floatbank10_d_level             5290 non-null float64\n",
      "rougher.state.floatbank10_e_air               5290 non-null float64\n",
      "rougher.state.floatbank10_e_level             5290 non-null float64\n",
      "rougher.state.floatbank10_f_air               5290 non-null float64\n",
      "rougher.state.floatbank10_f_level             5290 non-null float64\n",
      "secondary_cleaner.state.floatbank2_a_air      5287 non-null float64\n",
      "secondary_cleaner.state.floatbank2_a_level    5290 non-null float64\n",
      "secondary_cleaner.state.floatbank2_b_air      5288 non-null float64\n",
      "secondary_cleaner.state.floatbank2_b_level    5290 non-null float64\n",
      "secondary_cleaner.state.floatbank3_a_air      5281 non-null float64\n",
      "secondary_cleaner.state.floatbank3_a_level    5290 non-null float64\n",
      "secondary_cleaner.state.floatbank3_b_air      5290 non-null float64\n",
      "secondary_cleaner.state.floatbank3_b_level    5290 non-null float64\n",
      "secondary_cleaner.state.floatbank4_a_air      5290 non-null float64\n",
      "secondary_cleaner.state.floatbank4_a_level    5290 non-null float64\n",
      "secondary_cleaner.state.floatbank4_b_air      5290 non-null float64\n",
      "secondary_cleaner.state.floatbank4_b_level    5290 non-null float64\n",
      "secondary_cleaner.state.floatbank5_a_air      5290 non-null float64\n",
      "secondary_cleaner.state.floatbank5_a_level    5290 non-null float64\n",
      "secondary_cleaner.state.floatbank5_b_air      5290 non-null float64\n",
      "secondary_cleaner.state.floatbank5_b_level    5290 non-null float64\n",
      "secondary_cleaner.state.floatbank6_a_air      5290 non-null float64\n",
      "secondary_cleaner.state.floatbank6_a_level    5290 non-null float64\n",
      "dtypes: float64(52), object(1)\n",
      "memory usage: 2.1+ MB\n"
     ]
    }
   ],
   "source": [
    "df_test.info()"
   ]
  },
  {
   "cell_type": "code",
   "execution_count": 10,
   "metadata": {},
   "outputs": [
    {
     "name": "stdout",
     "output_type": "stream",
     "text": [
      "<class 'pandas.core.frame.DataFrame'>\n",
      "RangeIndex: 19439 entries, 0 to 19438\n",
      "Data columns (total 87 columns):\n",
      "date                                                  19439 non-null object\n",
      "final.output.concentrate_ag                           19438 non-null float64\n",
      "final.output.concentrate_pb                           19438 non-null float64\n",
      "final.output.concentrate_sol                          19228 non-null float64\n",
      "final.output.concentrate_au                           19439 non-null float64\n",
      "final.output.recovery                                 19439 non-null float64\n",
      "final.output.tail_ag                                  19438 non-null float64\n",
      "final.output.tail_pb                                  19338 non-null float64\n",
      "final.output.tail_sol                                 19433 non-null float64\n",
      "final.output.tail_au                                  19439 non-null float64\n",
      "primary_cleaner.input.sulfate                         19415 non-null float64\n",
      "primary_cleaner.input.depressant                      19402 non-null float64\n",
      "primary_cleaner.input.feed_size                       19439 non-null float64\n",
      "primary_cleaner.input.xanthate                        19335 non-null float64\n",
      "primary_cleaner.output.concentrate_ag                 19439 non-null float64\n",
      "primary_cleaner.output.concentrate_pb                 19323 non-null float64\n",
      "primary_cleaner.output.concentrate_sol                19069 non-null float64\n",
      "primary_cleaner.output.concentrate_au                 19439 non-null float64\n",
      "primary_cleaner.output.tail_ag                        19435 non-null float64\n",
      "primary_cleaner.output.tail_pb                        19418 non-null float64\n",
      "primary_cleaner.output.tail_sol                       19377 non-null float64\n",
      "primary_cleaner.output.tail_au                        19439 non-null float64\n",
      "primary_cleaner.state.floatbank8_a_air                19435 non-null float64\n",
      "primary_cleaner.state.floatbank8_a_level              19438 non-null float64\n",
      "primary_cleaner.state.floatbank8_b_air                19435 non-null float64\n",
      "primary_cleaner.state.floatbank8_b_level              19438 non-null float64\n",
      "primary_cleaner.state.floatbank8_c_air                19437 non-null float64\n",
      "primary_cleaner.state.floatbank8_c_level              19438 non-null float64\n",
      "primary_cleaner.state.floatbank8_d_air                19436 non-null float64\n",
      "primary_cleaner.state.floatbank8_d_level              19438 non-null float64\n",
      "rougher.calculation.sulfate_to_au_concentrate         19437 non-null float64\n",
      "rougher.calculation.floatbank10_sulfate_to_au_feed    19437 non-null float64\n",
      "rougher.calculation.floatbank11_sulfate_to_au_feed    19437 non-null float64\n",
      "rougher.calculation.au_pb_ratio                       19439 non-null float64\n",
      "rougher.input.feed_ag                                 19439 non-null float64\n",
      "rougher.input.feed_pb                                 19339 non-null float64\n",
      "rougher.input.feed_rate                               19428 non-null float64\n",
      "rougher.input.feed_size                               19294 non-null float64\n",
      "rougher.input.feed_sol                                19340 non-null float64\n",
      "rougher.input.feed_au                                 19439 non-null float64\n",
      "rougher.input.floatbank10_sulfate                     19405 non-null float64\n",
      "rougher.input.floatbank10_xanthate                    19431 non-null float64\n",
      "rougher.input.floatbank11_sulfate                     19395 non-null float64\n",
      "rougher.input.floatbank11_xanthate                    18986 non-null float64\n",
      "rougher.output.concentrate_ag                         19439 non-null float64\n",
      "rougher.output.concentrate_pb                         19439 non-null float64\n",
      "rougher.output.concentrate_sol                        19416 non-null float64\n",
      "rougher.output.concentrate_au                         19439 non-null float64\n",
      "rougher.output.recovery                               19439 non-null float64\n",
      "rougher.output.tail_ag                                19438 non-null float64\n",
      "rougher.output.tail_pb                                19439 non-null float64\n",
      "rougher.output.tail_sol                               19439 non-null float64\n",
      "rougher.output.tail_au                                19439 non-null float64\n",
      "rougher.state.floatbank10_a_air                       19438 non-null float64\n",
      "rougher.state.floatbank10_a_level                     19438 non-null float64\n",
      "rougher.state.floatbank10_b_air                       19438 non-null float64\n",
      "rougher.state.floatbank10_b_level                     19438 non-null float64\n",
      "rougher.state.floatbank10_c_air                       19438 non-null float64\n",
      "rougher.state.floatbank10_c_level                     19438 non-null float64\n",
      "rougher.state.floatbank10_d_air                       19439 non-null float64\n",
      "rougher.state.floatbank10_d_level                     19439 non-null float64\n",
      "rougher.state.floatbank10_e_air                       19003 non-null float64\n",
      "rougher.state.floatbank10_e_level                     19439 non-null float64\n",
      "rougher.state.floatbank10_f_air                       19439 non-null float64\n",
      "rougher.state.floatbank10_f_level                     19439 non-null float64\n",
      "secondary_cleaner.output.tail_ag                      19437 non-null float64\n",
      "secondary_cleaner.output.tail_pb                      19427 non-null float64\n",
      "secondary_cleaner.output.tail_sol                     17691 non-null float64\n",
      "secondary_cleaner.output.tail_au                      19439 non-null float64\n",
      "secondary_cleaner.state.floatbank2_a_air              19219 non-null float64\n",
      "secondary_cleaner.state.floatbank2_a_level            19438 non-null float64\n",
      "secondary_cleaner.state.floatbank2_b_air              19416 non-null float64\n",
      "secondary_cleaner.state.floatbank2_b_level            19438 non-null float64\n",
      "secondary_cleaner.state.floatbank3_a_air              19426 non-null float64\n",
      "secondary_cleaner.state.floatbank3_a_level            19438 non-null float64\n",
      "secondary_cleaner.state.floatbank3_b_air              19438 non-null float64\n",
      "secondary_cleaner.state.floatbank3_b_level            19438 non-null float64\n",
      "secondary_cleaner.state.floatbank4_a_air              19433 non-null float64\n",
      "secondary_cleaner.state.floatbank4_a_level            19438 non-null float64\n",
      "secondary_cleaner.state.floatbank4_b_air              19438 non-null float64\n",
      "secondary_cleaner.state.floatbank4_b_level            19438 non-null float64\n",
      "secondary_cleaner.state.floatbank5_a_air              19438 non-null float64\n",
      "secondary_cleaner.state.floatbank5_a_level            19438 non-null float64\n",
      "secondary_cleaner.state.floatbank5_b_air              19438 non-null float64\n",
      "secondary_cleaner.state.floatbank5_b_level            19438 non-null float64\n",
      "secondary_cleaner.state.floatbank6_a_air              19437 non-null float64\n",
      "secondary_cleaner.state.floatbank6_a_level            19438 non-null float64\n",
      "dtypes: float64(86), object(1)\n",
      "memory usage: 12.9+ MB\n"
     ]
    }
   ],
   "source": [
    "df_full.info()"
   ]
  },
  {
   "cell_type": "markdown",
   "metadata": {},
   "source": [
    "**Изучив файлы с данными, отметим:**\n",
    "\n",
    "- В таблице df_train (обучающая выборка) 87 признаков; \n",
    "- В таблице df_test (тестовая выборка) 53 признака;\n",
    "- В таблице df_full (исходные данные) также 87 признаков.\n",
    "\n",
    "Согласно документации к данным **целевые признаки**, который нужно спрогнозировать, — `rougher.output.recovery`(**эффективность обогащения чернового концентрата**) и `final.output.recovery`(**эффективность обогащения финального концентрата**)."
   ]
  },
  {
   "cell_type": "markdown",
   "metadata": {},
   "source": [
    "### Проверка расчета эффективности обогащения"
   ]
  },
  {
   "cell_type": "code",
   "execution_count": 11,
   "metadata": {},
   "outputs": [
    {
     "data": {
      "text/plain": [
       "0        87.107763\n",
       "1        86.843261\n",
       "2        86.842308\n",
       "3        87.226430\n",
       "4        86.688794\n",
       "           ...    \n",
       "14144    89.574376\n",
       "14145    87.724007\n",
       "14146    88.890579\n",
       "14147    89.858126\n",
       "14148    89.514960\n",
       "Name: rougher.output.recovery, Length: 14149, dtype: float64"
      ]
     },
     "execution_count": 11,
     "metadata": {},
     "output_type": "execute_result"
    }
   ],
   "source": [
    "df_train['rougher.output.recovery']"
   ]
  },
  {
   "cell_type": "markdown",
   "metadata": {},
   "source": [
    "**Проведем проверку того, что эффективность обогащения рассчитана правильно. Вычислим её на обучающей выборке для признака `rougher.output.recovery`.**"
   ]
  },
  {
   "cell_type": "code",
   "execution_count": 12,
   "metadata": {},
   "outputs": [
    {
     "name": "stdout",
     "output_type": "stream",
     "text": [
      "0        87.107763\n",
      "1        86.843261\n",
      "2        86.842308\n",
      "3        87.226430\n",
      "4        86.688794\n",
      "           ...    \n",
      "14144    89.574376\n",
      "14145    87.724007\n",
      "14146    88.890579\n",
      "14147    89.858126\n",
      "14148    89.514960\n",
      "Length: 14149, dtype: float64\n"
     ]
    }
   ],
   "source": [
    "# формула для расчета эффективности обогащения \n",
    "recovery_сheck = (\n",
    "    (df_train['rougher.output.concentrate_au'] * (df_train['rougher.input.feed_au'] - df_train['rougher.output.tail_au']))/\n",
    "    (df_train['rougher.input.feed_au'] * (df_train['rougher.output.concentrate_au'] - df_train['rougher.output.tail_au'])) * 100\n",
    ")\n",
    "print(recovery_сheck)"
   ]
  },
  {
   "cell_type": "markdown",
   "metadata": {},
   "source": [
    "**Далее найдем MAE между нашими расчётами и значением признака.**"
   ]
  },
  {
   "cell_type": "code",
   "execution_count": 13,
   "metadata": {},
   "outputs": [
    {
     "data": {
      "text/plain": [
       "9.682896147825551e-15"
      ]
     },
     "execution_count": 13,
     "metadata": {},
     "output_type": "execute_result"
    }
   ],
   "source": [
    "def mae_сheck(real_values, сalculations): # создадим функцию для расчета MAE\n",
    "   error = 0\n",
    "   for i in range(real_values.shape[0]):\n",
    "        error += abs(real_values[i] - сalculations[i])\n",
    "   return error / real_values.shape[0] \n",
    " \n",
    "real_values = pd.Series(df_train['rougher.output.recovery'])\n",
    "сalculations = pd.Series(recovery_сheck)\n",
    "\n",
    "mae_сheck(real_values, сalculations)"
   ]
  },
  {
   "cell_type": "code",
   "execution_count": 14,
   "metadata": {
    "scrolled": true
   },
   "outputs": [
    {
     "name": "stdout",
     "output_type": "stream",
     "text": [
      "Значение MAE: 9.682896147825551e-15\n"
     ]
    }
   ],
   "source": [
    "# дополнительно посчитаем MAE через функцию из sklearn\n",
    "print('Значение MAE:', mean_absolute_error(df_train['rougher.output.recovery'], recovery_сheck))"
   ]
  },
  {
   "cell_type": "markdown",
   "metadata": {},
   "source": [
    "**Вывод**"
   ]
  },
  {
   "cell_type": "markdown",
   "metadata": {},
   "source": [
    "Так как MAE между расчётами и значением признака практически нулевое, можно прийти к выводу, что эффективность обогащения рассчитана правильно."
   ]
  },
  {
   "cell_type": "markdown",
   "metadata": {},
   "source": [
    "### Анализ признаков, недоступных в тестовой выборке"
   ]
  },
  {
   "cell_type": "code",
   "execution_count": 15,
   "metadata": {},
   "outputs": [],
   "source": [
    "columns_train = df_train.columns.values.tolist()"
   ]
  },
  {
   "cell_type": "code",
   "execution_count": 16,
   "metadata": {
    "scrolled": true
   },
   "outputs": [],
   "source": [
    "columns_test = df_test.columns.values.tolist()"
   ]
  },
  {
   "cell_type": "code",
   "execution_count": 17,
   "metadata": {
    "scrolled": false
   },
   "outputs": [
    {
     "name": "stdout",
     "output_type": "stream",
     "text": [
      "34\n",
      "final.output.concentrate_ag\n",
      "final.output.concentrate_pb\n",
      "final.output.concentrate_sol\n",
      "final.output.concentrate_au\n",
      "final.output.recovery\n",
      "final.output.tail_ag\n",
      "final.output.tail_pb\n",
      "final.output.tail_sol\n",
      "final.output.tail_au\n",
      "primary_cleaner.output.concentrate_ag\n",
      "primary_cleaner.output.concentrate_pb\n",
      "primary_cleaner.output.concentrate_sol\n",
      "primary_cleaner.output.concentrate_au\n",
      "primary_cleaner.output.tail_ag\n",
      "primary_cleaner.output.tail_pb\n",
      "primary_cleaner.output.tail_sol\n",
      "primary_cleaner.output.tail_au\n",
      "rougher.calculation.sulfate_to_au_concentrate\n",
      "rougher.calculation.floatbank10_sulfate_to_au_feed\n",
      "rougher.calculation.floatbank11_sulfate_to_au_feed\n",
      "rougher.calculation.au_pb_ratio\n",
      "rougher.output.concentrate_ag\n",
      "rougher.output.concentrate_pb\n",
      "rougher.output.concentrate_sol\n",
      "rougher.output.concentrate_au\n",
      "rougher.output.recovery\n",
      "rougher.output.tail_ag\n",
      "rougher.output.tail_pb\n",
      "rougher.output.tail_sol\n",
      "rougher.output.tail_au\n",
      "secondary_cleaner.output.tail_ag\n",
      "secondary_cleaner.output.tail_pb\n",
      "secondary_cleaner.output.tail_sol\n",
      "secondary_cleaner.output.tail_au\n"
     ]
    }
   ],
   "source": [
    "# найдем признаки, недоступные в тестовой выборке\n",
    "columns_test_inaccessible = []\n",
    "\n",
    "for i in columns_train: \n",
    "    if i not in columns_test:\n",
    "        columns_test_inaccessible.append(i)\n",
    "\n",
    "print(len(columns_test_inaccessible))\n",
    "print('\\n'.join(columns_test_inaccessible))"
   ]
  },
  {
   "cell_type": "markdown",
   "metadata": {},
   "source": [
    "**Вывод**"
   ]
  },
  {
   "cell_type": "markdown",
   "metadata": {},
   "source": [
    "Проанализировав признаки, недоступные в тестовой выборке, отметим, что это, во-первых, целевые признаки, а, во-вторых, значения с параметрами продукта (output) и  расчётными характеристиками (calculation). Согласно описанию проекта, данные параметры недоступны в тестовой выборке, потому что замеряются и/или рассчитываются значительно позже."
   ]
  },
  {
   "cell_type": "markdown",
   "metadata": {},
   "source": [
    "### Предобработка данных"
   ]
  },
  {
   "cell_type": "markdown",
   "metadata": {},
   "source": [
    "Так как данные в таблицах индексируются датой и временем получения информации (признак date), а также соседние по времени параметры часто похожи, заполним пропущенные значения методом **fillna() с аргументом `method = ffill`** (таким образом метод заполнит пропущенное значение предыдущим значением в столбце)."
   ]
  },
  {
   "cell_type": "code",
   "execution_count": 18,
   "metadata": {},
   "outputs": [],
   "source": [
    "df_train = df_train.fillna(method=\"ffill\")"
   ]
  },
  {
   "cell_type": "code",
   "execution_count": 19,
   "metadata": {},
   "outputs": [
    {
     "name": "stdout",
     "output_type": "stream",
     "text": [
      "<class 'pandas.core.frame.DataFrame'>\n",
      "RangeIndex: 14149 entries, 0 to 14148\n",
      "Data columns (total 87 columns):\n",
      "date                                                  14149 non-null object\n",
      "final.output.concentrate_ag                           14149 non-null float64\n",
      "final.output.concentrate_pb                           14149 non-null float64\n",
      "final.output.concentrate_sol                          14149 non-null float64\n",
      "final.output.concentrate_au                           14149 non-null float64\n",
      "final.output.recovery                                 14149 non-null float64\n",
      "final.output.tail_ag                                  14149 non-null float64\n",
      "final.output.tail_pb                                  14149 non-null float64\n",
      "final.output.tail_sol                                 14149 non-null float64\n",
      "final.output.tail_au                                  14149 non-null float64\n",
      "primary_cleaner.input.sulfate                         14149 non-null float64\n",
      "primary_cleaner.input.depressant                      14149 non-null float64\n",
      "primary_cleaner.input.feed_size                       14149 non-null float64\n",
      "primary_cleaner.input.xanthate                        14149 non-null float64\n",
      "primary_cleaner.output.concentrate_ag                 14149 non-null float64\n",
      "primary_cleaner.output.concentrate_pb                 14149 non-null float64\n",
      "primary_cleaner.output.concentrate_sol                14149 non-null float64\n",
      "primary_cleaner.output.concentrate_au                 14149 non-null float64\n",
      "primary_cleaner.output.tail_ag                        14149 non-null float64\n",
      "primary_cleaner.output.tail_pb                        14149 non-null float64\n",
      "primary_cleaner.output.tail_sol                       14149 non-null float64\n",
      "primary_cleaner.output.tail_au                        14149 non-null float64\n",
      "primary_cleaner.state.floatbank8_a_air                14149 non-null float64\n",
      "primary_cleaner.state.floatbank8_a_level              14149 non-null float64\n",
      "primary_cleaner.state.floatbank8_b_air                14149 non-null float64\n",
      "primary_cleaner.state.floatbank8_b_level              14149 non-null float64\n",
      "primary_cleaner.state.floatbank8_c_air                14149 non-null float64\n",
      "primary_cleaner.state.floatbank8_c_level              14149 non-null float64\n",
      "primary_cleaner.state.floatbank8_d_air                14149 non-null float64\n",
      "primary_cleaner.state.floatbank8_d_level              14149 non-null float64\n",
      "rougher.calculation.sulfate_to_au_concentrate         14149 non-null float64\n",
      "rougher.calculation.floatbank10_sulfate_to_au_feed    14149 non-null float64\n",
      "rougher.calculation.floatbank11_sulfate_to_au_feed    14149 non-null float64\n",
      "rougher.calculation.au_pb_ratio                       14149 non-null float64\n",
      "rougher.input.feed_ag                                 14149 non-null float64\n",
      "rougher.input.feed_pb                                 14149 non-null float64\n",
      "rougher.input.feed_rate                               14149 non-null float64\n",
      "rougher.input.feed_size                               14149 non-null float64\n",
      "rougher.input.feed_sol                                14149 non-null float64\n",
      "rougher.input.feed_au                                 14149 non-null float64\n",
      "rougher.input.floatbank10_sulfate                     14149 non-null float64\n",
      "rougher.input.floatbank10_xanthate                    14149 non-null float64\n",
      "rougher.input.floatbank11_sulfate                     14149 non-null float64\n",
      "rougher.input.floatbank11_xanthate                    14149 non-null float64\n",
      "rougher.output.concentrate_ag                         14149 non-null float64\n",
      "rougher.output.concentrate_pb                         14149 non-null float64\n",
      "rougher.output.concentrate_sol                        14149 non-null float64\n",
      "rougher.output.concentrate_au                         14149 non-null float64\n",
      "rougher.output.recovery                               14149 non-null float64\n",
      "rougher.output.tail_ag                                14149 non-null float64\n",
      "rougher.output.tail_pb                                14149 non-null float64\n",
      "rougher.output.tail_sol                               14149 non-null float64\n",
      "rougher.output.tail_au                                14149 non-null float64\n",
      "rougher.state.floatbank10_a_air                       14149 non-null float64\n",
      "rougher.state.floatbank10_a_level                     14149 non-null float64\n",
      "rougher.state.floatbank10_b_air                       14149 non-null float64\n",
      "rougher.state.floatbank10_b_level                     14149 non-null float64\n",
      "rougher.state.floatbank10_c_air                       14149 non-null float64\n",
      "rougher.state.floatbank10_c_level                     14149 non-null float64\n",
      "rougher.state.floatbank10_d_air                       14149 non-null float64\n",
      "rougher.state.floatbank10_d_level                     14149 non-null float64\n",
      "rougher.state.floatbank10_e_air                       14149 non-null float64\n",
      "rougher.state.floatbank10_e_level                     14149 non-null float64\n",
      "rougher.state.floatbank10_f_air                       14149 non-null float64\n",
      "rougher.state.floatbank10_f_level                     14149 non-null float64\n",
      "secondary_cleaner.output.tail_ag                      14149 non-null float64\n",
      "secondary_cleaner.output.tail_pb                      14149 non-null float64\n",
      "secondary_cleaner.output.tail_sol                     14149 non-null float64\n",
      "secondary_cleaner.output.tail_au                      14149 non-null float64\n",
      "secondary_cleaner.state.floatbank2_a_air              14149 non-null float64\n",
      "secondary_cleaner.state.floatbank2_a_level            14149 non-null float64\n",
      "secondary_cleaner.state.floatbank2_b_air              14149 non-null float64\n",
      "secondary_cleaner.state.floatbank2_b_level            14149 non-null float64\n",
      "secondary_cleaner.state.floatbank3_a_air              14149 non-null float64\n",
      "secondary_cleaner.state.floatbank3_a_level            14149 non-null float64\n",
      "secondary_cleaner.state.floatbank3_b_air              14149 non-null float64\n",
      "secondary_cleaner.state.floatbank3_b_level            14149 non-null float64\n",
      "secondary_cleaner.state.floatbank4_a_air              14149 non-null float64\n",
      "secondary_cleaner.state.floatbank4_a_level            14149 non-null float64\n",
      "secondary_cleaner.state.floatbank4_b_air              14149 non-null float64\n",
      "secondary_cleaner.state.floatbank4_b_level            14149 non-null float64\n",
      "secondary_cleaner.state.floatbank5_a_air              14149 non-null float64\n",
      "secondary_cleaner.state.floatbank5_a_level            14149 non-null float64\n",
      "secondary_cleaner.state.floatbank5_b_air              14149 non-null float64\n",
      "secondary_cleaner.state.floatbank5_b_level            14149 non-null float64\n",
      "secondary_cleaner.state.floatbank6_a_air              14149 non-null float64\n",
      "secondary_cleaner.state.floatbank6_a_level            14149 non-null float64\n",
      "dtypes: float64(86), object(1)\n",
      "memory usage: 9.4+ MB\n"
     ]
    }
   ],
   "source": [
    "df_train.info()"
   ]
  },
  {
   "cell_type": "code",
   "execution_count": 20,
   "metadata": {},
   "outputs": [],
   "source": [
    "df_test = df_test.fillna(method=\"ffill\") "
   ]
  },
  {
   "cell_type": "code",
   "execution_count": 21,
   "metadata": {},
   "outputs": [
    {
     "name": "stdout",
     "output_type": "stream",
     "text": [
      "<class 'pandas.core.frame.DataFrame'>\n",
      "RangeIndex: 5290 entries, 0 to 5289\n",
      "Data columns (total 53 columns):\n",
      "date                                          5290 non-null object\n",
      "primary_cleaner.input.sulfate                 5290 non-null float64\n",
      "primary_cleaner.input.depressant              5290 non-null float64\n",
      "primary_cleaner.input.feed_size               5290 non-null float64\n",
      "primary_cleaner.input.xanthate                5290 non-null float64\n",
      "primary_cleaner.state.floatbank8_a_air        5290 non-null float64\n",
      "primary_cleaner.state.floatbank8_a_level      5290 non-null float64\n",
      "primary_cleaner.state.floatbank8_b_air        5290 non-null float64\n",
      "primary_cleaner.state.floatbank8_b_level      5290 non-null float64\n",
      "primary_cleaner.state.floatbank8_c_air        5290 non-null float64\n",
      "primary_cleaner.state.floatbank8_c_level      5290 non-null float64\n",
      "primary_cleaner.state.floatbank8_d_air        5290 non-null float64\n",
      "primary_cleaner.state.floatbank8_d_level      5290 non-null float64\n",
      "rougher.input.feed_ag                         5290 non-null float64\n",
      "rougher.input.feed_pb                         5290 non-null float64\n",
      "rougher.input.feed_rate                       5290 non-null float64\n",
      "rougher.input.feed_size                       5290 non-null float64\n",
      "rougher.input.feed_sol                        5290 non-null float64\n",
      "rougher.input.feed_au                         5290 non-null float64\n",
      "rougher.input.floatbank10_sulfate             5290 non-null float64\n",
      "rougher.input.floatbank10_xanthate            5290 non-null float64\n",
      "rougher.input.floatbank11_sulfate             5290 non-null float64\n",
      "rougher.input.floatbank11_xanthate            5290 non-null float64\n",
      "rougher.state.floatbank10_a_air               5290 non-null float64\n",
      "rougher.state.floatbank10_a_level             5290 non-null float64\n",
      "rougher.state.floatbank10_b_air               5290 non-null float64\n",
      "rougher.state.floatbank10_b_level             5290 non-null float64\n",
      "rougher.state.floatbank10_c_air               5290 non-null float64\n",
      "rougher.state.floatbank10_c_level             5290 non-null float64\n",
      "rougher.state.floatbank10_d_air               5290 non-null float64\n",
      "rougher.state.floatbank10_d_level             5290 non-null float64\n",
      "rougher.state.floatbank10_e_air               5290 non-null float64\n",
      "rougher.state.floatbank10_e_level             5290 non-null float64\n",
      "rougher.state.floatbank10_f_air               5290 non-null float64\n",
      "rougher.state.floatbank10_f_level             5290 non-null float64\n",
      "secondary_cleaner.state.floatbank2_a_air      5290 non-null float64\n",
      "secondary_cleaner.state.floatbank2_a_level    5290 non-null float64\n",
      "secondary_cleaner.state.floatbank2_b_air      5290 non-null float64\n",
      "secondary_cleaner.state.floatbank2_b_level    5290 non-null float64\n",
      "secondary_cleaner.state.floatbank3_a_air      5290 non-null float64\n",
      "secondary_cleaner.state.floatbank3_a_level    5290 non-null float64\n",
      "secondary_cleaner.state.floatbank3_b_air      5290 non-null float64\n",
      "secondary_cleaner.state.floatbank3_b_level    5290 non-null float64\n",
      "secondary_cleaner.state.floatbank4_a_air      5290 non-null float64\n",
      "secondary_cleaner.state.floatbank4_a_level    5290 non-null float64\n",
      "secondary_cleaner.state.floatbank4_b_air      5290 non-null float64\n",
      "secondary_cleaner.state.floatbank4_b_level    5290 non-null float64\n",
      "secondary_cleaner.state.floatbank5_a_air      5290 non-null float64\n",
      "secondary_cleaner.state.floatbank5_a_level    5290 non-null float64\n",
      "secondary_cleaner.state.floatbank5_b_air      5290 non-null float64\n",
      "secondary_cleaner.state.floatbank5_b_level    5290 non-null float64\n",
      "secondary_cleaner.state.floatbank6_a_air      5290 non-null float64\n",
      "secondary_cleaner.state.floatbank6_a_level    5290 non-null float64\n",
      "dtypes: float64(52), object(1)\n",
      "memory usage: 2.1+ MB\n"
     ]
    }
   ],
   "source": [
    "df_test.info()"
   ]
  },
  {
   "cell_type": "code",
   "execution_count": 22,
   "metadata": {},
   "outputs": [],
   "source": [
    "df_full = df_full.fillna(method=\"ffill\") "
   ]
  },
  {
   "cell_type": "code",
   "execution_count": 23,
   "metadata": {},
   "outputs": [
    {
     "name": "stdout",
     "output_type": "stream",
     "text": [
      "<class 'pandas.core.frame.DataFrame'>\n",
      "RangeIndex: 19439 entries, 0 to 19438\n",
      "Data columns (total 87 columns):\n",
      "date                                                  19439 non-null object\n",
      "final.output.concentrate_ag                           19439 non-null float64\n",
      "final.output.concentrate_pb                           19439 non-null float64\n",
      "final.output.concentrate_sol                          19439 non-null float64\n",
      "final.output.concentrate_au                           19439 non-null float64\n",
      "final.output.recovery                                 19439 non-null float64\n",
      "final.output.tail_ag                                  19439 non-null float64\n",
      "final.output.tail_pb                                  19439 non-null float64\n",
      "final.output.tail_sol                                 19439 non-null float64\n",
      "final.output.tail_au                                  19439 non-null float64\n",
      "primary_cleaner.input.sulfate                         19439 non-null float64\n",
      "primary_cleaner.input.depressant                      19439 non-null float64\n",
      "primary_cleaner.input.feed_size                       19439 non-null float64\n",
      "primary_cleaner.input.xanthate                        19439 non-null float64\n",
      "primary_cleaner.output.concentrate_ag                 19439 non-null float64\n",
      "primary_cleaner.output.concentrate_pb                 19439 non-null float64\n",
      "primary_cleaner.output.concentrate_sol                19439 non-null float64\n",
      "primary_cleaner.output.concentrate_au                 19439 non-null float64\n",
      "primary_cleaner.output.tail_ag                        19439 non-null float64\n",
      "primary_cleaner.output.tail_pb                        19439 non-null float64\n",
      "primary_cleaner.output.tail_sol                       19439 non-null float64\n",
      "primary_cleaner.output.tail_au                        19439 non-null float64\n",
      "primary_cleaner.state.floatbank8_a_air                19439 non-null float64\n",
      "primary_cleaner.state.floatbank8_a_level              19439 non-null float64\n",
      "primary_cleaner.state.floatbank8_b_air                19439 non-null float64\n",
      "primary_cleaner.state.floatbank8_b_level              19439 non-null float64\n",
      "primary_cleaner.state.floatbank8_c_air                19439 non-null float64\n",
      "primary_cleaner.state.floatbank8_c_level              19439 non-null float64\n",
      "primary_cleaner.state.floatbank8_d_air                19439 non-null float64\n",
      "primary_cleaner.state.floatbank8_d_level              19439 non-null float64\n",
      "rougher.calculation.sulfate_to_au_concentrate         19439 non-null float64\n",
      "rougher.calculation.floatbank10_sulfate_to_au_feed    19439 non-null float64\n",
      "rougher.calculation.floatbank11_sulfate_to_au_feed    19439 non-null float64\n",
      "rougher.calculation.au_pb_ratio                       19439 non-null float64\n",
      "rougher.input.feed_ag                                 19439 non-null float64\n",
      "rougher.input.feed_pb                                 19439 non-null float64\n",
      "rougher.input.feed_rate                               19439 non-null float64\n",
      "rougher.input.feed_size                               19439 non-null float64\n",
      "rougher.input.feed_sol                                19439 non-null float64\n",
      "rougher.input.feed_au                                 19439 non-null float64\n",
      "rougher.input.floatbank10_sulfate                     19439 non-null float64\n",
      "rougher.input.floatbank10_xanthate                    19439 non-null float64\n",
      "rougher.input.floatbank11_sulfate                     19439 non-null float64\n",
      "rougher.input.floatbank11_xanthate                    19439 non-null float64\n",
      "rougher.output.concentrate_ag                         19439 non-null float64\n",
      "rougher.output.concentrate_pb                         19439 non-null float64\n",
      "rougher.output.concentrate_sol                        19439 non-null float64\n",
      "rougher.output.concentrate_au                         19439 non-null float64\n",
      "rougher.output.recovery                               19439 non-null float64\n",
      "rougher.output.tail_ag                                19439 non-null float64\n",
      "rougher.output.tail_pb                                19439 non-null float64\n",
      "rougher.output.tail_sol                               19439 non-null float64\n",
      "rougher.output.tail_au                                19439 non-null float64\n",
      "rougher.state.floatbank10_a_air                       19439 non-null float64\n",
      "rougher.state.floatbank10_a_level                     19439 non-null float64\n",
      "rougher.state.floatbank10_b_air                       19439 non-null float64\n",
      "rougher.state.floatbank10_b_level                     19439 non-null float64\n",
      "rougher.state.floatbank10_c_air                       19439 non-null float64\n",
      "rougher.state.floatbank10_c_level                     19439 non-null float64\n",
      "rougher.state.floatbank10_d_air                       19439 non-null float64\n",
      "rougher.state.floatbank10_d_level                     19439 non-null float64\n",
      "rougher.state.floatbank10_e_air                       19439 non-null float64\n",
      "rougher.state.floatbank10_e_level                     19439 non-null float64\n",
      "rougher.state.floatbank10_f_air                       19439 non-null float64\n",
      "rougher.state.floatbank10_f_level                     19439 non-null float64\n",
      "secondary_cleaner.output.tail_ag                      19439 non-null float64\n",
      "secondary_cleaner.output.tail_pb                      19439 non-null float64\n",
      "secondary_cleaner.output.tail_sol                     19439 non-null float64\n",
      "secondary_cleaner.output.tail_au                      19439 non-null float64\n",
      "secondary_cleaner.state.floatbank2_a_air              19439 non-null float64\n",
      "secondary_cleaner.state.floatbank2_a_level            19439 non-null float64\n",
      "secondary_cleaner.state.floatbank2_b_air              19439 non-null float64\n",
      "secondary_cleaner.state.floatbank2_b_level            19439 non-null float64\n",
      "secondary_cleaner.state.floatbank3_a_air              19439 non-null float64\n",
      "secondary_cleaner.state.floatbank3_a_level            19439 non-null float64\n",
      "secondary_cleaner.state.floatbank3_b_air              19439 non-null float64\n",
      "secondary_cleaner.state.floatbank3_b_level            19439 non-null float64\n",
      "secondary_cleaner.state.floatbank4_a_air              19439 non-null float64\n",
      "secondary_cleaner.state.floatbank4_a_level            19439 non-null float64\n",
      "secondary_cleaner.state.floatbank4_b_air              19439 non-null float64\n",
      "secondary_cleaner.state.floatbank4_b_level            19439 non-null float64\n",
      "secondary_cleaner.state.floatbank5_a_air              19439 non-null float64\n",
      "secondary_cleaner.state.floatbank5_a_level            19439 non-null float64\n",
      "secondary_cleaner.state.floatbank5_b_air              19439 non-null float64\n",
      "secondary_cleaner.state.floatbank5_b_level            19439 non-null float64\n",
      "secondary_cleaner.state.floatbank6_a_air              19439 non-null float64\n",
      "secondary_cleaner.state.floatbank6_a_level            19439 non-null float64\n",
      "dtypes: float64(86), object(1)\n",
      "memory usage: 12.9+ MB\n"
     ]
    }
   ],
   "source": [
    "df_full.info()"
   ]
  },
  {
   "cell_type": "markdown",
   "metadata": {},
   "source": [
    "## Анализ данных"
   ]
  },
  {
   "cell_type": "markdown",
   "metadata": {},
   "source": [
    "### Изучение изменения концентрации металлов (Au, Ag, Pb) на различных этапах очистки"
   ]
  },
  {
   "cell_type": "markdown",
   "metadata": {},
   "source": [
    "Изучим, как меняется средняя концентрация металлов (Au, Ag, Pb) на различных этапах очистки."
   ]
  },
  {
   "cell_type": "code",
   "execution_count": 24,
   "metadata": {},
   "outputs": [
    {
     "data": {
      "text/html": [
       "<div>\n",
       "<style scoped>\n",
       "    .dataframe tbody tr th:only-of-type {\n",
       "        vertical-align: middle;\n",
       "    }\n",
       "\n",
       "    .dataframe tbody tr th {\n",
       "        vertical-align: top;\n",
       "    }\n",
       "\n",
       "    .dataframe thead th {\n",
       "        text-align: right;\n",
       "    }\n",
       "</style>\n",
       "<table border=\"1\" class=\"dataframe\">\n",
       "  <thead>\n",
       "    <tr style=\"text-align: right;\">\n",
       "      <th></th>\n",
       "      <th>Этап очистки</th>\n",
       "      <th>Среднее значение концентрации золота</th>\n",
       "    </tr>\n",
       "  </thead>\n",
       "  <tbody>\n",
       "    <tr>\n",
       "      <td>0</td>\n",
       "      <td>Концентрация золота до флотации/очистки</td>\n",
       "      <td>8.266097</td>\n",
       "    </tr>\n",
       "    <tr>\n",
       "      <td>1</td>\n",
       "      <td>Концентрация золота после флотации</td>\n",
       "      <td>19.772000</td>\n",
       "    </tr>\n",
       "    <tr>\n",
       "      <td>2</td>\n",
       "      <td>Концентрация золота после первичной очистки</td>\n",
       "      <td>32.119400</td>\n",
       "    </tr>\n",
       "    <tr>\n",
       "      <td>3</td>\n",
       "      <td>Финальная концентрация золота</td>\n",
       "      <td>44.076513</td>\n",
       "    </tr>\n",
       "  </tbody>\n",
       "</table>\n",
       "</div>"
      ],
      "text/plain": [
       "                                  Этап очистки  \\\n",
       "0      Концентрация золота до флотации/очистки   \n",
       "1           Концентрация золота после флотации   \n",
       "2  Концентрация золота после первичной очистки   \n",
       "3                Финальная концентрация золота   \n",
       "\n",
       "   Среднее значение концентрации золота  \n",
       "0                              8.266097  \n",
       "1                             19.772000  \n",
       "2                             32.119400  \n",
       "3                             44.076513  "
      ]
     },
     "metadata": {},
     "output_type": "display_data"
    }
   ],
   "source": [
    "data_au = [['Концентрация золота до флотации/очистки', df_full['rougher.input.feed_au'].mean()],\n",
    "           ['Концентрация золота после флотации', df_full['rougher.output.concentrate_au'].mean()],\n",
    "           ['Концентрация золота после первичной очистки', df_full['primary_cleaner.output.concentrate_au'].mean()],\n",
    "           ['Финальная концентрация золота', df_full['final.output.concentrate_au'].mean()]]\n",
    "columns_au = ['Этап очистки', 'Среднее значение концентрации золота']\n",
    "\n",
    "metal_concentration_au = pd.DataFrame(data=data_au, columns=columns_au)\n",
    "\n",
    "display(metal_concentration_au) # Таблица с концентрацией золота на различных этапах очистки"
   ]
  },
  {
   "cell_type": "code",
   "execution_count": 25,
   "metadata": {},
   "outputs": [
    {
     "data": {
      "text/plain": [
       "<matplotlib.axes._subplots.AxesSubplot at 0x7f4ac64f1490>"
      ]
     },
     "execution_count": 25,
     "metadata": {},
     "output_type": "execute_result"
    },
    {
     "data": {
      "image/png": "[encoded data removed]",
      "text/plain": [
       "<Figure size 432x288 with 1 Axes>"
      ]
     },
     "metadata": {
      "needs_background": "light"
     },
     "output_type": "display_data"
    }
   ],
   "source": [
    "# построим график изменения концентрации золота\n",
    "metal_concentration_au.plot(x='Этап очистки', \n",
    "                            y='Среднее значение концентрации золота', \n",
    "                            kind='bar', legend = True, grid = True)"
   ]
  },
  {
   "cell_type": "code",
   "execution_count": 26,
   "metadata": {},
   "outputs": [
    {
     "data": {
      "text/html": [
       "<div>\n",
       "<style scoped>\n",
       "    .dataframe tbody tr th:only-of-type {\n",
       "        vertical-align: middle;\n",
       "    }\n",
       "\n",
       "    .dataframe tbody tr th {\n",
       "        vertical-align: top;\n",
       "    }\n",
       "\n",
       "    .dataframe thead th {\n",
       "        text-align: right;\n",
       "    }\n",
       "</style>\n",
       "<table border=\"1\" class=\"dataframe\">\n",
       "  <thead>\n",
       "    <tr style=\"text-align: right;\">\n",
       "      <th></th>\n",
       "      <th>Этап очистки</th>\n",
       "      <th>Среднее значение концентрации серебра</th>\n",
       "    </tr>\n",
       "  </thead>\n",
       "  <tbody>\n",
       "    <tr>\n",
       "      <td>0</td>\n",
       "      <td>Концентрация серебра до флотации/очистки</td>\n",
       "      <td>8.794927</td>\n",
       "    </tr>\n",
       "    <tr>\n",
       "      <td>1</td>\n",
       "      <td>Концентрация серебра после флотации</td>\n",
       "      <td>11.994759</td>\n",
       "    </tr>\n",
       "    <tr>\n",
       "      <td>2</td>\n",
       "      <td>Концентрация серебра после первичной очистки</td>\n",
       "      <td>8.442408</td>\n",
       "    </tr>\n",
       "    <tr>\n",
       "      <td>3</td>\n",
       "      <td>Финальная концентрация серебра</td>\n",
       "      <td>5.168387</td>\n",
       "    </tr>\n",
       "  </tbody>\n",
       "</table>\n",
       "</div>"
      ],
      "text/plain": [
       "                                   Этап очистки  \\\n",
       "0      Концентрация серебра до флотации/очистки   \n",
       "1           Концентрация серебра после флотации   \n",
       "2  Концентрация серебра после первичной очистки   \n",
       "3                Финальная концентрация серебра   \n",
       "\n",
       "   Среднее значение концентрации серебра  \n",
       "0                               8.794927  \n",
       "1                              11.994759  \n",
       "2                               8.442408  \n",
       "3                               5.168387  "
      ]
     },
     "metadata": {},
     "output_type": "display_data"
    }
   ],
   "source": [
    "data_ag = [['Концентрация серебра до флотации/очистки', df_full['rougher.input.feed_ag'].mean()],\n",
    "           ['Концентрация серебра после флотации', df_full['rougher.output.concentrate_ag'].mean()],\n",
    "           ['Концентрация серебра после первичной очистки', df_full['primary_cleaner.output.concentrate_ag'].mean()],\n",
    "           ['Финальная концентрация серебра', df_full['final.output.concentrate_ag'].mean()]]\n",
    "columns_ag = ['Этап очистки', 'Среднее значение концентрации серебра']\n",
    "\n",
    "metal_concentration_ag = pd.DataFrame(data=data_ag, columns=columns_ag)\n",
    "\n",
    "display(metal_concentration_ag) # Таблица с концентрацией серебра на различных этапах очистки"
   ]
  },
  {
   "cell_type": "code",
   "execution_count": 27,
   "metadata": {},
   "outputs": [
    {
     "data": {
      "text/plain": [
       "<matplotlib.axes._subplots.AxesSubplot at 0x7f4ac65072d0>"
      ]
     },
     "execution_count": 27,
     "metadata": {},
     "output_type": "execute_result"
    },
    {
     "data": {
      "image/png": "[encoded data removed]",
      "text/plain": [
       "<Figure size 432x288 with 1 Axes>"
      ]
     },
     "metadata": {
      "needs_background": "light"
     },
     "output_type": "display_data"
    }
   ],
   "source": [
    "# построим график изменения концентрации серебра\n",
    "metal_concentration_ag.plot(x='Этап очистки', \n",
    "                            y='Среднее значение концентрации серебра', \n",
    "                            kind='bar', legend = True, grid = True)"
   ]
  },
  {
   "cell_type": "code",
   "execution_count": 28,
   "metadata": {},
   "outputs": [
    {
     "data": {
      "text/html": [
       "<div>\n",
       "<style scoped>\n",
       "    .dataframe tbody tr th:only-of-type {\n",
       "        vertical-align: middle;\n",
       "    }\n",
       "\n",
       "    .dataframe tbody tr th {\n",
       "        vertical-align: top;\n",
       "    }\n",
       "\n",
       "    .dataframe thead th {\n",
       "        text-align: right;\n",
       "    }\n",
       "</style>\n",
       "<table border=\"1\" class=\"dataframe\">\n",
       "  <thead>\n",
       "    <tr style=\"text-align: right;\">\n",
       "      <th></th>\n",
       "      <th>Этап очистки</th>\n",
       "      <th>Среднее значение концентрации свинца</th>\n",
       "    </tr>\n",
       "  </thead>\n",
       "  <tbody>\n",
       "    <tr>\n",
       "      <td>0</td>\n",
       "      <td>Концентрация свинца до флотации/очистки</td>\n",
       "      <td>3.585096</td>\n",
       "    </tr>\n",
       "    <tr>\n",
       "      <td>1</td>\n",
       "      <td>Концентрация свинца после флотации</td>\n",
       "      <td>7.606272</td>\n",
       "    </tr>\n",
       "    <tr>\n",
       "      <td>2</td>\n",
       "      <td>Концентрация свинца после первичной очистки</td>\n",
       "      <td>9.810317</td>\n",
       "    </tr>\n",
       "    <tr>\n",
       "      <td>3</td>\n",
       "      <td>Финальная концентрация свинца</td>\n",
       "      <td>9.978821</td>\n",
       "    </tr>\n",
       "  </tbody>\n",
       "</table>\n",
       "</div>"
      ],
      "text/plain": [
       "                                  Этап очистки  \\\n",
       "0      Концентрация свинца до флотации/очистки   \n",
       "1           Концентрация свинца после флотации   \n",
       "2  Концентрация свинца после первичной очистки   \n",
       "3                Финальная концентрация свинца   \n",
       "\n",
       "   Среднее значение концентрации свинца  \n",
       "0                              3.585096  \n",
       "1                              7.606272  \n",
       "2                              9.810317  \n",
       "3                              9.978821  "
      ]
     },
     "metadata": {},
     "output_type": "display_data"
    }
   ],
   "source": [
    "data_pb = [['Концентрация свинца до флотации/очистки', df_full['rougher.input.feed_pb'].mean()],\n",
    "           ['Концентрация свинца после флотации', df_full['rougher.output.concentrate_pb'].mean()],\n",
    "           ['Концентрация свинца после первичной очистки', df_full['primary_cleaner.output.concentrate_pb'].mean()],\n",
    "           ['Финальная концентрация свинца', df_full['final.output.concentrate_pb'].mean()]]\n",
    "columns_pb = ['Этап очистки', 'Среднее значение концентрации свинца']\n",
    "\n",
    "metal_concentration_pb = pd.DataFrame(data=data_pb, columns=columns_pb)\n",
    "\n",
    "display(metal_concentration_pb) # Таблица с концентрацией свинца на различных этапах очистки"
   ]
  },
  {
   "cell_type": "code",
   "execution_count": 29,
   "metadata": {},
   "outputs": [
    {
     "data": {
      "text/plain": [
       "<matplotlib.axes._subplots.AxesSubplot at 0x7f4abb0a2a10>"
      ]
     },
     "execution_count": 29,
     "metadata": {},
     "output_type": "execute_result"
    },
    {
     "data": {
      "image/png": "[encoded data removed]",
      "text/plain": [
       "<Figure size 432x288 with 1 Axes>"
      ]
     },
     "metadata": {
      "needs_background": "light"
     },
     "output_type": "display_data"
    }
   ],
   "source": [
    "# построим график изменения концентрации свинца\n",
    "metal_concentration_pb.plot(x='Этап очистки', \n",
    "                            y='Среднее значение концентрации свинца', \n",
    "                            kind='bar', legend = True, grid = True)"
   ]
  },
  {
   "cell_type": "markdown",
   "metadata": {},
   "source": [
    "**Вывод**"
   ]
  },
  {
   "cell_type": "markdown",
   "metadata": {},
   "source": [
    "На основе изученных данных, можно прийти к выводу, что концентрация золота на различных этапах очистки в среднем увеличивается, что логично для процесса получения золота из руды. В то же время концентрация серебра наиболее высокая после флотации, а далее снижается. Что касается концентрации свинца, то на каждом этапе она так же, как и для золота, увеличивается, но после первичной очистки и на финальной стадии концентрация в среднем практически на одном уровне."
   ]
  },
  {
   "cell_type": "markdown",
   "metadata": {},
   "source": [
    "### Сравнение распределения размеров гранул сырья на обучающей и тестовой выборках"
   ]
  },
  {
   "cell_type": "code",
   "execution_count": 30,
   "metadata": {},
   "outputs": [
    {
     "data": {
      "text/plain": [
       "count    14149.000000\n",
       "mean        60.239856\n",
       "std         23.005310\n",
       "min          9.659576\n",
       "25%         48.966751\n",
       "50%         55.269784\n",
       "75%         66.007526\n",
       "max        484.967466\n",
       "Name: rougher.input.feed_size, dtype: float64"
      ]
     },
     "execution_count": 30,
     "metadata": {},
     "output_type": "execute_result"
    }
   ],
   "source": [
    "df_train['rougher.input.feed_size'].describe() # изучим столбец с размерами гранул сырья в обучающей выборке"
   ]
  },
  {
   "cell_type": "code",
   "execution_count": 31,
   "metadata": {},
   "outputs": [
    {
     "data": {
      "text/plain": [
       "count    5290.000000\n",
       "mean       55.952754\n",
       "std        19.080334\n",
       "min         0.046369\n",
       "25%        43.906504\n",
       "50%        50.846843\n",
       "75%        62.451165\n",
       "max       392.494040\n",
       "Name: rougher.input.feed_size, dtype: float64"
      ]
     },
     "execution_count": 31,
     "metadata": {},
     "output_type": "execute_result"
    }
   ],
   "source": [
    "df_test['rougher.input.feed_size'].describe() # изучим столбец с размерами гранул сырья в тестовой выборке"
   ]
  },
  {
   "cell_type": "code",
   "execution_count": 32,
   "metadata": {},
   "outputs": [
    {
     "data": {
      "text/html": [
       "<div>\n",
       "<style scoped>\n",
       "    .dataframe tbody tr th:only-of-type {\n",
       "        vertical-align: middle;\n",
       "    }\n",
       "\n",
       "    .dataframe tbody tr th {\n",
       "        vertical-align: top;\n",
       "    }\n",
       "\n",
       "    .dataframe thead th {\n",
       "        text-align: right;\n",
       "    }\n",
       "</style>\n",
       "<table border=\"1\" class=\"dataframe\">\n",
       "  <thead>\n",
       "    <tr style=\"text-align: right;\">\n",
       "      <th></th>\n",
       "      <th>Выборка</th>\n",
       "      <th>Среднее значение</th>\n",
       "      <th>Стандартное отклонение</th>\n",
       "      <th>Дисперсия</th>\n",
       "    </tr>\n",
       "  </thead>\n",
       "  <tbody>\n",
       "    <tr>\n",
       "      <td>0</td>\n",
       "      <td>Размер гранул сырья (обучающая выборка)</td>\n",
       "      <td>60.239856</td>\n",
       "      <td>23.004497</td>\n",
       "      <td>529.206865</td>\n",
       "    </tr>\n",
       "    <tr>\n",
       "      <td>1</td>\n",
       "      <td>Размер гранул сырья (тестовая выборка)</td>\n",
       "      <td>55.952754</td>\n",
       "      <td>19.078531</td>\n",
       "      <td>363.990329</td>\n",
       "    </tr>\n",
       "  </tbody>\n",
       "</table>\n",
       "</div>"
      ],
      "text/plain": [
       "                                   Выборка  Среднее значение  \\\n",
       "0  Размер гранул сырья (обучающая выборка)         60.239856   \n",
       "1   Размер гранул сырья (тестовая выборка)         55.952754   \n",
       "\n",
       "   Стандартное отклонение   Дисперсия  \n",
       "0               23.004497  529.206865  \n",
       "1               19.078531  363.990329  "
      ]
     },
     "metadata": {},
     "output_type": "display_data"
    }
   ],
   "source": [
    "data_feed_size = [['Размер гранул сырья (обучающая выборка)', df_train['rougher.input.feed_size'].mean(), \n",
    "                   np.std(df_train['rougher.input.feed_size']), np.var(df_train['rougher.input.feed_size'])],\n",
    "           ['Размер гранул сырья (тестовая выборка)', df_test['rougher.input.feed_size'].mean(), \n",
    "            np.std(df_test['rougher.input.feed_size']), np.var(df_test['rougher.input.feed_size'])]]\n",
    "\n",
    "columns_feed_size = ['Выборка', 'Среднее значение', 'Стандартное отклонение', 'Дисперсия']\n",
    "\n",
    "compare_feed_size = pd.DataFrame(data=data_feed_size, columns=columns_feed_size)\n",
    "\n",
    "display(compare_feed_size) # Таблица с характеристиками "
   ]
  },
  {
   "cell_type": "code",
   "execution_count": 33,
   "metadata": {},
   "outputs": [
    {
     "data": {
      "image/png": "[encoded data removed]",
      "text/plain": [
       "<Figure size 432x288 with 1 Axes>"
      ]
     },
     "metadata": {
      "needs_background": "light"
     },
     "output_type": "display_data"
    }
   ],
   "source": [
    "df_train['rougher.input.feed_size'].plot.hist(legend = True, alpha = 0.5, grid = True, range = (0, 200))\n",
    "df_test['rougher.input.feed_size'].plot.hist(legend = True, alpha = 0.5, grid = True, range = (0, 200))\n",
    "plt.title('Гистограмма для размеров гранул сырья')\n",
    "plt.xlabel('Размер гранул сырья')\n",
    "plt.legend(['Обучающая выборка', 'Тестовая выборка'])\n",
    "plt.show()"
   ]
  },
  {
   "cell_type": "markdown",
   "metadata": {},
   "source": [
    "**Вывод**"
   ]
  },
  {
   "cell_type": "markdown",
   "metadata": {},
   "source": [
    "Видно, что на входе процесса стараются поддерживать размер гранул в 55-60 микрон, есть незначительное смещение распределения от нормального в сторону увеличения гранул. Сравнив распределения размеров гранул сырья на обучающей и тестовой выборках, и, учитывая разницу размеров выборок, можно предположить, что распределения не сильно отличаются друг от друга. Таким образом, визуально значительных различий между train и test не наблюдается. Также, на тестовой выборке имеется большее значение очень маленьких гранул. Среднее значение, стандартное отклонение, а также дисперсия в обучающей выборке, больше, чем в тестовой."
   ]
  },
  {
   "cell_type": "markdown",
   "metadata": {},
   "source": [
    "### Анализ суммарной концентрации всех веществ на разных стадиях: в сырье, в черновом и финальном концентратах"
   ]
  },
  {
   "cell_type": "code",
   "execution_count": 34,
   "metadata": {},
   "outputs": [
    {
     "data": {
      "image/png": "[encoded data removed]",
      "text/plain": [
       "<Figure size 432x288 with 1 Axes>"
      ]
     },
     "metadata": {
      "needs_background": "light"
     },
     "output_type": "display_data"
    }
   ],
   "source": [
    "total_concentration_rougher_input = df_full[['rougher.input.feed_ag', \n",
    "                                             'rougher.input.feed_pb', \n",
    "                                             'rougher.input.feed_sol', \n",
    "                                             'rougher.input.feed_au']].sum(axis=1)\n",
    "total_concentration_rougher_input.plot(kind='hist', legend = True, grid = True, bins=100) # построим гистограмму\n",
    "plt.title('Гистограмма для концентрации всех веществ в сырье до флотации/очистки')\n",
    "plt.xlabel('Концентрация всех веществ в сырье до флотации/очистки')\n",
    "plt.show()"
   ]
  },
  {
   "cell_type": "code",
   "execution_count": 35,
   "metadata": {},
   "outputs": [
    {
     "data": {
      "image/png": "[encoded data removed]",
      "text/plain": [
       "<Figure size 432x288 with 1 Axes>"
      ]
     },
     "metadata": {
      "needs_background": "light"
     },
     "output_type": "display_data"
    }
   ],
   "source": [
    "total_concentration_rougher_output = df_full[['rougher.output.concentrate_ag', \n",
    "                                              'rougher.output.concentrate_pb', \n",
    "                                              'rougher.output.concentrate_sol', \n",
    "                                              'rougher.output.concentrate_au']].sum(axis=1)\n",
    "total_concentration_rougher_output.plot(kind='hist', legend = True, grid = True, bins=100) # построим гистограмму\n",
    "plt.title('Гистограмма для концентрации всех веществ после флотации')\n",
    "plt.xlabel('Концентрация всех веществ в сырье после флотации')\n",
    "plt.show()"
   ]
  },
  {
   "cell_type": "code",
   "execution_count": 36,
   "metadata": {},
   "outputs": [
    {
     "data": {
      "image/png": "[encoded data removed]",
      "text/plain": [
       "<Figure size 432x288 with 1 Axes>"
      ]
     },
     "metadata": {
      "needs_background": "light"
     },
     "output_type": "display_data"
    }
   ],
   "source": [
    "total_concentration_final_output = df_full[['final.output.concentrate_ag', \n",
    "                                            'final.output.concentrate_pb',\n",
    "                                            'final.output.concentrate_sol',\n",
    "                                            'final.output.concentrate_au']].sum(axis=1)\n",
    "total_concentration_final_output.plot(kind='hist', legend = True, grid = True, bins=100) # построим гистограмму\n",
    "plt.title('Гистограмма для концентрации всех веществ на финальной стадии')\n",
    "plt.xlabel('Концентрация всех веществ в сырье на финальной стадии')\n",
    "plt.show()"
   ]
  },
  {
   "cell_type": "code",
   "execution_count": 37,
   "metadata": {},
   "outputs": [
    {
     "data": {
      "image/png": "[encoded data removed]",
      "text/plain": [
       "<Figure size 432x288 with 1 Axes>"
      ]
     },
     "metadata": {
      "needs_background": "light"
     },
     "output_type": "display_data"
    }
   ],
   "source": [
    "total_concentration_rougher_input_train = df_train[['rougher.input.feed_ag', \n",
    "                                                    'rougher.input.feed_pb',\n",
    "                                                    'rougher.input.feed_sol',\n",
    "                                                    'rougher.input.feed_au']].sum(axis=1)\n",
    "total_concentration_rougher_input_train.plot(kind='hist', legend = True, grid = True, bins=100) # построим гистограмму\n",
    "plt.title('Гистограмма для концентрации всех веществ в сырье до флотации/очистки')\n",
    "plt.xlabel('Концентрация всех веществ в сырье до флотации/очистки')\n",
    "plt.show()"
   ]
  },
  {
   "cell_type": "code",
   "execution_count": 38,
   "metadata": {},
   "outputs": [
    {
     "data": {
      "image/png": "[encoded data removed]",
      "text/plain": [
       "<Figure size 432x288 with 1 Axes>"
      ]
     },
     "metadata": {
      "needs_background": "light"
     },
     "output_type": "display_data"
    }
   ],
   "source": [
    "total_concentration_rougher_output_train = df_train[['rougher.output.concentrate_ag',\n",
    "                                                     'rougher.output.concentrate_pb',\n",
    "                                                     'rougher.output.concentrate_sol',\n",
    "                                                     'rougher.output.concentrate_au']].sum(axis=1)\n",
    "total_concentration_rougher_output_train.plot(kind='hist', legend = True, grid = True, bins=100) # построим гистограмму\n",
    "plt.title('Гистограмма для концентрации всех веществ после флотации')\n",
    "plt.xlabel('Концентрация всех веществ в сырье после флотации')\n",
    "plt.show()"
   ]
  },
  {
   "cell_type": "code",
   "execution_count": 39,
   "metadata": {},
   "outputs": [
    {
     "data": {
      "image/png": "[encoded data removed]",
      "text/plain": [
       "<Figure size 432x288 with 1 Axes>"
      ]
     },
     "metadata": {
      "needs_background": "light"
     },
     "output_type": "display_data"
    }
   ],
   "source": [
    "total_concentration_final_output_train = df_train[['final.output.concentrate_ag',\n",
    "                                                   'final.output.concentrate_pb',\n",
    "                                                   'final.output.concentrate_sol',\n",
    "                                                   'final.output.concentrate_au']].sum(axis=1)\n",
    "total_concentration_final_output_train.plot(kind='hist', legend = True, grid = True, bins=100) # построим гистограмму\n",
    "plt.title('Гистограмма для концентрации всех веществ на финальной стадии')\n",
    "plt.xlabel('Концентрация всех веществ в сырье на финальной стадии')\n",
    "plt.show()"
   ]
  },
  {
   "cell_type": "code",
   "execution_count": 40,
   "metadata": {},
   "outputs": [
    {
     "data": {
      "image/png": "[encoded data removed]",
      "text/plain": [
       "<Figure size 432x288 with 1 Axes>"
      ]
     },
     "metadata": {
      "needs_background": "light"
     },
     "output_type": "display_data"
    }
   ],
   "source": [
    "total_concentration_rougher_input_test = df_test[['rougher.input.feed_ag', \n",
    "                                                  'rougher.input.feed_pb',\n",
    "                                                  'rougher.input.feed_sol',\n",
    "                                                  'rougher.input.feed_au']].sum(axis=1)\n",
    "total_concentration_rougher_input_test.plot(kind='hist', legend = True, grid = True, bins=100) # построим гистограмму\n",
    "plt.title('Гистограмма для концентрации всех веществ в сырье до флотации/очистки')\n",
    "plt.xlabel('Концентрация всех веществ в сырье до флотации/очистки')\n",
    "plt.show()"
   ]
  },
  {
   "cell_type": "markdown",
   "metadata": {},
   "source": [
    "**Вывод**"
   ]
  },
  {
   "cell_type": "markdown",
   "metadata": {},
   "source": [
    "Исследовав суммарную концентрацию всех веществ на разных стадиях, отметим, что в данных присутствуют аномальные значения около 0. Соответственно, удалим их из обучающей и тестовой выборки."
   ]
  },
  {
   "cell_type": "code",
   "execution_count": 41,
   "metadata": {},
   "outputs": [],
   "source": [
    "# удалим аномальные значения из обучающей выборки\n",
    "df_train_filtered = ((df_train[['rougher.input.feed_ag', 'rougher.input.feed_pb',\n",
    "                                'rougher.input.feed_sol', 'rougher.input.feed_au']].sum(axis=1) > 10) &\n",
    "                    (df_train[['rougher.output.concentrate_ag', 'rougher.output.concentrate_pb',\n",
    "                               'rougher.output.concentrate_sol', 'rougher.output.concentrate_au']].sum(axis=1) > 10) &\n",
    "                    (df_train[['final.output.concentrate_ag', 'final.output.concentrate_pb',\n",
    "                               'final.output.concentrate_sol', 'final.output.concentrate_au']].sum(axis=1) > 10))\n",
    "df_train_main = df_train[df_train_filtered]"
   ]
  },
  {
   "cell_type": "code",
   "execution_count": 42,
   "metadata": {},
   "outputs": [],
   "source": [
    "# удалим аномальные значения из тестовой выборки\n",
    "df_test_filtered = ((df_test[['rougher.input.feed_ag', 'rougher.input.feed_pb',\n",
    "                              'rougher.input.feed_sol', 'rougher.input.feed_au']].sum(axis=1) > 10))\n",
    "df_test_main = df_test[df_test_filtered]"
   ]
  },
  {
   "cell_type": "markdown",
   "metadata": {},
   "source": [
    "## Модель"
   ]
  },
  {
   "cell_type": "markdown",
   "metadata": {},
   "source": [
    "### Функция для вычисления итоговой sMAPE"
   ]
  },
  {
   "cell_type": "markdown",
   "metadata": {},
   "source": [
    "Создадим функцию для вычисления итоговой sMAPE."
   ]
  },
  {
   "cell_type": "code",
   "execution_count": 43,
   "metadata": {},
   "outputs": [],
   "source": [
    "def sMAPE(targets, predictions):\n",
    "    targets = targets.to_numpy()\n",
    "    rougher_target = targets[:, 0]\n",
    "    final_target = targets[:, 1]\n",
    "    rougher_predict = predictions[:, 0]\n",
    "    final_predict = predictions[:, 1]\n",
    "    rougher_sMAPE = (abs(rougher_target - rougher_predict) / \n",
    "                     ((abs(rougher_target) + abs(rougher_predict)) / 2)).sum() / len(rougher_target) * 100\n",
    "    final_sMAPE = (abs(final_target - final_predict) / \n",
    "                   ((abs(final_target) + abs(final_predict)) / 2)).sum() / len(final_target) * 100\n",
    "    return 0.25 * rougher_sMAPE + 0.75 * final_sMAPE"
   ]
  },
  {
   "cell_type": "markdown",
   "metadata": {},
   "source": [
    "### Обучение моделей и оценка их качества кросс-валидацией. Выбор лучшей модель и проверка на тестовой выборке"
   ]
  },
  {
   "cell_type": "markdown",
   "metadata": {},
   "source": [
    "Обучим модели только на тех признаках, которые есть в тестовой выборке."
   ]
  },
  {
   "cell_type": "code",
   "execution_count": 44,
   "metadata": {},
   "outputs": [],
   "source": [
    "features_train = df_train_main.drop(['date', 'final.output.concentrate_ag', 'final.output.concentrate_pb', \n",
    "                               'final.output.concentrate_sol', 'final.output.concentrate_au',\n",
    "                               'final.output.recovery', 'final.output.tail_ag',\n",
    "                               'final.output.tail_pb', 'final.output.tail_sol',\n",
    "                               'final.output.tail_au', 'primary_cleaner.output.concentrate_ag',\n",
    "                               'primary_cleaner.output.concentrate_pb', 'primary_cleaner.output.concentrate_sol',\n",
    "                               'primary_cleaner.output.concentrate_au', 'primary_cleaner.output.tail_ag',\n",
    "                               'primary_cleaner.output.tail_pb', 'primary_cleaner.output.tail_sol',\n",
    "                               'primary_cleaner.output.tail_au', 'rougher.calculation.sulfate_to_au_concentrate',\n",
    "                               'rougher.calculation.floatbank10_sulfate_to_au_feed', 'rougher.calculation.floatbank11_sulfate_to_au_feed',\n",
    "                               'rougher.calculation.au_pb_ratio', 'rougher.output.concentrate_ag',\n",
    "                               'rougher.output.concentrate_pb', 'rougher.output.concentrate_sol',\n",
    "                               'rougher.output.concentrate_au', 'rougher.output.recovery',\n",
    "                               'rougher.output.tail_ag', 'rougher.output.tail_pb',\n",
    "                               'rougher.output.tail_sol', 'rougher.output.tail_au',\n",
    "                               'secondary_cleaner.output.tail_ag', 'secondary_cleaner.output.tail_pb',\n",
    "                               'secondary_cleaner.output.tail_sol', 'secondary_cleaner.output.tail_au'], axis=1)"
   ]
  },
  {
   "cell_type": "code",
   "execution_count": 45,
   "metadata": {},
   "outputs": [],
   "source": [
    "target_train = df_train_main[['rougher.output.recovery', 'final.output.recovery']]"
   ]
  },
  {
   "cell_type": "code",
   "execution_count": 46,
   "metadata": {},
   "outputs": [],
   "source": [
    "# через функцию make_scorer превратим функцию sMAPE в метрику, которую используем в cross_val_score\n",
    "own_score = make_scorer(sMAPE, greater_is_better=False)"
   ]
  },
  {
   "cell_type": "code",
   "execution_count": 47,
   "metadata": {},
   "outputs": [],
   "source": [
    "numeric = df_test_main.drop(['date'], axis=1).columns.values.tolist()"
   ]
  },
  {
   "cell_type": "code",
   "execution_count": 48,
   "metadata": {},
   "outputs": [],
   "source": [
    "scaler = StandardScaler()\n",
    "scaler.fit(features_train[numeric])\n",
    "pd.options.mode.chained_assignment = None\n",
    "features_train[numeric] = scaler.transform(features_train[numeric])"
   ]
  },
  {
   "cell_type": "code",
   "execution_count": 51,
   "metadata": {},
   "outputs": [
    {
     "name": "stdout",
     "output_type": "stream",
     "text": [
      "Средняя оценка качества модели: -10.029544166382296\n"
     ]
    }
   ],
   "source": [
    "# обучим модель линейной регрессии\n",
    "model_lr = LinearRegression()\n",
    "scores_lr = cross_val_score(model_lr, features_train, target_train, scoring = own_score, cv=5)\n",
    "final_score_lr = sum(scores_lr) / len(scores_lr)\n",
    "print('Средняя оценка качества модели для линейной регрессии:', final_score_lr)"
   ]
  },
  {
   "cell_type": "code",
   "execution_count": 55,
   "metadata": {},
   "outputs": [
    {
     "name": "stdout",
     "output_type": "stream",
     "text": [
      "-13.092672829602119\n",
      "-14.35208632066453\n",
      "-12.365456844078818\n",
      "-12.075208285838432\n",
      "-12.129364809234483\n",
      "-11.669575984226574\n",
      "-11.818084886880449\n",
      "-11.682772783544204\n",
      "-11.380673848190334\n",
      "-11.249144899016251\n"
     ]
    }
   ],
   "source": [
    "for samples_leaf in range(1, 11): # поиск лучшего гиперпараметра «минимальное количество объектов в листе» для дерева решений\n",
    "    model = DecisionTreeRegressor(random_state=12345, max_depth=10, min_samples_split=2, min_samples_leaf=samples_leaf)\n",
    "    scores = cross_val_score(model, features_train, target_train, scoring = own_score, cv=5)\n",
    "    final_score = sum(scores) / len(scores)\n",
    "    print(final_score)"
   ]
  },
  {
   "cell_type": "code",
   "execution_count": 56,
   "metadata": {},
   "outputs": [
    {
     "name": "stdout",
     "output_type": "stream",
     "text": [
      "-8.95946929825476\n",
      "-9.181218804955545\n",
      "-9.10805255093371\n",
      "-9.50336693967338\n",
      "-10.85209786370466\n",
      "-11.335966563880529\n",
      "-10.778877247150522\n",
      "-11.14219147946385\n",
      "-11.053856870498901\n",
      "-11.249144899016251\n",
      "-11.197563627762518\n",
      "-12.220908641829503\n",
      "-11.395024336406902\n",
      "-11.670477330339704\n",
      "-11.983107146764212\n"
     ]
    }
   ],
   "source": [
    "for depth in range(1, 16, 1): # поиск лучшей глубины для дерева решений\n",
    "    model = DecisionTreeRegressor(random_state=12345, max_depth=depth, min_samples_split=2, min_samples_leaf=10)\n",
    "    scores = cross_val_score(model, features_train, target_train, scoring = own_score, cv=5)\n",
    "    final_score = sum(scores) / len(scores)\n",
    "    print(final_score)"
   ]
  },
  {
   "cell_type": "code",
   "execution_count": 61,
   "metadata": {},
   "outputs": [
    {
     "name": "stdout",
     "output_type": "stream",
     "text": [
      "Средняя оценка качества модели для лучшей модели дерева решений: -8.95946929825476\n"
     ]
    }
   ],
   "source": [
    "# обучим модель дерева решений с подобранными гиперпараметрами\n",
    "model_dt = DecisionTreeRegressor(random_state=12345, max_depth=1, min_samples_split=2, min_samples_leaf=10)\n",
    "scores_dt = cross_val_score(model_dt, features_train, target_train, scoring = own_score, cv=5)\n",
    "final_score_dt = sum(scores_dt) / len(scores_dt)\n",
    "print(\"Средняя оценка качества модели для лучшей модели дерева решений:\", final_score_dt)"
   ]
  },
  {
   "cell_type": "code",
   "execution_count": 62,
   "metadata": {},
   "outputs": [
    {
     "name": "stdout",
     "output_type": "stream",
     "text": [
      "-9.028743155440946\n",
      "-9.11171238143329\n",
      "-8.74610628937857\n",
      "-8.712943924917557\n",
      "-9.014385517138617\n",
      "-9.201603080857954\n",
      "-9.327383282995985\n",
      "-9.570305424183747\n",
      "-9.584016201035313\n",
      "-9.646555338644927\n",
      "-9.752348251942085\n",
      "-9.76527305074714\n",
      "-9.724974074909408\n",
      "-9.663776487238975\n",
      "-9.694978700888946\n"
     ]
    }
   ],
   "source": [
    "for depth in range(1, 16, 1): # поиск лучшей глубины для модели случайного леса\n",
    "    model = RandomForestRegressor(n_estimators=20, max_depth=depth, random_state=12345)\n",
    "    scores = cross_val_score(model, features_train, target_train, scoring = own_score, cv=5)\n",
    "    final_score = sum(scores) / len(scores)\n",
    "    print(final_score)"
   ]
  },
  {
   "cell_type": "code",
   "execution_count": 63,
   "metadata": {},
   "outputs": [
    {
     "name": "stdout",
     "output_type": "stream",
     "text": [
      "-8.754127984136677\n",
      "-8.712943924917557\n",
      "-8.68666493297843\n",
      "-8.752098623852177\n",
      "-8.799368643967055\n",
      "-8.831507794212758\n",
      "-8.865520529352164\n",
      "-8.879647406668797\n",
      "-8.87686474028022\n",
      "-8.87907511113567\n"
     ]
    }
   ],
   "source": [
    "for est in range(10, 101, 10):  # поиск лучшего количества деревьев для модели случайного леса \n",
    "    model = RandomForestRegressor(n_estimators=est, max_depth=4, random_state=12345)\n",
    "    scores = cross_val_score(model, features_train, target_train, scoring = own_score, cv=5)\n",
    "    final_score = sum(scores) / len(scores)\n",
    "    print(final_score)"
   ]
  },
  {
   "cell_type": "code",
   "execution_count": 64,
   "metadata": {},
   "outputs": [
    {
     "name": "stdout",
     "output_type": "stream",
     "text": [
      "Средняя оценка качества модели для лучшей модели случайного леса: -8.68666493297843\n"
     ]
    }
   ],
   "source": [
    "# обучим модель случайного леса с подобранными гиперпараметрами\n",
    "model_rf = RandomForestRegressor(n_estimators=30, max_depth=4, random_state=12345)\n",
    "scores_rf = cross_val_score(model_rf, features_train, target_train, scoring = own_score, cv=5)\n",
    "final_score_rf = sum(scores_rf) / len(scores_rf)\n",
    "print(\"Средняя оценка качества модели для лучшей модели случайного леса:\", final_score_rf)"
   ]
  },
  {
   "cell_type": "markdown",
   "metadata": {},
   "source": [
    "**Для проверки модели на тестовой выборке возьмем модель случайного леса с глубиной, равной 4, и количеством деревьев — 30, которая оказалась лучше остальных c симметричным средним абсолютным процентным отклонением 8.68% (в данном случае игнорируем минус перед значением, который возникает из-за аргумента greater_is_better=False).**"
   ]
  },
  {
   "cell_type": "code",
   "execution_count": 65,
   "metadata": {},
   "outputs": [],
   "source": [
    "# присоединим к тестовой выборке целевые признаки по совпадающим значениям столбца date\n",
    "df_test_main_with_targets = pd.merge(df_test_main,df_full[['date','rougher.output.recovery', 'final.output.recovery']],on='date', how='left')"
   ]
  },
  {
   "cell_type": "code",
   "execution_count": 67,
   "metadata": {},
   "outputs": [
    {
     "name": "stdout",
     "output_type": "stream",
     "text": [
      "<class 'pandas.core.frame.DataFrame'>\n",
      "Int64Index: 5288 entries, 0 to 5287\n",
      "Data columns (total 55 columns):\n",
      "date                                          5288 non-null object\n",
      "primary_cleaner.input.sulfate                 5288 non-null float64\n",
      "primary_cleaner.input.depressant              5288 non-null float64\n",
      "primary_cleaner.input.feed_size               5288 non-null float64\n",
      "primary_cleaner.input.xanthate                5288 non-null float64\n",
      "primary_cleaner.state.floatbank8_a_air        5288 non-null float64\n",
      "primary_cleaner.state.floatbank8_a_level      5288 non-null float64\n",
      "primary_cleaner.state.floatbank8_b_air        5288 non-null float64\n",
      "primary_cleaner.state.floatbank8_b_level      5288 non-null float64\n",
      "primary_cleaner.state.floatbank8_c_air        5288 non-null float64\n",
      "primary_cleaner.state.floatbank8_c_level      5288 non-null float64\n",
      "primary_cleaner.state.floatbank8_d_air        5288 non-null float64\n",
      "primary_cleaner.state.floatbank8_d_level      5288 non-null float64\n",
      "rougher.input.feed_ag                         5288 non-null float64\n",
      "rougher.input.feed_pb                         5288 non-null float64\n",
      "rougher.input.feed_rate                       5288 non-null float64\n",
      "rougher.input.feed_size                       5288 non-null float64\n",
      "rougher.input.feed_sol                        5288 non-null float64\n",
      "rougher.input.feed_au                         5288 non-null float64\n",
      "rougher.input.floatbank10_sulfate             5288 non-null float64\n",
      "rougher.input.floatbank10_xanthate            5288 non-null float64\n",
      "rougher.input.floatbank11_sulfate             5288 non-null float64\n",
      "rougher.input.floatbank11_xanthate            5288 non-null float64\n",
      "rougher.state.floatbank10_a_air               5288 non-null float64\n",
      "rougher.state.floatbank10_a_level             5288 non-null float64\n",
      "rougher.state.floatbank10_b_air               5288 non-null float64\n",
      "rougher.state.floatbank10_b_level             5288 non-null float64\n",
      "rougher.state.floatbank10_c_air               5288 non-null float64\n",
      "rougher.state.floatbank10_c_level             5288 non-null float64\n",
      "rougher.state.floatbank10_d_air               5288 non-null float64\n",
      "rougher.state.floatbank10_d_level             5288 non-null float64\n",
      "rougher.state.floatbank10_e_air               5288 non-null float64\n",
      "rougher.state.floatbank10_e_level             5288 non-null float64\n",
      "rougher.state.floatbank10_f_air               5288 non-null float64\n",
      "rougher.state.floatbank10_f_level             5288 non-null float64\n",
      "secondary_cleaner.state.floatbank2_a_air      5288 non-null float64\n",
      "secondary_cleaner.state.floatbank2_a_level    5288 non-null float64\n",
      "secondary_cleaner.state.floatbank2_b_air      5288 non-null float64\n",
      "secondary_cleaner.state.floatbank2_b_level    5288 non-null float64\n",
      "secondary_cleaner.state.floatbank3_a_air      5288 non-null float64\n",
      "secondary_cleaner.state.floatbank3_a_level    5288 non-null float64\n",
      "secondary_cleaner.state.floatbank3_b_air      5288 non-null float64\n",
      "secondary_cleaner.state.floatbank3_b_level    5288 non-null float64\n",
      "secondary_cleaner.state.floatbank4_a_air      5288 non-null float64\n",
      "secondary_cleaner.state.floatbank4_a_level    5288 non-null float64\n",
      "secondary_cleaner.state.floatbank4_b_air      5288 non-null float64\n",
      "secondary_cleaner.state.floatbank4_b_level    5288 non-null float64\n",
      "secondary_cleaner.state.floatbank5_a_air      5288 non-null float64\n",
      "secondary_cleaner.state.floatbank5_a_level    5288 non-null float64\n",
      "secondary_cleaner.state.floatbank5_b_air      5288 non-null float64\n",
      "secondary_cleaner.state.floatbank5_b_level    5288 non-null float64\n",
      "secondary_cleaner.state.floatbank6_a_air      5288 non-null float64\n",
      "secondary_cleaner.state.floatbank6_a_level    5288 non-null float64\n",
      "rougher.output.recovery                       5288 non-null float64\n",
      "final.output.recovery                         5288 non-null float64\n",
      "dtypes: float64(54), object(1)\n",
      "memory usage: 2.3+ MB\n"
     ]
    }
   ],
   "source": [
    "df_test_main_with_targets.info()"
   ]
  },
  {
   "cell_type": "code",
   "execution_count": 70,
   "metadata": {},
   "outputs": [],
   "source": [
    "features_test = df_test_main_with_targets.drop(['date', 'rougher.output.recovery', 'final.output.recovery'], axis=1) "
   ]
  },
  {
   "cell_type": "code",
   "execution_count": 71,
   "metadata": {},
   "outputs": [],
   "source": [
    "target_test = df_test_main_with_targets[['rougher.output.recovery', 'final.output.recovery']]"
   ]
  },
  {
   "cell_type": "code",
   "execution_count": 73,
   "metadata": {},
   "outputs": [],
   "source": [
    "numeric_test = df_test_main_with_targets.drop(['date', 'rougher.output.recovery', 'final.output.recovery'], axis=1).columns.values.tolist()"
   ]
  },
  {
   "cell_type": "code",
   "execution_count": 74,
   "metadata": {},
   "outputs": [],
   "source": [
    "scaler_test = StandardScaler()\n",
    "scaler_test.fit(features_train[numeric_test])\n",
    "pd.options.mode.chained_assignment = None\n",
    "features_test[numeric_test] = scaler_test.transform(features_test[numeric_test])"
   ]
  },
  {
   "cell_type": "code",
   "execution_count": 75,
   "metadata": {},
   "outputs": [
    {
     "name": "stdout",
     "output_type": "stream",
     "text": [
      "Средняя оценка качества модели для лучшей модели случайного леса (на тестовой выборке): -10.57007688640951\n"
     ]
    }
   ],
   "source": [
    "# проверим лучшую модель случайного леса на тестовой выборке\n",
    "model_rf_test = RandomForestRegressor(n_estimators=30, max_depth=4, random_state=12345)\n",
    "scores_rf_test = cross_val_score(model_rf_test, features_test, target_test, scoring = own_score, cv=5)\n",
    "final_score_rf_test = sum(scores_rf_test) / len(scores_rf_test)\n",
    "print(\"Средняя оценка качества модели для лучшей модели случайного леса (на тестовой выборке):\", final_score_rf_test)"
   ]
  },
  {
   "cell_type": "markdown",
   "metadata": {},
   "source": [
    "## Общий вывод"
   ]
  },
  {
   "cell_type": "markdown",
   "metadata": {},
   "source": [
    "Для ответ на вопрос исследования были изучены таблицы с данными, проведена подготовка наборов данных, проанализированы данные, а также обучены и проверены модели.\n",
    "\n",
    "**В результате финального тестирования было установлено:**\n",
    "\n",
    "- Лучшей моделью для прогноза коэффициента восстановления золота из золотосодержащей руды стала модель случайного леса.\n",
    "\n",
    "\n",
    "- Для данной модели случайного леса в результате проверки на тестовой выборке удалось достичь наименьшее значение метрики качества sMAPE — 10.57%."
   ]
  }
 ],
 "metadata": {
  "ExecuteTimeLog": [
   {
    "duration": 1098,
    "start_time": "2022-02-17T14:22:48.957Z"
   },
   {
    "duration": 351,
    "start_time": "2022-02-17T14:22:50.056Z"
   },
   {
    "duration": 79,
    "start_time": "2022-02-17T14:22:50.409Z"
   },
   {
    "duration": 372,
    "start_time": "2022-02-17T14:22:50.490Z"
   },
   {
    "duration": 26,
    "start_time": "2022-02-17T14:22:50.864Z"
   },
   {
    "duration": 36,
    "start_time": "2022-02-17T14:22:50.892Z"
   },
   {
    "duration": 21,
    "start_time": "2022-02-17T14:22:50.929Z"
   },
   {
    "duration": 15,
    "start_time": "2022-02-17T14:22:50.952Z"
   },
   {
    "duration": 10,
    "start_time": "2022-02-17T14:22:50.969Z"
   },
   {
    "duration": 39,
    "start_time": "2022-02-17T14:22:50.980Z"
   },
   {
    "duration": 5,
    "start_time": "2022-02-17T14:59:43.490Z"
   },
   {
    "duration": 76,
    "start_time": "2022-02-17T15:20:56.144Z"
   },
   {
    "duration": 305,
    "start_time": "2022-02-17T15:21:08.579Z"
   },
   {
    "duration": 197,
    "start_time": "2022-02-17T15:21:25.770Z"
   },
   {
    "duration": 6,
    "start_time": "2022-02-17T15:21:31.333Z"
   },
   {
    "duration": 7,
    "start_time": "2022-02-17T15:21:46.027Z"
   },
   {
    "duration": 202,
    "start_time": "2022-02-17T15:26:57.542Z"
   },
   {
    "duration": 201,
    "start_time": "2022-02-17T15:27:17.424Z"
   },
   {
    "duration": 9,
    "start_time": "2022-02-17T15:29:18.985Z"
   },
   {
    "duration": 209,
    "start_time": "2022-02-17T15:29:21.191Z"
   },
   {
    "duration": 59,
    "start_time": "2022-02-17T15:29:32.539Z"
   },
   {
    "duration": 200,
    "start_time": "2022-02-17T15:29:37.268Z"
   },
   {
    "duration": 215,
    "start_time": "2022-02-17T15:32:37.910Z"
   },
   {
    "duration": 5,
    "start_time": "2022-02-17T15:32:56.516Z"
   },
   {
    "duration": 204,
    "start_time": "2022-02-17T15:33:03.745Z"
   },
   {
    "duration": 5,
    "start_time": "2022-02-17T15:33:20.774Z"
   },
   {
    "duration": 7,
    "start_time": "2022-02-17T15:33:56.470Z"
   },
   {
    "duration": 7,
    "start_time": "2022-02-17T15:34:07.055Z"
   },
   {
    "duration": 215,
    "start_time": "2022-02-17T15:34:09.932Z"
   },
   {
    "duration": 5,
    "start_time": "2022-02-17T15:34:12.423Z"
   },
   {
    "duration": 190,
    "start_time": "2022-02-17T15:41:24.082Z"
   },
   {
    "duration": 1088,
    "start_time": "2022-02-17T15:46:10.375Z"
   },
   {
    "duration": 292,
    "start_time": "2022-02-17T15:46:11.465Z"
   },
   {
    "duration": 78,
    "start_time": "2022-02-17T15:46:11.760Z"
   },
   {
    "duration": 392,
    "start_time": "2022-02-17T15:46:11.840Z"
   },
   {
    "duration": 28,
    "start_time": "2022-02-17T15:46:12.234Z"
   },
   {
    "duration": 24,
    "start_time": "2022-02-17T15:46:12.265Z"
   },
   {
    "duration": 43,
    "start_time": "2022-02-17T15:46:12.291Z"
   },
   {
    "duration": 16,
    "start_time": "2022-02-17T15:46:12.336Z"
   },
   {
    "duration": 11,
    "start_time": "2022-02-17T15:46:12.354Z"
   },
   {
    "duration": 17,
    "start_time": "2022-02-17T15:46:12.366Z"
   },
   {
    "duration": 6,
    "start_time": "2022-02-17T15:46:12.419Z"
   },
   {
    "duration": 7,
    "start_time": "2022-02-17T15:46:12.426Z"
   },
   {
    "duration": 231,
    "start_time": "2022-02-17T15:46:12.435Z"
   },
   {
    "duration": 5,
    "start_time": "2022-02-17T15:46:12.667Z"
   },
   {
    "duration": 1127,
    "start_time": "2022-02-17T15:54:52.542Z"
   },
   {
    "duration": 296,
    "start_time": "2022-02-17T15:54:53.671Z"
   },
   {
    "duration": 78,
    "start_time": "2022-02-17T15:54:53.969Z"
   },
   {
    "duration": 392,
    "start_time": "2022-02-17T15:54:54.049Z"
   },
   {
    "duration": 27,
    "start_time": "2022-02-17T15:54:54.443Z"
   },
   {
    "duration": 22,
    "start_time": "2022-02-17T15:54:54.472Z"
   },
   {
    "duration": 38,
    "start_time": "2022-02-17T15:54:54.496Z"
   },
   {
    "duration": 14,
    "start_time": "2022-02-17T15:54:54.537Z"
   },
   {
    "duration": 10,
    "start_time": "2022-02-17T15:54:54.553Z"
   },
   {
    "duration": 17,
    "start_time": "2022-02-17T15:54:54.565Z"
   },
   {
    "duration": 36,
    "start_time": "2022-02-17T15:54:54.584Z"
   },
   {
    "duration": 7,
    "start_time": "2022-02-17T15:54:54.621Z"
   },
   {
    "duration": 224,
    "start_time": "2022-02-17T15:54:54.630Z"
   },
   {
    "duration": 5,
    "start_time": "2022-02-17T15:54:54.855Z"
   },
   {
    "duration": 6,
    "start_time": "2022-02-17T16:13:57.550Z"
   },
   {
    "duration": 5,
    "start_time": "2022-02-17T16:14:36.319Z"
   },
   {
    "duration": 3,
    "start_time": "2022-02-17T16:15:59.151Z"
   },
   {
    "duration": 3,
    "start_time": "2022-02-17T16:16:16.631Z"
   },
   {
    "duration": 298,
    "start_time": "2022-02-17T16:16:30.196Z"
   },
   {
    "duration": 205,
    "start_time": "2022-02-17T16:18:29.590Z"
   },
   {
    "duration": 3,
    "start_time": "2022-02-17T16:18:36.324Z"
   },
   {
    "duration": 3,
    "start_time": "2022-02-17T16:18:37.901Z"
   },
   {
    "duration": 202,
    "start_time": "2022-02-17T16:18:39.748Z"
   },
   {
    "duration": 191,
    "start_time": "2022-02-17T16:20:06.262Z"
   },
   {
    "duration": 5,
    "start_time": "2022-02-17T16:40:20.741Z"
   },
   {
    "duration": 6,
    "start_time": "2022-02-17T16:41:38.322Z"
   },
   {
    "duration": 4,
    "start_time": "2022-02-17T16:42:02.416Z"
   },
   {
    "duration": 4,
    "start_time": "2022-02-17T16:44:56.894Z"
   },
   {
    "duration": 5,
    "start_time": "2022-02-17T16:45:23.009Z"
   },
   {
    "duration": 5,
    "start_time": "2022-02-17T16:56:58.303Z"
   },
   {
    "duration": 5,
    "start_time": "2022-02-17T16:57:01.738Z"
   },
   {
    "duration": 5,
    "start_time": "2022-02-17T16:57:04.420Z"
   },
   {
    "duration": 5,
    "start_time": "2022-02-17T16:57:47.500Z"
   },
   {
    "duration": 4,
    "start_time": "2022-02-17T16:57:51.687Z"
   },
   {
    "duration": 4,
    "start_time": "2022-02-17T16:57:54.311Z"
   },
   {
    "duration": 4,
    "start_time": "2022-02-17T17:01:22.762Z"
   },
   {
    "duration": 211,
    "start_time": "2022-02-17T17:01:34.086Z"
   },
   {
    "duration": 3,
    "start_time": "2022-02-17T17:01:48.864Z"
   },
   {
    "duration": 4,
    "start_time": "2022-02-17T17:05:19.343Z"
   },
   {
    "duration": 4,
    "start_time": "2022-02-17T17:05:38.720Z"
   },
   {
    "duration": 4,
    "start_time": "2022-02-17T17:07:32.846Z"
   },
   {
    "duration": 5,
    "start_time": "2022-02-17T17:07:45.285Z"
   },
   {
    "duration": 5,
    "start_time": "2022-02-17T17:08:15.571Z"
   },
   {
    "duration": 5,
    "start_time": "2022-02-17T17:08:35.769Z"
   },
   {
    "duration": 4,
    "start_time": "2022-02-17T17:08:45.399Z"
   },
   {
    "duration": 4,
    "start_time": "2022-02-17T17:13:52.744Z"
   },
   {
    "duration": 4,
    "start_time": "2022-02-17T17:18:45.867Z"
   },
   {
    "duration": 5,
    "start_time": "2022-02-17T17:19:37.420Z"
   },
   {
    "duration": 5,
    "start_time": "2022-02-17T17:21:42.190Z"
   },
   {
    "duration": 208,
    "start_time": "2022-02-17T17:22:10.088Z"
   },
   {
    "duration": 4,
    "start_time": "2022-02-17T17:22:30.124Z"
   },
   {
    "duration": 1149,
    "start_time": "2022-02-17T17:35:59.913Z"
   },
   {
    "duration": 287,
    "start_time": "2022-02-17T17:36:01.064Z"
   },
   {
    "duration": 77,
    "start_time": "2022-02-17T17:36:01.353Z"
   },
   {
    "duration": 364,
    "start_time": "2022-02-17T17:36:01.432Z"
   },
   {
    "duration": 33,
    "start_time": "2022-02-17T17:36:01.798Z"
   },
   {
    "duration": 22,
    "start_time": "2022-02-17T17:36:01.833Z"
   },
   {
    "duration": 23,
    "start_time": "2022-02-17T17:36:01.857Z"
   },
   {
    "duration": 39,
    "start_time": "2022-02-17T17:36:01.882Z"
   },
   {
    "duration": 9,
    "start_time": "2022-02-17T17:36:01.923Z"
   },
   {
    "duration": 15,
    "start_time": "2022-02-17T17:36:01.934Z"
   },
   {
    "duration": 5,
    "start_time": "2022-02-17T17:36:01.951Z"
   },
   {
    "duration": 7,
    "start_time": "2022-02-17T17:36:01.958Z"
   },
   {
    "duration": 231,
    "start_time": "2022-02-17T17:36:01.967Z"
   },
   {
    "duration": 4,
    "start_time": "2022-02-17T17:36:02.200Z"
   },
   {
    "duration": 14,
    "start_time": "2022-02-17T17:36:02.206Z"
   },
   {
    "duration": 5,
    "start_time": "2022-02-17T17:36:02.221Z"
   },
   {
    "duration": 301,
    "start_time": "2022-02-17T17:36:02.228Z"
   },
   {
    "duration": 4,
    "start_time": "2022-02-17T17:36:12.688Z"
   },
   {
    "duration": 10,
    "start_time": "2022-02-17T18:31:16.841Z"
   },
   {
    "duration": 8,
    "start_time": "2022-02-17T18:31:44.629Z"
   },
   {
    "duration": 16,
    "start_time": "2022-02-17T18:35:41.340Z"
   },
   {
    "duration": 10,
    "start_time": "2022-02-17T18:45:15.185Z"
   },
   {
    "duration": 17,
    "start_time": "2022-02-17T18:45:17.086Z"
   },
   {
    "duration": 1104,
    "start_time": "2022-02-17T19:58:24.955Z"
   },
   {
    "duration": 285,
    "start_time": "2022-02-17T19:58:26.060Z"
   },
   {
    "duration": 76,
    "start_time": "2022-02-17T19:58:26.347Z"
   },
   {
    "duration": 367,
    "start_time": "2022-02-17T19:58:26.425Z"
   },
   {
    "duration": 31,
    "start_time": "2022-02-17T19:58:26.794Z"
   },
   {
    "duration": 24,
    "start_time": "2022-02-17T19:58:26.827Z"
   },
   {
    "duration": 23,
    "start_time": "2022-02-17T19:58:26.852Z"
   },
   {
    "duration": 44,
    "start_time": "2022-02-17T19:58:26.878Z"
   },
   {
    "duration": 10,
    "start_time": "2022-02-17T19:58:26.925Z"
   },
   {
    "duration": 17,
    "start_time": "2022-02-17T19:58:26.937Z"
   },
   {
    "duration": 5,
    "start_time": "2022-02-17T19:58:26.956Z"
   },
   {
    "duration": 7,
    "start_time": "2022-02-17T19:58:26.962Z"
   },
   {
    "duration": 230,
    "start_time": "2022-02-17T19:58:26.970Z"
   },
   {
    "duration": 8,
    "start_time": "2022-02-17T19:58:27.201Z"
   },
   {
    "duration": 3,
    "start_time": "2022-02-17T19:58:27.218Z"
   },
   {
    "duration": 6,
    "start_time": "2022-02-17T19:58:27.223Z"
   },
   {
    "duration": 8,
    "start_time": "2022-02-17T19:58:27.230Z"
   },
   {
    "duration": 21,
    "start_time": "2022-02-17T19:58:27.240Z"
   },
   {
    "duration": 11,
    "start_time": "2022-02-17T19:58:27.263Z"
   },
   {
    "duration": 16,
    "start_time": "2022-02-17T19:58:27.275Z"
   },
   {
    "duration": 29,
    "start_time": "2022-02-17T19:58:27.292Z"
   },
   {
    "duration": 10,
    "start_time": "2022-02-17T19:58:27.323Z"
   },
   {
    "duration": 15,
    "start_time": "2022-02-17T19:58:27.336Z"
   },
   {
    "duration": 17,
    "start_time": "2022-02-17T19:58:27.353Z"
   },
   {
    "duration": 315,
    "start_time": "2022-02-17T20:32:26.242Z"
   },
   {
    "duration": 57,
    "start_time": "2022-02-17T20:33:35.165Z"
   },
   {
    "duration": 13480,
    "start_time": "2022-02-17T20:33:39.549Z"
   },
   {
    "duration": 283,
    "start_time": "2022-02-17T20:38:35.758Z"
   },
   {
    "duration": 226,
    "start_time": "2022-02-17T20:39:15.179Z"
   },
   {
    "duration": 191,
    "start_time": "2022-02-17T20:40:00.276Z"
   },
   {
    "duration": 196,
    "start_time": "2022-02-17T20:47:39.765Z"
   },
   {
    "duration": 939,
    "start_time": "2022-02-17T20:48:45.214Z"
   },
   {
    "duration": 94,
    "start_time": "2022-02-17T20:51:43.928Z"
   },
   {
    "duration": 255,
    "start_time": "2022-02-17T20:51:55.274Z"
   },
   {
    "duration": 440,
    "start_time": "2022-02-17T20:56:51.896Z"
   },
   {
    "duration": 547,
    "start_time": "2022-02-17T20:57:56.684Z"
   },
   {
    "duration": 685,
    "start_time": "2022-02-17T20:59:21.537Z"
   },
   {
    "duration": 7,
    "start_time": "2022-02-17T21:02:24.693Z"
   },
   {
    "duration": 5,
    "start_time": "2022-02-17T21:02:38.430Z"
   },
   {
    "duration": 5,
    "start_time": "2022-02-17T21:02:47.935Z"
   },
   {
    "duration": 5,
    "start_time": "2022-02-17T21:03:00.070Z"
   },
   {
    "duration": 5,
    "start_time": "2022-02-17T21:03:06.006Z"
   },
   {
    "duration": 689,
    "start_time": "2022-02-17T21:03:52.549Z"
   },
   {
    "duration": 5,
    "start_time": "2022-02-17T21:06:03.580Z"
   },
   {
    "duration": 4,
    "start_time": "2022-02-17T21:06:10.499Z"
   },
   {
    "duration": 5,
    "start_time": "2022-02-17T21:06:15.543Z"
   },
   {
    "duration": 4,
    "start_time": "2022-02-17T21:06:20.900Z"
   },
   {
    "duration": 5,
    "start_time": "2022-02-17T21:06:26.410Z"
   },
   {
    "duration": 4,
    "start_time": "2022-02-17T21:06:30.395Z"
   },
   {
    "duration": 5,
    "start_time": "2022-02-17T21:06:36.048Z"
   },
   {
    "duration": 5,
    "start_time": "2022-02-17T21:06:40.562Z"
   },
   {
    "duration": 189,
    "start_time": "2022-02-17T21:09:55.274Z"
   },
   {
    "duration": 188,
    "start_time": "2022-02-17T21:10:10.484Z"
   },
   {
    "duration": 189,
    "start_time": "2022-02-17T21:10:48.467Z"
   },
   {
    "duration": 302,
    "start_time": "2022-02-17T21:17:16.169Z"
   },
   {
    "duration": 16,
    "start_time": "2022-02-17T21:18:04.675Z"
   },
   {
    "duration": 9,
    "start_time": "2022-02-17T21:41:48.756Z"
   },
   {
    "duration": 187,
    "start_time": "2022-02-17T21:42:39.942Z"
   },
   {
    "duration": 188,
    "start_time": "2022-02-17T21:42:56.662Z"
   },
   {
    "duration": 174,
    "start_time": "2022-02-17T21:44:53.309Z"
   },
   {
    "duration": 9,
    "start_time": "2022-02-17T21:45:56.592Z"
   },
   {
    "duration": 160,
    "start_time": "2022-02-17T21:45:59.509Z"
   },
   {
    "duration": 210,
    "start_time": "2022-02-17T21:46:14.988Z"
   },
   {
    "duration": 160,
    "start_time": "2022-02-17T21:46:21.142Z"
   },
   {
    "duration": 61,
    "start_time": "2022-02-17T21:47:03.523Z"
   },
   {
    "duration": 5,
    "start_time": "2022-02-17T21:47:08.400Z"
   },
   {
    "duration": 1578,
    "start_time": "2022-02-18T14:26:40.829Z"
   },
   {
    "duration": 440,
    "start_time": "2022-02-18T14:26:42.410Z"
   },
   {
    "duration": 96,
    "start_time": "2022-02-18T14:26:42.853Z"
   },
   {
    "duration": 470,
    "start_time": "2022-02-18T14:26:42.952Z"
   },
   {
    "duration": 50,
    "start_time": "2022-02-18T14:26:43.425Z"
   },
   {
    "duration": 37,
    "start_time": "2022-02-18T14:26:43.478Z"
   },
   {
    "duration": 63,
    "start_time": "2022-02-18T14:26:43.519Z"
   },
   {
    "duration": 26,
    "start_time": "2022-02-18T14:26:43.586Z"
   },
   {
    "duration": 53,
    "start_time": "2022-02-18T14:26:43.618Z"
   },
   {
    "duration": 27,
    "start_time": "2022-02-18T14:26:43.675Z"
   },
   {
    "duration": 8,
    "start_time": "2022-02-18T14:26:43.706Z"
   },
   {
    "duration": 50,
    "start_time": "2022-02-18T14:26:43.716Z"
   },
   {
    "duration": 358,
    "start_time": "2022-02-18T14:26:43.769Z"
   },
   {
    "duration": 6,
    "start_time": "2022-02-18T14:26:44.130Z"
   },
   {
    "duration": 25,
    "start_time": "2022-02-18T14:26:44.139Z"
   },
   {
    "duration": 6,
    "start_time": "2022-02-18T14:26:44.166Z"
   },
   {
    "duration": 11,
    "start_time": "2022-02-18T14:26:44.174Z"
   },
   {
    "duration": 32,
    "start_time": "2022-02-18T14:26:44.188Z"
   },
   {
    "duration": 43,
    "start_time": "2022-02-18T14:26:44.222Z"
   },
   {
    "duration": 26,
    "start_time": "2022-02-18T14:26:44.268Z"
   },
   {
    "duration": 8,
    "start_time": "2022-02-18T14:26:44.297Z"
   },
   {
    "duration": 63,
    "start_time": "2022-02-18T14:26:44.307Z"
   },
   {
    "duration": 18,
    "start_time": "2022-02-18T14:26:44.373Z"
   },
   {
    "duration": 26,
    "start_time": "2022-02-18T14:26:44.393Z"
   },
   {
    "duration": 504,
    "start_time": "2022-02-18T14:32:46.365Z"
   },
   {
    "duration": 1238,
    "start_time": "2022-02-18T14:32:58.707Z"
   },
   {
    "duration": 52,
    "start_time": "2022-02-18T14:34:10.642Z"
   },
   {
    "duration": 768,
    "start_time": "2022-02-18T14:34:54.009Z"
   },
   {
    "duration": 1514,
    "start_time": "2022-02-18T14:36:35.191Z"
   },
   {
    "duration": 340,
    "start_time": "2022-02-18T14:36:36.707Z"
   },
   {
    "duration": 94,
    "start_time": "2022-02-18T14:36:37.051Z"
   },
   {
    "duration": 455,
    "start_time": "2022-02-18T14:36:37.148Z"
   },
   {
    "duration": 41,
    "start_time": "2022-02-18T14:36:37.605Z"
   },
   {
    "duration": 37,
    "start_time": "2022-02-18T14:36:37.660Z"
   },
   {
    "duration": 62,
    "start_time": "2022-02-18T14:36:37.699Z"
   },
   {
    "duration": 25,
    "start_time": "2022-02-18T14:36:37.764Z"
   },
   {
    "duration": 15,
    "start_time": "2022-02-18T14:36:37.792Z"
   },
   {
    "duration": 59,
    "start_time": "2022-02-18T14:36:37.810Z"
   },
   {
    "duration": 7,
    "start_time": "2022-02-18T14:36:37.871Z"
   },
   {
    "duration": 14,
    "start_time": "2022-02-18T14:36:37.880Z"
   },
   {
    "duration": 391,
    "start_time": "2022-02-18T14:36:37.896Z"
   },
   {
    "duration": 6,
    "start_time": "2022-02-18T14:36:38.289Z"
   },
   {
    "duration": 5,
    "start_time": "2022-02-18T14:36:38.298Z"
   },
   {
    "duration": 8,
    "start_time": "2022-02-18T14:36:38.305Z"
   },
   {
    "duration": 8,
    "start_time": "2022-02-18T14:36:38.316Z"
   },
   {
    "duration": 27,
    "start_time": "2022-02-18T14:36:38.326Z"
   },
   {
    "duration": 15,
    "start_time": "2022-02-18T14:36:38.356Z"
   },
   {
    "duration": 26,
    "start_time": "2022-02-18T14:36:38.373Z"
   },
   {
    "duration": 5,
    "start_time": "2022-02-18T14:36:38.401Z"
   },
   {
    "duration": 15,
    "start_time": "2022-02-18T14:36:38.409Z"
   },
   {
    "duration": 15,
    "start_time": "2022-02-18T14:36:38.427Z"
   },
   {
    "duration": 43,
    "start_time": "2022-02-18T14:36:38.445Z"
   },
   {
    "duration": 110,
    "start_time": "2022-02-18T14:50:02.252Z"
   },
   {
    "duration": 131,
    "start_time": "2022-02-18T14:50:15.064Z"
   },
   {
    "duration": 469,
    "start_time": "2022-02-18T14:50:33.969Z"
   },
   {
    "duration": 97,
    "start_time": "2022-02-18T14:50:50.073Z"
   },
   {
    "duration": 101,
    "start_time": "2022-02-18T14:51:13.272Z"
   },
   {
    "duration": 95,
    "start_time": "2022-02-18T14:51:38.591Z"
   },
   {
    "duration": 103,
    "start_time": "2022-02-18T14:51:53.747Z"
   },
   {
    "duration": 1537,
    "start_time": "2022-02-18T14:52:12.954Z"
   },
   {
    "duration": 343,
    "start_time": "2022-02-18T14:52:14.494Z"
   },
   {
    "duration": 104,
    "start_time": "2022-02-18T14:52:14.841Z"
   },
   {
    "duration": 592,
    "start_time": "2022-02-18T14:52:14.948Z"
   },
   {
    "duration": 54,
    "start_time": "2022-02-18T14:52:15.543Z"
   },
   {
    "duration": 35,
    "start_time": "2022-02-18T14:52:15.600Z"
   },
   {
    "duration": 53,
    "start_time": "2022-02-18T14:52:15.637Z"
   },
   {
    "duration": 25,
    "start_time": "2022-02-18T14:52:15.693Z"
   },
   {
    "duration": 46,
    "start_time": "2022-02-18T14:52:15.722Z"
   },
   {
    "duration": 27,
    "start_time": "2022-02-18T14:52:15.771Z"
   },
   {
    "duration": 7,
    "start_time": "2022-02-18T14:52:15.801Z"
   },
   {
    "duration": 51,
    "start_time": "2022-02-18T14:52:15.810Z"
   },
   {
    "duration": 351,
    "start_time": "2022-02-18T14:52:15.864Z"
   },
   {
    "duration": 6,
    "start_time": "2022-02-18T14:52:16.218Z"
   },
   {
    "duration": 6,
    "start_time": "2022-02-18T14:52:16.227Z"
   },
   {
    "duration": 29,
    "start_time": "2022-02-18T14:52:16.235Z"
   },
   {
    "duration": 11,
    "start_time": "2022-02-18T14:52:16.267Z"
   },
   {
    "duration": 35,
    "start_time": "2022-02-18T14:52:16.281Z"
   },
   {
    "duration": 42,
    "start_time": "2022-02-18T14:52:16.319Z"
   },
   {
    "duration": 27,
    "start_time": "2022-02-18T14:52:16.364Z"
   },
   {
    "duration": 6,
    "start_time": "2022-02-18T14:52:16.394Z"
   },
   {
    "duration": 17,
    "start_time": "2022-02-18T14:52:16.402Z"
   },
   {
    "duration": 50,
    "start_time": "2022-02-18T14:52:16.424Z"
   },
   {
    "duration": 28,
    "start_time": "2022-02-18T14:52:16.478Z"
   },
   {
    "duration": 6,
    "start_time": "2022-02-18T14:52:16.509Z"
   },
   {
    "duration": 44,
    "start_time": "2022-02-18T14:52:16.519Z"
   },
   {
    "duration": 6,
    "start_time": "2022-02-18T14:52:16.567Z"
   },
   {
    "duration": 6,
    "start_time": "2022-02-18T14:52:16.576Z"
   },
   {
    "duration": 96,
    "start_time": "2022-02-18T14:52:19.580Z"
   },
   {
    "duration": 95,
    "start_time": "2022-02-18T14:52:39.431Z"
   },
   {
    "duration": 104,
    "start_time": "2022-02-18T14:52:43.379Z"
   },
   {
    "duration": 106,
    "start_time": "2022-02-18T14:52:46.927Z"
   },
   {
    "duration": 462,
    "start_time": "2022-02-18T14:52:55.397Z"
   },
   {
    "duration": 95,
    "start_time": "2022-02-18T14:54:26.810Z"
   },
   {
    "duration": 118,
    "start_time": "2022-02-18T14:54:34.100Z"
   },
   {
    "duration": 14,
    "start_time": "2022-02-18T14:54:56.114Z"
   },
   {
    "duration": 1475,
    "start_time": "2022-02-18T14:55:20.707Z"
   },
   {
    "duration": 338,
    "start_time": "2022-02-18T14:55:22.185Z"
   },
   {
    "duration": 104,
    "start_time": "2022-02-18T14:55:22.527Z"
   },
   {
    "duration": 464,
    "start_time": "2022-02-18T14:55:22.633Z"
   },
   {
    "duration": 41,
    "start_time": "2022-02-18T14:55:23.100Z"
   },
   {
    "duration": 48,
    "start_time": "2022-02-18T14:55:23.144Z"
   },
   {
    "duration": 76,
    "start_time": "2022-02-18T14:55:23.195Z"
   },
   {
    "duration": 26,
    "start_time": "2022-02-18T14:55:23.274Z"
   },
   {
    "duration": 17,
    "start_time": "2022-02-18T14:55:23.305Z"
   },
   {
    "duration": 58,
    "start_time": "2022-02-18T14:55:23.325Z"
   },
   {
    "duration": 7,
    "start_time": "2022-02-18T14:55:23.386Z"
   },
   {
    "duration": 14,
    "start_time": "2022-02-18T14:55:23.396Z"
   },
   {
    "duration": 372,
    "start_time": "2022-02-18T14:55:23.413Z"
   },
   {
    "duration": 6,
    "start_time": "2022-02-18T14:55:23.787Z"
   },
   {
    "duration": 20,
    "start_time": "2022-02-18T14:55:23.795Z"
   },
   {
    "duration": 7,
    "start_time": "2022-02-18T14:55:23.818Z"
   },
   {
    "duration": 17,
    "start_time": "2022-02-18T14:55:23.828Z"
   },
   {
    "duration": 41,
    "start_time": "2022-02-18T14:55:23.848Z"
   },
   {
    "duration": 14,
    "start_time": "2022-02-18T14:55:23.891Z"
   },
   {
    "duration": 61,
    "start_time": "2022-02-18T14:55:23.908Z"
   },
   {
    "duration": 7,
    "start_time": "2022-02-18T14:55:23.973Z"
   },
   {
    "duration": 17,
    "start_time": "2022-02-18T14:55:23.983Z"
   },
   {
    "duration": 17,
    "start_time": "2022-02-18T14:55:24.002Z"
   },
   {
    "duration": 60,
    "start_time": "2022-02-18T14:55:24.021Z"
   },
   {
    "duration": 16,
    "start_time": "2022-02-18T14:55:34.886Z"
   },
   {
    "duration": 473,
    "start_time": "2022-02-18T14:57:13.351Z"
   },
   {
    "duration": 15,
    "start_time": "2022-02-18T14:57:42.689Z"
   },
   {
    "duration": 291,
    "start_time": "2022-02-18T14:57:44.308Z"
   },
   {
    "duration": 19,
    "start_time": "2022-02-18T15:01:22.213Z"
   },
   {
    "duration": 287,
    "start_time": "2022-02-18T15:02:15.127Z"
   },
   {
    "duration": 385,
    "start_time": "2022-02-18T15:02:52.445Z"
   },
   {
    "duration": 14,
    "start_time": "2022-02-18T15:08:04.871Z"
   },
   {
    "duration": 361,
    "start_time": "2022-02-18T15:08:50.075Z"
   },
   {
    "duration": 1671,
    "start_time": "2022-02-18T15:14:23.048Z"
   },
   {
    "duration": 484,
    "start_time": "2022-02-18T15:14:24.723Z"
   },
   {
    "duration": 134,
    "start_time": "2022-02-18T15:14:25.210Z"
   },
   {
    "duration": 490,
    "start_time": "2022-02-18T15:14:25.347Z"
   },
   {
    "duration": 45,
    "start_time": "2022-02-18T15:14:25.839Z"
   },
   {
    "duration": 40,
    "start_time": "2022-02-18T15:14:25.887Z"
   },
   {
    "duration": 61,
    "start_time": "2022-02-18T15:14:25.929Z"
   },
   {
    "duration": 27,
    "start_time": "2022-02-18T15:14:25.996Z"
   },
   {
    "duration": 54,
    "start_time": "2022-02-18T15:14:26.026Z"
   },
   {
    "duration": 35,
    "start_time": "2022-02-18T15:14:26.083Z"
   },
   {
    "duration": 8,
    "start_time": "2022-02-18T15:14:26.122Z"
   },
   {
    "duration": 40,
    "start_time": "2022-02-18T15:14:26.133Z"
   },
   {
    "duration": 405,
    "start_time": "2022-02-18T15:14:26.175Z"
   },
   {
    "duration": 8,
    "start_time": "2022-02-18T15:14:26.583Z"
   },
   {
    "duration": 7,
    "start_time": "2022-02-18T15:14:26.593Z"
   },
   {
    "duration": 8,
    "start_time": "2022-02-18T15:14:26.603Z"
   },
   {
    "duration": 19,
    "start_time": "2022-02-18T15:14:26.614Z"
   },
   {
    "duration": 31,
    "start_time": "2022-02-18T15:14:26.662Z"
   },
   {
    "duration": 13,
    "start_time": "2022-02-18T15:14:26.696Z"
   },
   {
    "duration": 57,
    "start_time": "2022-02-18T15:14:26.711Z"
   },
   {
    "duration": 7,
    "start_time": "2022-02-18T15:14:26.771Z"
   },
   {
    "duration": 18,
    "start_time": "2022-02-18T15:14:26.781Z"
   },
   {
    "duration": 21,
    "start_time": "2022-02-18T15:14:26.804Z"
   },
   {
    "duration": 59,
    "start_time": "2022-02-18T15:14:26.827Z"
   },
   {
    "duration": 16,
    "start_time": "2022-02-18T15:14:26.889Z"
   },
   {
    "duration": 424,
    "start_time": "2022-02-18T15:14:26.907Z"
   },
   {
    "duration": 35,
    "start_time": "2022-02-18T15:14:27.335Z"
   },
   {
    "duration": 361,
    "start_time": "2022-02-18T15:14:27.373Z"
   },
   {
    "duration": 49,
    "start_time": "2022-02-18T15:14:27.737Z"
   },
   {
    "duration": 295,
    "start_time": "2022-02-18T15:14:27.790Z"
   },
   {
    "duration": 880,
    "start_time": "2022-02-18T16:06:51.937Z"
   },
   {
    "duration": 802,
    "start_time": "2022-02-18T16:07:17.537Z"
   },
   {
    "duration": 482,
    "start_time": "2022-02-18T16:08:00.685Z"
   },
   {
    "duration": 656,
    "start_time": "2022-02-18T16:08:11.020Z"
   },
   {
    "duration": 690,
    "start_time": "2022-02-18T16:08:20.139Z"
   },
   {
    "duration": 643,
    "start_time": "2022-02-18T16:09:56.063Z"
   },
   {
    "duration": 413,
    "start_time": "2022-02-18T16:10:13.189Z"
   },
   {
    "duration": 643,
    "start_time": "2022-02-18T16:10:24.363Z"
   },
   {
    "duration": 104,
    "start_time": "2022-02-18T16:10:44.191Z"
   },
   {
    "duration": 552,
    "start_time": "2022-02-18T16:11:02.283Z"
   },
   {
    "duration": 513,
    "start_time": "2022-02-18T16:11:18.881Z"
   },
   {
    "duration": 417,
    "start_time": "2022-02-18T16:11:40.118Z"
   },
   {
    "duration": 401,
    "start_time": "2022-02-18T16:11:48.371Z"
   },
   {
    "duration": 415,
    "start_time": "2022-02-18T16:11:56.094Z"
   },
   {
    "duration": 5,
    "start_time": "2022-02-18T16:13:13.645Z"
   },
   {
    "duration": 7,
    "start_time": "2022-02-18T16:13:33.947Z"
   },
   {
    "duration": 279,
    "start_time": "2022-02-18T16:13:44.401Z"
   },
   {
    "duration": 287,
    "start_time": "2022-02-18T16:13:59.182Z"
   },
   {
    "duration": 8,
    "start_time": "2022-02-18T16:14:32.787Z"
   },
   {
    "duration": 8,
    "start_time": "2022-02-18T16:14:49.090Z"
   },
   {
    "duration": 312,
    "start_time": "2022-02-18T16:20:21.103Z"
   },
   {
    "duration": 320,
    "start_time": "2022-02-18T16:21:44.442Z"
   },
   {
    "duration": 306,
    "start_time": "2022-02-18T16:22:06.036Z"
   },
   {
    "duration": 684,
    "start_time": "2022-02-18T16:23:38.749Z"
   },
   {
    "duration": 414,
    "start_time": "2022-02-18T16:24:03.920Z"
   },
   {
    "duration": 6,
    "start_time": "2022-02-18T16:26:48.247Z"
   },
   {
    "duration": 7,
    "start_time": "2022-02-18T16:26:50.955Z"
   },
   {
    "duration": 470,
    "start_time": "2022-02-18T16:39:08.079Z"
   },
   {
    "duration": 473,
    "start_time": "2022-02-18T16:40:19.451Z"
   },
   {
    "duration": 461,
    "start_time": "2022-02-18T16:40:34.194Z"
   },
   {
    "duration": 314,
    "start_time": "2022-02-18T16:42:16.186Z"
   },
   {
    "duration": 88,
    "start_time": "2022-02-18T16:42:36.762Z"
   },
   {
    "duration": 446,
    "start_time": "2022-02-18T16:42:42.869Z"
   },
   {
    "duration": 298,
    "start_time": "2022-02-18T16:42:46.419Z"
   },
   {
    "duration": 36280,
    "start_time": "2022-02-18T16:43:45.742Z"
   },
   {
    "duration": 22355,
    "start_time": "2022-02-18T16:44:34.508Z"
   },
   {
    "duration": 293,
    "start_time": "2022-02-18T16:45:00.837Z"
   },
   {
    "duration": 286,
    "start_time": "2022-02-18T16:45:14.081Z"
   },
   {
    "duration": 336,
    "start_time": "2022-02-18T16:45:27.482Z"
   },
   {
    "duration": 308,
    "start_time": "2022-02-18T16:45:36.130Z"
   },
   {
    "duration": 10,
    "start_time": "2022-02-18T16:45:54.538Z"
   },
   {
    "duration": 340,
    "start_time": "2022-02-18T16:46:00.830Z"
   },
   {
    "duration": 317,
    "start_time": "2022-02-18T16:46:30.244Z"
   },
   {
    "duration": 478,
    "start_time": "2022-02-18T16:47:36.064Z"
   },
   {
    "duration": 480,
    "start_time": "2022-02-18T16:47:50.442Z"
   },
   {
    "duration": 468,
    "start_time": "2022-02-18T16:48:04.518Z"
   },
   {
    "duration": 479,
    "start_time": "2022-02-18T16:48:17.777Z"
   },
   {
    "duration": 496,
    "start_time": "2022-02-18T16:48:26.274Z"
   },
   {
    "duration": 494,
    "start_time": "2022-02-18T16:48:50.001Z"
   },
   {
    "duration": 7,
    "start_time": "2022-02-18T16:51:14.912Z"
   },
   {
    "duration": 117,
    "start_time": "2022-02-18T17:02:55.525Z"
   },
   {
    "duration": 93,
    "start_time": "2022-02-18T17:03:41.811Z"
   },
   {
    "duration": 104,
    "start_time": "2022-02-18T17:04:20.181Z"
   },
   {
    "duration": 103,
    "start_time": "2022-02-18T17:04:31.596Z"
   },
   {
    "duration": 95,
    "start_time": "2022-02-18T17:06:19.375Z"
   },
   {
    "duration": 100,
    "start_time": "2022-02-18T17:07:16.406Z"
   },
   {
    "duration": 103,
    "start_time": "2022-02-18T17:08:10.236Z"
   },
   {
    "duration": 18,
    "start_time": "2022-02-18T17:09:26.685Z"
   },
   {
    "duration": 550,
    "start_time": "2022-02-18T17:13:46.273Z"
   },
   {
    "duration": 537,
    "start_time": "2022-02-18T17:14:14.180Z"
   },
   {
    "duration": 524,
    "start_time": "2022-02-18T17:14:26.794Z"
   },
   {
    "duration": 11,
    "start_time": "2022-02-18T17:14:49.688Z"
   },
   {
    "duration": 11,
    "start_time": "2022-02-18T17:15:00.267Z"
   },
   {
    "duration": 1917,
    "start_time": "2022-02-18T17:19:53.624Z"
   },
   {
    "duration": 527,
    "start_time": "2022-02-18T17:19:55.545Z"
   },
   {
    "duration": 143,
    "start_time": "2022-02-18T17:19:56.077Z"
   },
   {
    "duration": 709,
    "start_time": "2022-02-18T17:19:56.224Z"
   },
   {
    "duration": 64,
    "start_time": "2022-02-18T17:19:56.937Z"
   },
   {
    "duration": 60,
    "start_time": "2022-02-18T17:19:57.004Z"
   },
   {
    "duration": 39,
    "start_time": "2022-02-18T17:19:57.067Z"
   },
   {
    "duration": 56,
    "start_time": "2022-02-18T17:19:57.110Z"
   },
   {
    "duration": 19,
    "start_time": "2022-02-18T17:19:57.169Z"
   },
   {
    "duration": 27,
    "start_time": "2022-02-18T17:19:57.192Z"
   },
   {
    "duration": 42,
    "start_time": "2022-02-18T17:19:57.222Z"
   },
   {
    "duration": 18,
    "start_time": "2022-02-18T17:19:57.268Z"
   },
   {
    "duration": 383,
    "start_time": "2022-02-18T17:19:57.289Z"
   },
   {
    "duration": 6,
    "start_time": "2022-02-18T17:19:57.675Z"
   },
   {
    "duration": 8,
    "start_time": "2022-02-18T17:19:57.683Z"
   },
   {
    "duration": 7,
    "start_time": "2022-02-18T17:19:57.694Z"
   },
   {
    "duration": 13,
    "start_time": "2022-02-18T17:19:57.704Z"
   },
   {
    "duration": 54,
    "start_time": "2022-02-18T17:19:57.720Z"
   },
   {
    "duration": 26,
    "start_time": "2022-02-18T17:19:57.778Z"
   },
   {
    "duration": 7,
    "start_time": "2022-02-18T17:19:57.808Z"
   },
   {
    "duration": 63,
    "start_time": "2022-02-18T17:19:57.819Z"
   },
   {
    "duration": 19,
    "start_time": "2022-02-18T17:19:57.885Z"
   },
   {
    "duration": 28,
    "start_time": "2022-02-18T17:19:57.909Z"
   },
   {
    "duration": 17,
    "start_time": "2022-02-18T17:19:57.962Z"
   },
   {
    "duration": 479,
    "start_time": "2022-02-18T17:19:57.982Z"
   },
   {
    "duration": 20,
    "start_time": "2022-02-18T17:19:58.465Z"
   },
   {
    "duration": 360,
    "start_time": "2022-02-18T17:19:58.488Z"
   },
   {
    "duration": 20,
    "start_time": "2022-02-18T17:19:58.851Z"
   },
   {
    "duration": 351,
    "start_time": "2022-02-18T17:19:58.874Z"
   },
   {
    "duration": 13,
    "start_time": "2022-02-18T17:19:59.228Z"
   },
   {
    "duration": 13,
    "start_time": "2022-02-18T17:19:59.261Z"
   },
   {
    "duration": 19,
    "start_time": "2022-02-18T17:19:59.276Z"
   },
   {
    "duration": 457,
    "start_time": "2022-02-18T17:19:59.298Z"
   },
   {
    "duration": 416,
    "start_time": "2022-02-18T17:20:34.011Z"
   },
   {
    "duration": 493,
    "start_time": "2022-02-18T17:20:59.865Z"
   },
   {
    "duration": 433,
    "start_time": "2022-02-18T17:21:10.265Z"
   },
   {
    "duration": 434,
    "start_time": "2022-02-18T17:21:18.330Z"
   },
   {
    "duration": 588,
    "start_time": "2022-02-18T18:36:26.577Z"
   },
   {
    "duration": 553,
    "start_time": "2022-02-18T18:39:54.429Z"
   },
   {
    "duration": 576,
    "start_time": "2022-02-18T18:42:27.871Z"
   },
   {
    "duration": 5,
    "start_time": "2022-02-18T18:46:29.403Z"
   },
   {
    "duration": 557,
    "start_time": "2022-02-18T18:46:42.871Z"
   },
   {
    "duration": 439,
    "start_time": "2022-02-18T18:47:01.498Z"
   },
   {
    "duration": 302,
    "start_time": "2022-02-18T18:47:42.996Z"
   },
   {
    "duration": 207,
    "start_time": "2022-02-18T18:48:25.797Z"
   },
   {
    "duration": 232,
    "start_time": "2022-02-18T18:48:35.851Z"
   },
   {
    "duration": 240,
    "start_time": "2022-02-18T18:49:04.602Z"
   },
   {
    "duration": 543,
    "start_time": "2022-02-18T18:50:07.264Z"
   },
   {
    "duration": 333,
    "start_time": "2022-02-18T18:50:14.808Z"
   },
   {
    "duration": 306,
    "start_time": "2022-02-18T18:50:27.881Z"
   },
   {
    "duration": 392,
    "start_time": "2022-02-18T18:50:35.219Z"
   },
   {
    "duration": 328,
    "start_time": "2022-02-18T18:51:21.433Z"
   },
   {
    "duration": 431,
    "start_time": "2022-02-18T18:52:54.885Z"
   },
   {
    "duration": 415,
    "start_time": "2022-02-18T18:53:02.859Z"
   },
   {
    "duration": 463,
    "start_time": "2022-02-18T18:53:10.777Z"
   },
   {
    "duration": 359,
    "start_time": "2022-02-18T18:59:14.266Z"
   },
   {
    "duration": 344,
    "start_time": "2022-02-18T18:59:24.830Z"
   },
   {
    "duration": 342,
    "start_time": "2022-02-18T18:59:36.981Z"
   },
   {
    "duration": 333,
    "start_time": "2022-02-18T18:59:43.571Z"
   },
   {
    "duration": 464,
    "start_time": "2022-02-18T18:59:57.997Z"
   },
   {
    "duration": 740,
    "start_time": "2022-02-18T19:00:22.595Z"
   },
   {
    "duration": 649,
    "start_time": "2022-02-18T19:00:30.837Z"
   },
   {
    "duration": 210,
    "start_time": "2022-02-18T19:01:03.693Z"
   },
   {
    "duration": 634,
    "start_time": "2022-02-18T19:01:08.503Z"
   },
   {
    "duration": 1245,
    "start_time": "2022-02-18T19:01:24.345Z"
   },
   {
    "duration": 663,
    "start_time": "2022-02-18T19:01:40.002Z"
   },
   {
    "duration": 646,
    "start_time": "2022-02-18T19:03:11.799Z"
   },
   {
    "duration": 1140,
    "start_time": "2022-02-18T19:03:22.282Z"
   },
   {
    "duration": 229,
    "start_time": "2022-02-18T19:03:42.180Z"
   },
   {
    "duration": 688,
    "start_time": "2022-02-18T19:05:43.782Z"
   },
   {
    "duration": 953,
    "start_time": "2022-02-18T19:05:51.883Z"
   },
   {
    "duration": 635,
    "start_time": "2022-02-18T19:08:32.609Z"
   },
   {
    "duration": 657,
    "start_time": "2022-02-18T19:08:41.989Z"
   },
   {
    "duration": 700,
    "start_time": "2022-02-18T19:09:08.524Z"
   },
   {
    "duration": 1498,
    "start_time": "2022-02-18T19:09:56.099Z"
   },
   {
    "duration": 337,
    "start_time": "2022-02-18T19:09:57.600Z"
   },
   {
    "duration": 92,
    "start_time": "2022-02-18T19:09:57.940Z"
   },
   {
    "duration": 467,
    "start_time": "2022-02-18T19:09:58.035Z"
   },
   {
    "duration": 39,
    "start_time": "2022-02-18T19:09:58.504Z"
   },
   {
    "duration": 47,
    "start_time": "2022-02-18T19:09:58.545Z"
   },
   {
    "duration": 34,
    "start_time": "2022-02-18T19:09:58.595Z"
   },
   {
    "duration": 47,
    "start_time": "2022-02-18T19:09:58.631Z"
   },
   {
    "duration": 16,
    "start_time": "2022-02-18T19:09:58.682Z"
   },
   {
    "duration": 24,
    "start_time": "2022-02-18T19:09:58.701Z"
   },
   {
    "duration": 39,
    "start_time": "2022-02-18T19:09:58.727Z"
   },
   {
    "duration": 12,
    "start_time": "2022-02-18T19:09:58.769Z"
   },
   {
    "duration": 334,
    "start_time": "2022-02-18T19:09:58.784Z"
   },
   {
    "duration": 6,
    "start_time": "2022-02-18T19:09:59.120Z"
   },
   {
    "duration": 3,
    "start_time": "2022-02-18T19:09:59.129Z"
   },
   {
    "duration": 27,
    "start_time": "2022-02-18T19:09:59.135Z"
   },
   {
    "duration": 9,
    "start_time": "2022-02-18T19:09:59.165Z"
   },
   {
    "duration": 14,
    "start_time": "2022-02-18T19:09:59.177Z"
   },
   {
    "duration": 67,
    "start_time": "2022-02-18T19:09:59.194Z"
   },
   {
    "duration": 8,
    "start_time": "2022-02-18T19:09:59.264Z"
   },
   {
    "duration": 18,
    "start_time": "2022-02-18T19:09:59.274Z"
   },
   {
    "duration": 16,
    "start_time": "2022-02-18T19:09:59.295Z"
   },
   {
    "duration": 62,
    "start_time": "2022-02-18T19:09:59.314Z"
   },
   {
    "duration": 15,
    "start_time": "2022-02-18T19:09:59.379Z"
   },
   {
    "duration": 324,
    "start_time": "2022-02-18T19:09:59.397Z"
   },
   {
    "duration": 15,
    "start_time": "2022-02-18T19:09:59.724Z"
   },
   {
    "duration": 311,
    "start_time": "2022-02-18T19:09:59.762Z"
   },
   {
    "duration": 14,
    "start_time": "2022-02-18T19:10:00.076Z"
   },
   {
    "duration": 345,
    "start_time": "2022-02-18T19:10:00.092Z"
   },
   {
    "duration": 25,
    "start_time": "2022-02-18T19:10:00.440Z"
   },
   {
    "duration": 12,
    "start_time": "2022-02-18T19:10:00.467Z"
   },
   {
    "duration": 19,
    "start_time": "2022-02-18T19:10:00.483Z"
   },
   {
    "duration": 444,
    "start_time": "2022-02-18T19:10:00.505Z"
   },
   {
    "duration": 773,
    "start_time": "2022-02-18T19:10:00.952Z"
   },
   {
    "duration": 657,
    "start_time": "2022-02-18T19:10:01.728Z"
   },
   {
    "duration": 686,
    "start_time": "2022-02-18T19:10:02.388Z"
   },
   {
    "duration": 803,
    "start_time": "2022-02-18T19:17:14.049Z"
   },
   {
    "duration": 661,
    "start_time": "2022-02-18T20:47:28.110Z"
   },
   {
    "duration": 781,
    "start_time": "2022-02-18T20:47:48.991Z"
   },
   {
    "duration": 796,
    "start_time": "2022-02-18T20:48:58.274Z"
   },
   {
    "duration": 703,
    "start_time": "2022-02-18T20:51:49.070Z"
   },
   {
    "duration": 96,
    "start_time": "2022-02-18T21:00:42.094Z"
   },
   {
    "duration": 524,
    "start_time": "2022-02-18T21:01:12.387Z"
   },
   {
    "duration": 1591,
    "start_time": "2022-02-18T21:04:56.737Z"
   },
   {
    "duration": 342,
    "start_time": "2022-02-18T21:04:58.331Z"
   },
   {
    "duration": 92,
    "start_time": "2022-02-18T21:04:58.676Z"
   },
   {
    "duration": 470,
    "start_time": "2022-02-18T21:04:58.771Z"
   },
   {
    "duration": 47,
    "start_time": "2022-02-18T21:04:59.243Z"
   },
   {
    "duration": 33,
    "start_time": "2022-02-18T21:04:59.293Z"
   },
   {
    "duration": 57,
    "start_time": "2022-02-18T21:04:59.328Z"
   },
   {
    "duration": 24,
    "start_time": "2022-02-18T21:04:59.389Z"
   },
   {
    "duration": 45,
    "start_time": "2022-02-18T21:04:59.415Z"
   },
   {
    "duration": 25,
    "start_time": "2022-02-18T21:04:59.463Z"
   },
   {
    "duration": 7,
    "start_time": "2022-02-18T21:04:59.490Z"
   },
   {
    "duration": 20,
    "start_time": "2022-02-18T21:04:59.500Z"
   },
   {
    "duration": 359,
    "start_time": "2022-02-18T21:04:59.522Z"
   },
   {
    "duration": 6,
    "start_time": "2022-02-18T21:04:59.883Z"
   },
   {
    "duration": 4,
    "start_time": "2022-02-18T21:04:59.892Z"
   },
   {
    "duration": 6,
    "start_time": "2022-02-18T21:04:59.898Z"
   },
   {
    "duration": 6,
    "start_time": "2022-02-18T21:04:59.907Z"
   },
   {
    "duration": 50,
    "start_time": "2022-02-18T21:04:59.916Z"
   },
   {
    "duration": 23,
    "start_time": "2022-02-18T21:04:59.970Z"
   },
   {
    "duration": 8,
    "start_time": "2022-02-18T21:04:59.996Z"
   },
   {
    "duration": 56,
    "start_time": "2022-02-18T21:05:00.006Z"
   },
   {
    "duration": 18,
    "start_time": "2022-02-18T21:05:00.065Z"
   },
   {
    "duration": 30,
    "start_time": "2022-02-18T21:05:00.088Z"
   },
   {
    "duration": 47,
    "start_time": "2022-02-18T21:05:00.121Z"
   },
   {
    "duration": 329,
    "start_time": "2022-02-18T21:05:00.171Z"
   },
   {
    "duration": 16,
    "start_time": "2022-02-18T21:05:00.504Z"
   },
   {
    "duration": 345,
    "start_time": "2022-02-18T21:05:00.523Z"
   },
   {
    "duration": 13,
    "start_time": "2022-02-18T21:05:00.870Z"
   },
   {
    "duration": 322,
    "start_time": "2022-02-18T21:05:00.886Z"
   },
   {
    "duration": 12,
    "start_time": "2022-02-18T21:05:01.210Z"
   },
   {
    "duration": 23,
    "start_time": "2022-02-18T21:05:01.224Z"
   },
   {
    "duration": 16,
    "start_time": "2022-02-18T21:05:01.262Z"
   },
   {
    "duration": 445,
    "start_time": "2022-02-18T21:05:01.281Z"
   },
   {
    "duration": 797,
    "start_time": "2022-02-18T21:05:01.728Z"
   },
   {
    "duration": 676,
    "start_time": "2022-02-18T21:05:02.528Z"
   },
   {
    "duration": 704,
    "start_time": "2022-02-18T21:05:03.206Z"
   },
   {
    "duration": 707,
    "start_time": "2022-02-18T21:05:03.913Z"
   },
   {
    "duration": 661,
    "start_time": "2022-02-18T21:05:04.623Z"
   },
   {
    "duration": 689,
    "start_time": "2022-02-18T21:05:05.286Z"
   },
   {
    "duration": 795,
    "start_time": "2022-02-18T21:05:05.978Z"
   },
   {
    "duration": 14,
    "start_time": "2022-02-18T21:10:08.594Z"
   },
   {
    "duration": 65,
    "start_time": "2022-02-18T21:11:23.779Z"
   },
   {
    "duration": 21,
    "start_time": "2022-02-18T21:11:49.132Z"
   },
   {
    "duration": 693,
    "start_time": "2022-02-18T21:12:30.958Z"
   },
   {
    "duration": 13,
    "start_time": "2022-02-18T21:14:01.132Z"
   },
   {
    "duration": 1614,
    "start_time": "2022-02-18T21:19:13.416Z"
   },
   {
    "duration": 354,
    "start_time": "2022-02-18T21:19:15.033Z"
   },
   {
    "duration": 106,
    "start_time": "2022-02-18T21:19:15.391Z"
   },
   {
    "duration": 484,
    "start_time": "2022-02-18T21:19:15.500Z"
   },
   {
    "duration": 45,
    "start_time": "2022-02-18T21:19:15.986Z"
   },
   {
    "duration": 57,
    "start_time": "2022-02-18T21:19:16.033Z"
   },
   {
    "duration": 33,
    "start_time": "2022-02-18T21:19:16.092Z"
   },
   {
    "duration": 54,
    "start_time": "2022-02-18T21:19:16.129Z"
   },
   {
    "duration": 17,
    "start_time": "2022-02-18T21:19:16.186Z"
   },
   {
    "duration": 27,
    "start_time": "2022-02-18T21:19:16.205Z"
   },
   {
    "duration": 8,
    "start_time": "2022-02-18T21:19:16.262Z"
   },
   {
    "duration": 16,
    "start_time": "2022-02-18T21:19:16.272Z"
   },
   {
    "duration": 604,
    "start_time": "2022-02-18T21:19:16.291Z"
   },
   {
    "duration": 6,
    "start_time": "2022-02-18T21:19:16.898Z"
   },
   {
    "duration": 4,
    "start_time": "2022-02-18T21:19:16.907Z"
   },
   {
    "duration": 10,
    "start_time": "2022-02-18T21:19:16.915Z"
   },
   {
    "duration": 36,
    "start_time": "2022-02-18T21:19:16.928Z"
   },
   {
    "duration": 18,
    "start_time": "2022-02-18T21:19:16.967Z"
   },
   {
    "duration": 26,
    "start_time": "2022-02-18T21:19:16.987Z"
   },
   {
    "duration": 8,
    "start_time": "2022-02-18T21:19:17.015Z"
   },
   {
    "duration": 50,
    "start_time": "2022-02-18T21:19:17.026Z"
   },
   {
    "duration": 24,
    "start_time": "2022-02-18T21:19:17.079Z"
   },
   {
    "duration": 72,
    "start_time": "2022-02-18T21:19:17.111Z"
   },
   {
    "duration": 15,
    "start_time": "2022-02-18T21:19:17.187Z"
   },
   {
    "duration": 359,
    "start_time": "2022-02-18T21:19:17.205Z"
   },
   {
    "duration": 20,
    "start_time": "2022-02-18T21:19:17.567Z"
   },
   {
    "duration": 347,
    "start_time": "2022-02-18T21:19:17.590Z"
   },
   {
    "duration": 27,
    "start_time": "2022-02-18T21:19:17.940Z"
   },
   {
    "duration": 329,
    "start_time": "2022-02-18T21:19:17.970Z"
   },
   {
    "duration": 12,
    "start_time": "2022-02-18T21:19:18.301Z"
   },
   {
    "duration": 10,
    "start_time": "2022-02-18T21:19:18.315Z"
   },
   {
    "duration": 52,
    "start_time": "2022-02-18T21:19:18.328Z"
   },
   {
    "duration": 451,
    "start_time": "2022-02-18T21:19:18.383Z"
   },
   {
    "duration": 841,
    "start_time": "2022-02-18T21:19:18.837Z"
   },
   {
    "duration": 701,
    "start_time": "2022-02-18T21:19:19.680Z"
   },
   {
    "duration": 731,
    "start_time": "2022-02-18T21:19:20.384Z"
   },
   {
    "duration": 1163,
    "start_time": "2022-02-18T21:19:21.119Z"
   },
   {
    "duration": 1022,
    "start_time": "2022-02-18T21:19:22.285Z"
   },
   {
    "duration": 1177,
    "start_time": "2022-02-18T21:19:23.310Z"
   },
   {
    "duration": 812,
    "start_time": "2022-02-18T21:19:24.490Z"
   },
   {
    "duration": 22,
    "start_time": "2022-02-18T21:19:25.305Z"
   },
   {
    "duration": 31,
    "start_time": "2022-02-18T21:19:25.330Z"
   },
   {
    "duration": 7,
    "start_time": "2022-02-18T21:48:20.289Z"
   },
   {
    "duration": 5,
    "start_time": "2022-02-18T21:48:59.123Z"
   },
   {
    "duration": 6,
    "start_time": "2022-02-18T21:49:57.181Z"
   },
   {
    "duration": 6,
    "start_time": "2022-02-18T21:50:48.360Z"
   },
   {
    "duration": 7,
    "start_time": "2022-02-18T22:04:05.965Z"
   },
   {
    "duration": 7,
    "start_time": "2022-02-18T22:13:50.468Z"
   },
   {
    "duration": 1566,
    "start_time": "2022-02-18T22:23:21.166Z"
   },
   {
    "duration": 359,
    "start_time": "2022-02-18T22:23:22.735Z"
   },
   {
    "duration": 101,
    "start_time": "2022-02-18T22:23:23.098Z"
   },
   {
    "duration": 452,
    "start_time": "2022-02-18T22:23:23.202Z"
   },
   {
    "duration": 42,
    "start_time": "2022-02-18T22:23:23.657Z"
   },
   {
    "duration": 59,
    "start_time": "2022-02-18T22:23:23.702Z"
   },
   {
    "duration": 35,
    "start_time": "2022-02-18T22:23:23.764Z"
   },
   {
    "duration": 27,
    "start_time": "2022-02-18T22:23:23.804Z"
   },
   {
    "duration": 18,
    "start_time": "2022-02-18T22:23:23.863Z"
   },
   {
    "duration": 25,
    "start_time": "2022-02-18T22:23:23.883Z"
   },
   {
    "duration": 7,
    "start_time": "2022-02-18T22:23:23.911Z"
   },
   {
    "duration": 49,
    "start_time": "2022-02-18T22:23:23.921Z"
   },
   {
    "duration": 352,
    "start_time": "2022-02-18T22:23:23.974Z"
   },
   {
    "duration": 5,
    "start_time": "2022-02-18T22:23:24.329Z"
   },
   {
    "duration": 24,
    "start_time": "2022-02-18T22:23:24.337Z"
   },
   {
    "duration": 5,
    "start_time": "2022-02-18T22:23:24.363Z"
   },
   {
    "duration": 9,
    "start_time": "2022-02-18T22:23:24.371Z"
   },
   {
    "duration": 20,
    "start_time": "2022-02-18T22:23:24.382Z"
   },
   {
    "duration": 23,
    "start_time": "2022-02-18T22:23:24.404Z"
   },
   {
    "duration": 6,
    "start_time": "2022-02-18T22:23:24.462Z"
   },
   {
    "duration": 22,
    "start_time": "2022-02-18T22:23:24.471Z"
   },
   {
    "duration": 17,
    "start_time": "2022-02-18T22:23:24.495Z"
   },
   {
    "duration": 60,
    "start_time": "2022-02-18T22:23:24.519Z"
   },
   {
    "duration": 16,
    "start_time": "2022-02-18T22:23:24.583Z"
   },
   {
    "duration": 336,
    "start_time": "2022-02-18T22:23:24.602Z"
   },
   {
    "duration": 26,
    "start_time": "2022-02-18T22:23:24.940Z"
   },
   {
    "duration": 365,
    "start_time": "2022-02-18T22:23:24.969Z"
   },
   {
    "duration": 31,
    "start_time": "2022-02-18T22:23:25.338Z"
   },
   {
    "duration": 324,
    "start_time": "2022-02-18T22:23:25.372Z"
   },
   {
    "duration": 12,
    "start_time": "2022-02-18T22:23:25.699Z"
   },
   {
    "duration": 10,
    "start_time": "2022-02-18T22:23:25.714Z"
   },
   {
    "duration": 42,
    "start_time": "2022-02-18T22:23:25.726Z"
   },
   {
    "duration": 419,
    "start_time": "2022-02-18T22:23:25.771Z"
   },
   {
    "duration": 746,
    "start_time": "2022-02-18T22:23:26.193Z"
   },
   {
    "duration": 664,
    "start_time": "2022-02-18T22:23:26.942Z"
   },
   {
    "duration": 689,
    "start_time": "2022-02-18T22:23:27.609Z"
   },
   {
    "duration": 676,
    "start_time": "2022-02-18T22:23:28.300Z"
   },
   {
    "duration": 674,
    "start_time": "2022-02-18T22:23:28.978Z"
   },
   {
    "duration": 682,
    "start_time": "2022-02-18T22:23:29.662Z"
   },
   {
    "duration": 890,
    "start_time": "2022-02-18T22:23:30.346Z"
   },
   {
    "duration": 34,
    "start_time": "2022-02-18T22:23:31.239Z"
   },
   {
    "duration": 10,
    "start_time": "2022-02-18T22:23:31.275Z"
   },
   {
    "duration": 15,
    "start_time": "2022-02-18T22:23:31.288Z"
   },
   {
    "duration": 6,
    "start_time": "2022-02-18T22:23:36.370Z"
   },
   {
    "duration": 12,
    "start_time": "2022-02-18T22:23:41.717Z"
   },
   {
    "duration": 5,
    "start_time": "2022-02-18T22:23:44.306Z"
   },
   {
    "duration": 11,
    "start_time": "2022-02-18T22:29:13.557Z"
   },
   {
    "duration": 9,
    "start_time": "2022-02-18T22:41:49.868Z"
   },
   {
    "duration": 4,
    "start_time": "2022-02-18T22:43:31.369Z"
   },
   {
    "duration": 10,
    "start_time": "2022-02-18T22:49:04.048Z"
   },
   {
    "duration": 7,
    "start_time": "2022-02-18T22:49:09.591Z"
   },
   {
    "duration": 10,
    "start_time": "2022-02-18T22:52:39.177Z"
   },
   {
    "duration": 6,
    "start_time": "2022-02-18T22:52:44.233Z"
   },
   {
    "duration": 7,
    "start_time": "2022-02-18T22:54:19.228Z"
   },
   {
    "duration": 6,
    "start_time": "2022-02-18T22:54:22.016Z"
   },
   {
    "duration": 36,
    "start_time": "2022-02-18T22:56:22.215Z"
   },
   {
    "duration": 1685,
    "start_time": "2022-02-18T22:56:44.763Z"
   },
   {
    "duration": 360,
    "start_time": "2022-02-18T22:56:46.451Z"
   },
   {
    "duration": 106,
    "start_time": "2022-02-18T22:56:46.815Z"
   },
   {
    "duration": 483,
    "start_time": "2022-02-18T22:56:46.924Z"
   },
   {
    "duration": 55,
    "start_time": "2022-02-18T22:56:47.410Z"
   },
   {
    "duration": 38,
    "start_time": "2022-02-18T22:56:47.468Z"
   },
   {
    "duration": 69,
    "start_time": "2022-02-18T22:56:47.509Z"
   },
   {
    "duration": 24,
    "start_time": "2022-02-18T22:56:47.581Z"
   },
   {
    "duration": 18,
    "start_time": "2022-02-18T22:56:47.609Z"
   },
   {
    "duration": 55,
    "start_time": "2022-02-18T22:56:47.630Z"
   },
   {
    "duration": 7,
    "start_time": "2022-02-18T22:56:47.688Z"
   },
   {
    "duration": 16,
    "start_time": "2022-02-18T22:56:47.697Z"
   },
   {
    "duration": 387,
    "start_time": "2022-02-18T22:56:47.715Z"
   },
   {
    "duration": 5,
    "start_time": "2022-02-18T22:56:48.105Z"
   },
   {
    "duration": 18,
    "start_time": "2022-02-18T22:56:48.113Z"
   },
   {
    "duration": 27,
    "start_time": "2022-02-18T22:56:48.134Z"
   },
   {
    "duration": 7,
    "start_time": "2022-02-18T22:56:48.164Z"
   },
   {
    "duration": 15,
    "start_time": "2022-02-18T22:56:48.173Z"
   },
   {
    "duration": 23,
    "start_time": "2022-02-18T22:56:48.191Z"
   },
   {
    "duration": 6,
    "start_time": "2022-02-18T22:56:48.216Z"
   },
   {
    "duration": 57,
    "start_time": "2022-02-18T22:56:48.225Z"
   },
   {
    "duration": 18,
    "start_time": "2022-02-18T22:56:48.285Z"
   },
   {
    "duration": 29,
    "start_time": "2022-02-18T22:56:48.305Z"
   },
   {
    "duration": 14,
    "start_time": "2022-02-18T22:56:48.362Z"
   },
   {
    "duration": 318,
    "start_time": "2022-02-18T22:56:48.379Z"
   },
   {
    "duration": 14,
    "start_time": "2022-02-18T22:56:48.700Z"
   },
   {
    "duration": 363,
    "start_time": "2022-02-18T22:56:48.719Z"
   },
   {
    "duration": 19,
    "start_time": "2022-02-18T22:56:49.085Z"
   },
   {
    "duration": 463,
    "start_time": "2022-02-18T22:56:49.107Z"
   },
   {
    "duration": 13,
    "start_time": "2022-02-18T22:56:49.573Z"
   },
   {
    "duration": 12,
    "start_time": "2022-02-18T22:56:49.589Z"
   },
   {
    "duration": 17,
    "start_time": "2022-02-18T22:56:49.603Z"
   },
   {
    "duration": 456,
    "start_time": "2022-02-18T22:56:49.622Z"
   },
   {
    "duration": 745,
    "start_time": "2022-02-18T22:56:50.081Z"
   },
   {
    "duration": 648,
    "start_time": "2022-02-18T22:56:50.830Z"
   },
   {
    "duration": 704,
    "start_time": "2022-02-18T22:56:51.481Z"
   },
   {
    "duration": 698,
    "start_time": "2022-02-18T22:56:52.188Z"
   },
   {
    "duration": 682,
    "start_time": "2022-02-18T22:56:52.889Z"
   },
   {
    "duration": 699,
    "start_time": "2022-02-18T22:56:53.574Z"
   },
   {
    "duration": 803,
    "start_time": "2022-02-18T22:56:54.275Z"
   },
   {
    "duration": 29,
    "start_time": "2022-02-18T22:56:55.081Z"
   },
   {
    "duration": 13,
    "start_time": "2022-02-18T22:56:55.113Z"
   },
   {
    "duration": 8,
    "start_time": "2022-02-18T22:56:55.129Z"
   },
   {
    "duration": 8,
    "start_time": "2022-02-18T22:56:55.163Z"
   },
   {
    "duration": 14,
    "start_time": "2022-02-18T22:56:55.173Z"
   },
   {
    "duration": 10,
    "start_time": "2022-02-18T22:56:55.190Z"
   },
   {
    "duration": 6,
    "start_time": "2022-02-18T22:56:55.203Z"
   },
   {
    "duration": 52,
    "start_time": "2022-02-18T22:56:55.212Z"
   },
   {
    "duration": 9,
    "start_time": "2022-02-18T22:56:55.266Z"
   },
   {
    "duration": 42,
    "start_time": "2022-02-18T22:56:55.278Z"
   },
   {
    "duration": 44,
    "start_time": "2022-02-18T22:57:11.816Z"
   },
   {
    "duration": 43,
    "start_time": "2022-02-18T22:57:29.910Z"
   },
   {
    "duration": 2704,
    "start_time": "2022-02-18T23:04:59.166Z"
   },
   {
    "duration": 7,
    "start_time": "2022-02-18T23:23:40.089Z"
   },
   {
    "duration": 1424,
    "start_time": "2022-02-18T23:23:44.446Z"
   },
   {
    "duration": 6,
    "start_time": "2022-02-18T23:24:05.313Z"
   },
   {
    "duration": 1380,
    "start_time": "2022-02-18T23:24:11.088Z"
   },
   {
    "duration": 1602,
    "start_time": "2022-02-18T23:40:39.022Z"
   },
   {
    "duration": 344,
    "start_time": "2022-02-18T23:40:40.627Z"
   },
   {
    "duration": 106,
    "start_time": "2022-02-18T23:40:40.974Z"
   },
   {
    "duration": 478,
    "start_time": "2022-02-18T23:40:41.083Z"
   },
   {
    "duration": 42,
    "start_time": "2022-02-18T23:40:41.563Z"
   },
   {
    "duration": 54,
    "start_time": "2022-02-18T23:40:41.607Z"
   },
   {
    "duration": 36,
    "start_time": "2022-02-18T23:40:41.664Z"
   },
   {
    "duration": 26,
    "start_time": "2022-02-18T23:40:41.703Z"
   },
   {
    "duration": 17,
    "start_time": "2022-02-18T23:40:41.761Z"
   },
   {
    "duration": 26,
    "start_time": "2022-02-18T23:40:41.781Z"
   },
   {
    "duration": 7,
    "start_time": "2022-02-18T23:40:41.809Z"
   },
   {
    "duration": 51,
    "start_time": "2022-02-18T23:40:41.819Z"
   },
   {
    "duration": 338,
    "start_time": "2022-02-18T23:40:41.873Z"
   },
   {
    "duration": 6,
    "start_time": "2022-02-18T23:40:42.214Z"
   },
   {
    "duration": 12,
    "start_time": "2022-02-18T23:40:42.223Z"
   },
   {
    "duration": 24,
    "start_time": "2022-02-18T23:40:42.237Z"
   },
   {
    "duration": 9,
    "start_time": "2022-02-18T23:40:42.264Z"
   },
   {
    "duration": 22,
    "start_time": "2022-02-18T23:40:42.276Z"
   },
   {
    "duration": 25,
    "start_time": "2022-02-18T23:40:42.300Z"
   },
   {
    "duration": 6,
    "start_time": "2022-02-18T23:40:42.327Z"
   },
   {
    "duration": 42,
    "start_time": "2022-02-18T23:40:42.335Z"
   },
   {
    "duration": 20,
    "start_time": "2022-02-18T23:40:42.380Z"
   },
   {
    "duration": 63,
    "start_time": "2022-02-18T23:40:42.402Z"
   },
   {
    "duration": 16,
    "start_time": "2022-02-18T23:40:42.467Z"
   },
   {
    "duration": 325,
    "start_time": "2022-02-18T23:40:42.486Z"
   },
   {
    "duration": 14,
    "start_time": "2022-02-18T23:40:42.814Z"
   },
   {
    "duration": 342,
    "start_time": "2022-02-18T23:40:42.834Z"
   },
   {
    "duration": 15,
    "start_time": "2022-02-18T23:40:43.180Z"
   },
   {
    "duration": 331,
    "start_time": "2022-02-18T23:40:43.198Z"
   },
   {
    "duration": 27,
    "start_time": "2022-02-18T23:40:43.533Z"
   },
   {
    "duration": 10,
    "start_time": "2022-02-18T23:40:43.563Z"
   },
   {
    "duration": 19,
    "start_time": "2022-02-18T23:40:43.576Z"
   },
   {
    "duration": 421,
    "start_time": "2022-02-18T23:40:43.597Z"
   },
   {
    "duration": 745,
    "start_time": "2022-02-18T23:40:44.020Z"
   },
   {
    "duration": 659,
    "start_time": "2022-02-18T23:40:44.768Z"
   },
   {
    "duration": 664,
    "start_time": "2022-02-18T23:40:45.429Z"
   },
   {
    "duration": 710,
    "start_time": "2022-02-18T23:40:46.095Z"
   },
   {
    "duration": 640,
    "start_time": "2022-02-18T23:40:46.807Z"
   },
   {
    "duration": 723,
    "start_time": "2022-02-18T23:40:47.450Z"
   },
   {
    "duration": 802,
    "start_time": "2022-02-18T23:40:48.177Z"
   },
   {
    "duration": 23,
    "start_time": "2022-02-18T23:40:48.982Z"
   },
   {
    "duration": 10,
    "start_time": "2022-02-18T23:40:49.008Z"
   },
   {
    "duration": 6,
    "start_time": "2022-02-18T23:40:49.021Z"
   },
   {
    "duration": 38,
    "start_time": "2022-02-18T23:40:49.030Z"
   },
   {
    "duration": 10,
    "start_time": "2022-02-18T23:40:49.071Z"
   },
   {
    "duration": 8,
    "start_time": "2022-02-18T23:40:49.084Z"
   },
   {
    "duration": 10,
    "start_time": "2022-02-18T23:40:49.094Z"
   },
   {
    "duration": 68,
    "start_time": "2022-02-18T23:40:49.107Z"
   },
   {
    "duration": 459,
    "start_time": "2022-02-18T23:40:49.177Z"
   },
   {
    "duration": 1575,
    "start_time": "2022-02-18T23:40:59.087Z"
   },
   {
    "duration": 1697,
    "start_time": "2022-02-18T23:41:11.867Z"
   },
   {
    "duration": 311,
    "start_time": "2022-02-18T23:50:29.141Z"
   },
   {
    "duration": 1556840,
    "start_time": "2022-02-18T23:50:49.044Z"
   },
   {
    "duration": 28012,
    "start_time": "2022-02-19T00:28:53.990Z"
   },
   {
    "duration": 31948,
    "start_time": "2022-02-19T00:30:57.821Z"
   },
   {
    "duration": 36118,
    "start_time": "2022-02-19T00:33:17.532Z"
   },
   {
    "duration": 438,
    "start_time": "2022-02-19T00:39:21.971Z"
   },
   {
    "duration": 441,
    "start_time": "2022-02-19T00:39:49.936Z"
   },
   {
    "duration": 435,
    "start_time": "2022-02-19T00:39:56.554Z"
   },
   {
    "duration": 464,
    "start_time": "2022-02-19T00:40:05.106Z"
   },
   {
    "duration": 432,
    "start_time": "2022-02-19T00:40:10.845Z"
   },
   {
    "duration": 466636,
    "start_time": "2022-02-19T00:44:59.162Z"
   },
   {
    "duration": 485920,
    "start_time": "2022-02-19T00:56:39.121Z"
   },
   {
    "duration": 27514,
    "start_time": "2022-02-19T01:07:26.282Z"
   },
   {
    "duration": 20,
    "start_time": "2022-02-19T01:42:21.711Z"
   },
   {
    "duration": 41,
    "start_time": "2022-02-19T01:42:28.678Z"
   },
   {
    "duration": 18,
    "start_time": "2022-02-19T01:42:47.815Z"
   },
   {
    "duration": 6,
    "start_time": "2022-02-19T01:50:09.269Z"
   },
   {
    "duration": 5,
    "start_time": "2022-02-19T01:50:21.732Z"
   },
   {
    "duration": 6,
    "start_time": "2022-02-19T01:52:19.532Z"
   },
   {
    "duration": 5,
    "start_time": "2022-02-19T01:52:23.644Z"
   },
   {
    "duration": 305,
    "start_time": "2022-02-19T01:58:42.053Z"
   },
   {
    "duration": 6,
    "start_time": "2022-02-19T01:58:47.727Z"
   },
   {
    "duration": 38,
    "start_time": "2022-02-19T01:58:50.277Z"
   },
   {
    "duration": 9303,
    "start_time": "2022-02-19T02:01:35.105Z"
   },
   {
    "duration": 881,
    "start_time": "2022-02-19T02:06:51.882Z"
   }
  ],
  "kernelspec": {
   "display_name": "Python 3 (ipykernel)",
   "language": "python",
   "name": "python3"
  },
  "language_info": {
   "codemirror_mode": {
    "name": "ipython",
    "version": 3
   },
   "file_extension": ".py",
   "mimetype": "text/x-python",
   "name": "python",
   "nbconvert_exporter": "python",
   "pygments_lexer": "ipython3",
   "version": "3.7.8"
  },
  "toc": {
   "base_numbering": 1,
   "nav_menu": {},
   "number_sections": true,
   "sideBar": true,
   "skip_h1_title": true,
   "title_cell": "Содержание",
   "title_sidebar": "Contents",
   "toc_cell": true,
   "toc_position": {
    "height": "calc(100% - 180px)",
    "left": "10px",
    "top": "150px",
    "width": "347.388px"
   },
   "toc_section_display": true,
   "toc_window_display": true
  }
 },
 "nbformat": 4,
 "nbformat_minor": 2
}
