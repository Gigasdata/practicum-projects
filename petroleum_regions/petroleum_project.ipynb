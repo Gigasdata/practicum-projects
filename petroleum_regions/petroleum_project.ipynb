{
 "cells": [
  {
   "cell_type": "markdown",
   "metadata": {},
   "source": [
    "## Загрузка и подготовка данных"
   ]
  },
  {
   "cell_type": "code",
   "execution_count": 1,
   "metadata": {},
   "outputs": [],
   "source": [
    "import pandas as pd \n",
    "import numpy as np \n",
    "import matplotlib.pyplot as plt \n",
    "from sklearn.linear_model import LinearRegression\n",
    "from sklearn.model_selection import train_test_split\n",
    "from sklearn.preprocessing import StandardScaler\n",
    "from sklearn.metrics import mean_squared_error"
   ]
  },
  {
   "cell_type": "code",
   "execution_count": 2,
   "metadata": {},
   "outputs": [],
   "source": [
    "df_0 = pd.read_csv('/datasets/geo_data_0.csv')"
   ]
  },
  {
   "cell_type": "code",
   "execution_count": 3,
   "metadata": {},
   "outputs": [],
   "source": [
    "df_1 = pd.read_csv('/datasets/geo_data_1.csv')"
   ]
  },
  {
   "cell_type": "code",
   "execution_count": 4,
   "metadata": {},
   "outputs": [],
   "source": [
    "df_2 = pd.read_csv('/datasets/geo_data_2.csv')"
   ]
  },
  {
   "cell_type": "markdown",
   "metadata": {},
   "source": [
    "Выведем на экран первые десять строк каждой таблицы:"
   ]
  },
  {
   "cell_type": "code",
   "execution_count": 5,
   "metadata": {},
   "outputs": [
    {
     "data": {
      "text/html": [
       "<div>\n",
       "<style scoped>\n",
       "    .dataframe tbody tr th:only-of-type {\n",
       "        vertical-align: middle;\n",
       "    }\n",
       "\n",
       "    .dataframe tbody tr th {\n",
       "        vertical-align: top;\n",
       "    }\n",
       "\n",
       "    .dataframe thead th {\n",
       "        text-align: right;\n",
       "    }\n",
       "</style>\n",
       "<table border=\"1\" class=\"dataframe\">\n",
       "  <thead>\n",
       "    <tr style=\"text-align: right;\">\n",
       "      <th></th>\n",
       "      <th>id</th>\n",
       "      <th>f0</th>\n",
       "      <th>f1</th>\n",
       "      <th>f2</th>\n",
       "      <th>product</th>\n",
       "    </tr>\n",
       "  </thead>\n",
       "  <tbody>\n",
       "    <tr>\n",
       "      <td>0</td>\n",
       "      <td>txEyH</td>\n",
       "      <td>0.705745</td>\n",
       "      <td>-0.497823</td>\n",
       "      <td>1.221170</td>\n",
       "      <td>105.280062</td>\n",
       "    </tr>\n",
       "    <tr>\n",
       "      <td>1</td>\n",
       "      <td>2acmU</td>\n",
       "      <td>1.334711</td>\n",
       "      <td>-0.340164</td>\n",
       "      <td>4.365080</td>\n",
       "      <td>73.037750</td>\n",
       "    </tr>\n",
       "    <tr>\n",
       "      <td>2</td>\n",
       "      <td>409Wp</td>\n",
       "      <td>1.022732</td>\n",
       "      <td>0.151990</td>\n",
       "      <td>1.419926</td>\n",
       "      <td>85.265647</td>\n",
       "    </tr>\n",
       "    <tr>\n",
       "      <td>3</td>\n",
       "      <td>iJLyR</td>\n",
       "      <td>-0.032172</td>\n",
       "      <td>0.139033</td>\n",
       "      <td>2.978566</td>\n",
       "      <td>168.620776</td>\n",
       "    </tr>\n",
       "    <tr>\n",
       "      <td>4</td>\n",
       "      <td>Xdl7t</td>\n",
       "      <td>1.988431</td>\n",
       "      <td>0.155413</td>\n",
       "      <td>4.751769</td>\n",
       "      <td>154.036647</td>\n",
       "    </tr>\n",
       "    <tr>\n",
       "      <td>5</td>\n",
       "      <td>wX4Hy</td>\n",
       "      <td>0.969570</td>\n",
       "      <td>0.489775</td>\n",
       "      <td>-0.735383</td>\n",
       "      <td>64.741541</td>\n",
       "    </tr>\n",
       "    <tr>\n",
       "      <td>6</td>\n",
       "      <td>tL6pL</td>\n",
       "      <td>0.645075</td>\n",
       "      <td>0.530656</td>\n",
       "      <td>1.780266</td>\n",
       "      <td>49.055285</td>\n",
       "    </tr>\n",
       "    <tr>\n",
       "      <td>7</td>\n",
       "      <td>BYPU6</td>\n",
       "      <td>-0.400648</td>\n",
       "      <td>0.808337</td>\n",
       "      <td>-5.624670</td>\n",
       "      <td>72.943292</td>\n",
       "    </tr>\n",
       "    <tr>\n",
       "      <td>8</td>\n",
       "      <td>j9Oui</td>\n",
       "      <td>0.643105</td>\n",
       "      <td>-0.551583</td>\n",
       "      <td>2.372141</td>\n",
       "      <td>113.356160</td>\n",
       "    </tr>\n",
       "    <tr>\n",
       "      <td>9</td>\n",
       "      <td>OLuZU</td>\n",
       "      <td>2.173381</td>\n",
       "      <td>0.563698</td>\n",
       "      <td>9.441852</td>\n",
       "      <td>127.910945</td>\n",
       "    </tr>\n",
       "  </tbody>\n",
       "</table>\n",
       "</div>"
      ],
      "text/plain": [
       "      id        f0        f1        f2     product\n",
       "0  txEyH  0.705745 -0.497823  1.221170  105.280062\n",
       "1  2acmU  1.334711 -0.340164  4.365080   73.037750\n",
       "2  409Wp  1.022732  0.151990  1.419926   85.265647\n",
       "3  iJLyR -0.032172  0.139033  2.978566  168.620776\n",
       "4  Xdl7t  1.988431  0.155413  4.751769  154.036647\n",
       "5  wX4Hy  0.969570  0.489775 -0.735383   64.741541\n",
       "6  tL6pL  0.645075  0.530656  1.780266   49.055285\n",
       "7  BYPU6 -0.400648  0.808337 -5.624670   72.943292\n",
       "8  j9Oui  0.643105 -0.551583  2.372141  113.356160\n",
       "9  OLuZU  2.173381  0.563698  9.441852  127.910945"
      ]
     },
     "execution_count": 5,
     "metadata": {},
     "output_type": "execute_result"
    }
   ],
   "source": [
    "df_0.head(10)"
   ]
  },
  {
   "cell_type": "code",
   "execution_count": 6,
   "metadata": {},
   "outputs": [
    {
     "data": {
      "text/html": [
       "<div>\n",
       "<style scoped>\n",
       "    .dataframe tbody tr th:only-of-type {\n",
       "        vertical-align: middle;\n",
       "    }\n",
       "\n",
       "    .dataframe tbody tr th {\n",
       "        vertical-align: top;\n",
       "    }\n",
       "\n",
       "    .dataframe thead th {\n",
       "        text-align: right;\n",
       "    }\n",
       "</style>\n",
       "<table border=\"1\" class=\"dataframe\">\n",
       "  <thead>\n",
       "    <tr style=\"text-align: right;\">\n",
       "      <th></th>\n",
       "      <th>id</th>\n",
       "      <th>f0</th>\n",
       "      <th>f1</th>\n",
       "      <th>f2</th>\n",
       "      <th>product</th>\n",
       "    </tr>\n",
       "  </thead>\n",
       "  <tbody>\n",
       "    <tr>\n",
       "      <td>0</td>\n",
       "      <td>kBEdx</td>\n",
       "      <td>-15.001348</td>\n",
       "      <td>-8.276000</td>\n",
       "      <td>-0.005876</td>\n",
       "      <td>3.179103</td>\n",
       "    </tr>\n",
       "    <tr>\n",
       "      <td>1</td>\n",
       "      <td>62mP7</td>\n",
       "      <td>14.272088</td>\n",
       "      <td>-3.475083</td>\n",
       "      <td>0.999183</td>\n",
       "      <td>26.953261</td>\n",
       "    </tr>\n",
       "    <tr>\n",
       "      <td>2</td>\n",
       "      <td>vyE1P</td>\n",
       "      <td>6.263187</td>\n",
       "      <td>-5.948386</td>\n",
       "      <td>5.001160</td>\n",
       "      <td>134.766305</td>\n",
       "    </tr>\n",
       "    <tr>\n",
       "      <td>3</td>\n",
       "      <td>KcrkZ</td>\n",
       "      <td>-13.081196</td>\n",
       "      <td>-11.506057</td>\n",
       "      <td>4.999415</td>\n",
       "      <td>137.945408</td>\n",
       "    </tr>\n",
       "    <tr>\n",
       "      <td>4</td>\n",
       "      <td>AHL4O</td>\n",
       "      <td>12.702195</td>\n",
       "      <td>-8.147433</td>\n",
       "      <td>5.004363</td>\n",
       "      <td>134.766305</td>\n",
       "    </tr>\n",
       "    <tr>\n",
       "      <td>5</td>\n",
       "      <td>HHckp</td>\n",
       "      <td>-3.327590</td>\n",
       "      <td>-2.205276</td>\n",
       "      <td>3.003647</td>\n",
       "      <td>84.038886</td>\n",
       "    </tr>\n",
       "    <tr>\n",
       "      <td>6</td>\n",
       "      <td>h5Ujo</td>\n",
       "      <td>-11.142655</td>\n",
       "      <td>-10.133399</td>\n",
       "      <td>4.002382</td>\n",
       "      <td>110.992147</td>\n",
       "    </tr>\n",
       "    <tr>\n",
       "      <td>7</td>\n",
       "      <td>muH9x</td>\n",
       "      <td>4.234715</td>\n",
       "      <td>-0.001354</td>\n",
       "      <td>2.004588</td>\n",
       "      <td>53.906522</td>\n",
       "    </tr>\n",
       "    <tr>\n",
       "      <td>8</td>\n",
       "      <td>YiRkx</td>\n",
       "      <td>13.355129</td>\n",
       "      <td>-0.332068</td>\n",
       "      <td>4.998647</td>\n",
       "      <td>134.766305</td>\n",
       "    </tr>\n",
       "    <tr>\n",
       "      <td>9</td>\n",
       "      <td>jG6Gi</td>\n",
       "      <td>1.069227</td>\n",
       "      <td>-11.025667</td>\n",
       "      <td>4.997844</td>\n",
       "      <td>137.945408</td>\n",
       "    </tr>\n",
       "  </tbody>\n",
       "</table>\n",
       "</div>"
      ],
      "text/plain": [
       "      id         f0         f1        f2     product\n",
       "0  kBEdx -15.001348  -8.276000 -0.005876    3.179103\n",
       "1  62mP7  14.272088  -3.475083  0.999183   26.953261\n",
       "2  vyE1P   6.263187  -5.948386  5.001160  134.766305\n",
       "3  KcrkZ -13.081196 -11.506057  4.999415  137.945408\n",
       "4  AHL4O  12.702195  -8.147433  5.004363  134.766305\n",
       "5  HHckp  -3.327590  -2.205276  3.003647   84.038886\n",
       "6  h5Ujo -11.142655 -10.133399  4.002382  110.992147\n",
       "7  muH9x   4.234715  -0.001354  2.004588   53.906522\n",
       "8  YiRkx  13.355129  -0.332068  4.998647  134.766305\n",
       "9  jG6Gi   1.069227 -11.025667  4.997844  137.945408"
      ]
     },
     "execution_count": 6,
     "metadata": {},
     "output_type": "execute_result"
    }
   ],
   "source": [
    "df_1.head(10)"
   ]
  },
  {
   "cell_type": "code",
   "execution_count": 7,
   "metadata": {},
   "outputs": [
    {
     "data": {
      "text/html": [
       "<div>\n",
       "<style scoped>\n",
       "    .dataframe tbody tr th:only-of-type {\n",
       "        vertical-align: middle;\n",
       "    }\n",
       "\n",
       "    .dataframe tbody tr th {\n",
       "        vertical-align: top;\n",
       "    }\n",
       "\n",
       "    .dataframe thead th {\n",
       "        text-align: right;\n",
       "    }\n",
       "</style>\n",
       "<table border=\"1\" class=\"dataframe\">\n",
       "  <thead>\n",
       "    <tr style=\"text-align: right;\">\n",
       "      <th></th>\n",
       "      <th>id</th>\n",
       "      <th>f0</th>\n",
       "      <th>f1</th>\n",
       "      <th>f2</th>\n",
       "      <th>product</th>\n",
       "    </tr>\n",
       "  </thead>\n",
       "  <tbody>\n",
       "    <tr>\n",
       "      <td>0</td>\n",
       "      <td>fwXo0</td>\n",
       "      <td>-1.146987</td>\n",
       "      <td>0.963328</td>\n",
       "      <td>-0.828965</td>\n",
       "      <td>27.758673</td>\n",
       "    </tr>\n",
       "    <tr>\n",
       "      <td>1</td>\n",
       "      <td>WJtFt</td>\n",
       "      <td>0.262778</td>\n",
       "      <td>0.269839</td>\n",
       "      <td>-2.530187</td>\n",
       "      <td>56.069697</td>\n",
       "    </tr>\n",
       "    <tr>\n",
       "      <td>2</td>\n",
       "      <td>ovLUW</td>\n",
       "      <td>0.194587</td>\n",
       "      <td>0.289035</td>\n",
       "      <td>-5.586433</td>\n",
       "      <td>62.871910</td>\n",
       "    </tr>\n",
       "    <tr>\n",
       "      <td>3</td>\n",
       "      <td>q6cA6</td>\n",
       "      <td>2.236060</td>\n",
       "      <td>-0.553760</td>\n",
       "      <td>0.930038</td>\n",
       "      <td>114.572842</td>\n",
       "    </tr>\n",
       "    <tr>\n",
       "      <td>4</td>\n",
       "      <td>WPMUX</td>\n",
       "      <td>-0.515993</td>\n",
       "      <td>1.716266</td>\n",
       "      <td>5.899011</td>\n",
       "      <td>149.600746</td>\n",
       "    </tr>\n",
       "    <tr>\n",
       "      <td>5</td>\n",
       "      <td>LzZXx</td>\n",
       "      <td>-0.758092</td>\n",
       "      <td>0.710691</td>\n",
       "      <td>2.585887</td>\n",
       "      <td>90.222465</td>\n",
       "    </tr>\n",
       "    <tr>\n",
       "      <td>6</td>\n",
       "      <td>WBHRv</td>\n",
       "      <td>-0.574891</td>\n",
       "      <td>0.317727</td>\n",
       "      <td>1.773745</td>\n",
       "      <td>45.641478</td>\n",
       "    </tr>\n",
       "    <tr>\n",
       "      <td>7</td>\n",
       "      <td>XO8fn</td>\n",
       "      <td>-1.906649</td>\n",
       "      <td>-2.458350</td>\n",
       "      <td>-0.177097</td>\n",
       "      <td>72.480640</td>\n",
       "    </tr>\n",
       "    <tr>\n",
       "      <td>8</td>\n",
       "      <td>ybmQ5</td>\n",
       "      <td>1.776292</td>\n",
       "      <td>-0.279356</td>\n",
       "      <td>3.004156</td>\n",
       "      <td>106.616832</td>\n",
       "    </tr>\n",
       "    <tr>\n",
       "      <td>9</td>\n",
       "      <td>OilcN</td>\n",
       "      <td>-1.214452</td>\n",
       "      <td>-0.439314</td>\n",
       "      <td>5.922514</td>\n",
       "      <td>52.954532</td>\n",
       "    </tr>\n",
       "  </tbody>\n",
       "</table>\n",
       "</div>"
      ],
      "text/plain": [
       "      id        f0        f1        f2     product\n",
       "0  fwXo0 -1.146987  0.963328 -0.828965   27.758673\n",
       "1  WJtFt  0.262778  0.269839 -2.530187   56.069697\n",
       "2  ovLUW  0.194587  0.289035 -5.586433   62.871910\n",
       "3  q6cA6  2.236060 -0.553760  0.930038  114.572842\n",
       "4  WPMUX -0.515993  1.716266  5.899011  149.600746\n",
       "5  LzZXx -0.758092  0.710691  2.585887   90.222465\n",
       "6  WBHRv -0.574891  0.317727  1.773745   45.641478\n",
       "7  XO8fn -1.906649 -2.458350 -0.177097   72.480640\n",
       "8  ybmQ5  1.776292 -0.279356  3.004156  106.616832\n",
       "9  OilcN -1.214452 -0.439314  5.922514   52.954532"
      ]
     },
     "execution_count": 7,
     "metadata": {},
     "output_type": "execute_result"
    }
   ],
   "source": [
    "df_2.head(10)"
   ]
  },
  {
   "cell_type": "markdown",
   "metadata": {},
   "source": [
    "Получим общую информацию о каждой таблице:"
   ]
  },
  {
   "cell_type": "code",
   "execution_count": 8,
   "metadata": {},
   "outputs": [
    {
     "name": "stdout",
     "output_type": "stream",
     "text": [
      "<class 'pandas.core.frame.DataFrame'>\n",
      "RangeIndex: 100000 entries, 0 to 99999\n",
      "Data columns (total 5 columns):\n",
      "id         100000 non-null object\n",
      "f0         100000 non-null float64\n",
      "f1         100000 non-null float64\n",
      "f2         100000 non-null float64\n",
      "product    100000 non-null float64\n",
      "dtypes: float64(4), object(1)\n",
      "memory usage: 3.8+ MB\n"
     ]
    }
   ],
   "source": [
    "df_0.info()"
   ]
  },
  {
   "cell_type": "code",
   "execution_count": 9,
   "metadata": {},
   "outputs": [
    {
     "name": "stdout",
     "output_type": "stream",
     "text": [
      "<class 'pandas.core.frame.DataFrame'>\n",
      "RangeIndex: 100000 entries, 0 to 99999\n",
      "Data columns (total 5 columns):\n",
      "id         100000 non-null object\n",
      "f0         100000 non-null float64\n",
      "f1         100000 non-null float64\n",
      "f2         100000 non-null float64\n",
      "product    100000 non-null float64\n",
      "dtypes: float64(4), object(1)\n",
      "memory usage: 3.8+ MB\n"
     ]
    }
   ],
   "source": [
    "df_1.info()"
   ]
  },
  {
   "cell_type": "code",
   "execution_count": 10,
   "metadata": {},
   "outputs": [
    {
     "name": "stdout",
     "output_type": "stream",
     "text": [
      "<class 'pandas.core.frame.DataFrame'>\n",
      "RangeIndex: 100000 entries, 0 to 99999\n",
      "Data columns (total 5 columns):\n",
      "id         100000 non-null object\n",
      "f0         100000 non-null float64\n",
      "f1         100000 non-null float64\n",
      "f2         100000 non-null float64\n",
      "product    100000 non-null float64\n",
      "dtypes: float64(4), object(1)\n",
      "memory usage: 3.8+ MB\n"
     ]
    }
   ],
   "source": [
    "df_2.info()"
   ]
  },
  {
   "cell_type": "markdown",
   "metadata": {},
   "source": [
    "В каждой таблице пять признаков. Целевой признак, который нужно предсказать, — `product`.\n",
    "\n",
    "Согласно документации к данным:\n",
    "\n",
    "- `id` — уникальный идентификатор скважины;\n",
    "- `f0, f1, f2` — три признака точек (признаки значимы);\n",
    "- `product` — объём запасов в скважине (тыс. баррелей)."
   ]
  },
  {
   "cell_type": "code",
   "execution_count": 11,
   "metadata": {},
   "outputs": [],
   "source": [
    "df_0_main = df_0.drop(['id'], axis=1)\n",
    "df_1_main = df_1.drop(['id'], axis=1)\n",
    "df_2_main = df_2.drop(['id'], axis=1)"
   ]
  },
  {
   "cell_type": "code",
   "execution_count": 12,
   "metadata": {},
   "outputs": [],
   "source": [
    "features_0 = df_0_main.drop(['product'], axis=1)\n",
    "target_0 = df_0_main['product']\n",
    "features_train_0, features_valid_0, target_train_0, target_valid_0 = train_test_split(features_0, \n",
    "                                                                                      target_0, \n",
    "                                                                                      test_size = 0.25,  \n",
    "                                                                                      random_state = 12345)"
   ]
  },
  {
   "cell_type": "code",
   "execution_count": 13,
   "metadata": {},
   "outputs": [],
   "source": [
    "features_1 = df_1_main.drop(['product'], axis=1)\n",
    "target_1 = df_1_main['product']\n",
    "features_train_1, features_valid_1, target_train_1, target_valid_1 = train_test_split(features_1, \n",
    "                                                                                      target_1, \n",
    "                                                                                      test_size = 0.25,  \n",
    "                                                                                      random_state = 12345)"
   ]
  },
  {
   "cell_type": "code",
   "execution_count": 14,
   "metadata": {},
   "outputs": [],
   "source": [
    "features_2 = df_2_main.drop(['product'], axis=1)\n",
    "target_2 = df_2_main['product']\n",
    "features_train_2, features_valid_2, target_train_2, target_valid_2 = train_test_split(features_2, \n",
    "                                                                                      target_2, \n",
    "                                                                                      test_size = 0.25,  \n",
    "                                                                                      random_state = 12345)"
   ]
  },
  {
   "cell_type": "code",
   "execution_count": 15,
   "metadata": {},
   "outputs": [
    {
     "name": "stdout",
     "output_type": "stream",
     "text": [
      "(75000, 3)\n",
      "(75000,)\n",
      "(25000, 3)\n",
      "(25000,)\n"
     ]
    }
   ],
   "source": [
    "# проверка размеров полученных выборок для первого региона\n",
    "print(features_train_0.shape) \n",
    "print(target_train_0.shape)\n",
    "print(features_valid_0.shape)\n",
    "print(target_valid_0.shape)"
   ]
  },
  {
   "cell_type": "code",
   "execution_count": 16,
   "metadata": {},
   "outputs": [
    {
     "name": "stdout",
     "output_type": "stream",
     "text": [
      "(75000, 3)\n",
      "(75000,)\n",
      "(25000, 3)\n",
      "(25000,)\n"
     ]
    }
   ],
   "source": [
    "# проверка размеров полученных выборок для второго региона\n",
    "print(features_train_1.shape)\n",
    "print(target_train_1.shape)\n",
    "print(features_valid_1.shape)\n",
    "print(target_valid_1.shape)"
   ]
  },
  {
   "cell_type": "code",
   "execution_count": 17,
   "metadata": {},
   "outputs": [
    {
     "name": "stdout",
     "output_type": "stream",
     "text": [
      "(75000, 3)\n",
      "(75000,)\n",
      "(25000, 3)\n",
      "(25000,)\n"
     ]
    }
   ],
   "source": [
    "# проверка размеров полученных выборок для третьего региона\n",
    "print(features_train_2.shape)\n",
    "print(target_train_2.shape)\n",
    "print(features_valid_2.shape)\n",
    "print(target_valid_2.shape)"
   ]
  },
  {
   "cell_type": "code",
   "execution_count": 18,
   "metadata": {},
   "outputs": [],
   "source": [
    "# создадим список названий количественных признаков\n",
    "numeric = ['f0', 'f1', 'f2']"
   ]
  },
  {
   "cell_type": "code",
   "execution_count": 19,
   "metadata": {},
   "outputs": [],
   "source": [
    "# приведем численные признаки к одному масштабу для первого региона\n",
    "scaler_0 = StandardScaler()\n",
    "scaler_0.fit(features_train_0[numeric])\n",
    "pd.options.mode.chained_assignment = None\n",
    "features_train_0[numeric] = scaler_0.transform(features_train_0[numeric])\n",
    "features_valid_0[numeric] = scaler_0.transform(features_valid_0[numeric])"
   ]
  },
  {
   "cell_type": "code",
   "execution_count": 20,
   "metadata": {},
   "outputs": [],
   "source": [
    "# приведем численные признаки к одному масштабу для второго региона\n",
    "scaler_1 = StandardScaler()\n",
    "scaler_1.fit(features_train_1[numeric])\n",
    "pd.options.mode.chained_assignment = None\n",
    "features_train_1[numeric] = scaler_1.transform(features_train_1[numeric])\n",
    "features_valid_1[numeric] = scaler_1.transform(features_valid_1[numeric])"
   ]
  },
  {
   "cell_type": "code",
   "execution_count": 21,
   "metadata": {},
   "outputs": [],
   "source": [
    "# приведем численные признаки к одному масштабу для третьего региона\n",
    "scaler_2 = StandardScaler()\n",
    "scaler_2.fit(features_train_2[numeric])\n",
    "pd.options.mode.chained_assignment = None\n",
    "features_train_2[numeric] = scaler_2.transform(features_train_2[numeric])\n",
    "features_valid_2[numeric] = scaler_2.transform(features_valid_2[numeric])"
   ]
  },
  {
   "cell_type": "markdown",
   "metadata": {},
   "source": [
    "### Вывод"
   ]
  },
  {
   "cell_type": "markdown",
   "metadata": {},
   "source": [
    "Каждый объект в трех наборах данных (регионах) — это характеристики для каждой скважины. Дополнительно стоит упомянуть, что пропущенных данных нет. Была проведена подготовка данных:\n",
    "\n",
    "- удален лишний столбец `id` в каждой таблице;\n",
    "- данные разделены на на обучающую и валидационную выборки в соотношении 75:25;\n",
    "- для каждого региона количественные признаки были приведены к одному масштабу."
   ]
  },
  {
   "cell_type": "markdown",
   "metadata": {},
   "source": [
    "## Обучение и проверка модели"
   ]
  },
  {
   "cell_type": "code",
   "execution_count": 22,
   "metadata": {},
   "outputs": [
    {
     "name": "stdout",
     "output_type": "stream",
     "text": [
      "Cредний запас предсказанного сырья для первого региона: 92.59256778438038\n",
      "RMSE модели для первого региона: 37.5794217150813\n"
     ]
    }
   ],
   "source": [
    "# обучим и проверим модель для первого региона\n",
    "model_0 = LinearRegression()\n",
    "model_0.fit(features_train_0, target_train_0)\n",
    "predicted_valid_0 = model_0.predict(features_valid_0)\n",
    "mse_0 = mean_squared_error(target_valid_0, predicted_valid_0)\n",
    "rmse_0 = mse_0 ** 0.5\n",
    "average_pred_product_0 = predicted_valid_0.mean()\n",
    "print(\"Cредний запас предсказанного сырья для первого региона:\", average_pred_product_0)\n",
    "print(\"RMSE модели для первого региона:\", rmse_0)"
   ]
  },
  {
   "cell_type": "code",
   "execution_count": 23,
   "metadata": {},
   "outputs": [
    {
     "name": "stdout",
     "output_type": "stream",
     "text": [
      "Cредний запас предсказанного сырья для второго региона: 68.728546895446\n",
      "RMSE модели для второго региона: 0.8930992867756158\n"
     ]
    }
   ],
   "source": [
    "# обучим и проверим модель для второго региона\n",
    "model_1 = LinearRegression()\n",
    "model_1.fit(features_train_1, target_train_1)\n",
    "predicted_valid_1 = model_1.predict(features_valid_1)\n",
    "mse_1 = mean_squared_error(target_valid_1, predicted_valid_1)\n",
    "rmse_1 = mse_1 ** 0.5\n",
    "average_pred_product_1 = predicted_valid_1.mean()\n",
    "print(\"Cредний запас предсказанного сырья для второго региона:\", average_pred_product_1)\n",
    "print(\"RMSE модели для второго региона:\", rmse_1)"
   ]
  },
  {
   "cell_type": "code",
   "execution_count": 24,
   "metadata": {
    "scrolled": true
   },
   "outputs": [
    {
     "name": "stdout",
     "output_type": "stream",
     "text": [
      "Cредний запас предсказанного сырья для третьего региона: 94.96504596800489\n",
      "RMSE модели для третьего региона: 40.02970873393434\n"
     ]
    }
   ],
   "source": [
    "# обучим и проверим модель для второго региона\n",
    "model_2 = LinearRegression()\n",
    "model_2.fit(features_train_2, target_train_2)\n",
    "predicted_valid_2 = model_2.predict(features_valid_2)\n",
    "mse_2 = mean_squared_error(target_valid_2, predicted_valid_2)\n",
    "rmse_2 = mse_2 ** 0.5\n",
    "average_pred_product_2 = predicted_valid_2.mean()\n",
    "print(\"Cредний запас предсказанного сырья для третьего региона:\", average_pred_product_2)\n",
    "print(\"RMSE модели для третьего региона:\", rmse_2)"
   ]
  },
  {
   "cell_type": "markdown",
   "metadata": {},
   "source": [
    "**Вывод**"
   ]
  },
  {
   "cell_type": "markdown",
   "metadata": {},
   "source": [
    "Исследовав модель для каждого региона, можно прийти к выводу, что наибольший средний запас сырья прогнозируется для третьего региона. Отметим, что модель для второго региона показала наименьшее значение RMSE, то есть с точки зрения метрики качества данная модель лучше остальных."
   ]
  },
  {
   "cell_type": "markdown",
   "metadata": {},
   "source": [
    "## Подготовка к расчёту прибыли"
   ]
  },
  {
   "cell_type": "code",
   "execution_count": 25,
   "metadata": {},
   "outputs": [],
   "source": [
    "# сохраним ключевые значения для расчётов в отдельных переменных\n",
    "budget = 10000000000\n",
    "profit_unit = 450000\n",
    "points_for_budget = 200"
   ]
  },
  {
   "cell_type": "code",
   "execution_count": 26,
   "metadata": {},
   "outputs": [
    {
     "name": "stdout",
     "output_type": "stream",
     "text": [
      "Достаточный объём сырья для безубыточной разработки новой скважины: 111.11111111111111\n"
     ]
    }
   ],
   "source": [
    "# рассчитаем достаточный объём сырья для безубыточной разработки новой скважины\n",
    "volume_well = budget / profit_unit / points_for_budget\n",
    "print(\"Достаточный объём сырья для безубыточной разработки новой скважины:\", volume_well)"
   ]
  },
  {
   "cell_type": "code",
   "execution_count": 27,
   "metadata": {},
   "outputs": [
    {
     "data": {
      "text/plain": [
       "92.50000000000001"
      ]
     },
     "execution_count": 27,
     "metadata": {},
     "output_type": "execute_result"
    }
   ],
   "source": [
    "# средний запас сырья в первом регионе\n",
    "target_0.mean()"
   ]
  },
  {
   "cell_type": "code",
   "execution_count": 28,
   "metadata": {},
   "outputs": [
    {
     "data": {
      "text/plain": [
       "68.82500000000002"
      ]
     },
     "execution_count": 28,
     "metadata": {},
     "output_type": "execute_result"
    }
   ],
   "source": [
    "# средний запас сырья во втором регионе\n",
    "target_1.mean()"
   ]
  },
  {
   "cell_type": "code",
   "execution_count": 29,
   "metadata": {},
   "outputs": [
    {
     "data": {
      "text/plain": [
       "95.00000000000004"
      ]
     },
     "execution_count": 29,
     "metadata": {},
     "output_type": "execute_result"
    }
   ],
   "source": [
    "# средний запас сырья в третьем регионе\n",
    "target_2.mean()"
   ]
  },
  {
   "cell_type": "markdown",
   "metadata": {},
   "source": [
    "**Вывод**"
   ]
  },
  {
   "cell_type": "markdown",
   "metadata": {},
   "source": [
    "Если сравнивать полученный объём сырья со средним запасом в каждом регионе, то наиболее перспективным окажется третий регион с наибольшим средним запасом около 95 тыс. баррелей. Однако, во всех регионах концентрация продукта слишком низкая, чтобы выбирать точки случайно."
   ]
  },
  {
   "cell_type": "markdown",
   "metadata": {},
   "source": [
    "**Далее создадим функцию для расчёта прибыли по выбранным скважинам и предсказаниям модели.**"
   ]
  },
  {
   "cell_type": "code",
   "execution_count": 30,
   "metadata": {},
   "outputs": [],
   "source": [
    "def profit(target, predictions, count):\n",
    "    predictions_sorted = predictions.sort_values(ascending=False)\n",
    "    selected = target[predictions_sorted.index][:count]\n",
    "    return (profit_unit * selected.sum()) - budget"
   ]
  },
  {
   "cell_type": "markdown",
   "metadata": {},
   "source": [
    "## Расчёт прибыли и рисков "
   ]
  },
  {
   "cell_type": "markdown",
   "metadata": {},
   "source": [
    "Для того, чтобы посчитать риски и прибыль для каждого региона, применим технику Bootstrap. "
   ]
  },
  {
   "cell_type": "code",
   "execution_count": 31,
   "metadata": {},
   "outputs": [
    {
     "name": "stdout",
     "output_type": "stream",
     "text": [
      "Средняя прибыль для первого региона: 425938526.9105923\n",
      "95%-й доверительный интервал для первого региона: -102090094.83793654 947976353.358369\n",
      "Риск убытков для первого региона: 0.06\n"
     ]
    }
   ],
   "source": [
    "# переведем данные в pd.Series\n",
    "predicted_valid_0_series = pd.Series(predicted_valid_0)\n",
    "target_valid_0_series = pd.Series(target_valid_0)\n",
    "\n",
    "state = np.random.RandomState(12345)\n",
    " \n",
    "values_0 = []\n",
    " \n",
    "for i in range(1000):\n",
    "    target_subsample_0 = target_valid_0_series.reset_index(drop=True).sample(n=500, replace=True, random_state=state)\n",
    "    predicted_subsample_0 = predicted_valid_0_series[target_subsample_0.index]\n",
    "    values_0.append(profit(target_subsample_0, predicted_subsample_0, points_for_budget))\n",
    " \n",
    " \n",
    "values_0 = pd.Series(values_0)\n",
    "mean_0 = values_0.mean()\n",
    "lower_0 = values_0.quantile(0.025)\n",
    "upper_0 = values_0.quantile(0.975)\n",
    "risk_loss_0 = (values_0 < 0).mean()\n",
    "print('Средняя прибыль для первого региона:', mean_0)\n",
    "print('95%-й доверительный интервал для первого региона:', lower_0, upper_0)\n",
    "print('Риск убытков для первого региона:', risk_loss_0)"
   ]
  },
  {
   "cell_type": "code",
   "execution_count": 32,
   "metadata": {},
   "outputs": [
    {
     "name": "stdout",
     "output_type": "stream",
     "text": [
      "Средняя прибыль для второго региона: 515222773.44328994\n",
      "95%-й доверительный интервал для второго региона: 68873225.37050177 931547591.2570496\n",
      "Риск убытков для второго региона: 0.01\n"
     ]
    }
   ],
   "source": [
    "# переведем данные в pd.Series\n",
    "predicted_valid_1_series = pd.Series(predicted_valid_1)\n",
    "target_valid_1_series = pd.Series(target_valid_1)\n",
    "\n",
    "state = np.random.RandomState(12345)\n",
    " \n",
    "values_1 = []\n",
    " \n",
    "for i in range(1000):\n",
    "    target_subsample_1 = target_valid_1_series.reset_index(drop=True).sample(n=500, replace=True, random_state=state)\n",
    "    predicted_subsample_1 = predicted_valid_1_series[target_subsample_1.index]\n",
    "    values_1.append(profit(target_subsample_1, predicted_subsample_1, points_for_budget))\n",
    " \n",
    " \n",
    "values_1 = pd.Series(values_1)\n",
    "mean_1 = values_1.mean()\n",
    "lower_1 = values_1.quantile(0.025)\n",
    "upper_1 = values_1.quantile(0.975)\n",
    "risk_loss_1 = (values_1 < 0).mean()\n",
    "print('Средняя прибыль для второго региона:', mean_1)\n",
    "print('95%-й доверительный интервал для второго региона:', lower_1, upper_1)\n",
    "print('Риск убытков для второго региона:', risk_loss_1)"
   ]
  },
  {
   "cell_type": "code",
   "execution_count": 33,
   "metadata": {
    "scrolled": true
   },
   "outputs": [
    {
     "name": "stdout",
     "output_type": "stream",
     "text": [
      "Средняя прибыль для третьего региона: 435008362.78275555\n",
      "95%-й доверительный интервал для третьего региона: -128880547.32978901 969706954.1802679\n",
      "Риск убытков для третьего региона: 0.064\n"
     ]
    }
   ],
   "source": [
    "# переведем данные в pd.Series\n",
    "predicted_valid_2_series = pd.Series(predicted_valid_2)\n",
    "target_valid_2_series = pd.Series(target_valid_2)\n",
    "\n",
    "state = np.random.RandomState(12345)\n",
    " \n",
    "values_2 = []\n",
    " \n",
    "for i in range(1000):\n",
    "    target_subsample_2 = target_valid_2_series.reset_index(drop=True).sample(n=500, replace=True, random_state=state)\n",
    "    predicted_subsample_2 = predicted_valid_2_series[target_subsample_2.index]\n",
    "    values_2.append(profit(target_subsample_2, predicted_subsample_2, points_for_budget))\n",
    " \n",
    " \n",
    "values_2 = pd.Series(values_2)\n",
    "mean_2 = values_2.mean()\n",
    "lower_2 = values_2.quantile(0.025)\n",
    "upper_2 = values_2.quantile(0.975)\n",
    "risk_loss_2 = (values_2 < 0).mean()\n",
    "print('Средняя прибыль для третьего региона:', mean_2)\n",
    "print('95%-й доверительный интервал для третьего региона:', lower_2, upper_2)\n",
    "print('Риск убытков для третьего региона:', risk_loss_2)"
   ]
  },
  {
   "cell_type": "markdown",
   "metadata": {},
   "source": [
    "## Общий вывод"
   ]
  },
  {
   "cell_type": "markdown",
   "metadata": {},
   "source": [
    "Для ответ на вопрос исследования были изучены таблицы с данными, проведена подготовка наборов данных, обучены и проверены модели, а также посчитаны риски и прибыль для каждого региона.\n",
    "\n",
    "**В результате анализа возможной прибыли и рисков техникой Bootstrap для разработки скважин предложен второй регион. Данный выбор обоснован следующими факторами:**\n",
    "\n",
    "1. Наименьшая вероятность убытков наблюдается во втором регионе и равна **1%, что меньше 2.5% и соответствует основному условию исследования.**\n",
    "\n",
    "\n",
    "2. Средняя прибыль для второго региона составила около 515 млрд. рублей, что больше, чем для других двух регионов.\n",
    "\n",
    "\n",
    "3. С вероятностью 95% средняя прибыль для второго региона попадает в интервал от 68 до 931 млрд. рублей, т. е. в отличие от доверительных интервалов для первого и третьего регионов 0.025-квантиль принимает положительное значение."
   ]
  }
 ],
 "metadata": {
  "ExecuteTimeLog": [
   {
    "duration": 649,
    "start_time": "2022-02-15T17:52:12.240Z"
   },
   {
    "duration": 3,
    "start_time": "2022-02-15T17:56:42.922Z"
   },
   {
    "duration": 320,
    "start_time": "2022-02-15T17:56:44.504Z"
   },
   {
    "duration": 149,
    "start_time": "2022-02-15T17:57:56.070Z"
   },
   {
    "duration": 1302,
    "start_time": "2022-02-15T18:30:29.303Z"
   },
   {
    "duration": 162,
    "start_time": "2022-02-15T18:30:30.609Z"
   },
   {
    "duration": 139,
    "start_time": "2022-02-15T18:30:30.774Z"
   },
   {
    "duration": 183,
    "start_time": "2022-02-15T18:30:30.916Z"
   },
   {
    "duration": 20,
    "start_time": "2022-02-15T18:30:31.102Z"
   },
   {
    "duration": 59,
    "start_time": "2022-02-15T18:30:31.124Z"
   },
   {
    "duration": 29,
    "start_time": "2022-02-15T18:30:31.185Z"
   },
   {
    "duration": 69,
    "start_time": "2022-02-15T18:30:31.217Z"
   },
   {
    "duration": 23,
    "start_time": "2022-02-15T18:30:31.289Z"
   },
   {
    "duration": 60,
    "start_time": "2022-02-15T18:30:31.315Z"
   },
   {
    "duration": 13,
    "start_time": "2022-02-15T18:38:29.035Z"
   },
   {
    "duration": 17,
    "start_time": "2022-02-15T18:38:34.409Z"
   },
   {
    "duration": 1277,
    "start_time": "2022-02-15T18:41:38.910Z"
   },
   {
    "duration": 156,
    "start_time": "2022-02-15T18:41:40.189Z"
   },
   {
    "duration": 141,
    "start_time": "2022-02-15T18:41:40.348Z"
   },
   {
    "duration": 149,
    "start_time": "2022-02-15T18:41:40.491Z"
   },
   {
    "duration": 14,
    "start_time": "2022-02-15T18:41:40.642Z"
   },
   {
    "duration": 32,
    "start_time": "2022-02-15T18:41:40.658Z"
   },
   {
    "duration": 34,
    "start_time": "2022-02-15T18:41:40.692Z"
   },
   {
    "duration": 29,
    "start_time": "2022-02-15T18:41:40.729Z"
   },
   {
    "duration": 20,
    "start_time": "2022-02-15T18:41:40.760Z"
   },
   {
    "duration": 15,
    "start_time": "2022-02-15T18:41:40.782Z"
   },
   {
    "duration": 14,
    "start_time": "2022-02-15T18:41:43.161Z"
   },
   {
    "duration": 17,
    "start_time": "2022-02-15T18:41:45.808Z"
   },
   {
    "duration": 13,
    "start_time": "2022-02-15T18:41:52.694Z"
   },
   {
    "duration": 1221,
    "start_time": "2022-02-15T19:04:18.463Z"
   },
   {
    "duration": 158,
    "start_time": "2022-02-15T19:04:19.687Z"
   },
   {
    "duration": 134,
    "start_time": "2022-02-15T19:04:19.847Z"
   },
   {
    "duration": 145,
    "start_time": "2022-02-15T19:04:19.983Z"
   },
   {
    "duration": 14,
    "start_time": "2022-02-15T19:04:20.131Z"
   },
   {
    "duration": 11,
    "start_time": "2022-02-15T19:04:20.147Z"
   },
   {
    "duration": 19,
    "start_time": "2022-02-15T19:04:20.159Z"
   },
   {
    "duration": 35,
    "start_time": "2022-02-15T19:04:20.180Z"
   },
   {
    "duration": 13,
    "start_time": "2022-02-15T19:04:20.219Z"
   },
   {
    "duration": 13,
    "start_time": "2022-02-15T19:04:20.234Z"
   },
   {
    "duration": 21,
    "start_time": "2022-02-15T19:04:20.250Z"
   },
   {
    "duration": 12,
    "start_time": "2022-02-15T19:04:22.657Z"
   },
   {
    "duration": 13,
    "start_time": "2022-02-15T19:04:40.551Z"
   },
   {
    "duration": 1404,
    "start_time": "2022-02-15T19:05:12.421Z"
   },
   {
    "duration": 141,
    "start_time": "2022-02-15T19:05:13.828Z"
   },
   {
    "duration": 131,
    "start_time": "2022-02-15T19:05:13.971Z"
   },
   {
    "duration": 135,
    "start_time": "2022-02-15T19:05:14.108Z"
   },
   {
    "duration": 13,
    "start_time": "2022-02-15T19:05:14.245Z"
   },
   {
    "duration": 16,
    "start_time": "2022-02-15T19:05:14.260Z"
   },
   {
    "duration": 33,
    "start_time": "2022-02-15T19:05:14.277Z"
   },
   {
    "duration": 25,
    "start_time": "2022-02-15T19:05:14.313Z"
   },
   {
    "duration": 12,
    "start_time": "2022-02-15T19:05:14.341Z"
   },
   {
    "duration": 14,
    "start_time": "2022-02-15T19:05:14.355Z"
   },
   {
    "duration": 13,
    "start_time": "2022-02-15T19:05:14.371Z"
   },
   {
    "duration": 44,
    "start_time": "2022-02-15T19:05:14.386Z"
   },
   {
    "duration": 18,
    "start_time": "2022-02-15T19:05:14.432Z"
   },
   {
    "duration": 19,
    "start_time": "2022-02-15T19:05:14.453Z"
   },
   {
    "duration": 4,
    "start_time": "2022-02-15T19:05:14.474Z"
   },
   {
    "duration": 32,
    "start_time": "2022-02-15T19:05:14.479Z"
   },
   {
    "duration": 18,
    "start_time": "2022-02-15T19:05:14.513Z"
   },
   {
    "duration": 7,
    "start_time": "2022-02-15T19:05:14.533Z"
   },
   {
    "duration": 358,
    "start_time": "2022-02-15T19:05:14.542Z"
   },
   {
    "duration": -182,
    "start_time": "2022-02-15T19:05:15.084Z"
   },
   {
    "duration": -184,
    "start_time": "2022-02-15T19:05:15.087Z"
   },
   {
    "duration": 1377,
    "start_time": "2022-02-15T19:08:34.525Z"
   },
   {
    "duration": 138,
    "start_time": "2022-02-15T19:08:35.905Z"
   },
   {
    "duration": 143,
    "start_time": "2022-02-15T19:08:36.045Z"
   },
   {
    "duration": 141,
    "start_time": "2022-02-15T19:08:36.191Z"
   },
   {
    "duration": 15,
    "start_time": "2022-02-15T19:08:36.334Z"
   },
   {
    "duration": 19,
    "start_time": "2022-02-15T19:08:36.351Z"
   },
   {
    "duration": 16,
    "start_time": "2022-02-15T19:08:36.373Z"
   },
   {
    "duration": 26,
    "start_time": "2022-02-15T19:08:36.391Z"
   },
   {
    "duration": 16,
    "start_time": "2022-02-15T19:08:36.421Z"
   },
   {
    "duration": 13,
    "start_time": "2022-02-15T19:08:36.440Z"
   },
   {
    "duration": 14,
    "start_time": "2022-02-15T19:08:36.456Z"
   },
   {
    "duration": 49,
    "start_time": "2022-02-15T19:08:36.472Z"
   },
   {
    "duration": 23,
    "start_time": "2022-02-15T19:08:36.523Z"
   },
   {
    "duration": 24,
    "start_time": "2022-02-15T19:08:36.548Z"
   },
   {
    "duration": 5,
    "start_time": "2022-02-15T19:08:36.574Z"
   },
   {
    "duration": 29,
    "start_time": "2022-02-15T19:08:36.581Z"
   },
   {
    "duration": 16,
    "start_time": "2022-02-15T19:08:36.612Z"
   },
   {
    "duration": 11,
    "start_time": "2022-02-15T19:08:36.631Z"
   },
   {
    "duration": 34,
    "start_time": "2022-02-15T19:08:36.645Z"
   },
   {
    "duration": 26,
    "start_time": "2022-02-15T19:08:36.681Z"
   },
   {
    "duration": 20,
    "start_time": "2022-02-15T19:08:36.710Z"
   },
   {
    "duration": 1279,
    "start_time": "2022-02-15T20:18:23.483Z"
   },
   {
    "duration": 139,
    "start_time": "2022-02-15T20:18:24.765Z"
   },
   {
    "duration": 126,
    "start_time": "2022-02-15T20:18:24.908Z"
   },
   {
    "duration": 132,
    "start_time": "2022-02-15T20:18:25.036Z"
   },
   {
    "duration": 14,
    "start_time": "2022-02-15T20:18:25.170Z"
   },
   {
    "duration": 34,
    "start_time": "2022-02-15T20:18:25.186Z"
   },
   {
    "duration": 48,
    "start_time": "2022-02-15T20:18:25.222Z"
   },
   {
    "duration": 26,
    "start_time": "2022-02-15T20:18:25.272Z"
   },
   {
    "duration": 18,
    "start_time": "2022-02-15T20:18:25.301Z"
   },
   {
    "duration": 20,
    "start_time": "2022-02-15T20:18:25.321Z"
   },
   {
    "duration": 15,
    "start_time": "2022-02-15T20:18:25.343Z"
   },
   {
    "duration": 34,
    "start_time": "2022-02-15T20:18:25.360Z"
   },
   {
    "duration": 28,
    "start_time": "2022-02-15T20:18:25.396Z"
   },
   {
    "duration": 30,
    "start_time": "2022-02-15T20:18:25.426Z"
   },
   {
    "duration": 23,
    "start_time": "2022-02-15T20:18:25.458Z"
   },
   {
    "duration": 22,
    "start_time": "2022-02-15T20:18:25.483Z"
   },
   {
    "duration": 31,
    "start_time": "2022-02-15T20:18:25.507Z"
   },
   {
    "duration": 16,
    "start_time": "2022-02-15T20:18:25.540Z"
   },
   {
    "duration": 36,
    "start_time": "2022-02-15T20:18:25.558Z"
   },
   {
    "duration": 34,
    "start_time": "2022-02-15T20:18:25.596Z"
   },
   {
    "duration": 18,
    "start_time": "2022-02-15T20:18:25.632Z"
   },
   {
    "duration": 94,
    "start_time": "2022-02-15T20:18:32.514Z"
   },
   {
    "duration": 20,
    "start_time": "2022-02-15T20:20:05.434Z"
   },
   {
    "duration": 17,
    "start_time": "2022-02-15T20:21:33.282Z"
   },
   {
    "duration": 17,
    "start_time": "2022-02-15T20:21:40.704Z"
   },
   {
    "duration": 1226,
    "start_time": "2022-02-15T20:24:49.622Z"
   },
   {
    "duration": 131,
    "start_time": "2022-02-15T20:24:50.851Z"
   },
   {
    "duration": 127,
    "start_time": "2022-02-15T20:24:50.984Z"
   },
   {
    "duration": 126,
    "start_time": "2022-02-15T20:24:51.113Z"
   },
   {
    "duration": 14,
    "start_time": "2022-02-15T20:24:51.241Z"
   },
   {
    "duration": 16,
    "start_time": "2022-02-15T20:24:51.257Z"
   },
   {
    "duration": 32,
    "start_time": "2022-02-15T20:24:51.275Z"
   },
   {
    "duration": 12,
    "start_time": "2022-02-15T20:24:51.309Z"
   },
   {
    "duration": 13,
    "start_time": "2022-02-15T20:24:51.325Z"
   },
   {
    "duration": 12,
    "start_time": "2022-02-15T20:24:51.341Z"
   },
   {
    "duration": 14,
    "start_time": "2022-02-15T20:24:51.355Z"
   },
   {
    "duration": 19,
    "start_time": "2022-02-15T20:24:51.407Z"
   },
   {
    "duration": 20,
    "start_time": "2022-02-15T20:24:51.429Z"
   },
   {
    "duration": 20,
    "start_time": "2022-02-15T20:24:51.451Z"
   },
   {
    "duration": 35,
    "start_time": "2022-02-15T20:24:51.473Z"
   },
   {
    "duration": 4,
    "start_time": "2022-02-15T20:24:51.510Z"
   },
   {
    "duration": 11,
    "start_time": "2022-02-15T20:24:51.516Z"
   },
   {
    "duration": 11,
    "start_time": "2022-02-15T20:24:51.529Z"
   },
   {
    "duration": 31,
    "start_time": "2022-02-15T20:24:51.541Z"
   },
   {
    "duration": 38,
    "start_time": "2022-02-15T20:24:51.574Z"
   },
   {
    "duration": 18,
    "start_time": "2022-02-15T20:24:51.614Z"
   },
   {
    "duration": 77,
    "start_time": "2022-02-15T20:24:51.634Z"
   },
   {
    "duration": 109,
    "start_time": "2022-02-15T20:24:51.714Z"
   },
   {
    "duration": 105,
    "start_time": "2022-02-15T20:24:51.912Z"
   },
   {
    "duration": 7,
    "start_time": "2022-02-15T20:42:48.472Z"
   },
   {
    "duration": 7,
    "start_time": "2022-02-15T20:43:27.799Z"
   },
   {
    "duration": 8,
    "start_time": "2022-02-15T20:44:23.188Z"
   },
   {
    "duration": 8,
    "start_time": "2022-02-15T20:46:08.142Z"
   },
   {
    "duration": 1254,
    "start_time": "2022-02-15T20:49:22.291Z"
   },
   {
    "duration": 135,
    "start_time": "2022-02-15T20:49:23.548Z"
   },
   {
    "duration": 124,
    "start_time": "2022-02-15T20:49:23.686Z"
   },
   {
    "duration": 127,
    "start_time": "2022-02-15T20:49:23.812Z"
   },
   {
    "duration": 14,
    "start_time": "2022-02-15T20:49:23.941Z"
   },
   {
    "duration": 16,
    "start_time": "2022-02-15T20:49:23.957Z"
   },
   {
    "duration": 18,
    "start_time": "2022-02-15T20:49:23.975Z"
   },
   {
    "duration": 18,
    "start_time": "2022-02-15T20:49:23.995Z"
   },
   {
    "duration": 12,
    "start_time": "2022-02-15T20:49:24.017Z"
   },
   {
    "duration": 13,
    "start_time": "2022-02-15T20:49:24.031Z"
   },
   {
    "duration": 17,
    "start_time": "2022-02-15T20:49:24.046Z"
   },
   {
    "duration": 50,
    "start_time": "2022-02-15T20:49:24.065Z"
   },
   {
    "duration": 20,
    "start_time": "2022-02-15T20:49:24.117Z"
   },
   {
    "duration": 20,
    "start_time": "2022-02-15T20:49:24.139Z"
   },
   {
    "duration": 8,
    "start_time": "2022-02-15T20:49:24.161Z"
   },
   {
    "duration": 11,
    "start_time": "2022-02-15T20:49:24.171Z"
   },
   {
    "duration": 27,
    "start_time": "2022-02-15T20:49:24.183Z"
   },
   {
    "duration": 20,
    "start_time": "2022-02-15T20:49:24.212Z"
   },
   {
    "duration": 33,
    "start_time": "2022-02-15T20:49:24.234Z"
   },
   {
    "duration": 20,
    "start_time": "2022-02-15T20:49:24.269Z"
   },
   {
    "duration": 23,
    "start_time": "2022-02-15T20:49:24.291Z"
   },
   {
    "duration": 94,
    "start_time": "2022-02-15T20:49:24.316Z"
   },
   {
    "duration": 106,
    "start_time": "2022-02-15T20:49:24.414Z"
   },
   {
    "duration": 190,
    "start_time": "2022-02-15T20:49:24.522Z"
   },
   {
    "duration": 17,
    "start_time": "2022-02-15T20:50:25.637Z"
   },
   {
    "duration": 14,
    "start_time": "2022-02-15T20:51:47.875Z"
   },
   {
    "duration": 3,
    "start_time": "2022-02-15T21:27:20.478Z"
   },
   {
    "duration": 4,
    "start_time": "2022-02-15T21:27:51.429Z"
   },
   {
    "duration": 6,
    "start_time": "2022-02-15T21:34:05.565Z"
   },
   {
    "duration": 5,
    "start_time": "2022-02-15T21:34:20.561Z"
   },
   {
    "duration": 6,
    "start_time": "2022-02-15T21:34:31.696Z"
   },
   {
    "duration": 6,
    "start_time": "2022-02-15T21:35:02.360Z"
   },
   {
    "duration": 5,
    "start_time": "2022-02-15T21:35:17.469Z"
   },
   {
    "duration": 5,
    "start_time": "2022-02-15T21:35:44.839Z"
   },
   {
    "duration": 4,
    "start_time": "2022-02-15T23:56:13.443Z"
   },
   {
    "duration": 3661,
    "start_time": "2022-02-15T23:56:17.432Z"
   },
   {
    "duration": 6,
    "start_time": "2022-02-15T23:58:18.886Z"
   },
   {
    "duration": 346,
    "start_time": "2022-02-15T23:58:40.718Z"
   },
   {
    "duration": 237,
    "start_time": "2022-02-15T23:58:55.026Z"
   },
   {
    "duration": 6,
    "start_time": "2022-02-15T23:59:01.024Z"
   },
   {
    "duration": 3517,
    "start_time": "2022-02-16T00:00:37.913Z"
   },
   {
    "duration": 3816,
    "start_time": "2022-02-16T00:05:40.546Z"
   },
   {
    "duration": 3721,
    "start_time": "2022-02-16T00:05:59.166Z"
   },
   {
    "duration": 3539,
    "start_time": "2022-02-16T00:06:16.541Z"
   },
   {
    "duration": 3647,
    "start_time": "2022-02-16T00:06:59.448Z"
   },
   {
    "duration": 3557,
    "start_time": "2022-02-16T00:08:47.676Z"
   },
   {
    "duration": 3533,
    "start_time": "2022-02-16T00:13:38.068Z"
   },
   {
    "duration": 3503,
    "start_time": "2022-02-16T00:14:43.488Z"
   },
   {
    "duration": 3593,
    "start_time": "2022-02-16T00:17:11.208Z"
   },
   {
    "duration": 3429,
    "start_time": "2022-02-16T00:18:56.282Z"
   },
   {
    "duration": 1150,
    "start_time": "2022-02-16T01:27:47.108Z"
   },
   {
    "duration": 136,
    "start_time": "2022-02-16T01:27:48.260Z"
   },
   {
    "duration": 132,
    "start_time": "2022-02-16T01:27:48.398Z"
   },
   {
    "duration": 124,
    "start_time": "2022-02-16T01:27:48.532Z"
   },
   {
    "duration": 14,
    "start_time": "2022-02-16T01:27:48.658Z"
   },
   {
    "duration": 12,
    "start_time": "2022-02-16T01:27:48.674Z"
   },
   {
    "duration": 37,
    "start_time": "2022-02-16T01:27:48.688Z"
   },
   {
    "duration": 15,
    "start_time": "2022-02-16T01:27:48.727Z"
   },
   {
    "duration": 11,
    "start_time": "2022-02-16T01:27:48.745Z"
   },
   {
    "duration": 16,
    "start_time": "2022-02-16T01:27:48.758Z"
   },
   {
    "duration": 13,
    "start_time": "2022-02-16T01:27:48.776Z"
   },
   {
    "duration": 32,
    "start_time": "2022-02-16T01:27:48.791Z"
   },
   {
    "duration": 20,
    "start_time": "2022-02-16T01:27:48.825Z"
   },
   {
    "duration": 21,
    "start_time": "2022-02-16T01:27:48.847Z"
   },
   {
    "duration": 3,
    "start_time": "2022-02-16T01:27:48.870Z"
   },
   {
    "duration": 32,
    "start_time": "2022-02-16T01:27:48.875Z"
   },
   {
    "duration": 4,
    "start_time": "2022-02-16T01:27:48.909Z"
   },
   {
    "duration": 6,
    "start_time": "2022-02-16T01:27:48.915Z"
   },
   {
    "duration": 29,
    "start_time": "2022-02-16T01:27:48.922Z"
   },
   {
    "duration": 22,
    "start_time": "2022-02-16T01:27:48.953Z"
   },
   {
    "duration": 38,
    "start_time": "2022-02-16T01:27:48.977Z"
   },
   {
    "duration": 20,
    "start_time": "2022-02-16T01:27:49.017Z"
   },
   {
    "duration": 104,
    "start_time": "2022-02-16T01:27:49.109Z"
   },
   {
    "duration": 196,
    "start_time": "2022-02-16T01:27:49.216Z"
   },
   {
    "duration": 105,
    "start_time": "2022-02-16T01:27:49.417Z"
   },
   {
    "duration": 84,
    "start_time": "2022-02-16T01:27:49.525Z"
   },
   {
    "duration": 5,
    "start_time": "2022-02-16T01:27:49.613Z"
   },
   {
    "duration": 8,
    "start_time": "2022-02-16T01:27:49.620Z"
   },
   {
    "duration": 5,
    "start_time": "2022-02-16T01:27:49.630Z"
   },
   {
    "duration": 4,
    "start_time": "2022-02-16T01:27:49.637Z"
   },
   {
    "duration": 3586,
    "start_time": "2022-02-16T01:27:49.643Z"
   },
   {
    "duration": 3590,
    "start_time": "2022-02-16T01:27:53.231Z"
   },
   {
    "duration": 3527,
    "start_time": "2022-02-16T01:27:56.822Z"
   },
   {
    "duration": 1176,
    "start_time": "2022-02-16T01:32:48.484Z"
   },
   {
    "duration": 137,
    "start_time": "2022-02-16T01:32:49.662Z"
   },
   {
    "duration": 129,
    "start_time": "2022-02-16T01:32:49.802Z"
   },
   {
    "duration": 130,
    "start_time": "2022-02-16T01:32:49.933Z"
   },
   {
    "duration": 14,
    "start_time": "2022-02-16T01:32:50.065Z"
   },
   {
    "duration": 28,
    "start_time": "2022-02-16T01:32:50.081Z"
   },
   {
    "duration": 16,
    "start_time": "2022-02-16T01:32:50.111Z"
   },
   {
    "duration": 21,
    "start_time": "2022-02-16T01:32:50.129Z"
   },
   {
    "duration": 10,
    "start_time": "2022-02-16T01:32:50.153Z"
   },
   {
    "duration": 13,
    "start_time": "2022-02-16T01:32:50.166Z"
   },
   {
    "duration": 31,
    "start_time": "2022-02-16T01:32:50.181Z"
   },
   {
    "duration": 20,
    "start_time": "2022-02-16T01:32:50.215Z"
   },
   {
    "duration": 20,
    "start_time": "2022-02-16T01:32:50.237Z"
   },
   {
    "duration": 21,
    "start_time": "2022-02-16T01:32:50.259Z"
   },
   {
    "duration": 5,
    "start_time": "2022-02-16T01:32:50.307Z"
   },
   {
    "duration": 7,
    "start_time": "2022-02-16T01:32:50.314Z"
   },
   {
    "duration": 7,
    "start_time": "2022-02-16T01:32:50.323Z"
   },
   {
    "duration": 8,
    "start_time": "2022-02-16T01:32:50.331Z"
   },
   {
    "duration": 26,
    "start_time": "2022-02-16T01:32:50.341Z"
   },
   {
    "duration": 46,
    "start_time": "2022-02-16T01:32:50.369Z"
   },
   {
    "duration": 19,
    "start_time": "2022-02-16T01:32:50.417Z"
   },
   {
    "duration": 71,
    "start_time": "2022-02-16T01:32:50.437Z"
   },
   {
    "duration": 108,
    "start_time": "2022-02-16T01:32:50.510Z"
   },
   {
    "duration": 199,
    "start_time": "2022-02-16T01:32:50.621Z"
   },
   {
    "duration": 87,
    "start_time": "2022-02-16T01:32:50.822Z"
   },
   {
    "duration": 98,
    "start_time": "2022-02-16T01:32:50.912Z"
   },
   {
    "duration": 22,
    "start_time": "2022-02-16T01:32:51.013Z"
   },
   {
    "duration": 21,
    "start_time": "2022-02-16T01:32:51.037Z"
   },
   {
    "duration": 13,
    "start_time": "2022-02-16T01:32:51.060Z"
   },
   {
    "duration": 15,
    "start_time": "2022-02-16T01:32:51.075Z"
   },
   {
    "duration": 3532,
    "start_time": "2022-02-16T01:32:51.092Z"
   },
   {
    "duration": 3504,
    "start_time": "2022-02-16T01:32:54.627Z"
   },
   {
    "duration": 3675,
    "start_time": "2022-02-16T01:32:58.133Z"
   },
   {
    "duration": 70,
    "start_time": "2022-02-16T09:20:01.253Z"
   },
   {
    "duration": 54,
    "start_time": "2022-02-16T09:22:40.046Z"
   },
   {
    "duration": 56,
    "start_time": "2022-02-16T09:23:27.086Z"
   }
  ],
  "kernelspec": {
   "display_name": "Python 3 (ipykernel)",
   "language": "python",
   "name": "python3"
  },
  "language_info": {
   "codemirror_mode": {
    "name": "ipython",
    "version": 3
   },
   "file_extension": ".py",
   "mimetype": "text/x-python",
   "name": "python",
   "nbconvert_exporter": "python",
   "pygments_lexer": "ipython3",
   "version": "3.7.8"
  },
  "toc": {
   "base_numbering": 1,
   "nav_menu": {},
   "number_sections": true,
   "sideBar": true,
   "skip_h1_title": true,
   "title_cell": "Table of Contents",
   "title_sidebar": "Contents",
   "toc_cell": false,
   "toc_position": {
    "height": "calc(100% - 180px)",
    "left": "10px",
    "top": "150px",
    "width": "302.391px"
   },
   "toc_section_display": true,
   "toc_window_display": true
  }
 },
 "nbformat": 4,
 "nbformat_minor": 2
}
